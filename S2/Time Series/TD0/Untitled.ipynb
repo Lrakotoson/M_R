{
 "cells": [
  {
   "cell_type": "code",
   "execution_count": 74,
   "metadata": {},
   "outputs": [
    {
     "ename": "ERROR",
     "evalue": "Error in pacman(ggarrange): impossible de trouver la fonction \"pacman\"\n",
     "output_type": "error",
     "traceback": [
      "Error in pacman(ggarrange): impossible de trouver la fonction \"pacman\"\nTraceback:\n"
     ]
    }
   ],
   "source": [
    "library(tidyverse)\n",
    "library(pacman)\n",
    "pacman(ggarrange)"
   ]
  },
  {
   "cell_type": "code",
   "execution_count": 71,
   "metadata": {
    "scrolled": true
   },
   "outputs": [],
   "source": [
    "t <- 1:1000\n",
    "e <- rexp(t, 1)\n",
    "\n",
    "tbl <- tibble(x = e[1:999], y = e[2:1000])"
   ]
  },
  {
   "cell_type": "code",
   "execution_count": 72,
   "metadata": {},
   "outputs": [
    {
     "ename": "ERROR",
     "evalue": "Error in ggarrange(xplot, NULL, sc, yplot, ncol = 2, nrow = 2, align = \"hv\", : impossible de trouver la fonction \"ggarrange\"\n",
     "output_type": "error",
     "traceback": [
      "Error in ggarrange(xplot, NULL, sc, yplot, ncol = 2, nrow = 2, align = \"hv\", : impossible de trouver la fonction \"ggarrange\"\nTraceback:\n"
     ]
    }
   ],
   "source": [
    "sc <- ggplot(tbl) + aes(x=x, y=y) + geom_point()\n",
    "xplot <- ggplot(tbl) + aes(x=x) + geom_histogram(aes(y=..density..))\n",
    "yplot <- ggplot(tbl) + aes(x=y) + geom_density()\n",
    "\n",
    "ggarrange(xplot, NULL, sc, yplot, \n",
    "          ncol = 2, nrow = 2,  align = \"hv\", \n",
    "          widths = c(2, 1), heights = c(1, 2),\n",
    "          common.legend = TRUE)"
   ]
  }
 ],
 "metadata": {
  "kernelspec": {
   "display_name": "R",
   "language": "R",
   "name": "ir"
  },
  "language_info": {
   "codemirror_mode": "r",
   "file_extension": ".r",
   "mimetype": "text/x-r-source",
   "name": "R",
   "pygments_lexer": "r",
   "version": "3.6.1"
  }
 },
 "nbformat": 4,
 "nbformat_minor": 2
}
