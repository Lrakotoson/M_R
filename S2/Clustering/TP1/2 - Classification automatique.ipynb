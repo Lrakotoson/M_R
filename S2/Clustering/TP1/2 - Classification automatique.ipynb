{
 "cells": [
  {
   "cell_type": "code",
   "execution_count": 1,
   "metadata": {},
   "outputs": [
    {
     "name": "stderr",
     "output_type": "stream",
     "text": [
      "Warning message:\n",
      "\"package 'tidyverse' was built under R version 3.6.2\"-- Attaching packages --------------------------------------- tidyverse 1.3.0 --\n",
      "v ggplot2 3.2.1     v purrr   0.3.3\n",
      "v tibble  2.1.3     v dplyr   0.8.4\n",
      "v tidyr   1.0.2     v stringr 1.4.0\n",
      "v readr   1.3.1     v forcats 0.5.0\n",
      "Warning message:\n",
      "\"package 'ggplot2' was built under R version 3.6.2\"Warning message:\n",
      "\"package 'tidyr' was built under R version 3.6.2\"Warning message:\n",
      "\"package 'dplyr' was built under R version 3.6.2\"Warning message:\n",
      "\"package 'forcats' was built under R version 3.6.3\"-- Conflicts ------------------------------------------ tidyverse_conflicts() --\n",
      "x dplyr::filter()  masks stats::filter()\n",
      "x purrr::flatten() masks jsonlite::flatten()\n",
      "x dplyr::lag()     masks stats::lag()\n",
      "Warning message:\n",
      "\"package 'caret' was built under R version 3.6.2\"Loading required package: lattice\n",
      "\n",
      "Attaching package: 'caret'\n",
      "\n",
      "The following object is masked from 'package:purrr':\n",
      "\n",
      "    lift\n",
      "\n"
     ]
    }
   ],
   "source": [
    "library(tidyverse)\n",
    "library(caret)"
   ]
  },
  {
   "cell_type": "markdown",
   "metadata": {},
   "source": [
    "# Données Iris\n",
    "## Classification ascendante hiérarchique\n",
    "1. Réalisez une première analyse des données. Vous semble-t-il nécessaire de procéder à une stan-dardisation des données ? Vous justifierez votre réponse."
   ]
  },
  {
   "cell_type": "code",
   "execution_count": 2,
   "metadata": {},
   "outputs": [],
   "source": [
    "data(iris)\n",
    "X <- iris %>% select(-Species)\n",
    "y <- factor(iris$Species)"
   ]
  },
  {
   "cell_type": "code",
   "execution_count": 3,
   "metadata": {
    "scrolled": true
   },
   "outputs": [
    {
     "data": {
      "text/plain": [
       "  Sepal.Length    Sepal.Width     Petal.Length    Petal.Width   \n",
       " Min.   :4.300   Min.   :2.000   Min.   :1.000   Min.   :0.100  \n",
       " 1st Qu.:5.100   1st Qu.:2.800   1st Qu.:1.600   1st Qu.:0.300  \n",
       " Median :5.800   Median :3.000   Median :4.350   Median :1.300  \n",
       " Mean   :5.843   Mean   :3.057   Mean   :3.758   Mean   :1.199  \n",
       " 3rd Qu.:6.400   3rd Qu.:3.300   3rd Qu.:5.100   3rd Qu.:1.800  \n",
       " Max.   :7.900   Max.   :4.400   Max.   :6.900   Max.   :2.500  \n",
       "       Species  \n",
       " setosa    :50  \n",
       " versicolor:50  \n",
       " virginica :50  \n",
       "                \n",
       "                \n",
       "                "
      ]
     },
     "metadata": {},
     "output_type": "display_data"
    }
   ],
   "source": [
    "summary(iris)"
   ]
  },
  {
   "cell_type": "markdown",
   "metadata": {},
   "source": [
    "Il n'y a pas besoin de standardiser puisque les variables ont la même unité, sont de même échelle et ont même ordre de grandeur.\n",
    "\n",
    "2. La fonction `hclust` permet de réaliser une CAH à partir d’une matrice de distance et pour plusieurs critères d’agrégation. Effectuer la classification hiérarchique des données iris en utilisant la distance euclidienne et le critère de `Ward`. Analyser les sorties du logiciel et tracer ledendrogramme correspondant (fonction `plot` appliquée à l’objet issu de `hclust`)."
   ]
  },
  {
   "cell_type": "code",
   "execution_count": 4,
   "metadata": {},
   "outputs": [
    {
     "data": {
      "text/plain": [
       "\n",
       "Call:\n",
       "hclust(d = ., method = \"ward.D2\")\n",
       "\n",
       "Cluster method   : ward.D2 \n",
       "Distance         : euclidean \n",
       "Number of objects: 150 \n"
      ]
     },
     "metadata": {},
     "output_type": "display_data"
    }
   ],
   "source": [
    "cah <- X %>%\n",
    "dist() %>%\n",
    "hclust(\"ward.D2\")\n",
    "\n",
    "cah"
   ]
  },
  {
   "cell_type": "code",
   "execution_count": 5,
   "metadata": {},
   "outputs": [
    {
     "data": {
      "image/png": "[encoded data removed]",
      "text/plain": [
       "Plot with title \"Cluster Dendrogram\""
      ]
     },
     "metadata": {},
     "output_type": "display_data"
    }
   ],
   "source": [
    "plot(cah)"
   ]
  },
  {
   "cell_type": "markdown",
   "metadata": {},
   "source": [
    "3. Tracer la courbe de perte de l’inertie inter-classes. Combien de groupes choisiriez-vous ?"
   ]
  },
  {
   "cell_type": "code",
   "execution_count": 6,
   "metadata": {
    "scrolled": true
   },
   "outputs": [
    {
     "data": {
      "image/png": "[encoded data removed]",
      "text/plain": [
       "plot without title"
      ]
     },
     "metadata": {},
     "output_type": "display_data"
    }
   ],
   "source": [
    "cah$height %>%\n",
    "sort(decreasing = T) %>%\n",
    "plot(type = 's',\n",
    "     xlab = \"Nombre de classes\",\n",
    "     ylab = \"Inertie\",\n",
    "     xlim = c(0,10))"
   ]
  },
  {
   "cell_type": "markdown",
   "metadata": {},
   "source": [
    "Afficherles groupes avec la fonction `cutree`."
   ]
  },
  {
   "cell_type": "code",
   "execution_count": 7,
   "metadata": {
    "scrolled": true
   },
   "outputs": [
    {
     "data": {
      "text/html": [
       "<table>\n",
       "<thead><tr><th scope=col>n</th><th scope=col>%</th><th scope=col>val%</th></tr></thead>\n",
       "<tbody>\n",
       "\t<tr><td>50  </td><td>33.3</td><td>33.3</td></tr>\n",
       "\t<tr><td>64  </td><td>42.7</td><td>42.7</td></tr>\n",
       "\t<tr><td>36  </td><td>24.0</td><td>24.0</td></tr>\n",
       "</tbody>\n",
       "</table>\n"
      ],
      "text/latex": [
       "\\begin{tabular}{r|lll}\n",
       " n & \\% & val\\%\\\\\n",
       "\\hline\n",
       "\t 50   & 33.3 & 33.3\\\\\n",
       "\t 64   & 42.7 & 42.7\\\\\n",
       "\t 36   & 24.0 & 24.0\\\\\n",
       "\\end{tabular}\n"
      ],
      "text/markdown": [
       "\n",
       "| n | % | val% |\n",
       "|---|---|---|\n",
       "| 50   | 33.3 | 33.3 |\n",
       "| 64   | 42.7 | 42.7 |\n",
       "| 36   | 24.0 | 24.0 |\n",
       "\n"
      ],
      "text/plain": [
       "  n  %    val%\n",
       "1 50 33.3 33.3\n",
       "2 64 42.7 42.7\n",
       "3 36 24.0 24.0"
      ]
     },
     "metadata": {},
     "output_type": "display_data"
    }
   ],
   "source": [
    "cutree(cah, 3) %>%\n",
    "questionr::freq()"
   ]
  },
  {
   "cell_type": "markdown",
   "metadata": {},
   "source": [
    "4. Faire apparaître les groupes sur le dendrogramme à l’aide de la fonction `rect.hclust`."
   ]
  },
  {
   "cell_type": "code",
   "execution_count": 8,
   "metadata": {
    "scrolled": true
   },
   "outputs": [
    {
     "data": {
      "image/png": "[encoded data removed]",
      "text/plain": [
       "Plot with title \"Cluster Dendrogram\""
      ]
     },
     "metadata": {},
     "output_type": "display_data"
    }
   ],
   "source": [
    "plot(cah)\n",
    "rect.hclust(cah, 3)"
   ]
  },
  {
   "cell_type": "markdown",
   "metadata": {},
   "source": [
    "4. Comparer la classification obtenue avec la variable Species. Commentez les résultats obtenus."
   ]
  },
  {
   "cell_type": "code",
   "execution_count": 9,
   "metadata": {},
   "outputs": [],
   "source": [
    "y_pred <- factor(cutree(cah, 3),\n",
    "                 labels = c(\"setosa\", \"versicolor\", \"virginica\"))"
   ]
  },
  {
   "cell_type": "code",
   "execution_count": 10,
   "metadata": {},
   "outputs": [
    {
     "data": {
      "text/plain": [
       "Confusion Matrix and Statistics\n",
       "\n",
       "            Reference\n",
       "Prediction   setosa versicolor virginica\n",
       "  setosa         50          0         0\n",
       "  versicolor      0         49        15\n",
       "  virginica       0          1        35\n",
       "\n",
       "Overall Statistics\n",
       "                                          \n",
       "               Accuracy : 0.8933          \n",
       "                 95% CI : (0.8326, 0.9378)\n",
       "    No Information Rate : 0.3333          \n",
       "    P-Value [Acc > NIR] : < 2.2e-16       \n",
       "                                          \n",
       "                  Kappa : 0.84            \n",
       "                                          \n",
       " Mcnemar's Test P-Value : NA              \n",
       "\n",
       "Statistics by Class:\n",
       "\n",
       "                     Class: setosa Class: versicolor Class: virginica\n",
       "Sensitivity                 1.0000            0.9800           0.7000\n",
       "Specificity                 1.0000            0.8500           0.9900\n",
       "Pos Pred Value              1.0000            0.7656           0.9722\n",
       "Neg Pred Value              1.0000            0.9884           0.8684\n",
       "Prevalence                  0.3333            0.3333           0.3333\n",
       "Detection Rate              0.3333            0.3267           0.2333\n",
       "Detection Prevalence        0.3333            0.4267           0.2400\n",
       "Balanced Accuracy           1.0000            0.9150           0.8450"
      ]
     },
     "metadata": {},
     "output_type": "display_data"
    }
   ],
   "source": [
    "confusionMatrix(y_pred, y)"
   ]
  },
  {
   "cell_type": "markdown",
   "metadata": {},
   "source": [
    "6. Représentez les résultats à l’aide de la fonction `clusplot`du package `cluster`. À quoi correspondcette représentation ?"
   ]
  },
  {
   "cell_type": "code",
   "execution_count": 35,
   "metadata": {
    "scrolled": true
   },
   "outputs": [
    {
     "data": {
      "image/png": "[encoded data removed]",
      "text/plain": [
       "Plot with title \"CLUSPLOT( X )\""
      ]
     },
     "metadata": {},
     "output_type": "display_data"
    }
   ],
   "source": [
    "cluster::clusplot(\n",
    "    X, y_pred\n",
    ")"
   ]
  },
  {
   "cell_type": "markdown",
   "metadata": {},
   "source": [
    "## Agrégation autour de centres mobiles\n",
    "1. La fonction `kmeans` donne le résultat de l’algorithme d’agrégation autour des centres mobiles. En utilisant l’aide de la fonction, étudiez les principaux paramètres nécessaires à son utilisation.\n",
    "\n",
    "2. Effectuer la partition des donnéesirisen 3 groupes. Analyser les sorties de la fonction et représenter les résultats à l’aide de graphiques appropriés.\n",
    "\n",
    "3. Relancer plusieurs fois la procédure. Que constatez-vous ?"
   ]
  },
  {
   "cell_type": "code",
   "execution_count": 16,
   "metadata": {},
   "outputs": [
    {
     "data": {
      "text/plain": [
       "K-means clustering with 3 clusters of sizes 38, 62, 50\n",
       "\n",
       "Cluster means:\n",
       "  Sepal.Length Sepal.Width Petal.Length Petal.Width\n",
       "1     6.850000    3.073684     5.742105    2.071053\n",
       "2     5.901613    2.748387     4.393548    1.433871\n",
       "3     5.006000    3.428000     1.462000    0.246000\n",
       "\n",
       "Clustering vector:\n",
       "  [1] 3 3 3 3 3 3 3 3 3 3 3 3 3 3 3 3 3 3 3 3 3 3 3 3 3 3 3 3 3 3 3 3 3 3 3 3 3\n",
       " [38] 3 3 3 3 3 3 3 3 3 3 3 3 3 2 2 1 2 2 2 2 2 2 2 2 2 2 2 2 2 2 2 2 2 2 2 2 2\n",
       " [75] 2 2 2 1 2 2 2 2 2 2 2 2 2 2 2 2 2 2 2 2 2 2 2 2 2 2 1 2 1 1 1 1 2 1 1 1 1\n",
       "[112] 1 1 2 2 1 1 1 1 2 1 2 1 2 1 1 2 2 1 1 1 1 1 2 1 1 1 1 2 1 1 1 2 1 1 1 2 1\n",
       "[149] 1 2\n",
       "\n",
       "Within cluster sum of squares by cluster:\n",
       "[1] 23.87947 39.82097 15.15100\n",
       " (between_SS / total_SS =  88.4 %)\n",
       "\n",
       "Available components:\n",
       "\n",
       "[1] \"cluster\"      \"centers\"      \"totss\"        \"withinss\"     \"tot.withinss\"\n",
       "[6] \"betweenss\"    \"size\"         \"iter\"         \"ifault\"      "
      ]
     },
     "metadata": {},
     "output_type": "display_data"
    }
   ],
   "source": [
    "km <- kmeans(X, 3, algorithm = \"MacQueen\", nstart = 10)\n",
    "km"
   ]
  },
  {
   "cell_type": "code",
   "execution_count": 26,
   "metadata": {},
   "outputs": [
    {
     "data": {
      "image/png": "[encoded data removed]",
      "text/plain": [
       "plot without title"
      ]
     },
     "metadata": {},
     "output_type": "display_data"
    }
   ],
   "source": [
    "require(gridExtra)\n",
    "\n",
    "pred <- iris %>%\n",
    "bind_cols(y_pred = factor(km$cluster))\n",
    "\n",
    "plot1 <- ggplot(pred) + aes(x = Sepal.Width, y = Petal.Length, color = Species) + geom_point()\n",
    "plot2 <- ggplot(pred) + aes(x = Sepal.Width, y = Petal.Length, color = y_pred) + geom_point()\n",
    "grid.arrange(plot1, plot2, ncol=2)"
   ]
  },
  {
   "cell_type": "markdown",
   "metadata": {},
   "source": [
    "4. Programmer une fonction permettant de faire tourner l’algorithme avec 50 différentes initialisations et de retenir celle conduisant à la meilleure inertie intra-classes."
   ]
  },
  {
   "cell_type": "code",
   "execution_count": 34,
   "metadata": {},
   "outputs": [],
   "source": [
    "best.kmeans <- function(x, centers){\n",
    "    return(kmeans(x, centers, nstart = 50))\n",
    "}"
   ]
  },
  {
   "cell_type": "markdown",
   "metadata": {},
   "source": [
    "# Données loup/chien\n",
    "1. Faire les représentations graphiques des variables deux à deux. Par la suite, pour les représentations graphiques, on représentera LoC en fonction de LoM et LaM en fonction de LoM."
   ]
  },
  {
   "cell_type": "code",
   "execution_count": 41,
   "metadata": {},
   "outputs": [
    {
     "name": "stderr",
     "output_type": "stream",
     "text": [
      "Parsed with column specification:\n",
      "cols(\n",
      "  x = col_character(),\n",
      "  LoC = col_double(),\n",
      "  LoM = col_double(),\n",
      "  LaM = col_double(),\n",
      "  espece = col_character()\n",
      ")\n"
     ]
    },
    {
     "data": {
      "text/html": [
       "<table>\n",
       "<thead><tr><th scope=col>x</th><th scope=col>LoC</th><th scope=col>LoM</th><th scope=col>LaM</th><th scope=col>espece</th></tr></thead>\n",
       "<tbody>\n",
       "\t<tr><td>loup1  </td><td>23.4   </td><td>15.0   </td><td>19.1   </td><td>loup   </td></tr>\n",
       "\t<tr><td>chien1 </td><td>17.3   </td><td>12.8   </td><td>14.3   </td><td>chien  </td></tr>\n",
       "\t<tr><td>chien2 </td><td>20.5   </td><td>13.7   </td><td>16.6   </td><td>chien  </td></tr>\n",
       "\t<tr><td>loup2  </td><td>26.0   </td><td>16.0   </td><td>19.4   </td><td>loup   </td></tr>\n",
       "\t<tr><td>chien3 </td><td>20.5   </td><td>14.4   </td><td>17.7   </td><td>chien  </td></tr>\n",
       "\t<tr><td>chien4 </td><td>19.0   </td><td>12.4   </td><td>14.9   </td><td>chien  </td></tr>\n",
       "\t<tr><td>chien5 </td><td>19.7   </td><td>13.2   </td><td>14.0   </td><td>chien  </td></tr>\n",
       "\t<tr><td>chien6 </td><td>19.3   </td><td>12.9   </td><td>13.5   </td><td>chien  </td></tr>\n",
       "\t<tr><td>chien7 </td><td>20.5   </td><td>14.3   </td><td>15.5   </td><td>chien  </td></tr>\n",
       "\t<tr><td>loup3  </td><td>23.3   </td><td>15.0   </td><td>18.7   </td><td>loup   </td></tr>\n",
       "\t<tr><td>loup4  </td><td>23.3   </td><td>15.8   </td><td>19.7   </td><td>loup   </td></tr>\n",
       "\t<tr><td>NA     </td><td>20.5   </td><td>14.0   </td><td>16.7   </td><td>NA     </td></tr>\n",
       "\t<tr><td>chien8 </td><td>19.0   </td><td>13.2   </td><td>14.2   </td><td>chien  </td></tr>\n",
       "\t<tr><td>chien9 </td><td>16.7   </td><td>12.5   </td><td>13.3   </td><td>chien  </td></tr>\n",
       "\t<tr><td>chien10</td><td>21.3   </td><td>14.8   </td><td>17.0   </td><td>chien  </td></tr>\n",
       "\t<tr><td>loup5  </td><td>25.0   </td><td>16.8   </td><td>27.0   </td><td>loup   </td></tr>\n",
       "\t<tr><td>chien11</td><td>19.8   </td><td>14.3   </td><td>15.9   </td><td>chien  </td></tr>\n",
       "\t<tr><td>chien12</td><td>19.5   </td><td>13.3   </td><td>14.8   </td><td>chien  </td></tr>\n",
       "\t<tr><td>chien13</td><td>19.7   </td><td>14.2   </td><td>16.0   </td><td>chien  </td></tr>\n",
       "\t<tr><td>loup6  </td><td>23.5   </td><td>16.5   </td><td>19.6   </td><td>loup   </td></tr>\n",
       "\t<tr><td>chien14</td><td>22.5   </td><td>14.2   </td><td>17.8   </td><td>chien  </td></tr>\n",
       "\t<tr><td>chien15</td><td>20.0   </td><td>14.2   </td><td>16.5   </td><td>chien  </td></tr>\n",
       "\t<tr><td>chien16</td><td>20.8   </td><td>14.1   </td><td>16.4   </td><td>chien  </td></tr>\n",
       "\t<tr><td>chien17</td><td>19.9   </td><td>15.3   </td><td>17.6   </td><td>chien  </td></tr>\n",
       "\t<tr><td>chien18</td><td>17.5   </td><td>11.2   </td><td>13.8   </td><td>chien  </td></tr>\n",
       "\t<tr><td>chien19</td><td>17.1   </td><td>12.1   </td><td>13.0   </td><td>chien  </td></tr>\n",
       "\t<tr><td>chien20</td><td>22.5   </td><td>15.4   </td><td>18.0   </td><td>chien  </td></tr>\n",
       "\t<tr><td>loup7  </td><td>22.2   </td><td>14.8   </td><td>17.0   </td><td>loup   </td></tr>\n",
       "\t<tr><td>chien21</td><td>17.5   </td><td>12.7   </td><td>14.7   </td><td>chien  </td></tr>\n",
       "\t<tr><td>loup8  </td><td>25.3   </td><td>16.8   </td><td>15.5   </td><td>loup   </td></tr>\n",
       "\t<tr><td>loup9  </td><td>24.7   </td><td>15.0   </td><td>18.5   </td><td>loup   </td></tr>\n",
       "\t<tr><td>chien22</td><td>20.3   </td><td>13.9   </td><td>17.0   </td><td>chien  </td></tr>\n",
       "\t<tr><td>chien23</td><td>21.0   </td><td>14.7   </td><td>18.3   </td><td>chien  </td></tr>\n",
       "\t<tr><td>loup10 </td><td>25.7   </td><td>15.7   </td><td>19.0   </td><td>loup   </td></tr>\n",
       "\t<tr><td>loup11 </td><td>25.0   </td><td>15.3   </td><td>18.6   </td><td>loup   </td></tr>\n",
       "\t<tr><td>chien24</td><td>18.5   </td><td>12.6   </td><td>14.2   </td><td>chien  </td></tr>\n",
       "\t<tr><td>chien25</td><td>19.6   </td><td>14.0   </td><td>16.4   </td><td>chien  </td></tr>\n",
       "\t<tr><td>chien26</td><td>19.8   </td><td>14.3   </td><td>15.6   </td><td>chien  </td></tr>\n",
       "\t<tr><td>chien27</td><td>17.9   </td><td>12.3   </td><td>15.9   </td><td>chien  </td></tr>\n",
       "\t<tr><td>loup12 </td><td>26.5   </td><td>16.8   </td><td>19.3   </td><td>loup   </td></tr>\n",
       "\t<tr><td>chien28</td><td>21.4   </td><td>15.0   </td><td>18.0   </td><td>chien  </td></tr>\n",
       "\t<tr><td>chien29</td><td>20.7   </td><td>14.0   </td><td>16.8   </td><td>chien  </td></tr>\n",
       "\t<tr><td>chien30</td><td>21.2   </td><td>15.2   </td><td>17.0   </td><td>chien  </td></tr>\n",
       "</tbody>\n",
       "</table>\n"
      ],
      "text/latex": [
       "\\begin{tabular}{r|lllll}\n",
       " x & LoC & LoM & LaM & espece\\\\\n",
       "\\hline\n",
       "\t loup1   & 23.4    & 15.0    & 19.1    & loup   \\\\\n",
       "\t chien1  & 17.3    & 12.8    & 14.3    & chien  \\\\\n",
       "\t chien2  & 20.5    & 13.7    & 16.6    & chien  \\\\\n",
       "\t loup2   & 26.0    & 16.0    & 19.4    & loup   \\\\\n",
       "\t chien3  & 20.5    & 14.4    & 17.7    & chien  \\\\\n",
       "\t chien4  & 19.0    & 12.4    & 14.9    & chien  \\\\\n",
       "\t chien5  & 19.7    & 13.2    & 14.0    & chien  \\\\\n",
       "\t chien6  & 19.3    & 12.9    & 13.5    & chien  \\\\\n",
       "\t chien7  & 20.5    & 14.3    & 15.5    & chien  \\\\\n",
       "\t loup3   & 23.3    & 15.0    & 18.7    & loup   \\\\\n",
       "\t loup4   & 23.3    & 15.8    & 19.7    & loup   \\\\\n",
       "\t NA      & 20.5    & 14.0    & 16.7    & NA     \\\\\n",
       "\t chien8  & 19.0    & 13.2    & 14.2    & chien  \\\\\n",
       "\t chien9  & 16.7    & 12.5    & 13.3    & chien  \\\\\n",
       "\t chien10 & 21.3    & 14.8    & 17.0    & chien  \\\\\n",
       "\t loup5   & 25.0    & 16.8    & 27.0    & loup   \\\\\n",
       "\t chien11 & 19.8    & 14.3    & 15.9    & chien  \\\\\n",
       "\t chien12 & 19.5    & 13.3    & 14.8    & chien  \\\\\n",
       "\t chien13 & 19.7    & 14.2    & 16.0    & chien  \\\\\n",
       "\t loup6   & 23.5    & 16.5    & 19.6    & loup   \\\\\n",
       "\t chien14 & 22.5    & 14.2    & 17.8    & chien  \\\\\n",
       "\t chien15 & 20.0    & 14.2    & 16.5    & chien  \\\\\n",
       "\t chien16 & 20.8    & 14.1    & 16.4    & chien  \\\\\n",
       "\t chien17 & 19.9    & 15.3    & 17.6    & chien  \\\\\n",
       "\t chien18 & 17.5    & 11.2    & 13.8    & chien  \\\\\n",
       "\t chien19 & 17.1    & 12.1    & 13.0    & chien  \\\\\n",
       "\t chien20 & 22.5    & 15.4    & 18.0    & chien  \\\\\n",
       "\t loup7   & 22.2    & 14.8    & 17.0    & loup   \\\\\n",
       "\t chien21 & 17.5    & 12.7    & 14.7    & chien  \\\\\n",
       "\t loup8   & 25.3    & 16.8    & 15.5    & loup   \\\\\n",
       "\t loup9   & 24.7    & 15.0    & 18.5    & loup   \\\\\n",
       "\t chien22 & 20.3    & 13.9    & 17.0    & chien  \\\\\n",
       "\t chien23 & 21.0    & 14.7    & 18.3    & chien  \\\\\n",
       "\t loup10  & 25.7    & 15.7    & 19.0    & loup   \\\\\n",
       "\t loup11  & 25.0    & 15.3    & 18.6    & loup   \\\\\n",
       "\t chien24 & 18.5    & 12.6    & 14.2    & chien  \\\\\n",
       "\t chien25 & 19.6    & 14.0    & 16.4    & chien  \\\\\n",
       "\t chien26 & 19.8    & 14.3    & 15.6    & chien  \\\\\n",
       "\t chien27 & 17.9    & 12.3    & 15.9    & chien  \\\\\n",
       "\t loup12  & 26.5    & 16.8    & 19.3    & loup   \\\\\n",
       "\t chien28 & 21.4    & 15.0    & 18.0    & chien  \\\\\n",
       "\t chien29 & 20.7    & 14.0    & 16.8    & chien  \\\\\n",
       "\t chien30 & 21.2    & 15.2    & 17.0    & chien  \\\\\n",
       "\\end{tabular}\n"
      ],
      "text/markdown": [
       "\n",
       "| x | LoC | LoM | LaM | espece |\n",
       "|---|---|---|---|---|\n",
       "| loup1   | 23.4    | 15.0    | 19.1    | loup    |\n",
       "| chien1  | 17.3    | 12.8    | 14.3    | chien   |\n",
       "| chien2  | 20.5    | 13.7    | 16.6    | chien   |\n",
       "| loup2   | 26.0    | 16.0    | 19.4    | loup    |\n",
       "| chien3  | 20.5    | 14.4    | 17.7    | chien   |\n",
       "| chien4  | 19.0    | 12.4    | 14.9    | chien   |\n",
       "| chien5  | 19.7    | 13.2    | 14.0    | chien   |\n",
       "| chien6  | 19.3    | 12.9    | 13.5    | chien   |\n",
       "| chien7  | 20.5    | 14.3    | 15.5    | chien   |\n",
       "| loup3   | 23.3    | 15.0    | 18.7    | loup    |\n",
       "| loup4   | 23.3    | 15.8    | 19.7    | loup    |\n",
       "| NA      | 20.5    | 14.0    | 16.7    | NA      |\n",
       "| chien8  | 19.0    | 13.2    | 14.2    | chien   |\n",
       "| chien9  | 16.7    | 12.5    | 13.3    | chien   |\n",
       "| chien10 | 21.3    | 14.8    | 17.0    | chien   |\n",
       "| loup5   | 25.0    | 16.8    | 27.0    | loup    |\n",
       "| chien11 | 19.8    | 14.3    | 15.9    | chien   |\n",
       "| chien12 | 19.5    | 13.3    | 14.8    | chien   |\n",
       "| chien13 | 19.7    | 14.2    | 16.0    | chien   |\n",
       "| loup6   | 23.5    | 16.5    | 19.6    | loup    |\n",
       "| chien14 | 22.5    | 14.2    | 17.8    | chien   |\n",
       "| chien15 | 20.0    | 14.2    | 16.5    | chien   |\n",
       "| chien16 | 20.8    | 14.1    | 16.4    | chien   |\n",
       "| chien17 | 19.9    | 15.3    | 17.6    | chien   |\n",
       "| chien18 | 17.5    | 11.2    | 13.8    | chien   |\n",
       "| chien19 | 17.1    | 12.1    | 13.0    | chien   |\n",
       "| chien20 | 22.5    | 15.4    | 18.0    | chien   |\n",
       "| loup7   | 22.2    | 14.8    | 17.0    | loup    |\n",
       "| chien21 | 17.5    | 12.7    | 14.7    | chien   |\n",
       "| loup8   | 25.3    | 16.8    | 15.5    | loup    |\n",
       "| loup9   | 24.7    | 15.0    | 18.5    | loup    |\n",
       "| chien22 | 20.3    | 13.9    | 17.0    | chien   |\n",
       "| chien23 | 21.0    | 14.7    | 18.3    | chien   |\n",
       "| loup10  | 25.7    | 15.7    | 19.0    | loup    |\n",
       "| loup11  | 25.0    | 15.3    | 18.6    | loup    |\n",
       "| chien24 | 18.5    | 12.6    | 14.2    | chien   |\n",
       "| chien25 | 19.6    | 14.0    | 16.4    | chien   |\n",
       "| chien26 | 19.8    | 14.3    | 15.6    | chien   |\n",
       "| chien27 | 17.9    | 12.3    | 15.9    | chien   |\n",
       "| loup12  | 26.5    | 16.8    | 19.3    | loup    |\n",
       "| chien28 | 21.4    | 15.0    | 18.0    | chien   |\n",
       "| chien29 | 20.7    | 14.0    | 16.8    | chien   |\n",
       "| chien30 | 21.2    | 15.2    | 17.0    | chien   |\n",
       "\n"
      ],
      "text/plain": [
       "   x       LoC  LoM  LaM  espece\n",
       "1  loup1   23.4 15.0 19.1 loup  \n",
       "2  chien1  17.3 12.8 14.3 chien \n",
       "3  chien2  20.5 13.7 16.6 chien \n",
       "4  loup2   26.0 16.0 19.4 loup  \n",
       "5  chien3  20.5 14.4 17.7 chien \n",
       "6  chien4  19.0 12.4 14.9 chien \n",
       "7  chien5  19.7 13.2 14.0 chien \n",
       "8  chien6  19.3 12.9 13.5 chien \n",
       "9  chien7  20.5 14.3 15.5 chien \n",
       "10 loup3   23.3 15.0 18.7 loup  \n",
       "11 loup4   23.3 15.8 19.7 loup  \n",
       "12 NA      20.5 14.0 16.7 NA    \n",
       "13 chien8  19.0 13.2 14.2 chien \n",
       "14 chien9  16.7 12.5 13.3 chien \n",
       "15 chien10 21.3 14.8 17.0 chien \n",
       "16 loup5   25.0 16.8 27.0 loup  \n",
       "17 chien11 19.8 14.3 15.9 chien \n",
       "18 chien12 19.5 13.3 14.8 chien \n",
       "19 chien13 19.7 14.2 16.0 chien \n",
       "20 loup6   23.5 16.5 19.6 loup  \n",
       "21 chien14 22.5 14.2 17.8 chien \n",
       "22 chien15 20.0 14.2 16.5 chien \n",
       "23 chien16 20.8 14.1 16.4 chien \n",
       "24 chien17 19.9 15.3 17.6 chien \n",
       "25 chien18 17.5 11.2 13.8 chien \n",
       "26 chien19 17.1 12.1 13.0 chien \n",
       "27 chien20 22.5 15.4 18.0 chien \n",
       "28 loup7   22.2 14.8 17.0 loup  \n",
       "29 chien21 17.5 12.7 14.7 chien \n",
       "30 loup8   25.3 16.8 15.5 loup  \n",
       "31 loup9   24.7 15.0 18.5 loup  \n",
       "32 chien22 20.3 13.9 17.0 chien \n",
       "33 chien23 21.0 14.7 18.3 chien \n",
       "34 loup10  25.7 15.7 19.0 loup  \n",
       "35 loup11  25.0 15.3 18.6 loup  \n",
       "36 chien24 18.5 12.6 14.2 chien \n",
       "37 chien25 19.6 14.0 16.4 chien \n",
       "38 chien26 19.8 14.3 15.6 chien \n",
       "39 chien27 17.9 12.3 15.9 chien \n",
       "40 loup12  26.5 16.8 19.3 loup  \n",
       "41 chien28 21.4 15.0 18.0 chien \n",
       "42 chien29 20.7 14.0 16.8 chien \n",
       "43 chien30 21.2 15.2 17.0 chien "
      ]
     },
     "metadata": {},
     "output_type": "display_data"
    }
   ],
   "source": [
    "read_delim(\"../data/loup_chien.dat\", delim = \"\t\", na = c(\"?\", \"inconnu\"))"
   ]
  }
 ],
 "metadata": {
  "kernelspec": {
   "display_name": "R",
   "language": "R",
   "name": "ir"
  },
  "language_info": {
   "codemirror_mode": "r",
   "file_extension": ".r",
   "mimetype": "text/x-r-source",
   "name": "R",
   "pygments_lexer": "r",
   "version": "3.6.1"
  }
 },
 "nbformat": 4,
 "nbformat_minor": 2
}
