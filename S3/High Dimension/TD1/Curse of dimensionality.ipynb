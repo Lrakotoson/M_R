{
 "cells": [
  {
   "cell_type": "markdown",
   "metadata": {},
   "source": [
    "## Fléau de la dimension pour les plus proches voisins\n",
    "La fonction suivante permet de générer un échantillon d’apprentissage et un échantillon test selon le modèle:\n",
    "$$Y = X_1^2 + ... + X_p^2 + \\epsilon$$\n",
    "où les $X_j$ sont uniformes i.i.d de loi uniorme sur [0,1] et le bruit $\\epsilon$ suit une loi $\\mathcal{N}(0,0.52)$."
   ]
  },
  {
   "cell_type": "code",
   "execution_count": 1,
   "metadata": {},
   "outputs": [],
   "source": [
    "suppressWarnings(suppressMessages(library(tidyverse)))"
   ]
  },
  {
   "cell_type": "code",
   "execution_count": 2,
   "metadata": {},
   "outputs": [],
   "source": [
    "simu <- function(napp=300,ntest=500,p=3,graine=NULL){\n",
    "  if (!is.null(graine)){set.seed(graine)}\n",
    "  n <- napp+ntest\n",
    "  X <- matrix(runif(n*p),ncol=p)\n",
    "  Y <- apply(X^2,1,sum)+rnorm(n,sd=0.5)\n",
    "  Yapp <- Y[1:napp]\n",
    "  Ytest <- Y[-(1:napp)]\n",
    "  Xapp <- data.frame(X[1:napp,])\n",
    "  Xtest <- data.frame(X[-(1:napp),])\n",
    "  return(list(Xapp=Xapp,Yapp=Yapp,Xtest=Xtest,Ytest=Ytest))\n",
    "}\n",
    "df <- simu(napp=300,ntest=500,p=3,graine=1234)"
   ]
  },
  {
   "cell_type": "markdown",
   "metadata": {},
   "source": [
    "Construire la fonction `sel.k` qui admet en entrée :\n",
    "\n",
    "- une grille de valeurs possibles de plus proches voisins (un vecteur).\n",
    "- une matrice $X_{app}$ de dimension $n×p$ qui contient les valeurs variables explicatives.\n",
    "- un vecteur $Y_{app}$ de dimension $n$ qui contient les valeurs de la variable à expliquer\n",
    "- et qui renvoie en sortie la valeur de $k$ dans la grille qui minimise l’erreur LOO"
   ]
  },
  {
   "cell_type": "code",
   "execution_count": 3,
   "metadata": {},
   "outputs": [],
   "source": [
    "sel.k <- function(grid, X, y){\n",
    "    error <- c()\n",
    "    for (k in grid){\n",
    "        model <- FNN::knn.reg(train=X,y=y,k=k)\n",
    "        error <- c(error, model$PRESS/max(c(nrow(X),1)))\n",
    "    }\n",
    "    return(grid[which.min(error)])\n",
    "}"
   ]
  },
  {
   "cell_type": "markdown",
   "metadata": {},
   "source": [
    "Une fois la fonction créée, on peut calculer l’erreur de l’estimateur sélectionné sur un échantillon test avec"
   ]
  },
  {
   "cell_type": "code",
   "execution_count": 4,
   "metadata": {},
   "outputs": [
    {
     "data": {
      "text/html": [
       "0.283868958675127"
      ],
      "text/latex": [
       "0.283868958675127"
      ],
      "text/markdown": [
       "0.283868958675127"
      ],
      "text/plain": [
       "[1] 0.283869"
      ]
     },
     "metadata": {},
     "output_type": "display_data"
    }
   ],
   "source": [
    "k.opt <- sel.k(seq(1,50,by=5),df$Xapp,df$Yapp)\n",
    "prev <- FNN::knn.reg(train=df$Xapp,y=df$Yapp,test=df$Xtest,k=k.opt)$pred\n",
    "mean((prev-df$Ytest)^2)"
   ]
  },
  {
   "cell_type": "markdown",
   "metadata": {},
   "source": [
    "On souhaite comparer les erreurs des règles des $k$ plus proches voisins en fonction de la dimension. On considère 4 dimensions collectées dans le vecteur `DIM` et la grille de valeurs de $k$ suivantes :\n",
    "\n",
    "- `DIM <- c(1,5,10,50)`\n",
    "- `K_cand <- seq(1,50,by=5)`\n",
    "\n",
    "Pour chaque valeur de dimension répéter `B = 100` fois :\n",
    "\n",
    "- simuler un échantillon d’apprentissage de taille 300 et test de taille 500\n",
    "- calculer la valeur optimale de $k$ dans `K_cand` grâce à `sel.k`\n",
    "- calculer l’erreur de l’estimateur sélectionné sur un échantillon test."
   ]
  },
  {
   "cell_type": "code",
   "execution_count": 5,
   "metadata": {},
   "outputs": [],
   "source": [
    "result <- expand.grid(list(p = c(1,10,25,50,75,100,200), b = 1:100))\n",
    "K_cand <- seq(1,50,by=5)\n",
    "error <- c()\n",
    "for (row in 1:nrow(result)){\n",
    "    df <- simu(p = result[row, \"p\"])\n",
    "    k.opt <- sel.k(K_cand,df$Xapp,df$Yapp)\n",
    "    prev <- FNN::knn.reg(train=df$Xapp,y=df$Yapp,test=df$Xtest,k=k.opt)$pred\n",
    "    error <- c(error, mean((prev-df$Ytest)^2))\n",
    "}\n",
    "result <- result %>% mutate(error = error)"
   ]
  },
  {
   "cell_type": "markdown",
   "metadata": {},
   "source": [
    "A l’aide d’indicateurs numériques et de boxplots, comparer la distribution des erreurs en fonction de la dimension."
   ]
  },
  {
   "cell_type": "code",
   "execution_count": 6,
   "metadata": {
    "scrolled": false
   },
   "outputs": [
    {
     "data": {
      "image/png": "[encoded data removed]",
      "text/plain": [
       "plot without title"
      ]
     },
     "metadata": {},
     "output_type": "display_data"
    }
   ],
   "source": [
    "result %>% mutate(p = as.factor(p)) %>% \n",
    "ggplot() + aes(x = p, y = error) + geom_boxplot()"
   ]
  },
  {
   "cell_type": "markdown",
   "metadata": {},
   "source": [
    "## Influence de la dimension dans le modèle linéaire\n",
    "En vous basant sur l’exercice précédent, proposer une illustration qui peut mettre en évidence la précision d’estimation dans le modèle linéaire en fonction de la dimension. On pourra par exemple considérer le modèle linaire suivant:\n",
    "$$Y = X_1 + 0X_2 + ... + 0X_p + \\epsilon$$\n",
    "et étudier la performance de l’estimateur MCO du coefficient de X1 pour différentes valeurs de p. Par exemple avec p dans le vecteur  \n",
    "`DIM <- c(1,50,100,200)`\n",
    "\n",
    "Les données pourront être générées avec la fonction suivante:"
   ]
  },
  {
   "cell_type": "code",
   "execution_count": 7,
   "metadata": {},
   "outputs": [],
   "source": [
    "simu.lin <- function(n = 200, p = 1000, graine = NULL){\n",
    "    X <- matrix(runif(n*p),ncol=p)\n",
    "    if (!is.null(graine)){set.seed(graine)}\n",
    "    Y <- X[,1]+rnorm(nrow(X),sd=0.5)\n",
    "    df <- data.frame(Y,X)\n",
    "    return(df)\n",
    "}"
   ]
  },
  {
   "cell_type": "code",
   "execution_count": 10,
   "metadata": {},
   "outputs": [],
   "source": [
    "result <- expand.grid(list(p = c(1,10,25,50,75,100,200), b = 1:100))\n",
    "value <- c()\n",
    "for (row in 1:nrow(result)){\n",
    "    model <- lm(Y~., data = simu.lin(p = result[row, \"p\"]))\n",
    "    value <- c(value, model$coefficients[2])\n",
    "}\n",
    "result <- result %>% mutate(X1 = value)"
   ]
  },
  {
   "cell_type": "code",
   "execution_count": 11,
   "metadata": {},
   "outputs": [
    {
     "data": {
      "image/png": "[encoded data removed]",
      "text/plain": [
       "plot without title"
      ]
     },
     "metadata": {},
     "output_type": "display_data"
    }
   ],
   "source": [
    "result %>% mutate(p = as.factor(p)) %>% \n",
    "ggplot() + aes(x = p, y = X1) + geom_boxplot()"
   ]
  }
 ],
 "metadata": {
  "kernelspec": {
   "display_name": "R",
   "language": "R",
   "name": "ir"
  },
  "language_info": {
   "codemirror_mode": "r",
   "file_extension": ".r",
   "mimetype": "text/x-r-source",
   "name": "R",
   "pygments_lexer": "r",
   "version": "3.6.1"
  },
  "latex_envs": {
   "LaTeX_envs_menu_present": true,
   "autoclose": false,
   "autocomplete": true,
   "bibliofile": "biblio.bib",
   "cite_by": "apalike",
   "current_citInitial": 1,
   "eqLabelWithNumbers": true,
   "eqNumInitial": 1,
   "hotkeys": {
    "equation": "Ctrl-E",
    "itemize": "Ctrl-I"
   },
   "labels_anchors": false,
   "latex_user_defs": false,
   "report_style_numbering": false,
   "user_envs_cfg": false
  }
 },
 "nbformat": 4,
 "nbformat_minor": 2
}
