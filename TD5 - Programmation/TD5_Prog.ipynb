{
 "cells": [
  {
   "cell_type": "markdown",
   "metadata": {},
   "source": [
    "# Structure de contôle\n",
    "## Les conditions\n",
    "Créer une condition permettant d’afficher sur la console si un entier est pair ou impair\n",
    "\n",
    "**AVEC if..else**"
   ]
  },
  {
   "cell_type": "code",
   "execution_count": 9,
   "metadata": {},
   "outputs": [
    {
     "name": "stdout",
     "output_type": "stream",
     "text": [
      "46 est paire"
     ]
    }
   ],
   "source": [
    "n <- sample(1:100, 1)\n",
    "if (n%%2 == 0) {\n",
    "    cat(n, 'est pair')\n",
    "} else {\n",
    "    cat(n, 'est impair')\n",
    "}"
   ]
  },
  {
   "cell_type": "markdown",
   "metadata": {},
   "source": [
    "**AVEC ifelse**"
   ]
  },
  {
   "cell_type": "code",
   "execution_count": 19,
   "metadata": {},
   "outputs": [
    {
     "data": {
      "text/html": [
       "'46 est paire'"
      ],
      "text/latex": [
       "'46 est paire'"
      ],
      "text/markdown": [
       "'46 est paire'"
      ],
      "text/plain": [
       "[1] \"46 est paire\""
      ]
     },
     "metadata": {},
     "output_type": "display_data"
    }
   ],
   "source": [
    "ifelse (n%%2 == 0,\n",
    "        paste(n, 'est pair'),\n",
    "        paste(n, 'est impair')\n",
    "       )"
   ]
  },
  {
   "cell_type": "markdown",
   "metadata": {},
   "source": [
    "**AVEC switch**"
   ]
  },
  {
   "cell_type": "code",
   "execution_count": 28,
   "metadata": {},
   "outputs": [
    {
     "name": "stdout",
     "output_type": "stream",
     "text": [
      "[1] \"46 est paire\"\n"
     ]
    }
   ],
   "source": [
    "switch(n%%2+1,\n",
    "       print(paste(n, 'est pair')),\n",
    "       print(paste(n, 'est impair'))\n",
    "      )"
   ]
  },
  {
   "cell_type": "markdown",
   "metadata": {},
   "source": [
    "Créer une condition permettant d’afficher sur la console si un entier est un carré ou non"
   ]
  },
  {
   "cell_type": "code",
   "execution_count": 29,
   "metadata": {},
   "outputs": [
    {
     "name": "stdout",
     "output_type": "stream",
     "text": [
      "46 n'est pas un carré"
     ]
    }
   ],
   "source": [
    "if (sqrt(n) == floor(sqrt(n))) {\n",
    "    cat(n, 'est le carré de', sqrt(n))\n",
    "} else {\n",
    "    cat(n, \"n'est pas un carré\")\n",
    "}"
   ]
  },
  {
   "cell_type": "markdown",
   "metadata": {},
   "source": [
    "Créer une condition permettant d’afficher sur la console si un entier est le carré d’un nombre impair multiple de 3."
   ]
  },
  {
   "cell_type": "code",
   "execution_count": 30,
   "metadata": {},
   "outputs": [
    {
     "name": "stdout",
     "output_type": "stream",
     "text": [
      "46 ne réponds pas aux conditions"
     ]
    }
   ],
   "source": [
    "if (sqrt(n) == floor(sqrt(n)) &&\n",
    "    sqrt(n)%%2 != 0 &&\n",
    "    sqrt(n)%%3 == 0\n",
    "   ) {\n",
    "    cat(n, \"est le carré de\", sqrt(n), \"impair et mutliple de 3\")\n",
    "} else {\n",
    "    cat(n, \"ne réponds pas aux conditions\")\n",
    "}"
   ]
  },
  {
   "cell_type": "markdown",
   "metadata": {},
   "source": [
    "## Les boucles\n",
    "### Boucle for\n",
    "Le nombre $e$ peut être approché grâce à la limite suivante :\n",
    "$$e = lim_{n \\to \\infty} (1 + \\frac{1}{n})^n$$\n",
    "À l’aide d’une boucle **for**, calculer les approximations successives obtenues pour n entre 1 et 50. Représenter les résultats obtenus sur un graphe, en matérialisant la valeur cible par une ligne rouge pointillée."
   ]
  },
  {
   "cell_type": "code",
   "execution_count": 47,
   "metadata": {},
   "outputs": [
    {
     "data": {
      "image/png": "[encoded data removed]",
      "text/plain": [
       "plot without title"
      ]
     },
     "metadata": {},
     "output_type": "display_data"
    }
   ],
   "source": [
    "e = 2\n",
    "for (i in 2:50){\n",
    "    e = c(e, (1 + 1/i)^i)\n",
    "}\n",
    "\n",
    "plot(1:50, e,\n",
    "     ylim = c(1,3))\n",
    "abline(exp(1), 0,\n",
    "       col = \"red\",\n",
    "       lty = 3)"
   ]
  },
  {
   "cell_type": "code",
   "execution_count": null,
   "metadata": {},
   "outputs": [],
   "source": []
  }
 ],
 "metadata": {
  "jupytext": {
   "formats": "ipynb,Rmd"
  },
  "kernelspec": {
   "display_name": "R",
   "language": "R",
   "name": "ir"
  },
  "language_info": {
   "codemirror_mode": "r",
   "file_extension": ".r",
   "mimetype": "text/x-r-source",
   "name": "R",
   "pygments_lexer": "r",
   "version": "3.6.1"
  },
  "latex_envs": {
   "LaTeX_envs_menu_present": true,
   "autoclose": true,
   "autocomplete": true,
   "bibliofile": "biblio.bib",
   "cite_by": "apalike",
   "current_citInitial": 1,
   "eqLabelWithNumbers": true,
   "eqNumInitial": 1,
   "hotkeys": {
    "equation": "Ctrl-E",
    "itemize": "Ctrl-I"
   },
   "labels_anchors": false,
   "latex_user_defs": false,
   "report_style_numbering": false,
   "user_envs_cfg": false
  }
 },
 "nbformat": 4,
 "nbformat_minor": 2
}
