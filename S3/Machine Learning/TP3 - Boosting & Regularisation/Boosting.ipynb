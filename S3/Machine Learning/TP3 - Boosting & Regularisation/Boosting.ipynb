{
 "cells": [
  {
   "cell_type": "markdown",
   "metadata": {},
   "source": [
    "# SVM, forêts aléatoires, boosting et régression régularisée\n",
    "## Partie 1 : Discrimination binaire"
   ]
  },
  {
   "cell_type": "code",
   "execution_count": 1,
   "metadata": {},
   "outputs": [
    {
     "name": "stderr",
     "output_type": "stream",
     "text": [
      "Loading required package: lattice\n",
      "\n",
      "Attaching package: 'caret'\n",
      "\n",
      "The following object is masked from 'package:purrr':\n",
      "\n",
      "    lift\n",
      "\n",
      "Loading required package: foreach\n",
      "\n",
      "Attaching package: 'foreach'\n",
      "\n",
      "The following objects are masked from 'package:purrr':\n",
      "\n",
      "    accumulate, when\n",
      "\n",
      "Loading required package: iterators\n",
      "Loading required package: parallel\n"
     ]
    }
   ],
   "source": [
    "suppressWarnings(suppressMessages(library(tidyverse)))\n",
    "suppressWarnings(suppressMessages(library(kernlab)))\n",
    "suppressWarnings(library(caret))\n",
    "suppressWarnings(library(doParallel))"
   ]
  },
  {
   "cell_type": "markdown",
   "metadata": {},
   "source": [
    "Importer le jeu de données `spam` du package `kernlab` à l’aide de la commande `data(spam)`. Afficher les informations sur ce jeu de données à l’aide de la commande `help(spam)`, ainsi qu’un résumé de ce jeu de données.  \n",
    "Séparer le jeu de données en un échantillon d’apprentissage et un échantillon de validation de son choix."
   ]
  },
  {
   "cell_type": "code",
   "execution_count": 2,
   "metadata": {},
   "outputs": [],
   "source": [
    "data(spam)\n",
    "spam <- spam %>% rename(Y = type)\n",
    "part <- createDataPartition(spam$Y, p = 2/3)\n",
    "data_train <- spam[part$Resample1,]\n",
    "data_test <- spam[-part$Resample1,]"
   ]
  },
  {
   "cell_type": "markdown",
   "metadata": {},
   "source": [
    "Lancer sur l’échantillon d’apprentissage une SVM linéaire en ajustant sa constante de tolérance C par validation croisée 10-fold."
   ]
  },
  {
   "cell_type": "code",
   "execution_count": 3,
   "metadata": {},
   "outputs": [
    {
     "data": {
      "text/html": [
       "'Test accuracy: 0.923026744944553'"
      ],
      "text/latex": [
       "'Test accuracy: 0.923026744944553'"
      ],
      "text/markdown": [
       "'Test accuracy: 0.923026744944553'"
      ],
      "text/plain": [
       "[1] \"Test accuracy: 0.923026744944553\""
      ]
     },
     "metadata": {},
     "output_type": "display_data"
    },
    {
     "data": {
      "image/png": "[encoded data removed]",
      "text/plain": [
       "plot without title"
      ]
     },
     "metadata": {},
     "output_type": "display_data"
    }
   ],
   "source": [
    "cl <- makePSOCKcluster(10)\n",
    "registerDoParallel(cl)\n",
    "\n",
    "svm_1 <- caret::train(\n",
    "    Y~., data = data_train, method = 'svmLinear',\n",
    "    trControl = trainControl(\"cv\", number = 10),\n",
    "    tuneGrid = expand.grid(C = seq(.001, 1.001, by = .01))\n",
    ")\n",
    "on.exit(stopCluster(cl))\n",
    "\n",
    "ggplot(svm_1$results) +\n",
    "aes(C, Accuracy) + geom_line()\n",
    "\n",
    "paste(\n",
    "    'Test accuracy:',\n",
    "    1 - mean(predict(svm_1$finalModel, newdata = select(data_test, -Y)) != pull(data_test, Y))\n",
    ")"
   ]
  },
  {
   "cell_type": "markdown",
   "metadata": {},
   "source": [
    "Lancer sur l’échantillon d’apprentissage une SVM à noyau gaussien (radial) en ajustant ses paramètres parvalidation croisée 10-fold."
   ]
  },
  {
   "cell_type": "code",
   "execution_count": 4,
   "metadata": {},
   "outputs": [
    {
     "data": {
      "text/html": [
       "'Test accuracy: 0.863666014350946'"
      ],
      "text/latex": [
       "'Test accuracy: 0.863666014350946'"
      ],
      "text/markdown": [
       "'Test accuracy: 0.863666014350946'"
      ],
      "text/plain": [
       "[1] \"Test accuracy: 0.863666014350946\""
      ]
     },
     "metadata": {},
     "output_type": "display_data"
    },
    {
     "data": {
      "image/png": "[encoded data removed]",
      "text/plain": [
       "plot without title"
      ]
     },
     "metadata": {},
     "output_type": "display_data"
    }
   ],
   "source": [
    "cl <- makePSOCKcluster(10)\n",
    "registerDoParallel(cl)\n",
    "\n",
    "svm_2 <- caret::train(\n",
    "    Y~., data = data_train, method = 'svmRadial',\n",
    "    trControl = trainControl(\"cv\", number = 10),\n",
    "    tuneGrid = expand.grid(sigma = seq(0, 1, by = .2), C = seq(.01, 1, by = .01))\n",
    ")\n",
    "on.exit(stopCluster(cl))\n",
    "\n",
    "svm_2$results %>% mutate(sigma = as.factor(sigma)) %>% \n",
    "ggplot() + aes(x = C, y = Accuracy, color = sigma) + \n",
    "geom_line() +\n",
    "ggtitle('Error by C and sigma2')\n",
    "\n",
    "paste(\n",
    "    'Test accuracy:',\n",
    "    1 - mean(predict(svm_2$finalModel, newdata = select(data_test, -Y)) != pull(data_test, Y))\n",
    ")"
   ]
  },
  {
   "cell_type": "markdown",
   "metadata": {},
   "source": [
    "Lancer sur l’échantillon d’apprentissage un algorithme de forêt aléatoire en ajustant ses paramètres par la méthode Out Of Bag."
   ]
  }
 ],
 "metadata": {
  "jupytext": {
   "formats": "ipynb,Rmd"
  },
  "kernelspec": {
   "display_name": "R",
   "language": "R",
   "name": "ir"
  },
  "language_info": {
   "codemirror_mode": "r",
   "file_extension": ".r",
   "mimetype": "text/x-r-source",
   "name": "R",
   "pygments_lexer": "r",
   "version": "3.6.1"
  },
  "latex_envs": {
   "LaTeX_envs_menu_present": true,
   "autoclose": false,
   "autocomplete": true,
   "bibliofile": "biblio.bib",
   "cite_by": "apalike",
   "current_citInitial": 1,
   "eqLabelWithNumbers": true,
   "eqNumInitial": 1,
   "hotkeys": {
    "equation": "Ctrl-E",
    "itemize": "Ctrl-I"
   },
   "labels_anchors": false,
   "latex_user_defs": false,
   "report_style_numbering": false,
   "user_envs_cfg": false
  }
 },
 "nbformat": 4,
 "nbformat_minor": 2
}
