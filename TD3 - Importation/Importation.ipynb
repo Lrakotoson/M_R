{
 "cells": [
  {
   "cell_type": "markdown",
   "metadata": {
    "lines_to_next_cell": 0
   },
   "source": [
    "# Chargement et manipulation des données\n",
    "## Data-frame et facteurs"
   ]
  },
  {
   "cell_type": "code",
   "execution_count": 1,
   "metadata": {},
   "outputs": [
    {
     "data": {
      "text/html": [
       "<table>\n",
       "<thead><tr><th></th><th scope=col>mpg</th><th scope=col>cyl</th><th scope=col>disp</th><th scope=col>hp</th><th scope=col>drat</th><th scope=col>wt</th><th scope=col>qsec</th><th scope=col>vs</th><th scope=col>am</th><th scope=col>gear</th><th scope=col>carb</th></tr></thead>\n",
       "<tbody>\n",
       "\t<tr><th scope=row>Mazda RX4</th><td>21.0 </td><td>6    </td><td>160.0</td><td>110  </td><td>3.90 </td><td>2.620</td><td>16.46</td><td>0    </td><td>1    </td><td>4    </td><td>4    </td></tr>\n",
       "\t<tr><th scope=row>Mazda RX4 Wag</th><td>21.0 </td><td>6    </td><td>160.0</td><td>110  </td><td>3.90 </td><td>2.875</td><td>17.02</td><td>0    </td><td>1    </td><td>4    </td><td>4    </td></tr>\n",
       "\t<tr><th scope=row>Datsun 710</th><td>22.8 </td><td>4    </td><td>108.0</td><td> 93  </td><td>3.85 </td><td>2.320</td><td>18.61</td><td>1    </td><td>1    </td><td>4    </td><td>1    </td></tr>\n",
       "\t<tr><th scope=row>Hornet 4 Drive</th><td>21.4 </td><td>6    </td><td>258.0</td><td>110  </td><td>3.08 </td><td>3.215</td><td>19.44</td><td>1    </td><td>0    </td><td>3    </td><td>1    </td></tr>\n",
       "\t<tr><th scope=row>Hornet Sportabout</th><td>18.7 </td><td>8    </td><td>360.0</td><td>175  </td><td>3.15 </td><td>3.440</td><td>17.02</td><td>0    </td><td>0    </td><td>3    </td><td>2    </td></tr>\n",
       "\t<tr><th scope=row>Valiant</th><td>18.1 </td><td>6    </td><td>225.0</td><td>105  </td><td>2.76 </td><td>3.460</td><td>20.22</td><td>1    </td><td>0    </td><td>3    </td><td>1    </td></tr>\n",
       "\t<tr><th scope=row>Duster 360</th><td>14.3 </td><td>8    </td><td>360.0</td><td>245  </td><td>3.21 </td><td>3.570</td><td>15.84</td><td>0    </td><td>0    </td><td>3    </td><td>4    </td></tr>\n",
       "\t<tr><th scope=row>Merc 240D</th><td>24.4 </td><td>4    </td><td>146.7</td><td> 62  </td><td>3.69 </td><td>3.190</td><td>20.00</td><td>1    </td><td>0    </td><td>4    </td><td>2    </td></tr>\n",
       "\t<tr><th scope=row>Merc 230</th><td>22.8 </td><td>4    </td><td>140.8</td><td> 95  </td><td>3.92 </td><td>3.150</td><td>22.90</td><td>1    </td><td>0    </td><td>4    </td><td>2    </td></tr>\n",
       "\t<tr><th scope=row>Merc 280</th><td>19.2 </td><td>6    </td><td>167.6</td><td>123  </td><td>3.92 </td><td>3.440</td><td>18.30</td><td>1    </td><td>0    </td><td>4    </td><td>4    </td></tr>\n",
       "\t<tr><th scope=row>Merc 280C</th><td>17.8 </td><td>6    </td><td>167.6</td><td>123  </td><td>3.92 </td><td>3.440</td><td>18.90</td><td>1    </td><td>0    </td><td>4    </td><td>4    </td></tr>\n",
       "\t<tr><th scope=row>Merc 450SE</th><td>16.4 </td><td>8    </td><td>275.8</td><td>180  </td><td>3.07 </td><td>4.070</td><td>17.40</td><td>0    </td><td>0    </td><td>3    </td><td>3    </td></tr>\n",
       "\t<tr><th scope=row>Merc 450SL</th><td>17.3 </td><td>8    </td><td>275.8</td><td>180  </td><td>3.07 </td><td>3.730</td><td>17.60</td><td>0    </td><td>0    </td><td>3    </td><td>3    </td></tr>\n",
       "\t<tr><th scope=row>Merc 450SLC</th><td>15.2 </td><td>8    </td><td>275.8</td><td>180  </td><td>3.07 </td><td>3.780</td><td>18.00</td><td>0    </td><td>0    </td><td>3    </td><td>3    </td></tr>\n",
       "\t<tr><th scope=row>Cadillac Fleetwood</th><td>10.4 </td><td>8    </td><td>472.0</td><td>205  </td><td>2.93 </td><td>5.250</td><td>17.98</td><td>0    </td><td>0    </td><td>3    </td><td>4    </td></tr>\n",
       "\t<tr><th scope=row>Lincoln Continental</th><td>10.4 </td><td>8    </td><td>460.0</td><td>215  </td><td>3.00 </td><td>5.424</td><td>17.82</td><td>0    </td><td>0    </td><td>3    </td><td>4    </td></tr>\n",
       "\t<tr><th scope=row>Chrysler Imperial</th><td>14.7 </td><td>8    </td><td>440.0</td><td>230  </td><td>3.23 </td><td>5.345</td><td>17.42</td><td>0    </td><td>0    </td><td>3    </td><td>4    </td></tr>\n",
       "\t<tr><th scope=row>Fiat 128</th><td>32.4 </td><td>4    </td><td> 78.7</td><td> 66  </td><td>4.08 </td><td>2.200</td><td>19.47</td><td>1    </td><td>1    </td><td>4    </td><td>1    </td></tr>\n",
       "\t<tr><th scope=row>Honda Civic</th><td>30.4 </td><td>4    </td><td> 75.7</td><td> 52  </td><td>4.93 </td><td>1.615</td><td>18.52</td><td>1    </td><td>1    </td><td>4    </td><td>2    </td></tr>\n",
       "\t<tr><th scope=row>Toyota Corolla</th><td>33.9 </td><td>4    </td><td> 71.1</td><td> 65  </td><td>4.22 </td><td>1.835</td><td>19.90</td><td>1    </td><td>1    </td><td>4    </td><td>1    </td></tr>\n",
       "\t<tr><th scope=row>Toyota Corona</th><td>21.5 </td><td>4    </td><td>120.1</td><td> 97  </td><td>3.70 </td><td>2.465</td><td>20.01</td><td>1    </td><td>0    </td><td>3    </td><td>1    </td></tr>\n",
       "\t<tr><th scope=row>Dodge Challenger</th><td>15.5 </td><td>8    </td><td>318.0</td><td>150  </td><td>2.76 </td><td>3.520</td><td>16.87</td><td>0    </td><td>0    </td><td>3    </td><td>2    </td></tr>\n",
       "\t<tr><th scope=row>AMC Javelin</th><td>15.2 </td><td>8    </td><td>304.0</td><td>150  </td><td>3.15 </td><td>3.435</td><td>17.30</td><td>0    </td><td>0    </td><td>3    </td><td>2    </td></tr>\n",
       "\t<tr><th scope=row>Camaro Z28</th><td>13.3 </td><td>8    </td><td>350.0</td><td>245  </td><td>3.73 </td><td>3.840</td><td>15.41</td><td>0    </td><td>0    </td><td>3    </td><td>4    </td></tr>\n",
       "\t<tr><th scope=row>Pontiac Firebird</th><td>19.2 </td><td>8    </td><td>400.0</td><td>175  </td><td>3.08 </td><td>3.845</td><td>17.05</td><td>0    </td><td>0    </td><td>3    </td><td>2    </td></tr>\n",
       "\t<tr><th scope=row>Fiat X1-9</th><td>27.3 </td><td>4    </td><td> 79.0</td><td> 66  </td><td>4.08 </td><td>1.935</td><td>18.90</td><td>1    </td><td>1    </td><td>4    </td><td>1    </td></tr>\n",
       "\t<tr><th scope=row>Porsche 914-2</th><td>26.0 </td><td>4    </td><td>120.3</td><td> 91  </td><td>4.43 </td><td>2.140</td><td>16.70</td><td>0    </td><td>1    </td><td>5    </td><td>2    </td></tr>\n",
       "\t<tr><th scope=row>Lotus Europa</th><td>30.4 </td><td>4    </td><td> 95.1</td><td>113  </td><td>3.77 </td><td>1.513</td><td>16.90</td><td>1    </td><td>1    </td><td>5    </td><td>2    </td></tr>\n",
       "\t<tr><th scope=row>Ford Pantera L</th><td>15.8 </td><td>8    </td><td>351.0</td><td>264  </td><td>4.22 </td><td>3.170</td><td>14.50</td><td>0    </td><td>1    </td><td>5    </td><td>4    </td></tr>\n",
       "\t<tr><th scope=row>Ferrari Dino</th><td>19.7 </td><td>6    </td><td>145.0</td><td>175  </td><td>3.62 </td><td>2.770</td><td>15.50</td><td>0    </td><td>1    </td><td>5    </td><td>6    </td></tr>\n",
       "\t<tr><th scope=row>Maserati Bora</th><td>15.0 </td><td>8    </td><td>301.0</td><td>335  </td><td>3.54 </td><td>3.570</td><td>14.60</td><td>0    </td><td>1    </td><td>5    </td><td>8    </td></tr>\n",
       "\t<tr><th scope=row>Volvo 142E</th><td>21.4 </td><td>4    </td><td>121.0</td><td>109  </td><td>4.11 </td><td>2.780</td><td>18.60</td><td>1    </td><td>1    </td><td>4    </td><td>2    </td></tr>\n",
       "</tbody>\n",
       "</table>\n"
      ],
      "text/latex": [
       "\\begin{tabular}{r|lllllllllll}\n",
       "  & mpg & cyl & disp & hp & drat & wt & qsec & vs & am & gear & carb\\\\\n",
       "\\hline\n",
       "\tMazda RX4 & 21.0  & 6     & 160.0 & 110   & 3.90  & 2.620 & 16.46 & 0     & 1     & 4     & 4    \\\\\n",
       "\tMazda RX4 Wag & 21.0  & 6     & 160.0 & 110   & 3.90  & 2.875 & 17.02 & 0     & 1     & 4     & 4    \\\\\n",
       "\tDatsun 710 & 22.8  & 4     & 108.0 &  93   & 3.85  & 2.320 & 18.61 & 1     & 1     & 4     & 1    \\\\\n",
       "\tHornet 4 Drive & 21.4  & 6     & 258.0 & 110   & 3.08  & 3.215 & 19.44 & 1     & 0     & 3     & 1    \\\\\n",
       "\tHornet Sportabout & 18.7  & 8     & 360.0 & 175   & 3.15  & 3.440 & 17.02 & 0     & 0     & 3     & 2    \\\\\n",
       "\tValiant & 18.1  & 6     & 225.0 & 105   & 2.76  & 3.460 & 20.22 & 1     & 0     & 3     & 1    \\\\\n",
       "\tDuster 360 & 14.3  & 8     & 360.0 & 245   & 3.21  & 3.570 & 15.84 & 0     & 0     & 3     & 4    \\\\\n",
       "\tMerc 240D & 24.4  & 4     & 146.7 &  62   & 3.69  & 3.190 & 20.00 & 1     & 0     & 4     & 2    \\\\\n",
       "\tMerc 230 & 22.8  & 4     & 140.8 &  95   & 3.92  & 3.150 & 22.90 & 1     & 0     & 4     & 2    \\\\\n",
       "\tMerc 280 & 19.2  & 6     & 167.6 & 123   & 3.92  & 3.440 & 18.30 & 1     & 0     & 4     & 4    \\\\\n",
       "\tMerc 280C & 17.8  & 6     & 167.6 & 123   & 3.92  & 3.440 & 18.90 & 1     & 0     & 4     & 4    \\\\\n",
       "\tMerc 450SE & 16.4  & 8     & 275.8 & 180   & 3.07  & 4.070 & 17.40 & 0     & 0     & 3     & 3    \\\\\n",
       "\tMerc 450SL & 17.3  & 8     & 275.8 & 180   & 3.07  & 3.730 & 17.60 & 0     & 0     & 3     & 3    \\\\\n",
       "\tMerc 450SLC & 15.2  & 8     & 275.8 & 180   & 3.07  & 3.780 & 18.00 & 0     & 0     & 3     & 3    \\\\\n",
       "\tCadillac Fleetwood & 10.4  & 8     & 472.0 & 205   & 2.93  & 5.250 & 17.98 & 0     & 0     & 3     & 4    \\\\\n",
       "\tLincoln Continental & 10.4  & 8     & 460.0 & 215   & 3.00  & 5.424 & 17.82 & 0     & 0     & 3     & 4    \\\\\n",
       "\tChrysler Imperial & 14.7  & 8     & 440.0 & 230   & 3.23  & 5.345 & 17.42 & 0     & 0     & 3     & 4    \\\\\n",
       "\tFiat 128 & 32.4  & 4     &  78.7 &  66   & 4.08  & 2.200 & 19.47 & 1     & 1     & 4     & 1    \\\\\n",
       "\tHonda Civic & 30.4  & 4     &  75.7 &  52   & 4.93  & 1.615 & 18.52 & 1     & 1     & 4     & 2    \\\\\n",
       "\tToyota Corolla & 33.9  & 4     &  71.1 &  65   & 4.22  & 1.835 & 19.90 & 1     & 1     & 4     & 1    \\\\\n",
       "\tToyota Corona & 21.5  & 4     & 120.1 &  97   & 3.70  & 2.465 & 20.01 & 1     & 0     & 3     & 1    \\\\\n",
       "\tDodge Challenger & 15.5  & 8     & 318.0 & 150   & 2.76  & 3.520 & 16.87 & 0     & 0     & 3     & 2    \\\\\n",
       "\tAMC Javelin & 15.2  & 8     & 304.0 & 150   & 3.15  & 3.435 & 17.30 & 0     & 0     & 3     & 2    \\\\\n",
       "\tCamaro Z28 & 13.3  & 8     & 350.0 & 245   & 3.73  & 3.840 & 15.41 & 0     & 0     & 3     & 4    \\\\\n",
       "\tPontiac Firebird & 19.2  & 8     & 400.0 & 175   & 3.08  & 3.845 & 17.05 & 0     & 0     & 3     & 2    \\\\\n",
       "\tFiat X1-9 & 27.3  & 4     &  79.0 &  66   & 4.08  & 1.935 & 18.90 & 1     & 1     & 4     & 1    \\\\\n",
       "\tPorsche 914-2 & 26.0  & 4     & 120.3 &  91   & 4.43  & 2.140 & 16.70 & 0     & 1     & 5     & 2    \\\\\n",
       "\tLotus Europa & 30.4  & 4     &  95.1 & 113   & 3.77  & 1.513 & 16.90 & 1     & 1     & 5     & 2    \\\\\n",
       "\tFord Pantera L & 15.8  & 8     & 351.0 & 264   & 4.22  & 3.170 & 14.50 & 0     & 1     & 5     & 4    \\\\\n",
       "\tFerrari Dino & 19.7  & 6     & 145.0 & 175   & 3.62  & 2.770 & 15.50 & 0     & 1     & 5     & 6    \\\\\n",
       "\tMaserati Bora & 15.0  & 8     & 301.0 & 335   & 3.54  & 3.570 & 14.60 & 0     & 1     & 5     & 8    \\\\\n",
       "\tVolvo 142E & 21.4  & 4     & 121.0 & 109   & 4.11  & 2.780 & 18.60 & 1     & 1     & 4     & 2    \\\\\n",
       "\\end{tabular}\n"
      ],
      "text/markdown": [
       "\n",
       "| <!--/--> | mpg | cyl | disp | hp | drat | wt | qsec | vs | am | gear | carb |\n",
       "|---|---|---|---|---|---|---|---|---|---|---|---|\n",
       "| Mazda RX4 | 21.0  | 6     | 160.0 | 110   | 3.90  | 2.620 | 16.46 | 0     | 1     | 4     | 4     |\n",
       "| Mazda RX4 Wag | 21.0  | 6     | 160.0 | 110   | 3.90  | 2.875 | 17.02 | 0     | 1     | 4     | 4     |\n",
       "| Datsun 710 | 22.8  | 4     | 108.0 |  93   | 3.85  | 2.320 | 18.61 | 1     | 1     | 4     | 1     |\n",
       "| Hornet 4 Drive | 21.4  | 6     | 258.0 | 110   | 3.08  | 3.215 | 19.44 | 1     | 0     | 3     | 1     |\n",
       "| Hornet Sportabout | 18.7  | 8     | 360.0 | 175   | 3.15  | 3.440 | 17.02 | 0     | 0     | 3     | 2     |\n",
       "| Valiant | 18.1  | 6     | 225.0 | 105   | 2.76  | 3.460 | 20.22 | 1     | 0     | 3     | 1     |\n",
       "| Duster 360 | 14.3  | 8     | 360.0 | 245   | 3.21  | 3.570 | 15.84 | 0     | 0     | 3     | 4     |\n",
       "| Merc 240D | 24.4  | 4     | 146.7 |  62   | 3.69  | 3.190 | 20.00 | 1     | 0     | 4     | 2     |\n",
       "| Merc 230 | 22.8  | 4     | 140.8 |  95   | 3.92  | 3.150 | 22.90 | 1     | 0     | 4     | 2     |\n",
       "| Merc 280 | 19.2  | 6     | 167.6 | 123   | 3.92  | 3.440 | 18.30 | 1     | 0     | 4     | 4     |\n",
       "| Merc 280C | 17.8  | 6     | 167.6 | 123   | 3.92  | 3.440 | 18.90 | 1     | 0     | 4     | 4     |\n",
       "| Merc 450SE | 16.4  | 8     | 275.8 | 180   | 3.07  | 4.070 | 17.40 | 0     | 0     | 3     | 3     |\n",
       "| Merc 450SL | 17.3  | 8     | 275.8 | 180   | 3.07  | 3.730 | 17.60 | 0     | 0     | 3     | 3     |\n",
       "| Merc 450SLC | 15.2  | 8     | 275.8 | 180   | 3.07  | 3.780 | 18.00 | 0     | 0     | 3     | 3     |\n",
       "| Cadillac Fleetwood | 10.4  | 8     | 472.0 | 205   | 2.93  | 5.250 | 17.98 | 0     | 0     | 3     | 4     |\n",
       "| Lincoln Continental | 10.4  | 8     | 460.0 | 215   | 3.00  | 5.424 | 17.82 | 0     | 0     | 3     | 4     |\n",
       "| Chrysler Imperial | 14.7  | 8     | 440.0 | 230   | 3.23  | 5.345 | 17.42 | 0     | 0     | 3     | 4     |\n",
       "| Fiat 128 | 32.4  | 4     |  78.7 |  66   | 4.08  | 2.200 | 19.47 | 1     | 1     | 4     | 1     |\n",
       "| Honda Civic | 30.4  | 4     |  75.7 |  52   | 4.93  | 1.615 | 18.52 | 1     | 1     | 4     | 2     |\n",
       "| Toyota Corolla | 33.9  | 4     |  71.1 |  65   | 4.22  | 1.835 | 19.90 | 1     | 1     | 4     | 1     |\n",
       "| Toyota Corona | 21.5  | 4     | 120.1 |  97   | 3.70  | 2.465 | 20.01 | 1     | 0     | 3     | 1     |\n",
       "| Dodge Challenger | 15.5  | 8     | 318.0 | 150   | 2.76  | 3.520 | 16.87 | 0     | 0     | 3     | 2     |\n",
       "| AMC Javelin | 15.2  | 8     | 304.0 | 150   | 3.15  | 3.435 | 17.30 | 0     | 0     | 3     | 2     |\n",
       "| Camaro Z28 | 13.3  | 8     | 350.0 | 245   | 3.73  | 3.840 | 15.41 | 0     | 0     | 3     | 4     |\n",
       "| Pontiac Firebird | 19.2  | 8     | 400.0 | 175   | 3.08  | 3.845 | 17.05 | 0     | 0     | 3     | 2     |\n",
       "| Fiat X1-9 | 27.3  | 4     |  79.0 |  66   | 4.08  | 1.935 | 18.90 | 1     | 1     | 4     | 1     |\n",
       "| Porsche 914-2 | 26.0  | 4     | 120.3 |  91   | 4.43  | 2.140 | 16.70 | 0     | 1     | 5     | 2     |\n",
       "| Lotus Europa | 30.4  | 4     |  95.1 | 113   | 3.77  | 1.513 | 16.90 | 1     | 1     | 5     | 2     |\n",
       "| Ford Pantera L | 15.8  | 8     | 351.0 | 264   | 4.22  | 3.170 | 14.50 | 0     | 1     | 5     | 4     |\n",
       "| Ferrari Dino | 19.7  | 6     | 145.0 | 175   | 3.62  | 2.770 | 15.50 | 0     | 1     | 5     | 6     |\n",
       "| Maserati Bora | 15.0  | 8     | 301.0 | 335   | 3.54  | 3.570 | 14.60 | 0     | 1     | 5     | 8     |\n",
       "| Volvo 142E | 21.4  | 4     | 121.0 | 109   | 4.11  | 2.780 | 18.60 | 1     | 1     | 4     | 2     |\n",
       "\n"
      ],
      "text/plain": [
       "                    mpg  cyl disp  hp  drat wt    qsec  vs am gear carb\n",
       "Mazda RX4           21.0 6   160.0 110 3.90 2.620 16.46 0  1  4    4   \n",
       "Mazda RX4 Wag       21.0 6   160.0 110 3.90 2.875 17.02 0  1  4    4   \n",
       "Datsun 710          22.8 4   108.0  93 3.85 2.320 18.61 1  1  4    1   \n",
       "Hornet 4 Drive      21.4 6   258.0 110 3.08 3.215 19.44 1  0  3    1   \n",
       "Hornet Sportabout   18.7 8   360.0 175 3.15 3.440 17.02 0  0  3    2   \n",
       "Valiant             18.1 6   225.0 105 2.76 3.460 20.22 1  0  3    1   \n",
       "Duster 360          14.3 8   360.0 245 3.21 3.570 15.84 0  0  3    4   \n",
       "Merc 240D           24.4 4   146.7  62 3.69 3.190 20.00 1  0  4    2   \n",
       "Merc 230            22.8 4   140.8  95 3.92 3.150 22.90 1  0  4    2   \n",
       "Merc 280            19.2 6   167.6 123 3.92 3.440 18.30 1  0  4    4   \n",
       "Merc 280C           17.8 6   167.6 123 3.92 3.440 18.90 1  0  4    4   \n",
       "Merc 450SE          16.4 8   275.8 180 3.07 4.070 17.40 0  0  3    3   \n",
       "Merc 450SL          17.3 8   275.8 180 3.07 3.730 17.60 0  0  3    3   \n",
       "Merc 450SLC         15.2 8   275.8 180 3.07 3.780 18.00 0  0  3    3   \n",
       "Cadillac Fleetwood  10.4 8   472.0 205 2.93 5.250 17.98 0  0  3    4   \n",
       "Lincoln Continental 10.4 8   460.0 215 3.00 5.424 17.82 0  0  3    4   \n",
       "Chrysler Imperial   14.7 8   440.0 230 3.23 5.345 17.42 0  0  3    4   \n",
       "Fiat 128            32.4 4    78.7  66 4.08 2.200 19.47 1  1  4    1   \n",
       "Honda Civic         30.4 4    75.7  52 4.93 1.615 18.52 1  1  4    2   \n",
       "Toyota Corolla      33.9 4    71.1  65 4.22 1.835 19.90 1  1  4    1   \n",
       "Toyota Corona       21.5 4   120.1  97 3.70 2.465 20.01 1  0  3    1   \n",
       "Dodge Challenger    15.5 8   318.0 150 2.76 3.520 16.87 0  0  3    2   \n",
       "AMC Javelin         15.2 8   304.0 150 3.15 3.435 17.30 0  0  3    2   \n",
       "Camaro Z28          13.3 8   350.0 245 3.73 3.840 15.41 0  0  3    4   \n",
       "Pontiac Firebird    19.2 8   400.0 175 3.08 3.845 17.05 0  0  3    2   \n",
       "Fiat X1-9           27.3 4    79.0  66 4.08 1.935 18.90 1  1  4    1   \n",
       "Porsche 914-2       26.0 4   120.3  91 4.43 2.140 16.70 0  1  5    2   \n",
       "Lotus Europa        30.4 4    95.1 113 3.77 1.513 16.90 1  1  5    2   \n",
       "Ford Pantera L      15.8 8   351.0 264 4.22 3.170 14.50 0  1  5    4   \n",
       "Ferrari Dino        19.7 6   145.0 175 3.62 2.770 15.50 0  1  5    6   \n",
       "Maserati Bora       15.0 8   301.0 335 3.54 3.570 14.60 0  1  5    8   \n",
       "Volvo 142E          21.4 4   121.0 109 4.11 2.780 18.60 1  1  4    2   "
      ]
     },
     "metadata": {},
     "output_type": "display_data"
    }
   ],
   "source": [
    "data(\"mtcars\")\n",
    "mtcars"
   ]
  },
  {
   "cell_type": "markdown",
   "metadata": {
    "lines_to_next_cell": 0
   },
   "source": [
    "Ce jeu de données est-il une matrice (**is.matrix**) ? Un data.frame (**is.data.frame**) ? Une liste ?"
   ]
  },
  {
   "cell_type": "code",
   "execution_count": 2,
   "metadata": {},
   "outputs": [
    {
     "data": {
      "text/html": [
       "FALSE"
      ],
      "text/latex": [
       "FALSE"
      ],
      "text/markdown": [
       "FALSE"
      ],
      "text/plain": [
       "[1] FALSE"
      ]
     },
     "metadata": {},
     "output_type": "display_data"
    },
    {
     "data": {
      "text/html": [
       "TRUE"
      ],
      "text/latex": [
       "TRUE"
      ],
      "text/markdown": [
       "TRUE"
      ],
      "text/plain": [
       "[1] TRUE"
      ]
     },
     "metadata": {},
     "output_type": "display_data"
    },
    {
     "data": {
      "text/html": [
       "TRUE"
      ],
      "text/latex": [
       "TRUE"
      ],
      "text/markdown": [
       "TRUE"
      ],
      "text/plain": [
       "[1] TRUE"
      ]
     },
     "metadata": {},
     "output_type": "display_data"
    }
   ],
   "source": [
    "is.matrix(mtcars)\n",
    "is.list(mtcars)\n",
    "is.data.frame(mtcars)"
   ]
  },
  {
   "cell_type": "markdown",
   "metadata": {
    "lines_to_next_cell": 0
   },
   "source": [
    "Quelle est sa dimension ?"
   ]
  },
  {
   "cell_type": "code",
   "execution_count": 3,
   "metadata": {},
   "outputs": [
    {
     "data": {
      "text/html": [
       "<ol class=list-inline>\n",
       "\t<li>32</li>\n",
       "\t<li>11</li>\n",
       "</ol>\n"
      ],
      "text/latex": [
       "\\begin{enumerate*}\n",
       "\\item 32\n",
       "\\item 11\n",
       "\\end{enumerate*}\n"
      ],
      "text/markdown": [
       "1. 32\n",
       "2. 11\n",
       "\n",
       "\n"
      ],
      "text/plain": [
       "[1] 32 11"
      ]
     },
     "metadata": {},
     "output_type": "display_data"
    }
   ],
   "source": [
    "dim(mtcars)"
   ]
  },
  {
   "cell_type": "markdown",
   "metadata": {
    "lines_to_next_cell": 0
   },
   "source": [
    "Combien de variables contient-il ? Quel est leur nom (**names**) ?"
   ]
  },
  {
   "cell_type": "code",
   "execution_count": 4,
   "metadata": {},
   "outputs": [
    {
     "data": {
      "text/html": [
       "'11 variables'"
      ],
      "text/latex": [
       "'11 variables'"
      ],
      "text/markdown": [
       "'11 variables'"
      ],
      "text/plain": [
       "[1] \"11 variables\""
      ]
     },
     "metadata": {},
     "output_type": "display_data"
    },
    {
     "data": {
      "text/html": [
       "<ol class=list-inline>\n",
       "\t<li>'mpg'</li>\n",
       "\t<li>'cyl'</li>\n",
       "\t<li>'disp'</li>\n",
       "\t<li>'hp'</li>\n",
       "\t<li>'drat'</li>\n",
       "\t<li>'wt'</li>\n",
       "\t<li>'qsec'</li>\n",
       "\t<li>'vs'</li>\n",
       "\t<li>'am'</li>\n",
       "\t<li>'gear'</li>\n",
       "\t<li>'carb'</li>\n",
       "</ol>\n"
      ],
      "text/latex": [
       "\\begin{enumerate*}\n",
       "\\item 'mpg'\n",
       "\\item 'cyl'\n",
       "\\item 'disp'\n",
       "\\item 'hp'\n",
       "\\item 'drat'\n",
       "\\item 'wt'\n",
       "\\item 'qsec'\n",
       "\\item 'vs'\n",
       "\\item 'am'\n",
       "\\item 'gear'\n",
       "\\item 'carb'\n",
       "\\end{enumerate*}\n"
      ],
      "text/markdown": [
       "1. 'mpg'\n",
       "2. 'cyl'\n",
       "3. 'disp'\n",
       "4. 'hp'\n",
       "5. 'drat'\n",
       "6. 'wt'\n",
       "7. 'qsec'\n",
       "8. 'vs'\n",
       "9. 'am'\n",
       "10. 'gear'\n",
       "11. 'carb'\n",
       "\n",
       "\n"
      ],
      "text/plain": [
       " [1] \"mpg\"  \"cyl\"  \"disp\" \"hp\"   \"drat\" \"wt\"   \"qsec\" \"vs\"   \"am\"   \"gear\"\n",
       "[11] \"carb\""
      ]
     },
     "metadata": {},
     "output_type": "display_data"
    }
   ],
   "source": [
    "paste(ncol(mtcars), 'variables', sep = \" \")\n",
    "names(mtcars)"
   ]
  },
  {
   "cell_type": "markdown",
   "metadata": {
    "lines_to_next_cell": 0
   },
   "source": [
    "Décrivez le jeu de données *mtcars*."
   ]
  },
  {
   "cell_type": "code",
   "execution_count": 5,
   "metadata": {
    "eval": false,
    "hide_output": false
   },
   "outputs": [],
   "source": [
    "help(mtcars) # Voir dans la fenêtre d'aide"
   ]
  },
  {
   "cell_type": "markdown",
   "metadata": {
    "lines_to_next_cell": 0
   },
   "source": [
    "Donnez le mode de chacune des variables à l’aide de la fonction **summary**."
   ]
  },
  {
   "cell_type": "code",
   "execution_count": 6,
   "metadata": {},
   "outputs": [
    {
     "data": {
      "text/plain": [
       "      mpg             cyl             disp             hp       \n",
       " Min.   :10.40   Min.   :4.000   Min.   : 71.1   Min.   : 52.0  \n",
       " 1st Qu.:15.43   1st Qu.:4.000   1st Qu.:120.8   1st Qu.: 96.5  \n",
       " Median :19.20   Median :6.000   Median :196.3   Median :123.0  \n",
       " Mean   :20.09   Mean   :6.188   Mean   :230.7   Mean   :146.7  \n",
       " 3rd Qu.:22.80   3rd Qu.:8.000   3rd Qu.:326.0   3rd Qu.:180.0  \n",
       " Max.   :33.90   Max.   :8.000   Max.   :472.0   Max.   :335.0  \n",
       "      drat             wt             qsec             vs        \n",
       " Min.   :2.760   Min.   :1.513   Min.   :14.50   Min.   :0.0000  \n",
       " 1st Qu.:3.080   1st Qu.:2.581   1st Qu.:16.89   1st Qu.:0.0000  \n",
       " Median :3.695   Median :3.325   Median :17.71   Median :0.0000  \n",
       " Mean   :3.597   Mean   :3.217   Mean   :17.85   Mean   :0.4375  \n",
       " 3rd Qu.:3.920   3rd Qu.:3.610   3rd Qu.:18.90   3rd Qu.:1.0000  \n",
       " Max.   :4.930   Max.   :5.424   Max.   :22.90   Max.   :1.0000  \n",
       "       am              gear            carb      \n",
       " Min.   :0.0000   Min.   :3.000   Min.   :1.000  \n",
       " 1st Qu.:0.0000   1st Qu.:3.000   1st Qu.:2.000  \n",
       " Median :0.0000   Median :4.000   Median :2.000  \n",
       " Mean   :0.4062   Mean   :3.688   Mean   :2.812  \n",
       " 3rd Qu.:1.0000   3rd Qu.:4.000   3rd Qu.:4.000  \n",
       " Max.   :1.0000   Max.   :5.000   Max.   :8.000  "
      ]
     },
     "metadata": {},
     "output_type": "display_data"
    },
    {
     "data": {
      "text/html": [
       "<dl class=dl-horizontal>\n",
       "\t<dt>mpg</dt>\n",
       "\t\t<dd>'numeric'</dd>\n",
       "\t<dt>cyl</dt>\n",
       "\t\t<dd>'numeric'</dd>\n",
       "\t<dt>disp</dt>\n",
       "\t\t<dd>'numeric'</dd>\n",
       "\t<dt>hp</dt>\n",
       "\t\t<dd>'numeric'</dd>\n",
       "\t<dt>drat</dt>\n",
       "\t\t<dd>'numeric'</dd>\n",
       "\t<dt>wt</dt>\n",
       "\t\t<dd>'numeric'</dd>\n",
       "\t<dt>qsec</dt>\n",
       "\t\t<dd>'numeric'</dd>\n",
       "\t<dt>vs</dt>\n",
       "\t\t<dd>'numeric'</dd>\n",
       "\t<dt>am</dt>\n",
       "\t\t<dd>'numeric'</dd>\n",
       "\t<dt>gear</dt>\n",
       "\t\t<dd>'numeric'</dd>\n",
       "\t<dt>carb</dt>\n",
       "\t\t<dd>'numeric'</dd>\n",
       "</dl>\n"
      ],
      "text/latex": [
       "\\begin{description*}\n",
       "\\item[mpg] 'numeric'\n",
       "\\item[cyl] 'numeric'\n",
       "\\item[disp] 'numeric'\n",
       "\\item[hp] 'numeric'\n",
       "\\item[drat] 'numeric'\n",
       "\\item[wt] 'numeric'\n",
       "\\item[qsec] 'numeric'\n",
       "\\item[vs] 'numeric'\n",
       "\\item[am] 'numeric'\n",
       "\\item[gear] 'numeric'\n",
       "\\item[carb] 'numeric'\n",
       "\\end{description*}\n"
      ],
      "text/markdown": [
       "mpg\n",
       ":   'numeric'cyl\n",
       ":   'numeric'disp\n",
       ":   'numeric'hp\n",
       ":   'numeric'drat\n",
       ":   'numeric'wt\n",
       ":   'numeric'qsec\n",
       ":   'numeric'vs\n",
       ":   'numeric'am\n",
       ":   'numeric'gear\n",
       ":   'numeric'carb\n",
       ":   'numeric'\n",
       "\n"
      ],
      "text/plain": [
       "      mpg       cyl      disp        hp      drat        wt      qsec        vs \n",
       "\"numeric\" \"numeric\" \"numeric\" \"numeric\" \"numeric\" \"numeric\" \"numeric\" \"numeric\" \n",
       "       am      gear      carb \n",
       "\"numeric\" \"numeric\" \"numeric\" "
      ]
     },
     "metadata": {},
     "output_type": "display_data"
    }
   ],
   "source": [
    "summary(mtcars)\n",
    "apply(mtcars, 2, mode)"
   ]
  },
  {
   "cell_type": "markdown",
   "metadata": {
    "lines_to_next_cell": 0
   },
   "source": [
    "Affectez à $x$ la première colonne de *mtcars*, à l’aide du numéro de colonne (**[,i]**) et ensuite du nom de la colonne (**$**)."
   ]
  },
  {
   "cell_type": "code",
   "execution_count": 7,
   "metadata": {},
   "outputs": [
    {
     "data": {
      "text/html": [
       "<ol class=list-inline>\n",
       "\t<li>21</li>\n",
       "\t<li>21</li>\n",
       "\t<li>22.8</li>\n",
       "\t<li>21.4</li>\n",
       "\t<li>18.7</li>\n",
       "\t<li>18.1</li>\n",
       "\t<li>14.3</li>\n",
       "\t<li>24.4</li>\n",
       "\t<li>22.8</li>\n",
       "\t<li>19.2</li>\n",
       "\t<li>17.8</li>\n",
       "\t<li>16.4</li>\n",
       "\t<li>17.3</li>\n",
       "\t<li>15.2</li>\n",
       "\t<li>10.4</li>\n",
       "\t<li>10.4</li>\n",
       "\t<li>14.7</li>\n",
       "\t<li>32.4</li>\n",
       "\t<li>30.4</li>\n",
       "\t<li>33.9</li>\n",
       "\t<li>21.5</li>\n",
       "\t<li>15.5</li>\n",
       "\t<li>15.2</li>\n",
       "\t<li>13.3</li>\n",
       "\t<li>19.2</li>\n",
       "\t<li>27.3</li>\n",
       "\t<li>26</li>\n",
       "\t<li>30.4</li>\n",
       "\t<li>15.8</li>\n",
       "\t<li>19.7</li>\n",
       "\t<li>15</li>\n",
       "\t<li>21.4</li>\n",
       "</ol>\n"
      ],
      "text/latex": [
       "\\begin{enumerate*}\n",
       "\\item 21\n",
       "\\item 21\n",
       "\\item 22.8\n",
       "\\item 21.4\n",
       "\\item 18.7\n",
       "\\item 18.1\n",
       "\\item 14.3\n",
       "\\item 24.4\n",
       "\\item 22.8\n",
       "\\item 19.2\n",
       "\\item 17.8\n",
       "\\item 16.4\n",
       "\\item 17.3\n",
       "\\item 15.2\n",
       "\\item 10.4\n",
       "\\item 10.4\n",
       "\\item 14.7\n",
       "\\item 32.4\n",
       "\\item 30.4\n",
       "\\item 33.9\n",
       "\\item 21.5\n",
       "\\item 15.5\n",
       "\\item 15.2\n",
       "\\item 13.3\n",
       "\\item 19.2\n",
       "\\item 27.3\n",
       "\\item 26\n",
       "\\item 30.4\n",
       "\\item 15.8\n",
       "\\item 19.7\n",
       "\\item 15\n",
       "\\item 21.4\n",
       "\\end{enumerate*}\n"
      ],
      "text/markdown": [
       "1. 21\n",
       "2. 21\n",
       "3. 22.8\n",
       "4. 21.4\n",
       "5. 18.7\n",
       "6. 18.1\n",
       "7. 14.3\n",
       "8. 24.4\n",
       "9. 22.8\n",
       "10. 19.2\n",
       "11. 17.8\n",
       "12. 16.4\n",
       "13. 17.3\n",
       "14. 15.2\n",
       "15. 10.4\n",
       "16. 10.4\n",
       "17. 14.7\n",
       "18. 32.4\n",
       "19. 30.4\n",
       "20. 33.9\n",
       "21. 21.5\n",
       "22. 15.5\n",
       "23. 15.2\n",
       "24. 13.3\n",
       "25. 19.2\n",
       "26. 27.3\n",
       "27. 26\n",
       "28. 30.4\n",
       "29. 15.8\n",
       "30. 19.7\n",
       "31. 15\n",
       "32. 21.4\n",
       "\n",
       "\n"
      ],
      "text/plain": [
       " [1] 21.0 21.0 22.8 21.4 18.7 18.1 14.3 24.4 22.8 19.2 17.8 16.4 17.3 15.2 10.4\n",
       "[16] 10.4 14.7 32.4 30.4 33.9 21.5 15.5 15.2 13.3 19.2 27.3 26.0 30.4 15.8 19.7\n",
       "[31] 15.0 21.4"
      ]
     },
     "metadata": {},
     "output_type": "display_data"
    }
   ],
   "source": [
    "x <- mtcars[,1]\n",
    "x <- mtcars$mpg\n",
    "x"
   ]
  },
  {
   "cell_type": "markdown",
   "metadata": {
    "lines_to_next_cell": 0
   },
   "source": [
    "Affichez le 15e, le 3e et le 4e élément de $x$ dans cet ordre."
   ]
  },
  {
   "cell_type": "code",
   "execution_count": 8,
   "metadata": {},
   "outputs": [
    {
     "data": {
      "text/html": [
       "<ol class=list-inline>\n",
       "\t<li>10.4</li>\n",
       "\t<li>22.8</li>\n",
       "\t<li>21.4</li>\n",
       "</ol>\n"
      ],
      "text/latex": [
       "\\begin{enumerate*}\n",
       "\\item 10.4\n",
       "\\item 22.8\n",
       "\\item 21.4\n",
       "\\end{enumerate*}\n"
      ],
      "text/markdown": [
       "1. 10.4\n",
       "2. 22.8\n",
       "3. 21.4\n",
       "\n",
       "\n"
      ],
      "text/plain": [
       "[1] 10.4 22.8 21.4"
      ]
     },
     "metadata": {},
     "output_type": "display_data"
    }
   ],
   "source": [
    "x[c(15, 3, 4)]"
   ]
  },
  {
   "cell_type": "markdown",
   "metadata": {
    "lines_to_next_cell": 0
   },
   "source": [
    "Affichez ses 10 premiers éléments. Idem dans l'ordre inverse."
   ]
  },
  {
   "cell_type": "code",
   "execution_count": 9,
   "metadata": {},
   "outputs": [
    {
     "data": {
      "text/html": [
       "<ol class=list-inline>\n",
       "\t<li>21</li>\n",
       "\t<li>21</li>\n",
       "\t<li>22.8</li>\n",
       "\t<li>21.4</li>\n",
       "\t<li>18.7</li>\n",
       "\t<li>18.1</li>\n",
       "\t<li>14.3</li>\n",
       "\t<li>24.4</li>\n",
       "\t<li>22.8</li>\n",
       "\t<li>19.2</li>\n",
       "</ol>\n"
      ],
      "text/latex": [
       "\\begin{enumerate*}\n",
       "\\item 21\n",
       "\\item 21\n",
       "\\item 22.8\n",
       "\\item 21.4\n",
       "\\item 18.7\n",
       "\\item 18.1\n",
       "\\item 14.3\n",
       "\\item 24.4\n",
       "\\item 22.8\n",
       "\\item 19.2\n",
       "\\end{enumerate*}\n"
      ],
      "text/markdown": [
       "1. 21\n",
       "2. 21\n",
       "3. 22.8\n",
       "4. 21.4\n",
       "5. 18.7\n",
       "6. 18.1\n",
       "7. 14.3\n",
       "8. 24.4\n",
       "9. 22.8\n",
       "10. 19.2\n",
       "\n",
       "\n"
      ],
      "text/plain": [
       " [1] 21.0 21.0 22.8 21.4 18.7 18.1 14.3 24.4 22.8 19.2"
      ]
     },
     "metadata": {},
     "output_type": "display_data"
    },
    {
     "data": {
      "text/html": [
       "<ol class=list-inline>\n",
       "\t<li>19.2</li>\n",
       "\t<li>22.8</li>\n",
       "\t<li>24.4</li>\n",
       "\t<li>14.3</li>\n",
       "\t<li>18.1</li>\n",
       "\t<li>18.7</li>\n",
       "\t<li>21.4</li>\n",
       "\t<li>22.8</li>\n",
       "\t<li>21</li>\n",
       "\t<li>21</li>\n",
       "</ol>\n"
      ],
      "text/latex": [
       "\\begin{enumerate*}\n",
       "\\item 19.2\n",
       "\\item 22.8\n",
       "\\item 24.4\n",
       "\\item 14.3\n",
       "\\item 18.1\n",
       "\\item 18.7\n",
       "\\item 21.4\n",
       "\\item 22.8\n",
       "\\item 21\n",
       "\\item 21\n",
       "\\end{enumerate*}\n"
      ],
      "text/markdown": [
       "1. 19.2\n",
       "2. 22.8\n",
       "3. 24.4\n",
       "4. 14.3\n",
       "5. 18.1\n",
       "6. 18.7\n",
       "7. 21.4\n",
       "8. 22.8\n",
       "9. 21\n",
       "10. 21\n",
       "\n",
       "\n"
      ],
      "text/plain": [
       " [1] 19.2 22.8 24.4 14.3 18.1 18.7 21.4 22.8 21.0 21.0"
      ]
     },
     "metadata": {},
     "output_type": "display_data"
    }
   ],
   "source": [
    "head(x, n=10)\n",
    "rev(x[1:10])"
   ]
  },
  {
   "cell_type": "markdown",
   "metadata": {
    "lines_to_next_cell": 0
   },
   "source": [
    "Affichez ses 10 derniers éléments."
   ]
  },
  {
   "cell_type": "code",
   "execution_count": 10,
   "metadata": {},
   "outputs": [
    {
     "data": {
      "text/html": [
       "<ol class=list-inline>\n",
       "\t<li>15.2</li>\n",
       "\t<li>13.3</li>\n",
       "\t<li>19.2</li>\n",
       "\t<li>27.3</li>\n",
       "\t<li>26</li>\n",
       "\t<li>30.4</li>\n",
       "\t<li>15.8</li>\n",
       "\t<li>19.7</li>\n",
       "\t<li>15</li>\n",
       "\t<li>21.4</li>\n",
       "</ol>\n"
      ],
      "text/latex": [
       "\\begin{enumerate*}\n",
       "\\item 15.2\n",
       "\\item 13.3\n",
       "\\item 19.2\n",
       "\\item 27.3\n",
       "\\item 26\n",
       "\\item 30.4\n",
       "\\item 15.8\n",
       "\\item 19.7\n",
       "\\item 15\n",
       "\\item 21.4\n",
       "\\end{enumerate*}\n"
      ],
      "text/markdown": [
       "1. 15.2\n",
       "2. 13.3\n",
       "3. 19.2\n",
       "4. 27.3\n",
       "5. 26\n",
       "6. 30.4\n",
       "7. 15.8\n",
       "8. 19.7\n",
       "9. 15\n",
       "10. 21.4\n",
       "\n",
       "\n"
      ],
      "text/plain": [
       " [1] 15.2 13.3 19.2 27.3 26.0 30.4 15.8 19.7 15.0 21.4"
      ]
     },
     "metadata": {},
     "output_type": "display_data"
    }
   ],
   "source": [
    "tail(x, n=10)"
   ]
  },
  {
   "cell_type": "markdown",
   "metadata": {
    "lines_to_next_cell": 0
   },
   "source": [
    "Transformez la variable Transmission (**am**) en un facteur (*as.factor*). Regardez à nouveau le résumé des données."
   ]
  },
  {
   "cell_type": "code",
   "execution_count": 11,
   "metadata": {},
   "outputs": [
    {
     "data": {
      "text/plain": [
       "      mpg             cyl             disp             hp       \n",
       " Min.   :10.40   Min.   :4.000   Min.   : 71.1   Min.   : 52.0  \n",
       " 1st Qu.:15.43   1st Qu.:4.000   1st Qu.:120.8   1st Qu.: 96.5  \n",
       " Median :19.20   Median :6.000   Median :196.3   Median :123.0  \n",
       " Mean   :20.09   Mean   :6.188   Mean   :230.7   Mean   :146.7  \n",
       " 3rd Qu.:22.80   3rd Qu.:8.000   3rd Qu.:326.0   3rd Qu.:180.0  \n",
       " Max.   :33.90   Max.   :8.000   Max.   :472.0   Max.   :335.0  \n",
       "      drat             wt             qsec             vs         am    \n",
       " Min.   :2.760   Min.   :1.513   Min.   :14.50   Min.   :0.0000   0:19  \n",
       " 1st Qu.:3.080   1st Qu.:2.581   1st Qu.:16.89   1st Qu.:0.0000   1:13  \n",
       " Median :3.695   Median :3.325   Median :17.71   Median :0.0000         \n",
       " Mean   :3.597   Mean   :3.217   Mean   :17.85   Mean   :0.4375         \n",
       " 3rd Qu.:3.920   3rd Qu.:3.610   3rd Qu.:18.90   3rd Qu.:1.0000         \n",
       " Max.   :4.930   Max.   :5.424   Max.   :22.90   Max.   :1.0000         \n",
       "      gear            carb      \n",
       " Min.   :3.000   Min.   :1.000  \n",
       " 1st Qu.:3.000   1st Qu.:2.000  \n",
       " Median :4.000   Median :2.000  \n",
       " Mean   :3.688   Mean   :2.812  \n",
       " 3rd Qu.:4.000   3rd Qu.:4.000  \n",
       " Max.   :5.000   Max.   :8.000  "
      ]
     },
     "metadata": {},
     "output_type": "display_data"
    }
   ],
   "source": [
    "mtcars$am <- as.factor(mtcars$am)\n",
    "summary(mtcars)"
   ]
  },
  {
   "cell_type": "markdown",
   "metadata": {
    "lines_to_next_cell": 0
   },
   "source": [
    "Affectez à $y$ le facteur Transmission."
   ]
  },
  {
   "cell_type": "code",
   "execution_count": 12,
   "metadata": {},
   "outputs": [],
   "source": [
    "y <- mtcars$am"
   ]
  },
  {
   "cell_type": "markdown",
   "metadata": {
    "lines_to_next_cell": 0
   },
   "source": [
    "Créez un nouvel objet constitué de $x$ et $y$."
   ]
  },
  {
   "cell_type": "code",
   "execution_count": 13,
   "metadata": {},
   "outputs": [],
   "source": [
    "m <- cbind(x, y)"
   ]
  },
  {
   "cell_type": "markdown",
   "metadata": {
    "lines_to_next_cell": 0
   },
   "source": [
    "Quel type d’objet a été crée ? Quelle est sa dimension ?"
   ]
  },
  {
   "cell_type": "code",
   "execution_count": 14,
   "metadata": {},
   "outputs": [
    {
     "data": {
      "text/html": [
       "'matrix'"
      ],
      "text/latex": [
       "'matrix'"
      ],
      "text/markdown": [
       "'matrix'"
      ],
      "text/plain": [
       "[1] \"matrix\""
      ]
     },
     "metadata": {},
     "output_type": "display_data"
    },
    {
     "data": {
      "text/html": [
       "<ol class=list-inline>\n",
       "\t<li>32</li>\n",
       "\t<li>2</li>\n",
       "</ol>\n"
      ],
      "text/latex": [
       "\\begin{enumerate*}\n",
       "\\item 32\n",
       "\\item 2\n",
       "\\end{enumerate*}\n"
      ],
      "text/markdown": [
       "1. 32\n",
       "2. 2\n",
       "\n",
       "\n"
      ],
      "text/plain": [
       "[1] 32  2"
      ]
     },
     "metadata": {},
     "output_type": "display_data"
    }
   ],
   "source": [
    "class(m)\n",
    "dim(m)"
   ]
  },
  {
   "cell_type": "markdown",
   "metadata": {
    "lines_to_next_cell": 0
   },
   "source": [
    "Affichez la 12e ligne de cet objet."
   ]
  },
  {
   "cell_type": "code",
   "execution_count": 15,
   "metadata": {},
   "outputs": [
    {
     "data": {
      "text/html": [
       "<dl class=dl-horizontal>\n",
       "\t<dt>x</dt>\n",
       "\t\t<dd>16.4</dd>\n",
       "\t<dt>y</dt>\n",
       "\t\t<dd>1</dd>\n",
       "</dl>\n"
      ],
      "text/latex": [
       "\\begin{description*}\n",
       "\\item[x] 16.4\n",
       "\\item[y] 1\n",
       "\\end{description*}\n"
      ],
      "text/markdown": [
       "x\n",
       ":   16.4y\n",
       ":   1\n",
       "\n"
      ],
      "text/plain": [
       "   x    y \n",
       "16.4  1.0 "
      ]
     },
     "metadata": {},
     "output_type": "display_data"
    }
   ],
   "source": [
    "m[12,]"
   ]
  },
  {
   "cell_type": "markdown",
   "metadata": {
    "lines_to_next_cell": 0
   },
   "source": [
    "Affichez les 8 premières lignes de cet objet."
   ]
  },
  {
   "cell_type": "code",
   "execution_count": 16,
   "metadata": {},
   "outputs": [
    {
     "data": {
      "text/html": [
       "<table>\n",
       "<thead><tr><th scope=col>x</th><th scope=col>y</th></tr></thead>\n",
       "<tbody>\n",
       "\t<tr><td>21.0</td><td>2   </td></tr>\n",
       "\t<tr><td>21.0</td><td>2   </td></tr>\n",
       "\t<tr><td>22.8</td><td>2   </td></tr>\n",
       "\t<tr><td>21.4</td><td>1   </td></tr>\n",
       "\t<tr><td>18.7</td><td>1   </td></tr>\n",
       "\t<tr><td>18.1</td><td>1   </td></tr>\n",
       "\t<tr><td>14.3</td><td>1   </td></tr>\n",
       "\t<tr><td>24.4</td><td>1   </td></tr>\n",
       "</tbody>\n",
       "</table>\n"
      ],
      "text/latex": [
       "\\begin{tabular}{ll}\n",
       " x & y\\\\\n",
       "\\hline\n",
       "\t 21.0 & 2   \\\\\n",
       "\t 21.0 & 2   \\\\\n",
       "\t 22.8 & 2   \\\\\n",
       "\t 21.4 & 1   \\\\\n",
       "\t 18.7 & 1   \\\\\n",
       "\t 18.1 & 1   \\\\\n",
       "\t 14.3 & 1   \\\\\n",
       "\t 24.4 & 1   \\\\\n",
       "\\end{tabular}\n"
      ],
      "text/markdown": [
       "\n",
       "| x | y |\n",
       "|---|---|\n",
       "| 21.0 | 2    |\n",
       "| 21.0 | 2    |\n",
       "| 22.8 | 2    |\n",
       "| 21.4 | 1    |\n",
       "| 18.7 | 1    |\n",
       "| 18.1 | 1    |\n",
       "| 14.3 | 1    |\n",
       "| 24.4 | 1    |\n",
       "\n"
      ],
      "text/plain": [
       "     x    y\n",
       "[1,] 21.0 2\n",
       "[2,] 21.0 2\n",
       "[3,] 22.8 2\n",
       "[4,] 21.4 1\n",
       "[5,] 18.7 1\n",
       "[6,] 18.1 1\n",
       "[7,] 14.3 1\n",
       "[8,] 24.4 1"
      ]
     },
     "metadata": {},
     "output_type": "display_data"
    }
   ],
   "source": [
    "m[1:8,]"
   ]
  },
  {
   "cell_type": "markdown",
   "metadata": {
    "lines_to_next_cell": 0
   },
   "source": [
    "Affichez la 2e colonne de l’objet."
   ]
  },
  {
   "cell_type": "code",
   "execution_count": 17,
   "metadata": {},
   "outputs": [
    {
     "data": {
      "text/html": [
       "<ol class=list-inline>\n",
       "\t<li>2</li>\n",
       "\t<li>2</li>\n",
       "\t<li>2</li>\n",
       "\t<li>1</li>\n",
       "\t<li>1</li>\n",
       "\t<li>1</li>\n",
       "\t<li>1</li>\n",
       "\t<li>1</li>\n",
       "\t<li>1</li>\n",
       "\t<li>1</li>\n",
       "\t<li>1</li>\n",
       "\t<li>1</li>\n",
       "\t<li>1</li>\n",
       "\t<li>1</li>\n",
       "\t<li>1</li>\n",
       "\t<li>1</li>\n",
       "\t<li>1</li>\n",
       "\t<li>2</li>\n",
       "\t<li>2</li>\n",
       "\t<li>2</li>\n",
       "\t<li>1</li>\n",
       "\t<li>1</li>\n",
       "\t<li>1</li>\n",
       "\t<li>1</li>\n",
       "\t<li>1</li>\n",
       "\t<li>2</li>\n",
       "\t<li>2</li>\n",
       "\t<li>2</li>\n",
       "\t<li>2</li>\n",
       "\t<li>2</li>\n",
       "\t<li>2</li>\n",
       "\t<li>2</li>\n",
       "</ol>\n"
      ],
      "text/latex": [
       "\\begin{enumerate*}\n",
       "\\item 2\n",
       "\\item 2\n",
       "\\item 2\n",
       "\\item 1\n",
       "\\item 1\n",
       "\\item 1\n",
       "\\item 1\n",
       "\\item 1\n",
       "\\item 1\n",
       "\\item 1\n",
       "\\item 1\n",
       "\\item 1\n",
       "\\item 1\n",
       "\\item 1\n",
       "\\item 1\n",
       "\\item 1\n",
       "\\item 1\n",
       "\\item 2\n",
       "\\item 2\n",
       "\\item 2\n",
       "\\item 1\n",
       "\\item 1\n",
       "\\item 1\n",
       "\\item 1\n",
       "\\item 1\n",
       "\\item 2\n",
       "\\item 2\n",
       "\\item 2\n",
       "\\item 2\n",
       "\\item 2\n",
       "\\item 2\n",
       "\\item 2\n",
       "\\end{enumerate*}\n"
      ],
      "text/markdown": [
       "1. 2\n",
       "2. 2\n",
       "3. 2\n",
       "4. 1\n",
       "5. 1\n",
       "6. 1\n",
       "7. 1\n",
       "8. 1\n",
       "9. 1\n",
       "10. 1\n",
       "11. 1\n",
       "12. 1\n",
       "13. 1\n",
       "14. 1\n",
       "15. 1\n",
       "16. 1\n",
       "17. 1\n",
       "18. 2\n",
       "19. 2\n",
       "20. 2\n",
       "21. 1\n",
       "22. 1\n",
       "23. 1\n",
       "24. 1\n",
       "25. 1\n",
       "26. 2\n",
       "27. 2\n",
       "28. 2\n",
       "29. 2\n",
       "30. 2\n",
       "31. 2\n",
       "32. 2\n",
       "\n",
       "\n"
      ],
      "text/plain": [
       " [1] 2 2 2 1 1 1 1 1 1 1 1 1 1 1 1 1 1 2 2 2 1 1 1 1 1 2 2 2 2 2 2 2"
      ]
     },
     "metadata": {},
     "output_type": "display_data"
    }
   ],
   "source": [
    "m[,2]"
   ]
  },
  {
   "cell_type": "markdown",
   "metadata": {
    "lines_to_next_cell": 0
   },
   "source": [
    "Affichez les consommations des véhicules à transmission automatique."
   ]
  },
  {
   "cell_type": "code",
   "execution_count": 18,
   "metadata": {},
   "outputs": [
    {
     "data": {
      "text/html": [
       "<ol class=list-inline>\n",
       "\t<li>21</li>\n",
       "\t<li>21</li>\n",
       "\t<li>22.8</li>\n",
       "\t<li>32.4</li>\n",
       "\t<li>30.4</li>\n",
       "\t<li>33.9</li>\n",
       "\t<li>27.3</li>\n",
       "\t<li>26</li>\n",
       "\t<li>30.4</li>\n",
       "\t<li>15.8</li>\n",
       "\t<li>19.7</li>\n",
       "\t<li>15</li>\n",
       "\t<li>21.4</li>\n",
       "</ol>\n"
      ],
      "text/latex": [
       "\\begin{enumerate*}\n",
       "\\item 21\n",
       "\\item 21\n",
       "\\item 22.8\n",
       "\\item 32.4\n",
       "\\item 30.4\n",
       "\\item 33.9\n",
       "\\item 27.3\n",
       "\\item 26\n",
       "\\item 30.4\n",
       "\\item 15.8\n",
       "\\item 19.7\n",
       "\\item 15\n",
       "\\item 21.4\n",
       "\\end{enumerate*}\n"
      ],
      "text/markdown": [
       "1. 21\n",
       "2. 21\n",
       "3. 22.8\n",
       "4. 32.4\n",
       "5. 30.4\n",
       "6. 33.9\n",
       "7. 27.3\n",
       "8. 26\n",
       "9. 30.4\n",
       "10. 15.8\n",
       "11. 19.7\n",
       "12. 15\n",
       "13. 21.4\n",
       "\n",
       "\n"
      ],
      "text/plain": [
       " [1] 21.0 21.0 22.8 32.4 30.4 33.9 27.3 26.0 30.4 15.8 19.7 15.0 21.4"
      ]
     },
     "metadata": {},
     "output_type": "display_data"
    }
   ],
   "source": [
    "m[,1][m[,2]==2]"
   ]
  },
  {
   "cell_type": "markdown",
   "metadata": {
    "lines_to_next_cell": 0
   },
   "source": [
    "Créez un vecteur contenant les consommations moyennes pour les véhicules selon leur type detransmission."
   ]
  },
  {
   "cell_type": "code",
   "execution_count": 19,
   "metadata": {},
   "outputs": [],
   "source": [
    "cMoyenne <- by(m[,1], m[,2], mean)"
   ]
  },
  {
   "cell_type": "markdown",
   "metadata": {
    "lines_to_next_cell": 0
   },
   "source": [
    "Effectuer le même calcul (de consommations moyennes pour les véhicules selon leur type detransmission) sur le data frame **mtcars** et donner les types des objets obtenus :\n",
    " + en utilisant la fonction __subset__.\n",
    " + en utilisant la fonction __by__. *(déjà fait)*\n",
    " + en utilisant la fonction __aggregate__."
   ]
  },
  {
   "cell_type": "code",
   "execution_count": 20,
   "metadata": {
    "lines_to_next_cell": 0
   },
   "outputs": [
    {
     "data": {
      "text/html": [
       "<table>\n",
       "<thead><tr><th scope=col>Group.1</th><th scope=col>x</th></tr></thead>\n",
       "<tbody>\n",
       "\t<tr><td>1       </td><td>17.14737</td></tr>\n",
       "\t<tr><td>2       </td><td>24.39231</td></tr>\n",
       "</tbody>\n",
       "</table>\n"
      ],
      "text/latex": [
       "\\begin{tabular}{r|ll}\n",
       " Group.1 & x\\\\\n",
       "\\hline\n",
       "\t 1        & 17.14737\\\\\n",
       "\t 2        & 24.39231\\\\\n",
       "\\end{tabular}\n"
      ],
      "text/markdown": [
       "\n",
       "| Group.1 | x |\n",
       "|---|---|\n",
       "| 1        | 17.14737 |\n",
       "| 2        | 24.39231 |\n",
       "\n"
      ],
      "text/plain": [
       "  Group.1 x       \n",
       "1 1       17.14737\n",
       "2 2       24.39231"
      ]
     },
     "metadata": {},
     "output_type": "display_data"
    }
   ],
   "source": [
    "aggregate(m[,1], list(m[,2]), mean)"
   ]
  },
  {
   "cell_type": "code",
   "execution_count": 21,
   "metadata": {},
   "outputs": [
    {
     "data": {
      "text/html": [
       "<ol class=list-inline>\n",
       "\t<li>17.1473684210526</li>\n",
       "\t<li>24.3923076923077</li>\n",
       "</ol>\n"
      ],
      "text/latex": [
       "\\begin{enumerate*}\n",
       "\\item 17.1473684210526\n",
       "\\item 24.3923076923077\n",
       "\\end{enumerate*}\n"
      ],
      "text/markdown": [
       "1. 17.1473684210526\n",
       "2. 24.3923076923077\n",
       "\n",
       "\n"
      ],
      "text/plain": [
       "[1] 17.14737 24.39231"
      ]
     },
     "metadata": {},
     "output_type": "display_data"
    }
   ],
   "source": [
    "c(mean(subset(m[,1], m[,2]==1)), mean(subset(m[,1], m[,2]==2)))"
   ]
  },
  {
   "cell_type": "markdown",
   "metadata": {
    "lines_to_next_cell": 0
   },
   "source": [
    "Créez un vecteur contenant les écarts types associés au consommations moyennes des véhicules en fonction de leur type de transmission."
   ]
  },
  {
   "cell_type": "code",
   "execution_count": 22,
   "metadata": {},
   "outputs": [],
   "source": [
    "cEcartType <- by(m[,1], m[,2], sd)"
   ]
  },
  {
   "cell_type": "markdown",
   "metadata": {
    "lines_to_next_cell": 0
   },
   "source": [
    "Résumez les informations obtenues sur la consommation."
   ]
  },
  {
   "cell_type": "code",
   "execution_count": 23,
   "metadata": {},
   "outputs": [
    {
     "data": {
      "text/html": [
       "<dl>\n",
       "\t<dt>$cMoyenne</dt>\n",
       "\t\t<dd><ol class=list-inline>\n",
       "\t<li>17.1473684210526</li>\n",
       "\t<li>24.3923076923077</li>\n",
       "</ol>\n",
       "</dd>\n",
       "\t<dt>$cEcartType</dt>\n",
       "\t\t<dd><ol class=list-inline>\n",
       "\t<li>3.83396638556131</li>\n",
       "\t<li>6.16650380935334</li>\n",
       "</ol>\n",
       "</dd>\n",
       "</dl>\n"
      ],
      "text/latex": [
       "\\begin{description}\n",
       "\\item[\\$cMoyenne] \\begin{enumerate*}\n",
       "\\item 17.1473684210526\n",
       "\\item 24.3923076923077\n",
       "\\end{enumerate*}\n",
       "\n",
       "\\item[\\$cEcartType] \\begin{enumerate*}\n",
       "\\item 3.83396638556131\n",
       "\\item 6.16650380935334\n",
       "\\end{enumerate*}\n",
       "\n",
       "\\end{description}\n"
      ],
      "text/markdown": [
       "$cMoyenne\n",
       ":   1. 17.1473684210526\n",
       "2. 24.3923076923077\n",
       "\n",
       "\n",
       "\n",
       "$cEcartType\n",
       ":   1. 3.83396638556131\n",
       "2. 6.16650380935334\n",
       "\n",
       "\n",
       "\n",
       "\n",
       "\n"
      ],
      "text/plain": [
       "$cMoyenne\n",
       "[1] 17.14737 24.39231\n",
       "\n",
       "$cEcartType\n",
       "[1] 3.833966 6.166504\n"
      ]
     },
     "metadata": {},
     "output_type": "display_data"
    }
   ],
   "source": [
    "as.list(as.data.frame(cbind(cMoyenne,cEcartType)))"
   ]
  },
  {
   "cell_type": "markdown",
   "metadata": {
    "lines_to_next_cell": 0
   },
   "source": [
    "# Chargement de jeux de données externes.\n",
    "## Importation simple.\n",
    "Importez le jeu de données __cancerprostate__."
   ]
  },
  {
   "cell_type": "code",
   "execution_count": 24,
   "metadata": {},
   "outputs": [
    {
     "name": "stdout",
     "output_type": "stream",
     "text": [
      "'data.frame':\t53 obs. of  7 variables:\n",
      " $ age     : int  66 68 66 56 58 60 65 60 50 49 ...\n",
      " $ acide   : num  0.48 0.56 0.5 0.52 0.5 0.49 0.46 0.62 0.56 0.55 ...\n",
      " $ rayonx  : int  0 0 0 0 0 0 1 1 0 1 ...\n",
      " $ taille  : int  0 0 0 0 0 0 0 0 0 0 ...\n",
      " $ grade   : int  0 0 0 0 0 0 0 0 1 0 ...\n",
      " $ Y       : int  0 0 0 0 0 0 0 0 1 0 ...\n",
      " $ log.acid: num  -0.734 -0.58 -0.693 -0.654 -0.693 ...\n"
     ]
    }
   ],
   "source": [
    "cancerprostate <- read.table(\"donnees/cancerprostate.txt\", header=T,sep=\";\")\n",
    "str(cancerprostate)"
   ]
  },
  {
   "cell_type": "markdown",
   "metadata": {
    "lines_to_next_cell": 0
   },
   "source": [
    "Modifier votre importation afin que les variables soient d’un mode approprié."
   ]
  },
  {
   "cell_type": "code",
   "execution_count": 25,
   "metadata": {},
   "outputs": [
    {
     "name": "stdout",
     "output_type": "stream",
     "text": [
      "'data.frame':\t53 obs. of  7 variables:\n",
      " $ age     : int  66 68 66 56 58 60 65 60 50 49 ...\n",
      " $ acide   : num  0.48 0.56 0.5 0.52 0.5 0.49 0.46 0.62 0.56 0.55 ...\n",
      " $ rayonx  : Factor w/ 2 levels \"0\",\"1\": 1 1 1 1 1 1 2 2 1 2 ...\n",
      " $ taille  : Factor w/ 2 levels \"0\",\"1\": 1 1 1 1 1 1 1 1 1 1 ...\n",
      " $ grade   : Factor w/ 2 levels \"0\",\"1\": 1 1 1 1 1 1 1 1 2 1 ...\n",
      " $ Y       : Factor w/ 2 levels \"0\",\"1\": 1 1 1 1 1 1 1 1 2 1 ...\n",
      " $ log.acid: num  -0.734 -0.58 -0.693 -0.654 -0.693 ...\n"
     ]
    }
   ],
   "source": [
    "cancerprostate <- read.table(\"donnees/cancerprostate.txt\", header=T, sep=\";\",\n",
    "                             colClasses = c(\"integer\",\"numeric\",\"factor\",\"factor\",\"factor\",\"factor\",\"numeric\"))\n",
    "str(cancerprostate)"
   ]
  },
  {
   "cell_type": "markdown",
   "metadata": {
    "lines_to_next_cell": 0
   },
   "source": [
    "Impotez le jeu de données __test1__."
   ]
  },
  {
   "cell_type": "code",
   "execution_count": 26,
   "metadata": {
    "lines_to_next_cell": 0
   },
   "outputs": [
    {
     "data": {
      "text/html": [
       "<ol class=list-inline>\n",
       "\t<li>'CLONE'</li>\n",
       "\t<li>'B'</li>\n",
       "\t<li>'IN'</li>\n",
       "\t<li>'HT19'</li>\n",
       "\t<li>'C19'</li>\n",
       "\t<li>'HT29'</li>\n",
       "\t<li>'X'</li>\n",
       "\t<li>'X.1'</li>\n",
       "</ol>\n"
      ],
      "text/latex": [
       "\\begin{enumerate*}\n",
       "\\item 'CLONE'\n",
       "\\item 'B'\n",
       "\\item 'IN'\n",
       "\\item 'HT19'\n",
       "\\item 'C19'\n",
       "\\item 'HT29'\n",
       "\\item 'X'\n",
       "\\item 'X.1'\n",
       "\\end{enumerate*}\n"
      ],
      "text/markdown": [
       "1. 'CLONE'\n",
       "2. 'B'\n",
       "3. 'IN'\n",
       "4. 'HT19'\n",
       "5. 'C19'\n",
       "6. 'HT29'\n",
       "7. 'X'\n",
       "8. 'X.1'\n",
       "\n",
       "\n"
      ],
      "text/plain": [
       "[1] \"CLONE\" \"B\"     \"IN\"    \"HT19\"  \"C19\"   \"HT29\"  \"X\"     \"X.1\"  "
      ]
     },
     "metadata": {},
     "output_type": "display_data"
    }
   ],
   "source": [
    "test1 <- read.table(\"donnees/test1.csv\", header=T, sep=\",\")\n",
    "names(test1)"
   ]
  },
  {
   "cell_type": "markdown",
   "metadata": {
    "lines_to_next_cell": 0
   },
   "source": [
    "Les deux dernières colonnes n'avaient pas de libellés, remplacés par \"X\" et \"X.1\". <br>\n",
    "Importez le jeu de données __test2__. Y a-t-il de données manquantes ? Si oui, combien ?"
   ]
  },
  {
   "cell_type": "code",
   "execution_count": 27,
   "metadata": {},
   "outputs": [
    {
     "data": {
      "text/html": [
       "50"
      ],
      "text/latex": [
       "50"
      ],
      "text/markdown": [
       "50"
      ],
      "text/plain": [
       "[1] 50"
      ]
     },
     "metadata": {},
     "output_type": "display_data"
    }
   ],
   "source": [
    "test2 <- read.table(\"donnees/test2.csv\", header=T, sep=\",\")\n",
    "sum(is.na(test2))"
   ]
  },
  {
   "cell_type": "markdown",
   "metadata": {
    "lines_to_next_cell": 0
   },
   "source": [
    "Extraire le data frame ne contenant pas de données manquantes."
   ]
  },
  {
   "cell_type": "code",
   "execution_count": 28,
   "metadata": {},
   "outputs": [],
   "source": [
    "test2 <- na.omit(test2)"
   ]
  },
  {
   "cell_type": "markdown",
   "metadata": {
    "lines_to_next_cell": 0
   },
   "source": [
    "## Fusion de jeux de données\n",
    "Les données d’intérêts peuvent parfois être contenues dans plusieurs jeux de données séparés.<br>\n",
    "\n",
    "Importez les jeux de données __etat1__ et __etat2__."
   ]
  },
  {
   "cell_type": "code",
   "execution_count": 29,
   "metadata": {},
   "outputs": [],
   "source": [
    "etat1 <- read.table(\"donnees/etat1.csv\", header = T, sep = \";\")\n",
    "etat2 <- read.table(\"donnees/etat2.csv\", header = T, sep = \",\")"
   ]
  },
  {
   "cell_type": "markdown",
   "metadata": {
    "lines_to_next_cell": 0
   },
   "source": [
    "Les dimensions des jeux de données."
   ]
  },
  {
   "cell_type": "code",
   "execution_count": 30,
   "metadata": {},
   "outputs": [
    {
     "data": {
      "text/html": [
       "<ol class=list-inline>\n",
       "\t<li>50</li>\n",
       "\t<li>2</li>\n",
       "\t<li>50</li>\n",
       "\t<li>9</li>\n",
       "</ol>\n"
      ],
      "text/latex": [
       "\\begin{enumerate*}\n",
       "\\item 50\n",
       "\\item 2\n",
       "\\item 50\n",
       "\\item 9\n",
       "\\end{enumerate*}\n"
      ],
      "text/markdown": [
       "1. 50\n",
       "2. 2\n",
       "3. 50\n",
       "4. 9\n",
       "\n",
       "\n"
      ],
      "text/plain": [
       "[1] 50  2 50  9"
      ]
     },
     "metadata": {},
     "output_type": "display_data"
    }
   ],
   "source": [
    "c(dim(etat1), dim(etat2))"
   ]
  },
  {
   "cell_type": "markdown",
   "metadata": {
    "lines_to_next_cell": 0
   },
   "source": [
    "Fusion avec __cbind()__."
   ]
  },
  {
   "cell_type": "code",
   "execution_count": 31,
   "metadata": {},
   "outputs": [
    {
     "data": {
      "text/html": [
       "<table>\n",
       "<thead><tr><th scope=col>region</th><th scope=col>etat</th><th scope=col>etat</th><th scope=col>Population</th><th scope=col>Income</th><th scope=col>Illiteracy</th><th scope=col>Life.Exp</th><th scope=col>Murder</th><th scope=col>HS.Grad</th><th scope=col>Frost</th><th scope=col>Area</th></tr></thead>\n",
       "<tbody>\n",
       "\t<tr><td>South         </td><td>Alabama       </td><td>Alabama       </td><td> 3615         </td><td>3624          </td><td>2.1           </td><td>69.05         </td><td>15.1          </td><td>41.3          </td><td> 20           </td><td> 50708        </td></tr>\n",
       "\t<tr><td>West          </td><td>Alaska        </td><td>Alaska        </td><td>  365         </td><td>6315          </td><td>1.5           </td><td>69.31         </td><td>11.3          </td><td>66.7          </td><td>152           </td><td>566432        </td></tr>\n",
       "\t<tr><td>West          </td><td>Arizona       </td><td>Arizona       </td><td> 2212         </td><td>4530          </td><td>1.8           </td><td>70.55         </td><td> 7.8          </td><td>58.1          </td><td> 15           </td><td>113417        </td></tr>\n",
       "\t<tr><td>South         </td><td>Arkansas      </td><td>Arkansas      </td><td> 2110         </td><td>3378          </td><td>1.9           </td><td>70.66         </td><td>10.1          </td><td>39.9          </td><td> 65           </td><td> 51945        </td></tr>\n",
       "\t<tr><td>West          </td><td>California    </td><td>California    </td><td>21198         </td><td>5114          </td><td>1.1           </td><td>71.71         </td><td>10.3          </td><td>62.6          </td><td> 20           </td><td>156361        </td></tr>\n",
       "\t<tr><td>West          </td><td>Colorado      </td><td>Colorado      </td><td> 2541         </td><td>4884          </td><td>0.7           </td><td>72.06         </td><td> 6.8          </td><td>63.9          </td><td>166           </td><td>103766        </td></tr>\n",
       "\t<tr><td>Northeast     </td><td>Connecticut   </td><td>Connecticut   </td><td> 3100         </td><td>5348          </td><td>1.1           </td><td>72.48         </td><td> 3.1          </td><td>56.0          </td><td>139           </td><td>  4862        </td></tr>\n",
       "\t<tr><td>South         </td><td>Delaware      </td><td>Delaware      </td><td>  579         </td><td>4809          </td><td>0.9           </td><td>70.06         </td><td> 6.2          </td><td>54.6          </td><td>103           </td><td>  1982        </td></tr>\n",
       "\t<tr><td>South         </td><td>Florida       </td><td>Florida       </td><td> 8277         </td><td>4815          </td><td>1.3           </td><td>70.66         </td><td>10.7          </td><td>52.6          </td><td> 11           </td><td> 54090        </td></tr>\n",
       "\t<tr><td>South         </td><td>Georgia       </td><td>Georgia       </td><td> 4931         </td><td>4091          </td><td>2.0           </td><td>68.54         </td><td>13.9          </td><td>40.6          </td><td> 60           </td><td> 58073        </td></tr>\n",
       "\t<tr><td>West          </td><td>Hawaii        </td><td>Hawaii        </td><td>  868         </td><td>4963          </td><td>1.9           </td><td>73.60         </td><td> 6.2          </td><td>61.9          </td><td>  0           </td><td>  6425        </td></tr>\n",
       "\t<tr><td>West          </td><td>Idaho         </td><td>Idaho         </td><td>  813         </td><td>4119          </td><td>0.6           </td><td>71.87         </td><td> 5.3          </td><td>59.5          </td><td>126           </td><td> 82677        </td></tr>\n",
       "\t<tr><td>North Central </td><td>Illinois      </td><td>Illinois      </td><td>11197         </td><td>5107          </td><td>0.9           </td><td>70.14         </td><td>10.3          </td><td>52.6          </td><td>127           </td><td> 55748        </td></tr>\n",
       "\t<tr><td>North Central </td><td>Indiana       </td><td>Indiana       </td><td> 5313         </td><td>4458          </td><td>0.7           </td><td>70.88         </td><td> 7.1          </td><td>52.9          </td><td>122           </td><td> 36097        </td></tr>\n",
       "\t<tr><td>North Central </td><td>Iowa          </td><td>Iowa          </td><td> 2861         </td><td>4628          </td><td>0.5           </td><td>72.56         </td><td> 2.3          </td><td>59.0          </td><td>140           </td><td> 55941        </td></tr>\n",
       "\t<tr><td>North Central </td><td>Kansas        </td><td>Kansas        </td><td> 2280         </td><td>4669          </td><td>0.6           </td><td>72.58         </td><td> 4.5          </td><td>59.9          </td><td>114           </td><td> 81787        </td></tr>\n",
       "\t<tr><td>South         </td><td>Kentucky      </td><td>Kentucky      </td><td> 3387         </td><td>3712          </td><td>1.6           </td><td>70.10         </td><td>10.6          </td><td>38.5          </td><td> 95           </td><td> 39650        </td></tr>\n",
       "\t<tr><td>South         </td><td>Louisiana     </td><td>Louisiana     </td><td> 3806         </td><td>3545          </td><td>2.8           </td><td>68.76         </td><td>13.2          </td><td>42.2          </td><td> 12           </td><td> 44930        </td></tr>\n",
       "\t<tr><td>Northeast     </td><td>Maine         </td><td>Maine         </td><td> 1058         </td><td>3694          </td><td>0.7           </td><td>70.39         </td><td> 2.7          </td><td>54.7          </td><td>161           </td><td> 30920        </td></tr>\n",
       "\t<tr><td>South         </td><td>Maryland      </td><td>Maryland      </td><td> 4122         </td><td>5299          </td><td>0.9           </td><td>70.22         </td><td> 8.5          </td><td>52.3          </td><td>101           </td><td>  9891        </td></tr>\n",
       "\t<tr><td>Northeast     </td><td>Massachusetts </td><td>Massachusetts </td><td> 5814         </td><td>4755          </td><td>1.1           </td><td>71.83         </td><td> 3.3          </td><td>58.5          </td><td>103           </td><td>  7826        </td></tr>\n",
       "\t<tr><td>North Central </td><td>Michigan      </td><td>Michigan      </td><td> 9111         </td><td>4751          </td><td>0.9           </td><td>70.63         </td><td>11.1          </td><td>52.8          </td><td>125           </td><td> 56817        </td></tr>\n",
       "\t<tr><td>North Central </td><td>Minnesota     </td><td>Minnesota     </td><td> 3921         </td><td>4675          </td><td>0.6           </td><td>72.96         </td><td> 2.3          </td><td>57.6          </td><td>160           </td><td> 79289        </td></tr>\n",
       "\t<tr><td>South         </td><td>Mississippi   </td><td>Mississippi   </td><td> 2341         </td><td>3098          </td><td>2.4           </td><td>68.09         </td><td>12.5          </td><td>41.0          </td><td> 50           </td><td> 47296        </td></tr>\n",
       "\t<tr><td>North Central </td><td>Missouri      </td><td>Missouri      </td><td> 4767         </td><td>4254          </td><td>0.8           </td><td>70.69         </td><td> 9.3          </td><td>48.8          </td><td>108           </td><td> 68995        </td></tr>\n",
       "\t<tr><td>West          </td><td>Montana       </td><td>Montana       </td><td>  746         </td><td>4347          </td><td>0.6           </td><td>70.56         </td><td> 5.0          </td><td>59.2          </td><td>155           </td><td>145587        </td></tr>\n",
       "\t<tr><td>North Central </td><td>Nebraska      </td><td>Nebraska      </td><td> 1544         </td><td>4508          </td><td>0.6           </td><td>72.60         </td><td> 2.9          </td><td>59.3          </td><td>139           </td><td> 76483        </td></tr>\n",
       "\t<tr><td>West          </td><td>Nevada        </td><td>Nevada        </td><td>  590         </td><td>5149          </td><td>0.5           </td><td>69.03         </td><td>11.5          </td><td>65.2          </td><td>188           </td><td>109889        </td></tr>\n",
       "\t<tr><td>Northeast     </td><td>New Hampshire </td><td>New Hampshire </td><td>  812         </td><td>4281          </td><td>0.7           </td><td>71.23         </td><td> 3.3          </td><td>57.6          </td><td>174           </td><td>  9027        </td></tr>\n",
       "\t<tr><td>Northeast     </td><td>New Jersey    </td><td>New Jersey    </td><td> 7333         </td><td>5237          </td><td>1.1           </td><td>70.93         </td><td> 5.2          </td><td>52.5          </td><td>115           </td><td>  7521        </td></tr>\n",
       "\t<tr><td>West          </td><td>New Mexico    </td><td>New Mexico    </td><td> 1144         </td><td>3601          </td><td>2.2           </td><td>70.32         </td><td> 9.7          </td><td>55.2          </td><td>120           </td><td>121412        </td></tr>\n",
       "\t<tr><td>Northeast     </td><td>New York      </td><td>New York      </td><td>18076         </td><td>4903          </td><td>1.4           </td><td>70.55         </td><td>10.9          </td><td>52.7          </td><td> 82           </td><td> 47831        </td></tr>\n",
       "\t<tr><td>South         </td><td>North Carolina</td><td>North Carolina</td><td> 5441         </td><td>3875          </td><td>1.8           </td><td>69.21         </td><td>11.1          </td><td>38.5          </td><td> 80           </td><td> 48798        </td></tr>\n",
       "\t<tr><td>North Central </td><td>North Dakota  </td><td>North Dakota  </td><td>  637         </td><td>5087          </td><td>0.8           </td><td>72.78         </td><td> 1.4          </td><td>50.3          </td><td>186           </td><td> 69273        </td></tr>\n",
       "\t<tr><td>North Central </td><td>Ohio          </td><td>Ohio          </td><td>10735         </td><td>4561          </td><td>0.8           </td><td>70.82         </td><td> 7.4          </td><td>53.2          </td><td>124           </td><td> 40975        </td></tr>\n",
       "\t<tr><td>South         </td><td>Oklahoma      </td><td>Oklahoma      </td><td> 2715         </td><td>3983          </td><td>1.1           </td><td>71.42         </td><td> 6.4          </td><td>51.6          </td><td> 82           </td><td> 68782        </td></tr>\n",
       "\t<tr><td>West          </td><td>Oregon        </td><td>Oregon        </td><td> 2284         </td><td>4660          </td><td>0.6           </td><td>72.13         </td><td> 4.2          </td><td>60.0          </td><td> 44           </td><td> 96184        </td></tr>\n",
       "\t<tr><td>Northeast     </td><td>Pennsylvania  </td><td>Pennsylvania  </td><td>11860         </td><td>4449          </td><td>1.0           </td><td>70.43         </td><td> 6.1          </td><td>50.2          </td><td>126           </td><td> 44966        </td></tr>\n",
       "\t<tr><td>Northeast     </td><td>Rhode Island  </td><td>Rhode Island  </td><td>  931         </td><td>4558          </td><td>1.3           </td><td>71.90         </td><td> 2.4          </td><td>46.4          </td><td>127           </td><td>  1049        </td></tr>\n",
       "\t<tr><td>South         </td><td>South Carolina</td><td>South Carolina</td><td> 2816         </td><td>3635          </td><td>2.3           </td><td>67.96         </td><td>11.6          </td><td>37.8          </td><td> 65           </td><td> 30225        </td></tr>\n",
       "\t<tr><td>North Central </td><td>South Dakota  </td><td>South Dakota  </td><td>  681         </td><td>4167          </td><td>0.5           </td><td>72.08         </td><td> 1.7          </td><td>53.3          </td><td>172           </td><td> 75955        </td></tr>\n",
       "\t<tr><td>South         </td><td>Tennessee     </td><td>Tennessee     </td><td> 4173         </td><td>3821          </td><td>1.7           </td><td>70.11         </td><td>11.0          </td><td>41.8          </td><td> 70           </td><td> 41328        </td></tr>\n",
       "\t<tr><td>South         </td><td>Texas         </td><td>Texas         </td><td>12237         </td><td>4188          </td><td>2.2           </td><td>70.90         </td><td>12.2          </td><td>47.4          </td><td> 35           </td><td>262134        </td></tr>\n",
       "\t<tr><td>West          </td><td>Utah          </td><td>Utah          </td><td> 1203         </td><td>4022          </td><td>0.6           </td><td>72.90         </td><td> 4.5          </td><td>67.3          </td><td>137           </td><td> 82096        </td></tr>\n",
       "\t<tr><td>Northeast     </td><td>Vermont       </td><td>Vermont       </td><td>  472         </td><td>3907          </td><td>0.6           </td><td>71.64         </td><td> 5.5          </td><td>57.1          </td><td>168           </td><td>  9267        </td></tr>\n",
       "\t<tr><td>South         </td><td>Virginia      </td><td>Virginia      </td><td> 4981         </td><td>4701          </td><td>1.4           </td><td>70.08         </td><td> 9.5          </td><td>47.8          </td><td> 85           </td><td> 39780        </td></tr>\n",
       "\t<tr><td>West          </td><td>Washington    </td><td>Washington    </td><td> 3559         </td><td>4864          </td><td>0.6           </td><td>71.72         </td><td> 4.3          </td><td>63.5          </td><td> 32           </td><td> 66570        </td></tr>\n",
       "\t<tr><td>South         </td><td>West Virginia </td><td>West Virginia </td><td> 1799         </td><td>3617          </td><td>1.4           </td><td>69.48         </td><td> 6.7          </td><td>41.6          </td><td>100           </td><td> 24070        </td></tr>\n",
       "\t<tr><td>North Central </td><td>Wisconsin     </td><td>Wisconsin     </td><td> 4589         </td><td>4468          </td><td>0.7           </td><td>72.48         </td><td> 3.0          </td><td>54.5          </td><td>149           </td><td> 54464        </td></tr>\n",
       "\t<tr><td>West          </td><td>Wyoming       </td><td>Wyoming       </td><td>  376         </td><td>4566          </td><td>0.6           </td><td>70.29         </td><td> 6.9          </td><td>62.9          </td><td>173           </td><td> 97203        </td></tr>\n",
       "</tbody>\n",
       "</table>\n"
      ],
      "text/latex": [
       "\\begin{tabular}{r|lllllllllll}\n",
       " region & etat & etat & Population & Income & Illiteracy & Life.Exp & Murder & HS.Grad & Frost & Area\\\\\n",
       "\\hline\n",
       "\t South          & Alabama        & Alabama        &  3615          & 3624           & 2.1            & 69.05          & 15.1           & 41.3           &  20            &  50708        \\\\\n",
       "\t West           & Alaska         & Alaska         &   365          & 6315           & 1.5            & 69.31          & 11.3           & 66.7           & 152            & 566432        \\\\\n",
       "\t West           & Arizona        & Arizona        &  2212          & 4530           & 1.8            & 70.55          &  7.8           & 58.1           &  15            & 113417        \\\\\n",
       "\t South          & Arkansas       & Arkansas       &  2110          & 3378           & 1.9            & 70.66          & 10.1           & 39.9           &  65            &  51945        \\\\\n",
       "\t West           & California     & California     & 21198          & 5114           & 1.1            & 71.71          & 10.3           & 62.6           &  20            & 156361        \\\\\n",
       "\t West           & Colorado       & Colorado       &  2541          & 4884           & 0.7            & 72.06          &  6.8           & 63.9           & 166            & 103766        \\\\\n",
       "\t Northeast      & Connecticut    & Connecticut    &  3100          & 5348           & 1.1            & 72.48          &  3.1           & 56.0           & 139            &   4862        \\\\\n",
       "\t South          & Delaware       & Delaware       &   579          & 4809           & 0.9            & 70.06          &  6.2           & 54.6           & 103            &   1982        \\\\\n",
       "\t South          & Florida        & Florida        &  8277          & 4815           & 1.3            & 70.66          & 10.7           & 52.6           &  11            &  54090        \\\\\n",
       "\t South          & Georgia        & Georgia        &  4931          & 4091           & 2.0            & 68.54          & 13.9           & 40.6           &  60            &  58073        \\\\\n",
       "\t West           & Hawaii         & Hawaii         &   868          & 4963           & 1.9            & 73.60          &  6.2           & 61.9           &   0            &   6425        \\\\\n",
       "\t West           & Idaho          & Idaho          &   813          & 4119           & 0.6            & 71.87          &  5.3           & 59.5           & 126            &  82677        \\\\\n",
       "\t North Central  & Illinois       & Illinois       & 11197          & 5107           & 0.9            & 70.14          & 10.3           & 52.6           & 127            &  55748        \\\\\n",
       "\t North Central  & Indiana        & Indiana        &  5313          & 4458           & 0.7            & 70.88          &  7.1           & 52.9           & 122            &  36097        \\\\\n",
       "\t North Central  & Iowa           & Iowa           &  2861          & 4628           & 0.5            & 72.56          &  2.3           & 59.0           & 140            &  55941        \\\\\n",
       "\t North Central  & Kansas         & Kansas         &  2280          & 4669           & 0.6            & 72.58          &  4.5           & 59.9           & 114            &  81787        \\\\\n",
       "\t South          & Kentucky       & Kentucky       &  3387          & 3712           & 1.6            & 70.10          & 10.6           & 38.5           &  95            &  39650        \\\\\n",
       "\t South          & Louisiana      & Louisiana      &  3806          & 3545           & 2.8            & 68.76          & 13.2           & 42.2           &  12            &  44930        \\\\\n",
       "\t Northeast      & Maine          & Maine          &  1058          & 3694           & 0.7            & 70.39          &  2.7           & 54.7           & 161            &  30920        \\\\\n",
       "\t South          & Maryland       & Maryland       &  4122          & 5299           & 0.9            & 70.22          &  8.5           & 52.3           & 101            &   9891        \\\\\n",
       "\t Northeast      & Massachusetts  & Massachusetts  &  5814          & 4755           & 1.1            & 71.83          &  3.3           & 58.5           & 103            &   7826        \\\\\n",
       "\t North Central  & Michigan       & Michigan       &  9111          & 4751           & 0.9            & 70.63          & 11.1           & 52.8           & 125            &  56817        \\\\\n",
       "\t North Central  & Minnesota      & Minnesota      &  3921          & 4675           & 0.6            & 72.96          &  2.3           & 57.6           & 160            &  79289        \\\\\n",
       "\t South          & Mississippi    & Mississippi    &  2341          & 3098           & 2.4            & 68.09          & 12.5           & 41.0           &  50            &  47296        \\\\\n",
       "\t North Central  & Missouri       & Missouri       &  4767          & 4254           & 0.8            & 70.69          &  9.3           & 48.8           & 108            &  68995        \\\\\n",
       "\t West           & Montana        & Montana        &   746          & 4347           & 0.6            & 70.56          &  5.0           & 59.2           & 155            & 145587        \\\\\n",
       "\t North Central  & Nebraska       & Nebraska       &  1544          & 4508           & 0.6            & 72.60          &  2.9           & 59.3           & 139            &  76483        \\\\\n",
       "\t West           & Nevada         & Nevada         &   590          & 5149           & 0.5            & 69.03          & 11.5           & 65.2           & 188            & 109889        \\\\\n",
       "\t Northeast      & New Hampshire  & New Hampshire  &   812          & 4281           & 0.7            & 71.23          &  3.3           & 57.6           & 174            &   9027        \\\\\n",
       "\t Northeast      & New Jersey     & New Jersey     &  7333          & 5237           & 1.1            & 70.93          &  5.2           & 52.5           & 115            &   7521        \\\\\n",
       "\t West           & New Mexico     & New Mexico     &  1144          & 3601           & 2.2            & 70.32          &  9.7           & 55.2           & 120            & 121412        \\\\\n",
       "\t Northeast      & New York       & New York       & 18076          & 4903           & 1.4            & 70.55          & 10.9           & 52.7           &  82            &  47831        \\\\\n",
       "\t South          & North Carolina & North Carolina &  5441          & 3875           & 1.8            & 69.21          & 11.1           & 38.5           &  80            &  48798        \\\\\n",
       "\t North Central  & North Dakota   & North Dakota   &   637          & 5087           & 0.8            & 72.78          &  1.4           & 50.3           & 186            &  69273        \\\\\n",
       "\t North Central  & Ohio           & Ohio           & 10735          & 4561           & 0.8            & 70.82          &  7.4           & 53.2           & 124            &  40975        \\\\\n",
       "\t South          & Oklahoma       & Oklahoma       &  2715          & 3983           & 1.1            & 71.42          &  6.4           & 51.6           &  82            &  68782        \\\\\n",
       "\t West           & Oregon         & Oregon         &  2284          & 4660           & 0.6            & 72.13          &  4.2           & 60.0           &  44            &  96184        \\\\\n",
       "\t Northeast      & Pennsylvania   & Pennsylvania   & 11860          & 4449           & 1.0            & 70.43          &  6.1           & 50.2           & 126            &  44966        \\\\\n",
       "\t Northeast      & Rhode Island   & Rhode Island   &   931          & 4558           & 1.3            & 71.90          &  2.4           & 46.4           & 127            &   1049        \\\\\n",
       "\t South          & South Carolina & South Carolina &  2816          & 3635           & 2.3            & 67.96          & 11.6           & 37.8           &  65            &  30225        \\\\\n",
       "\t North Central  & South Dakota   & South Dakota   &   681          & 4167           & 0.5            & 72.08          &  1.7           & 53.3           & 172            &  75955        \\\\\n",
       "\t South          & Tennessee      & Tennessee      &  4173          & 3821           & 1.7            & 70.11          & 11.0           & 41.8           &  70            &  41328        \\\\\n",
       "\t South          & Texas          & Texas          & 12237          & 4188           & 2.2            & 70.90          & 12.2           & 47.4           &  35            & 262134        \\\\\n",
       "\t West           & Utah           & Utah           &  1203          & 4022           & 0.6            & 72.90          &  4.5           & 67.3           & 137            &  82096        \\\\\n",
       "\t Northeast      & Vermont        & Vermont        &   472          & 3907           & 0.6            & 71.64          &  5.5           & 57.1           & 168            &   9267        \\\\\n",
       "\t South          & Virginia       & Virginia       &  4981          & 4701           & 1.4            & 70.08          &  9.5           & 47.8           &  85            &  39780        \\\\\n",
       "\t West           & Washington     & Washington     &  3559          & 4864           & 0.6            & 71.72          &  4.3           & 63.5           &  32            &  66570        \\\\\n",
       "\t South          & West Virginia  & West Virginia  &  1799          & 3617           & 1.4            & 69.48          &  6.7           & 41.6           & 100            &  24070        \\\\\n",
       "\t North Central  & Wisconsin      & Wisconsin      &  4589          & 4468           & 0.7            & 72.48          &  3.0           & 54.5           & 149            &  54464        \\\\\n",
       "\t West           & Wyoming        & Wyoming        &   376          & 4566           & 0.6            & 70.29          &  6.9           & 62.9           & 173            &  97203        \\\\\n",
       "\\end{tabular}\n"
      ],
      "text/markdown": [
       "\n",
       "| region | etat | etat | Population | Income | Illiteracy | Life.Exp | Murder | HS.Grad | Frost | Area |\n",
       "|---|---|---|---|---|---|---|---|---|---|---|\n",
       "| South          | Alabama        | Alabama        |  3615          | 3624           | 2.1            | 69.05          | 15.1           | 41.3           |  20            |  50708         |\n",
       "| West           | Alaska         | Alaska         |   365          | 6315           | 1.5            | 69.31          | 11.3           | 66.7           | 152            | 566432         |\n",
       "| West           | Arizona        | Arizona        |  2212          | 4530           | 1.8            | 70.55          |  7.8           | 58.1           |  15            | 113417         |\n",
       "| South          | Arkansas       | Arkansas       |  2110          | 3378           | 1.9            | 70.66          | 10.1           | 39.9           |  65            |  51945         |\n",
       "| West           | California     | California     | 21198          | 5114           | 1.1            | 71.71          | 10.3           | 62.6           |  20            | 156361         |\n",
       "| West           | Colorado       | Colorado       |  2541          | 4884           | 0.7            | 72.06          |  6.8           | 63.9           | 166            | 103766         |\n",
       "| Northeast      | Connecticut    | Connecticut    |  3100          | 5348           | 1.1            | 72.48          |  3.1           | 56.0           | 139            |   4862         |\n",
       "| South          | Delaware       | Delaware       |   579          | 4809           | 0.9            | 70.06          |  6.2           | 54.6           | 103            |   1982         |\n",
       "| South          | Florida        | Florida        |  8277          | 4815           | 1.3            | 70.66          | 10.7           | 52.6           |  11            |  54090         |\n",
       "| South          | Georgia        | Georgia        |  4931          | 4091           | 2.0            | 68.54          | 13.9           | 40.6           |  60            |  58073         |\n",
       "| West           | Hawaii         | Hawaii         |   868          | 4963           | 1.9            | 73.60          |  6.2           | 61.9           |   0            |   6425         |\n",
       "| West           | Idaho          | Idaho          |   813          | 4119           | 0.6            | 71.87          |  5.3           | 59.5           | 126            |  82677         |\n",
       "| North Central  | Illinois       | Illinois       | 11197          | 5107           | 0.9            | 70.14          | 10.3           | 52.6           | 127            |  55748         |\n",
       "| North Central  | Indiana        | Indiana        |  5313          | 4458           | 0.7            | 70.88          |  7.1           | 52.9           | 122            |  36097         |\n",
       "| North Central  | Iowa           | Iowa           |  2861          | 4628           | 0.5            | 72.56          |  2.3           | 59.0           | 140            |  55941         |\n",
       "| North Central  | Kansas         | Kansas         |  2280          | 4669           | 0.6            | 72.58          |  4.5           | 59.9           | 114            |  81787         |\n",
       "| South          | Kentucky       | Kentucky       |  3387          | 3712           | 1.6            | 70.10          | 10.6           | 38.5           |  95            |  39650         |\n",
       "| South          | Louisiana      | Louisiana      |  3806          | 3545           | 2.8            | 68.76          | 13.2           | 42.2           |  12            |  44930         |\n",
       "| Northeast      | Maine          | Maine          |  1058          | 3694           | 0.7            | 70.39          |  2.7           | 54.7           | 161            |  30920         |\n",
       "| South          | Maryland       | Maryland       |  4122          | 5299           | 0.9            | 70.22          |  8.5           | 52.3           | 101            |   9891         |\n",
       "| Northeast      | Massachusetts  | Massachusetts  |  5814          | 4755           | 1.1            | 71.83          |  3.3           | 58.5           | 103            |   7826         |\n",
       "| North Central  | Michigan       | Michigan       |  9111          | 4751           | 0.9            | 70.63          | 11.1           | 52.8           | 125            |  56817         |\n",
       "| North Central  | Minnesota      | Minnesota      |  3921          | 4675           | 0.6            | 72.96          |  2.3           | 57.6           | 160            |  79289         |\n",
       "| South          | Mississippi    | Mississippi    |  2341          | 3098           | 2.4            | 68.09          | 12.5           | 41.0           |  50            |  47296         |\n",
       "| North Central  | Missouri       | Missouri       |  4767          | 4254           | 0.8            | 70.69          |  9.3           | 48.8           | 108            |  68995         |\n",
       "| West           | Montana        | Montana        |   746          | 4347           | 0.6            | 70.56          |  5.0           | 59.2           | 155            | 145587         |\n",
       "| North Central  | Nebraska       | Nebraska       |  1544          | 4508           | 0.6            | 72.60          |  2.9           | 59.3           | 139            |  76483         |\n",
       "| West           | Nevada         | Nevada         |   590          | 5149           | 0.5            | 69.03          | 11.5           | 65.2           | 188            | 109889         |\n",
       "| Northeast      | New Hampshire  | New Hampshire  |   812          | 4281           | 0.7            | 71.23          |  3.3           | 57.6           | 174            |   9027         |\n",
       "| Northeast      | New Jersey     | New Jersey     |  7333          | 5237           | 1.1            | 70.93          |  5.2           | 52.5           | 115            |   7521         |\n",
       "| West           | New Mexico     | New Mexico     |  1144          | 3601           | 2.2            | 70.32          |  9.7           | 55.2           | 120            | 121412         |\n",
       "| Northeast      | New York       | New York       | 18076          | 4903           | 1.4            | 70.55          | 10.9           | 52.7           |  82            |  47831         |\n",
       "| South          | North Carolina | North Carolina |  5441          | 3875           | 1.8            | 69.21          | 11.1           | 38.5           |  80            |  48798         |\n",
       "| North Central  | North Dakota   | North Dakota   |   637          | 5087           | 0.8            | 72.78          |  1.4           | 50.3           | 186            |  69273         |\n",
       "| North Central  | Ohio           | Ohio           | 10735          | 4561           | 0.8            | 70.82          |  7.4           | 53.2           | 124            |  40975         |\n",
       "| South          | Oklahoma       | Oklahoma       |  2715          | 3983           | 1.1            | 71.42          |  6.4           | 51.6           |  82            |  68782         |\n",
       "| West           | Oregon         | Oregon         |  2284          | 4660           | 0.6            | 72.13          |  4.2           | 60.0           |  44            |  96184         |\n",
       "| Northeast      | Pennsylvania   | Pennsylvania   | 11860          | 4449           | 1.0            | 70.43          |  6.1           | 50.2           | 126            |  44966         |\n",
       "| Northeast      | Rhode Island   | Rhode Island   |   931          | 4558           | 1.3            | 71.90          |  2.4           | 46.4           | 127            |   1049         |\n",
       "| South          | South Carolina | South Carolina |  2816          | 3635           | 2.3            | 67.96          | 11.6           | 37.8           |  65            |  30225         |\n",
       "| North Central  | South Dakota   | South Dakota   |   681          | 4167           | 0.5            | 72.08          |  1.7           | 53.3           | 172            |  75955         |\n",
       "| South          | Tennessee      | Tennessee      |  4173          | 3821           | 1.7            | 70.11          | 11.0           | 41.8           |  70            |  41328         |\n",
       "| South          | Texas          | Texas          | 12237          | 4188           | 2.2            | 70.90          | 12.2           | 47.4           |  35            | 262134         |\n",
       "| West           | Utah           | Utah           |  1203          | 4022           | 0.6            | 72.90          |  4.5           | 67.3           | 137            |  82096         |\n",
       "| Northeast      | Vermont        | Vermont        |   472          | 3907           | 0.6            | 71.64          |  5.5           | 57.1           | 168            |   9267         |\n",
       "| South          | Virginia       | Virginia       |  4981          | 4701           | 1.4            | 70.08          |  9.5           | 47.8           |  85            |  39780         |\n",
       "| West           | Washington     | Washington     |  3559          | 4864           | 0.6            | 71.72          |  4.3           | 63.5           |  32            |  66570         |\n",
       "| South          | West Virginia  | West Virginia  |  1799          | 3617           | 1.4            | 69.48          |  6.7           | 41.6           | 100            |  24070         |\n",
       "| North Central  | Wisconsin      | Wisconsin      |  4589          | 4468           | 0.7            | 72.48          |  3.0           | 54.5           | 149            |  54464         |\n",
       "| West           | Wyoming        | Wyoming        |   376          | 4566           | 0.6            | 70.29          |  6.9           | 62.9           | 173            |  97203         |\n",
       "\n"
      ],
      "text/plain": [
       "   region        etat           etat           Population Income Illiteracy\n",
       "1  South         Alabama        Alabama         3615      3624   2.1       \n",
       "2  West          Alaska         Alaska           365      6315   1.5       \n",
       "3  West          Arizona        Arizona         2212      4530   1.8       \n",
       "4  South         Arkansas       Arkansas        2110      3378   1.9       \n",
       "5  West          California     California     21198      5114   1.1       \n",
       "6  West          Colorado       Colorado        2541      4884   0.7       \n",
       "7  Northeast     Connecticut    Connecticut     3100      5348   1.1       \n",
       "8  South         Delaware       Delaware         579      4809   0.9       \n",
       "9  South         Florida        Florida         8277      4815   1.3       \n",
       "10 South         Georgia        Georgia         4931      4091   2.0       \n",
       "11 West          Hawaii         Hawaii           868      4963   1.9       \n",
       "12 West          Idaho          Idaho            813      4119   0.6       \n",
       "13 North Central Illinois       Illinois       11197      5107   0.9       \n",
       "14 North Central Indiana        Indiana         5313      4458   0.7       \n",
       "15 North Central Iowa           Iowa            2861      4628   0.5       \n",
       "16 North Central Kansas         Kansas          2280      4669   0.6       \n",
       "17 South         Kentucky       Kentucky        3387      3712   1.6       \n",
       "18 South         Louisiana      Louisiana       3806      3545   2.8       \n",
       "19 Northeast     Maine          Maine           1058      3694   0.7       \n",
       "20 South         Maryland       Maryland        4122      5299   0.9       \n",
       "21 Northeast     Massachusetts  Massachusetts   5814      4755   1.1       \n",
       "22 North Central Michigan       Michigan        9111      4751   0.9       \n",
       "23 North Central Minnesota      Minnesota       3921      4675   0.6       \n",
       "24 South         Mississippi    Mississippi     2341      3098   2.4       \n",
       "25 North Central Missouri       Missouri        4767      4254   0.8       \n",
       "26 West          Montana        Montana          746      4347   0.6       \n",
       "27 North Central Nebraska       Nebraska        1544      4508   0.6       \n",
       "28 West          Nevada         Nevada           590      5149   0.5       \n",
       "29 Northeast     New Hampshire  New Hampshire    812      4281   0.7       \n",
       "30 Northeast     New Jersey     New Jersey      7333      5237   1.1       \n",
       "31 West          New Mexico     New Mexico      1144      3601   2.2       \n",
       "32 Northeast     New York       New York       18076      4903   1.4       \n",
       "33 South         North Carolina North Carolina  5441      3875   1.8       \n",
       "34 North Central North Dakota   North Dakota     637      5087   0.8       \n",
       "35 North Central Ohio           Ohio           10735      4561   0.8       \n",
       "36 South         Oklahoma       Oklahoma        2715      3983   1.1       \n",
       "37 West          Oregon         Oregon          2284      4660   0.6       \n",
       "38 Northeast     Pennsylvania   Pennsylvania   11860      4449   1.0       \n",
       "39 Northeast     Rhode Island   Rhode Island     931      4558   1.3       \n",
       "40 South         South Carolina South Carolina  2816      3635   2.3       \n",
       "41 North Central South Dakota   South Dakota     681      4167   0.5       \n",
       "42 South         Tennessee      Tennessee       4173      3821   1.7       \n",
       "43 South         Texas          Texas          12237      4188   2.2       \n",
       "44 West          Utah           Utah            1203      4022   0.6       \n",
       "45 Northeast     Vermont        Vermont          472      3907   0.6       \n",
       "46 South         Virginia       Virginia        4981      4701   1.4       \n",
       "47 West          Washington     Washington      3559      4864   0.6       \n",
       "48 South         West Virginia  West Virginia   1799      3617   1.4       \n",
       "49 North Central Wisconsin      Wisconsin       4589      4468   0.7       \n",
       "50 West          Wyoming        Wyoming          376      4566   0.6       \n",
       "   Life.Exp Murder HS.Grad Frost Area  \n",
       "1  69.05    15.1   41.3     20    50708\n",
       "2  69.31    11.3   66.7    152   566432\n",
       "3  70.55     7.8   58.1     15   113417\n",
       "4  70.66    10.1   39.9     65    51945\n",
       "5  71.71    10.3   62.6     20   156361\n",
       "6  72.06     6.8   63.9    166   103766\n",
       "7  72.48     3.1   56.0    139     4862\n",
       "8  70.06     6.2   54.6    103     1982\n",
       "9  70.66    10.7   52.6     11    54090\n",
       "10 68.54    13.9   40.6     60    58073\n",
       "11 73.60     6.2   61.9      0     6425\n",
       "12 71.87     5.3   59.5    126    82677\n",
       "13 70.14    10.3   52.6    127    55748\n",
       "14 70.88     7.1   52.9    122    36097\n",
       "15 72.56     2.3   59.0    140    55941\n",
       "16 72.58     4.5   59.9    114    81787\n",
       "17 70.10    10.6   38.5     95    39650\n",
       "18 68.76    13.2   42.2     12    44930\n",
       "19 70.39     2.7   54.7    161    30920\n",
       "20 70.22     8.5   52.3    101     9891\n",
       "21 71.83     3.3   58.5    103     7826\n",
       "22 70.63    11.1   52.8    125    56817\n",
       "23 72.96     2.3   57.6    160    79289\n",
       "24 68.09    12.5   41.0     50    47296\n",
       "25 70.69     9.3   48.8    108    68995\n",
       "26 70.56     5.0   59.2    155   145587\n",
       "27 72.60     2.9   59.3    139    76483\n",
       "28 69.03    11.5   65.2    188   109889\n",
       "29 71.23     3.3   57.6    174     9027\n",
       "30 70.93     5.2   52.5    115     7521\n",
       "31 70.32     9.7   55.2    120   121412\n",
       "32 70.55    10.9   52.7     82    47831\n",
       "33 69.21    11.1   38.5     80    48798\n",
       "34 72.78     1.4   50.3    186    69273\n",
       "35 70.82     7.4   53.2    124    40975\n",
       "36 71.42     6.4   51.6     82    68782\n",
       "37 72.13     4.2   60.0     44    96184\n",
       "38 70.43     6.1   50.2    126    44966\n",
       "39 71.90     2.4   46.4    127     1049\n",
       "40 67.96    11.6   37.8     65    30225\n",
       "41 72.08     1.7   53.3    172    75955\n",
       "42 70.11    11.0   41.8     70    41328\n",
       "43 70.90    12.2   47.4     35   262134\n",
       "44 72.90     4.5   67.3    137    82096\n",
       "45 71.64     5.5   57.1    168     9267\n",
       "46 70.08     9.5   47.8     85    39780\n",
       "47 71.72     4.3   63.5     32    66570\n",
       "48 69.48     6.7   41.6    100    24070\n",
       "49 72.48     3.0   54.5    149    54464\n",
       "50 70.29     6.9   62.9    173    97203"
      ]
     },
     "metadata": {},
     "output_type": "display_data"
    }
   ],
   "source": [
    "cbind(etat1, etat2)"
   ]
  },
  {
   "cell_type": "markdown",
   "metadata": {
    "lines_to_next_cell": 0
   },
   "source": [
    "Fusion avec __merge()__."
   ]
  },
  {
   "cell_type": "code",
   "execution_count": 32,
   "metadata": {},
   "outputs": [],
   "source": [
    "etat <- merge(etat1, etat2) #  ,by = \"etat\""
   ]
  },
  {
   "cell_type": "markdown",
   "metadata": {
    "lines_to_next_cell": 0
   },
   "source": [
    "__merge()__ est plus approprié en fusionnant les données de mêmes individus.<br>\n",
    "Que se passe-t-il si les individus diffèrent entre les 2 jeux de données ?"
   ]
  },
  {
   "cell_type": "code",
   "execution_count": 33,
   "metadata": {
    "lines_to_next_cell": 0
   },
   "outputs": [
    {
     "data": {
      "text/html": [
       "<table>\n",
       "<thead><tr><th scope=col>etat</th><th scope=col>region</th><th scope=col>Population</th><th scope=col>Income</th><th scope=col>Illiteracy</th><th scope=col>Life.Exp</th><th scope=col>Murder</th><th scope=col>HS.Grad</th><th scope=col>Frost</th><th scope=col>Area</th></tr></thead>\n",
       "<tbody>\n",
       "\t<tr><td>Alaska        </td><td>West          </td><td>  365         </td><td>6315          </td><td>1.5           </td><td>69.31         </td><td>11.3          </td><td>66.7          </td><td>152           </td><td>566432        </td></tr>\n",
       "\t<tr><td>Arizona       </td><td>West          </td><td> 2212         </td><td>4530          </td><td>1.8           </td><td>70.55         </td><td> 7.8          </td><td>58.1          </td><td> 15           </td><td>113417        </td></tr>\n",
       "\t<tr><td>Arkansas      </td><td>South         </td><td> 2110         </td><td>3378          </td><td>1.9           </td><td>70.66         </td><td>10.1          </td><td>39.9          </td><td> 65           </td><td> 51945        </td></tr>\n",
       "\t<tr><td>California    </td><td>West          </td><td>21198         </td><td>5114          </td><td>1.1           </td><td>71.71         </td><td>10.3          </td><td>62.6          </td><td> 20           </td><td>156361        </td></tr>\n",
       "\t<tr><td>Colorado      </td><td>West          </td><td> 2541         </td><td>4884          </td><td>0.7           </td><td>72.06         </td><td> 6.8          </td><td>63.9          </td><td>166           </td><td>103766        </td></tr>\n",
       "\t<tr><td>Connecticut   </td><td>Northeast     </td><td> 3100         </td><td>5348          </td><td>1.1           </td><td>72.48         </td><td> 3.1          </td><td>56.0          </td><td>139           </td><td>  4862        </td></tr>\n",
       "\t<tr><td>Delaware      </td><td>South         </td><td>  579         </td><td>4809          </td><td>0.9           </td><td>70.06         </td><td> 6.2          </td><td>54.6          </td><td>103           </td><td>  1982        </td></tr>\n",
       "\t<tr><td>Florida       </td><td>South         </td><td> 8277         </td><td>4815          </td><td>1.3           </td><td>70.66         </td><td>10.7          </td><td>52.6          </td><td> 11           </td><td> 54090        </td></tr>\n",
       "\t<tr><td>Georgia       </td><td>South         </td><td> 4931         </td><td>4091          </td><td>2.0           </td><td>68.54         </td><td>13.9          </td><td>40.6          </td><td> 60           </td><td> 58073        </td></tr>\n",
       "\t<tr><td>Hawaii        </td><td>West          </td><td>  868         </td><td>4963          </td><td>1.9           </td><td>73.60         </td><td> 6.2          </td><td>61.9          </td><td>  0           </td><td>  6425        </td></tr>\n",
       "\t<tr><td>Idaho         </td><td>West          </td><td>  813         </td><td>4119          </td><td>0.6           </td><td>71.87         </td><td> 5.3          </td><td>59.5          </td><td>126           </td><td> 82677        </td></tr>\n",
       "\t<tr><td>Illinois      </td><td>North Central </td><td>11197         </td><td>5107          </td><td>0.9           </td><td>70.14         </td><td>10.3          </td><td>52.6          </td><td>127           </td><td> 55748        </td></tr>\n",
       "\t<tr><td>Indiana       </td><td>North Central </td><td> 5313         </td><td>4458          </td><td>0.7           </td><td>70.88         </td><td> 7.1          </td><td>52.9          </td><td>122           </td><td> 36097        </td></tr>\n",
       "\t<tr><td>Iowa          </td><td>North Central </td><td> 2861         </td><td>4628          </td><td>0.5           </td><td>72.56         </td><td> 2.3          </td><td>59.0          </td><td>140           </td><td> 55941        </td></tr>\n",
       "\t<tr><td>Kansas        </td><td>North Central </td><td> 2280         </td><td>4669          </td><td>0.6           </td><td>72.58         </td><td> 4.5          </td><td>59.9          </td><td>114           </td><td> 81787        </td></tr>\n",
       "\t<tr><td>Kentucky      </td><td>South         </td><td> 3387         </td><td>3712          </td><td>1.6           </td><td>70.10         </td><td>10.6          </td><td>38.5          </td><td> 95           </td><td> 39650        </td></tr>\n",
       "\t<tr><td>Louisiana     </td><td>South         </td><td> 3806         </td><td>3545          </td><td>2.8           </td><td>68.76         </td><td>13.2          </td><td>42.2          </td><td> 12           </td><td> 44930        </td></tr>\n",
       "\t<tr><td>Maine         </td><td>Northeast     </td><td> 1058         </td><td>3694          </td><td>0.7           </td><td>70.39         </td><td> 2.7          </td><td>54.7          </td><td>161           </td><td> 30920        </td></tr>\n",
       "\t<tr><td>Maryland      </td><td>South         </td><td> 4122         </td><td>5299          </td><td>0.9           </td><td>70.22         </td><td> 8.5          </td><td>52.3          </td><td>101           </td><td>  9891        </td></tr>\n",
       "\t<tr><td>Massachusetts </td><td>Northeast     </td><td> 5814         </td><td>4755          </td><td>1.1           </td><td>71.83         </td><td> 3.3          </td><td>58.5          </td><td>103           </td><td>  7826        </td></tr>\n",
       "\t<tr><td>Michigan      </td><td>North Central </td><td> 9111         </td><td>4751          </td><td>0.9           </td><td>70.63         </td><td>11.1          </td><td>52.8          </td><td>125           </td><td> 56817        </td></tr>\n",
       "\t<tr><td>Minnesota     </td><td>North Central </td><td> 3921         </td><td>4675          </td><td>0.6           </td><td>72.96         </td><td> 2.3          </td><td>57.6          </td><td>160           </td><td> 79289        </td></tr>\n",
       "\t<tr><td>Mississippi   </td><td>South         </td><td> 2341         </td><td>3098          </td><td>2.4           </td><td>68.09         </td><td>12.5          </td><td>41.0          </td><td> 50           </td><td> 47296        </td></tr>\n",
       "\t<tr><td>Missouri      </td><td>North Central </td><td> 4767         </td><td>4254          </td><td>0.8           </td><td>70.69         </td><td> 9.3          </td><td>48.8          </td><td>108           </td><td> 68995        </td></tr>\n",
       "\t<tr><td>Montana       </td><td>West          </td><td>  746         </td><td>4347          </td><td>0.6           </td><td>70.56         </td><td> 5.0          </td><td>59.2          </td><td>155           </td><td>145587        </td></tr>\n",
       "\t<tr><td>Nebraska      </td><td>North Central </td><td> 1544         </td><td>4508          </td><td>0.6           </td><td>72.60         </td><td> 2.9          </td><td>59.3          </td><td>139           </td><td> 76483        </td></tr>\n",
       "\t<tr><td>Nevada        </td><td>West          </td><td>  590         </td><td>5149          </td><td>0.5           </td><td>69.03         </td><td>11.5          </td><td>65.2          </td><td>188           </td><td>109889        </td></tr>\n",
       "\t<tr><td>New Hampshire </td><td>Northeast     </td><td>  812         </td><td>4281          </td><td>0.7           </td><td>71.23         </td><td> 3.3          </td><td>57.6          </td><td>174           </td><td>  9027        </td></tr>\n",
       "\t<tr><td>New Jersey    </td><td>Northeast     </td><td> 7333         </td><td>5237          </td><td>1.1           </td><td>70.93         </td><td> 5.2          </td><td>52.5          </td><td>115           </td><td>  7521        </td></tr>\n",
       "\t<tr><td>New Mexico    </td><td>West          </td><td> 1144         </td><td>3601          </td><td>2.2           </td><td>70.32         </td><td> 9.7          </td><td>55.2          </td><td>120           </td><td>121412        </td></tr>\n",
       "\t<tr><td>New York      </td><td>Northeast     </td><td>18076         </td><td>4903          </td><td>1.4           </td><td>70.55         </td><td>10.9          </td><td>52.7          </td><td> 82           </td><td> 47831        </td></tr>\n",
       "\t<tr><td>North Carolina</td><td>South         </td><td> 5441         </td><td>3875          </td><td>1.8           </td><td>69.21         </td><td>11.1          </td><td>38.5          </td><td> 80           </td><td> 48798        </td></tr>\n",
       "\t<tr><td>North Dakota  </td><td>North Central </td><td>  637         </td><td>5087          </td><td>0.8           </td><td>72.78         </td><td> 1.4          </td><td>50.3          </td><td>186           </td><td> 69273        </td></tr>\n",
       "\t<tr><td>Ohio          </td><td>North Central </td><td>10735         </td><td>4561          </td><td>0.8           </td><td>70.82         </td><td> 7.4          </td><td>53.2          </td><td>124           </td><td> 40975        </td></tr>\n",
       "\t<tr><td>Oklahoma      </td><td>South         </td><td> 2715         </td><td>3983          </td><td>1.1           </td><td>71.42         </td><td> 6.4          </td><td>51.6          </td><td> 82           </td><td> 68782        </td></tr>\n",
       "\t<tr><td>Oregon        </td><td>West          </td><td> 2284         </td><td>4660          </td><td>0.6           </td><td>72.13         </td><td> 4.2          </td><td>60.0          </td><td> 44           </td><td> 96184        </td></tr>\n",
       "\t<tr><td>Pennsylvania  </td><td>Northeast     </td><td>11860         </td><td>4449          </td><td>1.0           </td><td>70.43         </td><td> 6.1          </td><td>50.2          </td><td>126           </td><td> 44966        </td></tr>\n",
       "\t<tr><td>Rhode Island  </td><td>Northeast     </td><td>  931         </td><td>4558          </td><td>1.3           </td><td>71.90         </td><td> 2.4          </td><td>46.4          </td><td>127           </td><td>  1049        </td></tr>\n",
       "\t<tr><td>South Carolina</td><td>South         </td><td> 2816         </td><td>3635          </td><td>2.3           </td><td>67.96         </td><td>11.6          </td><td>37.8          </td><td> 65           </td><td> 30225        </td></tr>\n",
       "\t<tr><td>South Dakota  </td><td>North Central </td><td>  681         </td><td>4167          </td><td>0.5           </td><td>72.08         </td><td> 1.7          </td><td>53.3          </td><td>172           </td><td> 75955        </td></tr>\n",
       "\t<tr><td>Tennessee     </td><td>South         </td><td> 4173         </td><td>3821          </td><td>1.7           </td><td>70.11         </td><td>11.0          </td><td>41.8          </td><td> 70           </td><td> 41328        </td></tr>\n",
       "\t<tr><td>Texas         </td><td>South         </td><td>12237         </td><td>4188          </td><td>2.2           </td><td>70.90         </td><td>12.2          </td><td>47.4          </td><td> 35           </td><td>262134        </td></tr>\n",
       "\t<tr><td>Utah          </td><td>West          </td><td> 1203         </td><td>4022          </td><td>0.6           </td><td>72.90         </td><td> 4.5          </td><td>67.3          </td><td>137           </td><td> 82096        </td></tr>\n",
       "\t<tr><td>Vermont       </td><td>Northeast     </td><td>  472         </td><td>3907          </td><td>0.6           </td><td>71.64         </td><td> 5.5          </td><td>57.1          </td><td>168           </td><td>  9267        </td></tr>\n",
       "\t<tr><td>Virginia      </td><td>South         </td><td> 4981         </td><td>4701          </td><td>1.4           </td><td>70.08         </td><td> 9.5          </td><td>47.8          </td><td> 85           </td><td> 39780        </td></tr>\n",
       "\t<tr><td>Washington    </td><td>West          </td><td> 3559         </td><td>4864          </td><td>0.6           </td><td>71.72         </td><td> 4.3          </td><td>63.5          </td><td> 32           </td><td> 66570        </td></tr>\n",
       "\t<tr><td>West Virginia </td><td>South         </td><td> 1799         </td><td>3617          </td><td>1.4           </td><td>69.48         </td><td> 6.7          </td><td>41.6          </td><td>100           </td><td> 24070        </td></tr>\n",
       "\t<tr><td>Wisconsin     </td><td>North Central </td><td> 4589         </td><td>4468          </td><td>0.7           </td><td>72.48         </td><td> 3.0          </td><td>54.5          </td><td>149           </td><td> 54464        </td></tr>\n",
       "\t<tr><td>Wyoming       </td><td>West          </td><td>  376         </td><td>4566          </td><td>0.6           </td><td>70.29         </td><td> 6.9          </td><td>62.9          </td><td>173           </td><td> 97203        </td></tr>\n",
       "</tbody>\n",
       "</table>\n"
      ],
      "text/latex": [
       "\\begin{tabular}{r|llllllllll}\n",
       " etat & region & Population & Income & Illiteracy & Life.Exp & Murder & HS.Grad & Frost & Area\\\\\n",
       "\\hline\n",
       "\t Alaska         & West           &   365          & 6315           & 1.5            & 69.31          & 11.3           & 66.7           & 152            & 566432        \\\\\n",
       "\t Arizona        & West           &  2212          & 4530           & 1.8            & 70.55          &  7.8           & 58.1           &  15            & 113417        \\\\\n",
       "\t Arkansas       & South          &  2110          & 3378           & 1.9            & 70.66          & 10.1           & 39.9           &  65            &  51945        \\\\\n",
       "\t California     & West           & 21198          & 5114           & 1.1            & 71.71          & 10.3           & 62.6           &  20            & 156361        \\\\\n",
       "\t Colorado       & West           &  2541          & 4884           & 0.7            & 72.06          &  6.8           & 63.9           & 166            & 103766        \\\\\n",
       "\t Connecticut    & Northeast      &  3100          & 5348           & 1.1            & 72.48          &  3.1           & 56.0           & 139            &   4862        \\\\\n",
       "\t Delaware       & South          &   579          & 4809           & 0.9            & 70.06          &  6.2           & 54.6           & 103            &   1982        \\\\\n",
       "\t Florida        & South          &  8277          & 4815           & 1.3            & 70.66          & 10.7           & 52.6           &  11            &  54090        \\\\\n",
       "\t Georgia        & South          &  4931          & 4091           & 2.0            & 68.54          & 13.9           & 40.6           &  60            &  58073        \\\\\n",
       "\t Hawaii         & West           &   868          & 4963           & 1.9            & 73.60          &  6.2           & 61.9           &   0            &   6425        \\\\\n",
       "\t Idaho          & West           &   813          & 4119           & 0.6            & 71.87          &  5.3           & 59.5           & 126            &  82677        \\\\\n",
       "\t Illinois       & North Central  & 11197          & 5107           & 0.9            & 70.14          & 10.3           & 52.6           & 127            &  55748        \\\\\n",
       "\t Indiana        & North Central  &  5313          & 4458           & 0.7            & 70.88          &  7.1           & 52.9           & 122            &  36097        \\\\\n",
       "\t Iowa           & North Central  &  2861          & 4628           & 0.5            & 72.56          &  2.3           & 59.0           & 140            &  55941        \\\\\n",
       "\t Kansas         & North Central  &  2280          & 4669           & 0.6            & 72.58          &  4.5           & 59.9           & 114            &  81787        \\\\\n",
       "\t Kentucky       & South          &  3387          & 3712           & 1.6            & 70.10          & 10.6           & 38.5           &  95            &  39650        \\\\\n",
       "\t Louisiana      & South          &  3806          & 3545           & 2.8            & 68.76          & 13.2           & 42.2           &  12            &  44930        \\\\\n",
       "\t Maine          & Northeast      &  1058          & 3694           & 0.7            & 70.39          &  2.7           & 54.7           & 161            &  30920        \\\\\n",
       "\t Maryland       & South          &  4122          & 5299           & 0.9            & 70.22          &  8.5           & 52.3           & 101            &   9891        \\\\\n",
       "\t Massachusetts  & Northeast      &  5814          & 4755           & 1.1            & 71.83          &  3.3           & 58.5           & 103            &   7826        \\\\\n",
       "\t Michigan       & North Central  &  9111          & 4751           & 0.9            & 70.63          & 11.1           & 52.8           & 125            &  56817        \\\\\n",
       "\t Minnesota      & North Central  &  3921          & 4675           & 0.6            & 72.96          &  2.3           & 57.6           & 160            &  79289        \\\\\n",
       "\t Mississippi    & South          &  2341          & 3098           & 2.4            & 68.09          & 12.5           & 41.0           &  50            &  47296        \\\\\n",
       "\t Missouri       & North Central  &  4767          & 4254           & 0.8            & 70.69          &  9.3           & 48.8           & 108            &  68995        \\\\\n",
       "\t Montana        & West           &   746          & 4347           & 0.6            & 70.56          &  5.0           & 59.2           & 155            & 145587        \\\\\n",
       "\t Nebraska       & North Central  &  1544          & 4508           & 0.6            & 72.60          &  2.9           & 59.3           & 139            &  76483        \\\\\n",
       "\t Nevada         & West           &   590          & 5149           & 0.5            & 69.03          & 11.5           & 65.2           & 188            & 109889        \\\\\n",
       "\t New Hampshire  & Northeast      &   812          & 4281           & 0.7            & 71.23          &  3.3           & 57.6           & 174            &   9027        \\\\\n",
       "\t New Jersey     & Northeast      &  7333          & 5237           & 1.1            & 70.93          &  5.2           & 52.5           & 115            &   7521        \\\\\n",
       "\t New Mexico     & West           &  1144          & 3601           & 2.2            & 70.32          &  9.7           & 55.2           & 120            & 121412        \\\\\n",
       "\t New York       & Northeast      & 18076          & 4903           & 1.4            & 70.55          & 10.9           & 52.7           &  82            &  47831        \\\\\n",
       "\t North Carolina & South          &  5441          & 3875           & 1.8            & 69.21          & 11.1           & 38.5           &  80            &  48798        \\\\\n",
       "\t North Dakota   & North Central  &   637          & 5087           & 0.8            & 72.78          &  1.4           & 50.3           & 186            &  69273        \\\\\n",
       "\t Ohio           & North Central  & 10735          & 4561           & 0.8            & 70.82          &  7.4           & 53.2           & 124            &  40975        \\\\\n",
       "\t Oklahoma       & South          &  2715          & 3983           & 1.1            & 71.42          &  6.4           & 51.6           &  82            &  68782        \\\\\n",
       "\t Oregon         & West           &  2284          & 4660           & 0.6            & 72.13          &  4.2           & 60.0           &  44            &  96184        \\\\\n",
       "\t Pennsylvania   & Northeast      & 11860          & 4449           & 1.0            & 70.43          &  6.1           & 50.2           & 126            &  44966        \\\\\n",
       "\t Rhode Island   & Northeast      &   931          & 4558           & 1.3            & 71.90          &  2.4           & 46.4           & 127            &   1049        \\\\\n",
       "\t South Carolina & South          &  2816          & 3635           & 2.3            & 67.96          & 11.6           & 37.8           &  65            &  30225        \\\\\n",
       "\t South Dakota   & North Central  &   681          & 4167           & 0.5            & 72.08          &  1.7           & 53.3           & 172            &  75955        \\\\\n",
       "\t Tennessee      & South          &  4173          & 3821           & 1.7            & 70.11          & 11.0           & 41.8           &  70            &  41328        \\\\\n",
       "\t Texas          & South          & 12237          & 4188           & 2.2            & 70.90          & 12.2           & 47.4           &  35            & 262134        \\\\\n",
       "\t Utah           & West           &  1203          & 4022           & 0.6            & 72.90          &  4.5           & 67.3           & 137            &  82096        \\\\\n",
       "\t Vermont        & Northeast      &   472          & 3907           & 0.6            & 71.64          &  5.5           & 57.1           & 168            &   9267        \\\\\n",
       "\t Virginia       & South          &  4981          & 4701           & 1.4            & 70.08          &  9.5           & 47.8           &  85            &  39780        \\\\\n",
       "\t Washington     & West           &  3559          & 4864           & 0.6            & 71.72          &  4.3           & 63.5           &  32            &  66570        \\\\\n",
       "\t West Virginia  & South          &  1799          & 3617           & 1.4            & 69.48          &  6.7           & 41.6           & 100            &  24070        \\\\\n",
       "\t Wisconsin      & North Central  &  4589          & 4468           & 0.7            & 72.48          &  3.0           & 54.5           & 149            &  54464        \\\\\n",
       "\t Wyoming        & West           &   376          & 4566           & 0.6            & 70.29          &  6.9           & 62.9           & 173            &  97203        \\\\\n",
       "\\end{tabular}\n"
      ],
      "text/markdown": [
       "\n",
       "| etat | region | Population | Income | Illiteracy | Life.Exp | Murder | HS.Grad | Frost | Area |\n",
       "|---|---|---|---|---|---|---|---|---|---|\n",
       "| Alaska         | West           |   365          | 6315           | 1.5            | 69.31          | 11.3           | 66.7           | 152            | 566432         |\n",
       "| Arizona        | West           |  2212          | 4530           | 1.8            | 70.55          |  7.8           | 58.1           |  15            | 113417         |\n",
       "| Arkansas       | South          |  2110          | 3378           | 1.9            | 70.66          | 10.1           | 39.9           |  65            |  51945         |\n",
       "| California     | West           | 21198          | 5114           | 1.1            | 71.71          | 10.3           | 62.6           |  20            | 156361         |\n",
       "| Colorado       | West           |  2541          | 4884           | 0.7            | 72.06          |  6.8           | 63.9           | 166            | 103766         |\n",
       "| Connecticut    | Northeast      |  3100          | 5348           | 1.1            | 72.48          |  3.1           | 56.0           | 139            |   4862         |\n",
       "| Delaware       | South          |   579          | 4809           | 0.9            | 70.06          |  6.2           | 54.6           | 103            |   1982         |\n",
       "| Florida        | South          |  8277          | 4815           | 1.3            | 70.66          | 10.7           | 52.6           |  11            |  54090         |\n",
       "| Georgia        | South          |  4931          | 4091           | 2.0            | 68.54          | 13.9           | 40.6           |  60            |  58073         |\n",
       "| Hawaii         | West           |   868          | 4963           | 1.9            | 73.60          |  6.2           | 61.9           |   0            |   6425         |\n",
       "| Idaho          | West           |   813          | 4119           | 0.6            | 71.87          |  5.3           | 59.5           | 126            |  82677         |\n",
       "| Illinois       | North Central  | 11197          | 5107           | 0.9            | 70.14          | 10.3           | 52.6           | 127            |  55748         |\n",
       "| Indiana        | North Central  |  5313          | 4458           | 0.7            | 70.88          |  7.1           | 52.9           | 122            |  36097         |\n",
       "| Iowa           | North Central  |  2861          | 4628           | 0.5            | 72.56          |  2.3           | 59.0           | 140            |  55941         |\n",
       "| Kansas         | North Central  |  2280          | 4669           | 0.6            | 72.58          |  4.5           | 59.9           | 114            |  81787         |\n",
       "| Kentucky       | South          |  3387          | 3712           | 1.6            | 70.10          | 10.6           | 38.5           |  95            |  39650         |\n",
       "| Louisiana      | South          |  3806          | 3545           | 2.8            | 68.76          | 13.2           | 42.2           |  12            |  44930         |\n",
       "| Maine          | Northeast      |  1058          | 3694           | 0.7            | 70.39          |  2.7           | 54.7           | 161            |  30920         |\n",
       "| Maryland       | South          |  4122          | 5299           | 0.9            | 70.22          |  8.5           | 52.3           | 101            |   9891         |\n",
       "| Massachusetts  | Northeast      |  5814          | 4755           | 1.1            | 71.83          |  3.3           | 58.5           | 103            |   7826         |\n",
       "| Michigan       | North Central  |  9111          | 4751           | 0.9            | 70.63          | 11.1           | 52.8           | 125            |  56817         |\n",
       "| Minnesota      | North Central  |  3921          | 4675           | 0.6            | 72.96          |  2.3           | 57.6           | 160            |  79289         |\n",
       "| Mississippi    | South          |  2341          | 3098           | 2.4            | 68.09          | 12.5           | 41.0           |  50            |  47296         |\n",
       "| Missouri       | North Central  |  4767          | 4254           | 0.8            | 70.69          |  9.3           | 48.8           | 108            |  68995         |\n",
       "| Montana        | West           |   746          | 4347           | 0.6            | 70.56          |  5.0           | 59.2           | 155            | 145587         |\n",
       "| Nebraska       | North Central  |  1544          | 4508           | 0.6            | 72.60          |  2.9           | 59.3           | 139            |  76483         |\n",
       "| Nevada         | West           |   590          | 5149           | 0.5            | 69.03          | 11.5           | 65.2           | 188            | 109889         |\n",
       "| New Hampshire  | Northeast      |   812          | 4281           | 0.7            | 71.23          |  3.3           | 57.6           | 174            |   9027         |\n",
       "| New Jersey     | Northeast      |  7333          | 5237           | 1.1            | 70.93          |  5.2           | 52.5           | 115            |   7521         |\n",
       "| New Mexico     | West           |  1144          | 3601           | 2.2            | 70.32          |  9.7           | 55.2           | 120            | 121412         |\n",
       "| New York       | Northeast      | 18076          | 4903           | 1.4            | 70.55          | 10.9           | 52.7           |  82            |  47831         |\n",
       "| North Carolina | South          |  5441          | 3875           | 1.8            | 69.21          | 11.1           | 38.5           |  80            |  48798         |\n",
       "| North Dakota   | North Central  |   637          | 5087           | 0.8            | 72.78          |  1.4           | 50.3           | 186            |  69273         |\n",
       "| Ohio           | North Central  | 10735          | 4561           | 0.8            | 70.82          |  7.4           | 53.2           | 124            |  40975         |\n",
       "| Oklahoma       | South          |  2715          | 3983           | 1.1            | 71.42          |  6.4           | 51.6           |  82            |  68782         |\n",
       "| Oregon         | West           |  2284          | 4660           | 0.6            | 72.13          |  4.2           | 60.0           |  44            |  96184         |\n",
       "| Pennsylvania   | Northeast      | 11860          | 4449           | 1.0            | 70.43          |  6.1           | 50.2           | 126            |  44966         |\n",
       "| Rhode Island   | Northeast      |   931          | 4558           | 1.3            | 71.90          |  2.4           | 46.4           | 127            |   1049         |\n",
       "| South Carolina | South          |  2816          | 3635           | 2.3            | 67.96          | 11.6           | 37.8           |  65            |  30225         |\n",
       "| South Dakota   | North Central  |   681          | 4167           | 0.5            | 72.08          |  1.7           | 53.3           | 172            |  75955         |\n",
       "| Tennessee      | South          |  4173          | 3821           | 1.7            | 70.11          | 11.0           | 41.8           |  70            |  41328         |\n",
       "| Texas          | South          | 12237          | 4188           | 2.2            | 70.90          | 12.2           | 47.4           |  35            | 262134         |\n",
       "| Utah           | West           |  1203          | 4022           | 0.6            | 72.90          |  4.5           | 67.3           | 137            |  82096         |\n",
       "| Vermont        | Northeast      |   472          | 3907           | 0.6            | 71.64          |  5.5           | 57.1           | 168            |   9267         |\n",
       "| Virginia       | South          |  4981          | 4701           | 1.4            | 70.08          |  9.5           | 47.8           |  85            |  39780         |\n",
       "| Washington     | West           |  3559          | 4864           | 0.6            | 71.72          |  4.3           | 63.5           |  32            |  66570         |\n",
       "| West Virginia  | South          |  1799          | 3617           | 1.4            | 69.48          |  6.7           | 41.6           | 100            |  24070         |\n",
       "| Wisconsin      | North Central  |  4589          | 4468           | 0.7            | 72.48          |  3.0           | 54.5           | 149            |  54464         |\n",
       "| Wyoming        | West           |   376          | 4566           | 0.6            | 70.29          |  6.9           | 62.9           | 173            |  97203         |\n",
       "\n"
      ],
      "text/plain": [
       "   etat           region        Population Income Illiteracy Life.Exp Murder\n",
       "1  Alaska         West            365      6315   1.5        69.31    11.3  \n",
       "2  Arizona        West           2212      4530   1.8        70.55     7.8  \n",
       "3  Arkansas       South          2110      3378   1.9        70.66    10.1  \n",
       "4  California     West          21198      5114   1.1        71.71    10.3  \n",
       "5  Colorado       West           2541      4884   0.7        72.06     6.8  \n",
       "6  Connecticut    Northeast      3100      5348   1.1        72.48     3.1  \n",
       "7  Delaware       South           579      4809   0.9        70.06     6.2  \n",
       "8  Florida        South          8277      4815   1.3        70.66    10.7  \n",
       "9  Georgia        South          4931      4091   2.0        68.54    13.9  \n",
       "10 Hawaii         West            868      4963   1.9        73.60     6.2  \n",
       "11 Idaho          West            813      4119   0.6        71.87     5.3  \n",
       "12 Illinois       North Central 11197      5107   0.9        70.14    10.3  \n",
       "13 Indiana        North Central  5313      4458   0.7        70.88     7.1  \n",
       "14 Iowa           North Central  2861      4628   0.5        72.56     2.3  \n",
       "15 Kansas         North Central  2280      4669   0.6        72.58     4.5  \n",
       "16 Kentucky       South          3387      3712   1.6        70.10    10.6  \n",
       "17 Louisiana      South          3806      3545   2.8        68.76    13.2  \n",
       "18 Maine          Northeast      1058      3694   0.7        70.39     2.7  \n",
       "19 Maryland       South          4122      5299   0.9        70.22     8.5  \n",
       "20 Massachusetts  Northeast      5814      4755   1.1        71.83     3.3  \n",
       "21 Michigan       North Central  9111      4751   0.9        70.63    11.1  \n",
       "22 Minnesota      North Central  3921      4675   0.6        72.96     2.3  \n",
       "23 Mississippi    South          2341      3098   2.4        68.09    12.5  \n",
       "24 Missouri       North Central  4767      4254   0.8        70.69     9.3  \n",
       "25 Montana        West            746      4347   0.6        70.56     5.0  \n",
       "26 Nebraska       North Central  1544      4508   0.6        72.60     2.9  \n",
       "27 Nevada         West            590      5149   0.5        69.03    11.5  \n",
       "28 New Hampshire  Northeast       812      4281   0.7        71.23     3.3  \n",
       "29 New Jersey     Northeast      7333      5237   1.1        70.93     5.2  \n",
       "30 New Mexico     West           1144      3601   2.2        70.32     9.7  \n",
       "31 New York       Northeast     18076      4903   1.4        70.55    10.9  \n",
       "32 North Carolina South          5441      3875   1.8        69.21    11.1  \n",
       "33 North Dakota   North Central   637      5087   0.8        72.78     1.4  \n",
       "34 Ohio           North Central 10735      4561   0.8        70.82     7.4  \n",
       "35 Oklahoma       South          2715      3983   1.1        71.42     6.4  \n",
       "36 Oregon         West           2284      4660   0.6        72.13     4.2  \n",
       "37 Pennsylvania   Northeast     11860      4449   1.0        70.43     6.1  \n",
       "38 Rhode Island   Northeast       931      4558   1.3        71.90     2.4  \n",
       "39 South Carolina South          2816      3635   2.3        67.96    11.6  \n",
       "40 South Dakota   North Central   681      4167   0.5        72.08     1.7  \n",
       "41 Tennessee      South          4173      3821   1.7        70.11    11.0  \n",
       "42 Texas          South         12237      4188   2.2        70.90    12.2  \n",
       "43 Utah           West           1203      4022   0.6        72.90     4.5  \n",
       "44 Vermont        Northeast       472      3907   0.6        71.64     5.5  \n",
       "45 Virginia       South          4981      4701   1.4        70.08     9.5  \n",
       "46 Washington     West           3559      4864   0.6        71.72     4.3  \n",
       "47 West Virginia  South          1799      3617   1.4        69.48     6.7  \n",
       "48 Wisconsin      North Central  4589      4468   0.7        72.48     3.0  \n",
       "49 Wyoming        West            376      4566   0.6        70.29     6.9  \n",
       "   HS.Grad Frost Area  \n",
       "1  66.7    152   566432\n",
       "2  58.1     15   113417\n",
       "3  39.9     65    51945\n",
       "4  62.6     20   156361\n",
       "5  63.9    166   103766\n",
       "6  56.0    139     4862\n",
       "7  54.6    103     1982\n",
       "8  52.6     11    54090\n",
       "9  40.6     60    58073\n",
       "10 61.9      0     6425\n",
       "11 59.5    126    82677\n",
       "12 52.6    127    55748\n",
       "13 52.9    122    36097\n",
       "14 59.0    140    55941\n",
       "15 59.9    114    81787\n",
       "16 38.5     95    39650\n",
       "17 42.2     12    44930\n",
       "18 54.7    161    30920\n",
       "19 52.3    101     9891\n",
       "20 58.5    103     7826\n",
       "21 52.8    125    56817\n",
       "22 57.6    160    79289\n",
       "23 41.0     50    47296\n",
       "24 48.8    108    68995\n",
       "25 59.2    155   145587\n",
       "26 59.3    139    76483\n",
       "27 65.2    188   109889\n",
       "28 57.6    174     9027\n",
       "29 52.5    115     7521\n",
       "30 55.2    120   121412\n",
       "31 52.7     82    47831\n",
       "32 38.5     80    48798\n",
       "33 50.3    186    69273\n",
       "34 53.2    124    40975\n",
       "35 51.6     82    68782\n",
       "36 60.0     44    96184\n",
       "37 50.2    126    44966\n",
       "38 46.4    127     1049\n",
       "39 37.8     65    30225\n",
       "40 53.3    172    75955\n",
       "41 41.8     70    41328\n",
       "42 47.4     35   262134\n",
       "43 67.3    137    82096\n",
       "44 57.1    168     9267\n",
       "45 47.8     85    39780\n",
       "46 63.5     32    66570\n",
       "47 41.6    100    24070\n",
       "48 54.5    149    54464\n",
       "49 62.9    173    97203"
      ]
     },
     "metadata": {},
     "output_type": "display_data"
    }
   ],
   "source": [
    "etat2$etat[1] <- NA # Alabama\n",
    "merge(etat1, etat2)"
   ]
  },
  {
   "cell_type": "markdown",
   "metadata": {
    "lines_to_next_cell": 0
   },
   "source": [
    "La ligne avec *Alabama* ne figure pas dans la fusion.<br>\n",
    "\n",
    "Création et manipulation de facteurs.<br>\n",
    "À l’aide de la fonction __cut__, créez un facteur __Richesse__ séparant les états selon leur revenu moyen (**Income**) : Pauvre (inférieur ou égal à 4000), Aisé (entre 4001 et 5000) et Riche(supérieurs ou égal à 5001). Vérifiez si le résultat contient des _NA_."
   ]
  },
  {
   "cell_type": "code",
   "execution_count": 34,
   "metadata": {},
   "outputs": [
    {
     "data": {
      "text/html": [
       "0"
      ],
      "text/latex": [
       "0"
      ],
      "text/markdown": [
       "0"
      ],
      "text/plain": [
       "[1] 0"
      ]
     },
     "metadata": {},
     "output_type": "display_data"
    }
   ],
   "source": [
    "Richesse <- cut(etat$Income, breaks = c(0, 4000, 5000, Inf),\n",
    "                include.lowest = T, labels = c(\"Pauvre\", \"Aisé\", \"Riche\"))\n",
    "\n",
    "sum(is.na(Richesse))"
   ]
  },
  {
   "cell_type": "markdown",
   "metadata": {
    "lines_to_next_cell": 0
   },
   "source": [
    "Effectuez le découpage de la variable __Income__ cette fois-ci en 5 niveaux d’effectifs comparables(utilisez la fonction **quantile**)."
   ]
  },
  {
   "cell_type": "code",
   "execution_count": 35,
   "metadata": {},
   "outputs": [],
   "source": [
    "etat$income <- cut(etat$Income, breaks = quantile(etat$Income, probs=c(0:5/5)),\n",
    "                   include.lowest = T, labels = c(\"R1\", \"R2\", \"R3\", \"R4\", \"R5\"))"
   ]
  },
  {
   "cell_type": "markdown",
   "metadata": {
    "lines_to_next_cell": 0
   },
   "source": [
    "Pour fusionneR deux niveaux d’un vecteur (en cas de groupes à effectifs trop faibles parexemple), on peut renommer les niveaux des 2 classes à fusionner avec le même nom. Fusionnez les classes *R1* et *R2* ainsi que les classes *R3* et *R4* dans l’exemple."
   ]
  },
  {
   "cell_type": "code",
   "execution_count": 36,
   "metadata": {},
   "outputs": [],
   "source": [
    "levels(etat$income) <- c(\"R1\", \"R1\", \"R3\", \"R3\", \"R5\")"
   ]
  },
  {
   "cell_type": "markdown",
   "metadata": {
    "lines_to_next_cell": 0
   },
   "source": [
    "## Variables au format Date\n",
    "Importez le jeu de données **bladder**. Décrivez brièvement ce dernier."
   ]
  },
  {
   "cell_type": "code",
   "execution_count": 37,
   "metadata": {},
   "outputs": [],
   "source": [
    "bladder <- read.table(\"donnees/bladder.txt\", header=F, sep = \"\\t\")"
   ]
  },
  {
   "cell_type": "markdown",
   "metadata": {
    "lines_to_next_cell": 0
   },
   "source": [
    "Contient-il des données manquantes ?<br>\n",
    "La dernière colonne est complètement vide, donc les 57 lignes contiennent au moins une donnée vide."
   ]
  },
  {
   "cell_type": "code",
   "execution_count": 38,
   "metadata": {},
   "outputs": [
    {
     "data": {
      "text/html": [
       "57"
      ],
      "text/latex": [
       "57"
      ],
      "text/markdown": [
       "57"
      ],
      "text/plain": [
       "[1] 57"
      ]
     },
     "metadata": {},
     "output_type": "display_data"
    }
   ],
   "source": [
    "sum(is.na(bladder))"
   ]
  },
  {
   "cell_type": "markdown",
   "metadata": {
    "lines_to_next_cell": 0
   },
   "source": [
    "Prenez quelques variables au hasard et effectuez leur résumé et un boxplot de leurs valeurs (fonction graphique __boxplot__). Que remarquez-vous ?"
   ]
  },
  {
   "cell_type": "code",
   "execution_count": 39,
   "metadata": {},
   "outputs": [
    {
     "data": {
      "text/plain": [
       "       V1                  V2                  V3           \n",
       " Min.   :-500.0000   Min.   :-500.0000   Min.   :-500.0000  \n",
       " 1st Qu.:  -0.2253   1st Qu.:  -0.0444   1st Qu.:   0.0580  \n",
       " Median :  -0.1390   Median :   0.0003   Median :   0.0932  \n",
       " Mean   : -17.6413   Mean   :  -8.7445   Mean   :  -8.6733  \n",
       " 3rd Qu.:  -0.0639   3rd Qu.:   0.0847   3rd Qu.:   0.1193  \n",
       " Max.   :   0.3432   Max.   :   0.4179   Max.   :   0.5606  "
      ]
     },
     "metadata": {},
     "output_type": "display_data"
    },
    {
     "data": {
      "image/png": "[encoded data removed]",
      "text/plain": [
       "plot without title"
      ]
     },
     "metadata": {},
     "output_type": "display_data"
    }
   ],
   "source": [
    "summary(bladder[,1:3])\n",
    "boxplot(bladder[,1:3])"
   ]
  },
  {
   "cell_type": "markdown",
   "metadata": {},
   "source": [
    "On a pris les 3 premières valables. On remarque d'après le résumé et les boxplot que les données se concentrent autour de 0 (Max et Med) avec des valeurs abérantes où Min = -500.<br>"
   ]
  },
  {
   "cell_type": "markdown",
   "metadata": {
    "lines_to_next_cell": 0
   },
   "source": [
    "Importez de nouveau le jeu de données en spécifiant les valeurs à considérer comme données manquantes **NA**."
   ]
  },
  {
   "cell_type": "code",
   "execution_count": 40,
   "metadata": {},
   "outputs": [],
   "source": [
    "bladder <- read.table(\"donnees/bladder.txt\", header = F, sep = \"\\t\", na.strings = -500)"
   ]
  },
  {
   "cell_type": "markdown",
   "metadata": {
    "lines_to_next_cell": 0
   },
   "source": [
    "Remplacer les données manquantes par la moyenne de la variable en question."
   ]
  },
  {
   "cell_type": "code",
   "execution_count": 41,
   "metadata": {},
   "outputs": [],
   "source": [
    "bladder <- apply(bladder, 2, FUN=function(x){replace(x, is.na(x), mean(x, na.rm=TRUE) )})\n"
   ]
  }
 ],
 "metadata": {
  "jupytext": {
   "cell_metadata_filter": "hide_output,eval,-all",
   "formats": "ipynb,Rmd",
   "main_language": "R",
   "notebook_metadata_filter": "-all"
  },
  "kernelspec": {
   "display_name": "R",
   "language": "R",
   "name": "ir"
  },
  "language_info": {
   "codemirror_mode": "r",
   "file_extension": ".r",
   "mimetype": "text/x-r-source",
   "name": "R",
   "pygments_lexer": "r",
   "version": "3.6.1"
  }
 },
 "nbformat": 4,
 "nbformat_minor": 2
}
