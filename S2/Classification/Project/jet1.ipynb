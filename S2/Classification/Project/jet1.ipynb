{
 "cells": [
  {
   "cell_type": "raw",
   "metadata": {},
   "source": [
    "---\n",
    "title: \"Cyberattaques des smartphones\"\n",
    "author: \"Loïc Rakotoson\"\n",
    "output:\n",
    "  html_notebook:\n",
    "    df_print: paged\n",
    "    highlight: tango\n",
    "    theme: flatly\n",
    "---"
   ]
  },
  {
   "cell_type": "markdown",
   "metadata": {
    "lines_to_next_cell": 0
   },
   "source": []
  },
  {
   "cell_type": "code",
   "execution_count": 13,
   "metadata": {},
   "outputs": [],
   "source": [
    "options(warn = -1)\n",
    "library(tidyverse)\n",
    "library(caret)\n",
    "library(randomForest)\n",
    "library(ranger) #RandomForest plus rapide\n",
    "library(rpart)\n",
    "library(pROC)"
   ]
  },
  {
   "cell_type": "code",
   "execution_count": 39,
   "metadata": {},
   "outputs": [
    {
     "name": "stderr",
     "output_type": "stream",
     "text": [
      "Parsed with column specification:\n",
      "cols(\n",
      "  .default = col_double(),\n",
      "  `Destination IP` = col_character(),\n",
      "  Label = col_character()\n",
      ")\n",
      "See spec(...) for full column specifications.\n"
     ]
    }
   ],
   "source": [
    "df <- read_csv(\"data/Attempt 8.csv\")"
   ]
  },
  {
   "cell_type": "code",
   "execution_count": 15,
   "metadata": {},
   "outputs": [],
   "source": [
    "df <- df %>% \n",
    "  mutate_at(c('Destination IP', 'Protocol', 'Label'), funs(factor))"
   ]
  },
  {
   "cell_type": "code",
   "execution_count": 16,
   "metadata": {},
   "outputs": [
    {
     "data": {
      "image/png": "[encoded data removed]",
      "text/plain": [
       "plot without title"
      ]
     },
     "metadata": {},
     "output_type": "display_data"
    }
   ],
   "source": [
    "ggplot(df) + \n",
    "  aes(x = Label) + geom_bar(aes(y = (..count..)/sum(..count..))) + \n",
    "  facet_grid(.~Protocol) +\n",
    "  theme(axis.text.x=element_text(angle=90, hjust=1))"
   ]
  },
  {
   "cell_type": "code",
   "execution_count": 22,
   "metadata": {},
   "outputs": [
    {
     "data": {
      "text/html": [
       "325"
      ],
      "text/latex": [
       "325"
      ],
      "text/markdown": [
       "325"
      ],
      "text/plain": [
       "[1] 325"
      ]
     },
     "metadata": {},
     "output_type": "display_data"
    }
   ],
   "source": [
    "length(unique(df$`Destination Port`))"
   ]
  },
  {
   "cell_type": "code",
   "execution_count": 71,
   "metadata": {},
   "outputs": [],
   "source": [
    "ip_split <- function(ip){\n",
    "    ipMain <- paste(str_split(ip, \"\\\\.\")[[1]][1], str_split(ip, \"\\\\.\")[[1]][2], sep = \".\")\n",
    "    return(ipMain)\n",
    "}\n"
   ]
  },
  {
   "cell_type": "code",
   "execution_count": 76,
   "metadata": {},
   "outputs": [
    {
     "data": {
      "text/html": [
       "<table>\n",
       "<thead><tr><th scope=col>IP</th><th scope=col>sub_label</th></tr></thead>\n",
       "<tbody>\n",
       "\t<tr><td>169.53.71.249 </td><td>169.53        </td></tr>\n",
       "\t<tr><td>10.42.0.211   </td><td>10.42         </td></tr>\n",
       "\t<tr><td>172.217.0.228 </td><td>172.217       </td></tr>\n",
       "\t<tr><td>10.42.0.211   </td><td>10.42         </td></tr>\n",
       "\t<tr><td>172.217.0.228 </td><td>172.217       </td></tr>\n",
       "\t<tr><td>172.217.0.228 </td><td>172.217       </td></tr>\n",
       "\t<tr><td>172.217.0.228 </td><td>172.217       </td></tr>\n",
       "\t<tr><td>10.42.0.211   </td><td>10.42         </td></tr>\n",
       "\t<tr><td>172.217.0.228 </td><td>172.217       </td></tr>\n",
       "\t<tr><td>172.217.0.228 </td><td>172.217       </td></tr>\n",
       "\t<tr><td>172.217.3.106 </td><td>172.217       </td></tr>\n",
       "\t<tr><td>172.217.12.142</td><td>172.217       </td></tr>\n",
       "\t<tr><td>172.217.12.142</td><td>172.217       </td></tr>\n",
       "\t<tr><td>172.217.10.46 </td><td>172.217       </td></tr>\n",
       "\t<tr><td>172.217.10.46 </td><td>172.217       </td></tr>\n",
       "\t<tr><td>172.217.10.46 </td><td>172.217       </td></tr>\n",
       "\t<tr><td>10.42.0.211   </td><td>10.42         </td></tr>\n",
       "\t<tr><td>172.217.10.45 </td><td>172.217       </td></tr>\n",
       "\t<tr><td>10.42.0.211   </td><td>10.42         </td></tr>\n",
       "\t<tr><td>172.217.12.142</td><td>172.217       </td></tr>\n",
       "\t<tr><td>172.217.0.228 </td><td>172.217       </td></tr>\n",
       "\t<tr><td>172.217.2.110 </td><td>172.217       </td></tr>\n",
       "\t<tr><td>172.217.2.110 </td><td>172.217       </td></tr>\n",
       "\t<tr><td>172.217.1.170 </td><td>172.217       </td></tr>\n",
       "\t<tr><td>172.217.2.110 </td><td>172.217       </td></tr>\n",
       "\t<tr><td>172.217.2.110 </td><td>172.217       </td></tr>\n",
       "\t<tr><td>172.217.5.227 </td><td>172.217       </td></tr>\n",
       "\t<tr><td>172.217.12.142</td><td>172.217       </td></tr>\n",
       "\t<tr><td>8.0.6.4       </td><td>8.0           </td></tr>\n",
       "\t<tr><td>172.217.5.227 </td><td>172.217       </td></tr>\n",
       "\t<tr><td>...</td><td>...</td></tr>\n",
       "\t<tr><td>122.225.81.56  </td><td>122.225        </td></tr>\n",
       "\t<tr><td>106.39.162.36  </td><td>106.39         </td></tr>\n",
       "\t<tr><td>106.39.162.36  </td><td>106.39         </td></tr>\n",
       "\t<tr><td>174.35.73.98   </td><td>174.35         </td></tr>\n",
       "\t<tr><td>203.130.53.126 </td><td>203.130        </td></tr>\n",
       "\t<tr><td>203.130.53.126 </td><td>203.130        </td></tr>\n",
       "\t<tr><td>203.130.53.126 </td><td>203.130        </td></tr>\n",
       "\t<tr><td>203.130.53.126 </td><td>203.130        </td></tr>\n",
       "\t<tr><td>203.130.53.126 </td><td>203.130        </td></tr>\n",
       "\t<tr><td>203.130.53.126 </td><td>203.130        </td></tr>\n",
       "\t<tr><td>203.130.53.126 </td><td>203.130        </td></tr>\n",
       "\t<tr><td>10.42.0.151    </td><td>10.42          </td></tr>\n",
       "\t<tr><td>174.35.73.98   </td><td>174.35         </td></tr>\n",
       "\t<tr><td>174.35.73.98   </td><td>174.35         </td></tr>\n",
       "\t<tr><td>174.35.73.98   </td><td>174.35         </td></tr>\n",
       "\t<tr><td>10.42.0.151    </td><td>10.42          </td></tr>\n",
       "\t<tr><td>10.42.0.151    </td><td>10.42          </td></tr>\n",
       "\t<tr><td>10.42.0.151    </td><td>10.42          </td></tr>\n",
       "\t<tr><td>106.39.162.36  </td><td>106.39         </td></tr>\n",
       "\t<tr><td>106.39.162.36  </td><td>106.39         </td></tr>\n",
       "\t<tr><td>14.29.93.254   </td><td>14.29          </td></tr>\n",
       "\t<tr><td>115.239.210.141</td><td>115.239        </td></tr>\n",
       "\t<tr><td>115.239.210.141</td><td>115.239        </td></tr>\n",
       "\t<tr><td>119.146.74.48  </td><td>119.146        </td></tr>\n",
       "\t<tr><td>119.146.74.48  </td><td>119.146        </td></tr>\n",
       "\t<tr><td>119.146.74.48  </td><td>119.146        </td></tr>\n",
       "\t<tr><td>119.146.74.48  </td><td>119.146        </td></tr>\n",
       "\t<tr><td>119.146.74.48  </td><td>119.146        </td></tr>\n",
       "\t<tr><td>119.146.74.48  </td><td>119.146        </td></tr>\n",
       "\t<tr><td>119.146.74.48  </td><td>119.146        </td></tr>\n",
       "</tbody>\n",
       "</table>\n"
      ],
      "text/latex": [
       "\\begin{tabular}{r|ll}\n",
       " IP & sub\\_label\\\\\n",
       "\\hline\n",
       "\t 169.53.71.249  & 169.53        \\\\\n",
       "\t 10.42.0.211    & 10.42         \\\\\n",
       "\t 172.217.0.228  & 172.217       \\\\\n",
       "\t 10.42.0.211    & 10.42         \\\\\n",
       "\t 172.217.0.228  & 172.217       \\\\\n",
       "\t 172.217.0.228  & 172.217       \\\\\n",
       "\t 172.217.0.228  & 172.217       \\\\\n",
       "\t 10.42.0.211    & 10.42         \\\\\n",
       "\t 172.217.0.228  & 172.217       \\\\\n",
       "\t 172.217.0.228  & 172.217       \\\\\n",
       "\t 172.217.3.106  & 172.217       \\\\\n",
       "\t 172.217.12.142 & 172.217       \\\\\n",
       "\t 172.217.12.142 & 172.217       \\\\\n",
       "\t 172.217.10.46  & 172.217       \\\\\n",
       "\t 172.217.10.46  & 172.217       \\\\\n",
       "\t 172.217.10.46  & 172.217       \\\\\n",
       "\t 10.42.0.211    & 10.42         \\\\\n",
       "\t 172.217.10.45  & 172.217       \\\\\n",
       "\t 10.42.0.211    & 10.42         \\\\\n",
       "\t 172.217.12.142 & 172.217       \\\\\n",
       "\t 172.217.0.228  & 172.217       \\\\\n",
       "\t 172.217.2.110  & 172.217       \\\\\n",
       "\t 172.217.2.110  & 172.217       \\\\\n",
       "\t 172.217.1.170  & 172.217       \\\\\n",
       "\t 172.217.2.110  & 172.217       \\\\\n",
       "\t 172.217.2.110  & 172.217       \\\\\n",
       "\t 172.217.5.227  & 172.217       \\\\\n",
       "\t 172.217.12.142 & 172.217       \\\\\n",
       "\t 8.0.6.4        & 8.0           \\\\\n",
       "\t 172.217.5.227  & 172.217       \\\\\n",
       "\t ... & ...\\\\\n",
       "\t 122.225.81.56   & 122.225        \\\\\n",
       "\t 106.39.162.36   & 106.39         \\\\\n",
       "\t 106.39.162.36   & 106.39         \\\\\n",
       "\t 174.35.73.98    & 174.35         \\\\\n",
       "\t 203.130.53.126  & 203.130        \\\\\n",
       "\t 203.130.53.126  & 203.130        \\\\\n",
       "\t 203.130.53.126  & 203.130        \\\\\n",
       "\t 203.130.53.126  & 203.130        \\\\\n",
       "\t 203.130.53.126  & 203.130        \\\\\n",
       "\t 203.130.53.126  & 203.130        \\\\\n",
       "\t 203.130.53.126  & 203.130        \\\\\n",
       "\t 10.42.0.151     & 10.42          \\\\\n",
       "\t 174.35.73.98    & 174.35         \\\\\n",
       "\t 174.35.73.98    & 174.35         \\\\\n",
       "\t 174.35.73.98    & 174.35         \\\\\n",
       "\t 10.42.0.151     & 10.42          \\\\\n",
       "\t 10.42.0.151     & 10.42          \\\\\n",
       "\t 10.42.0.151     & 10.42          \\\\\n",
       "\t 106.39.162.36   & 106.39         \\\\\n",
       "\t 106.39.162.36   & 106.39         \\\\\n",
       "\t 14.29.93.254    & 14.29          \\\\\n",
       "\t 115.239.210.141 & 115.239        \\\\\n",
       "\t 115.239.210.141 & 115.239        \\\\\n",
       "\t 119.146.74.48   & 119.146        \\\\\n",
       "\t 119.146.74.48   & 119.146        \\\\\n",
       "\t 119.146.74.48   & 119.146        \\\\\n",
       "\t 119.146.74.48   & 119.146        \\\\\n",
       "\t 119.146.74.48   & 119.146        \\\\\n",
       "\t 119.146.74.48   & 119.146        \\\\\n",
       "\t 119.146.74.48   & 119.146        \\\\\n",
       "\\end{tabular}\n"
      ],
      "text/markdown": [
       "\n",
       "| IP | sub_label |\n",
       "|---|---|\n",
       "| 169.53.71.249  | 169.53         |\n",
       "| 10.42.0.211    | 10.42          |\n",
       "| 172.217.0.228  | 172.217        |\n",
       "| 10.42.0.211    | 10.42          |\n",
       "| 172.217.0.228  | 172.217        |\n",
       "| 172.217.0.228  | 172.217        |\n",
       "| 172.217.0.228  | 172.217        |\n",
       "| 10.42.0.211    | 10.42          |\n",
       "| 172.217.0.228  | 172.217        |\n",
       "| 172.217.0.228  | 172.217        |\n",
       "| 172.217.3.106  | 172.217        |\n",
       "| 172.217.12.142 | 172.217        |\n",
       "| 172.217.12.142 | 172.217        |\n",
       "| 172.217.10.46  | 172.217        |\n",
       "| 172.217.10.46  | 172.217        |\n",
       "| 172.217.10.46  | 172.217        |\n",
       "| 10.42.0.211    | 10.42          |\n",
       "| 172.217.10.45  | 172.217        |\n",
       "| 10.42.0.211    | 10.42          |\n",
       "| 172.217.12.142 | 172.217        |\n",
       "| 172.217.0.228  | 172.217        |\n",
       "| 172.217.2.110  | 172.217        |\n",
       "| 172.217.2.110  | 172.217        |\n",
       "| 172.217.1.170  | 172.217        |\n",
       "| 172.217.2.110  | 172.217        |\n",
       "| 172.217.2.110  | 172.217        |\n",
       "| 172.217.5.227  | 172.217        |\n",
       "| 172.217.12.142 | 172.217        |\n",
       "| 8.0.6.4        | 8.0            |\n",
       "| 172.217.5.227  | 172.217        |\n",
       "| ... | ... |\n",
       "| 122.225.81.56   | 122.225         |\n",
       "| 106.39.162.36   | 106.39          |\n",
       "| 106.39.162.36   | 106.39          |\n",
       "| 174.35.73.98    | 174.35          |\n",
       "| 203.130.53.126  | 203.130         |\n",
       "| 203.130.53.126  | 203.130         |\n",
       "| 203.130.53.126  | 203.130         |\n",
       "| 203.130.53.126  | 203.130         |\n",
       "| 203.130.53.126  | 203.130         |\n",
       "| 203.130.53.126  | 203.130         |\n",
       "| 203.130.53.126  | 203.130         |\n",
       "| 10.42.0.151     | 10.42           |\n",
       "| 174.35.73.98    | 174.35          |\n",
       "| 174.35.73.98    | 174.35          |\n",
       "| 174.35.73.98    | 174.35          |\n",
       "| 10.42.0.151     | 10.42           |\n",
       "| 10.42.0.151     | 10.42           |\n",
       "| 10.42.0.151     | 10.42           |\n",
       "| 106.39.162.36   | 106.39          |\n",
       "| 106.39.162.36   | 106.39          |\n",
       "| 14.29.93.254    | 14.29           |\n",
       "| 115.239.210.141 | 115.239         |\n",
       "| 115.239.210.141 | 115.239         |\n",
       "| 119.146.74.48   | 119.146         |\n",
       "| 119.146.74.48   | 119.146         |\n",
       "| 119.146.74.48   | 119.146         |\n",
       "| 119.146.74.48   | 119.146         |\n",
       "| 119.146.74.48   | 119.146         |\n",
       "| 119.146.74.48   | 119.146         |\n",
       "| 119.146.74.48   | 119.146         |\n",
       "\n"
      ],
      "text/plain": [
       "     IP              sub_label\n",
       "1    169.53.71.249   169.53   \n",
       "2    10.42.0.211     10.42    \n",
       "3    172.217.0.228   172.217  \n",
       "4    10.42.0.211     10.42    \n",
       "5    172.217.0.228   172.217  \n",
       "6    172.217.0.228   172.217  \n",
       "7    172.217.0.228   172.217  \n",
       "8    10.42.0.211     10.42    \n",
       "9    172.217.0.228   172.217  \n",
       "10   172.217.0.228   172.217  \n",
       "11   172.217.3.106   172.217  \n",
       "12   172.217.12.142  172.217  \n",
       "13   172.217.12.142  172.217  \n",
       "14   172.217.10.46   172.217  \n",
       "15   172.217.10.46   172.217  \n",
       "16   172.217.10.46   172.217  \n",
       "17   10.42.0.211     10.42    \n",
       "18   172.217.10.45   172.217  \n",
       "19   10.42.0.211     10.42    \n",
       "20   172.217.12.142  172.217  \n",
       "21   172.217.0.228   172.217  \n",
       "22   172.217.2.110   172.217  \n",
       "23   172.217.2.110   172.217  \n",
       "24   172.217.1.170   172.217  \n",
       "25   172.217.2.110   172.217  \n",
       "26   172.217.2.110   172.217  \n",
       "27   172.217.5.227   172.217  \n",
       "28   172.217.12.142  172.217  \n",
       "29   8.0.6.4         8.0      \n",
       "30   172.217.5.227   172.217  \n",
       "...  ...             ...      \n",
       "3971 122.225.81.56   122.225  \n",
       "3972 106.39.162.36   106.39   \n",
       "3973 106.39.162.36   106.39   \n",
       "3974 174.35.73.98    174.35   \n",
       "3975 203.130.53.126  203.130  \n",
       "3976 203.130.53.126  203.130  \n",
       "3977 203.130.53.126  203.130  \n",
       "3978 203.130.53.126  203.130  \n",
       "3979 203.130.53.126  203.130  \n",
       "3980 203.130.53.126  203.130  \n",
       "3981 203.130.53.126  203.130  \n",
       "3982 10.42.0.151     10.42    \n",
       "3983 174.35.73.98    174.35   \n",
       "3984 174.35.73.98    174.35   \n",
       "3985 174.35.73.98    174.35   \n",
       "3986 10.42.0.151     10.42    \n",
       "3987 10.42.0.151     10.42    \n",
       "3988 10.42.0.151     10.42    \n",
       "3989 106.39.162.36   106.39   \n",
       "3990 106.39.162.36   106.39   \n",
       "3991 14.29.93.254    14.29    \n",
       "3992 115.239.210.141 115.239  \n",
       "3993 115.239.210.141 115.239  \n",
       "3994 119.146.74.48   119.146  \n",
       "3995 119.146.74.48   119.146  \n",
       "3996 119.146.74.48   119.146  \n",
       "3997 119.146.74.48   119.146  \n",
       "3998 119.146.74.48   119.146  \n",
       "3999 119.146.74.48   119.146  \n",
       "4000 119.146.74.48   119.146  "
      ]
     },
     "metadata": {},
     "output_type": "display_data"
    }
   ],
   "source": [
    "df %>%\n",
    "select(IP = `Destination IP`) %>% rowwise() %>% mutate(sub_label = paste(str_split(`IP`, \"\\\\.\")[[1]][1], str_split(`IP`, \"\\\\.\")[[1]][2], sep = \".\"))"
   ]
  },
  {
   "cell_type": "code",
   "execution_count": 27,
   "metadata": {},
   "outputs": [
    {
     "name": "stderr",
     "output_type": "stream",
     "text": [
      "Selecting by n\n"
     ]
    },
    {
     "data": {
      "text/html": [
       "<table>\n",
       "<thead><tr><th scope=col>Destination IP</th><th scope=col>n</th></tr></thead>\n",
       "<tbody>\n",
       "\t<tr><td>10.42.0.1      </td><td>153            </td></tr>\n",
       "\t<tr><td>10.42.0.151    </td><td>188            </td></tr>\n",
       "\t<tr><td>10.42.0.42     </td><td>145            </td></tr>\n",
       "\t<tr><td>103.235.46.211 </td><td> 41            </td></tr>\n",
       "\t<tr><td>104.192.108.22 </td><td> 41            </td></tr>\n",
       "\t<tr><td>119.146.74.33  </td><td>142            </td></tr>\n",
       "\t<tr><td>119.146.74.48  </td><td> 39            </td></tr>\n",
       "\t<tr><td>121.12.98.63   </td><td> 35            </td></tr>\n",
       "\t<tr><td>121.12.98.64   </td><td> 51            </td></tr>\n",
       "\t<tr><td>172.217.12.202 </td><td> 41            </td></tr>\n",
       "\t<tr><td>172.217.3.106  </td><td> 56            </td></tr>\n",
       "\t<tr><td>172.217.6.238  </td><td> 67            </td></tr>\n",
       "\t<tr><td>174.35.73.98   </td><td> 40            </td></tr>\n",
       "\t<tr><td>180.149.136.194</td><td> 40            </td></tr>\n",
       "\t<tr><td>192.229.163.180</td><td> 49            </td></tr>\n",
       "\t<tr><td>203.130.53.126 </td><td> 35            </td></tr>\n",
       "\t<tr><td>205.174.165.70 </td><td> 38            </td></tr>\n",
       "\t<tr><td>220.170.182.31 </td><td> 37            </td></tr>\n",
       "\t<tr><td>220.181.7.190  </td><td> 50            </td></tr>\n",
       "\t<tr><td>36.110.213.49  </td><td> 45            </td></tr>\n",
       "\t<tr><td>8.0.6.4        </td><td> 40            </td></tr>\n",
       "</tbody>\n",
       "</table>\n"
      ],
      "text/latex": [
       "\\begin{tabular}{r|ll}\n",
       " Destination IP & n\\\\\n",
       "\\hline\n",
       "\t 10.42.0.1       & 153            \\\\\n",
       "\t 10.42.0.151     & 188            \\\\\n",
       "\t 10.42.0.42      & 145            \\\\\n",
       "\t 103.235.46.211  &  41            \\\\\n",
       "\t 104.192.108.22  &  41            \\\\\n",
       "\t 119.146.74.33   & 142            \\\\\n",
       "\t 119.146.74.48   &  39            \\\\\n",
       "\t 121.12.98.63    &  35            \\\\\n",
       "\t 121.12.98.64    &  51            \\\\\n",
       "\t 172.217.12.202  &  41            \\\\\n",
       "\t 172.217.3.106   &  56            \\\\\n",
       "\t 172.217.6.238   &  67            \\\\\n",
       "\t 174.35.73.98    &  40            \\\\\n",
       "\t 180.149.136.194 &  40            \\\\\n",
       "\t 192.229.163.180 &  49            \\\\\n",
       "\t 203.130.53.126  &  35            \\\\\n",
       "\t 205.174.165.70  &  38            \\\\\n",
       "\t 220.170.182.31  &  37            \\\\\n",
       "\t 220.181.7.190   &  50            \\\\\n",
       "\t 36.110.213.49   &  45            \\\\\n",
       "\t 8.0.6.4         &  40            \\\\\n",
       "\\end{tabular}\n"
      ],
      "text/markdown": [
       "\n",
       "| Destination IP | n |\n",
       "|---|---|\n",
       "| 10.42.0.1       | 153             |\n",
       "| 10.42.0.151     | 188             |\n",
       "| 10.42.0.42      | 145             |\n",
       "| 103.235.46.211  |  41             |\n",
       "| 104.192.108.22  |  41             |\n",
       "| 119.146.74.33   | 142             |\n",
       "| 119.146.74.48   |  39             |\n",
       "| 121.12.98.63    |  35             |\n",
       "| 121.12.98.64    |  51             |\n",
       "| 172.217.12.202  |  41             |\n",
       "| 172.217.3.106   |  56             |\n",
       "| 172.217.6.238   |  67             |\n",
       "| 174.35.73.98    |  40             |\n",
       "| 180.149.136.194 |  40             |\n",
       "| 192.229.163.180 |  49             |\n",
       "| 203.130.53.126  |  35             |\n",
       "| 205.174.165.70  |  38             |\n",
       "| 220.170.182.31  |  37             |\n",
       "| 220.181.7.190   |  50             |\n",
       "| 36.110.213.49   |  45             |\n",
       "| 8.0.6.4         |  40             |\n",
       "\n"
      ],
      "text/plain": [
       "   Destination IP  n  \n",
       "1  10.42.0.1       153\n",
       "2  10.42.0.151     188\n",
       "3  10.42.0.42      145\n",
       "4  103.235.46.211   41\n",
       "5  104.192.108.22   41\n",
       "6  119.146.74.33   142\n",
       "7  119.146.74.48    39\n",
       "8  121.12.98.63     35\n",
       "9  121.12.98.64     51\n",
       "10 172.217.12.202   41\n",
       "11 172.217.3.106    56\n",
       "12 172.217.6.238    67\n",
       "13 174.35.73.98     40\n",
       "14 180.149.136.194  40\n",
       "15 192.229.163.180  49\n",
       "16 203.130.53.126   35\n",
       "17 205.174.165.70   38\n",
       "18 220.170.182.31   37\n",
       "19 220.181.7.190    50\n",
       "20 36.110.213.49    45\n",
       "21 8.0.6.4          40"
      ]
     },
     "metadata": {},
     "output_type": "display_data"
    }
   ],
   "source": [
    "df  %>% \n",
    "group_by(`Destination IP`) %>% \n",
    "summarise(n = n()) %>% \n",
    "top_n(20)"
   ]
  },
  {
   "cell_type": "code",
   "execution_count": 25,
   "metadata": {},
   "outputs": [
    {
     "name": "stderr",
     "output_type": "stream",
     "text": [
      "Selecting by n\n"
     ]
    },
    {
     "data": {
      "text/html": [
       "<table>\n",
       "<thead><tr><th scope=col>Source Port</th><th scope=col>n</th></tr></thead>\n",
       "<tbody>\n",
       "\t<tr><td>    0</td><td> 43  </td></tr>\n",
       "\t<tr><td>   80</td><td> 84  </td></tr>\n",
       "\t<tr><td>  443</td><td>272  </td></tr>\n",
       "\t<tr><td> 5222</td><td>  7  </td></tr>\n",
       "\t<tr><td>37729</td><td>  7  </td></tr>\n",
       "\t<tr><td>37838</td><td>  7  </td></tr>\n",
       "\t<tr><td>38176</td><td>  7  </td></tr>\n",
       "\t<tr><td>38193</td><td>  7  </td></tr>\n",
       "\t<tr><td>40534</td><td>  7  </td></tr>\n",
       "\t<tr><td>41091</td><td>  7  </td></tr>\n",
       "\t<tr><td>42091</td><td>  7  </td></tr>\n",
       "\t<tr><td>42253</td><td>  9  </td></tr>\n",
       "\t<tr><td>42971</td><td> 10  </td></tr>\n",
       "\t<tr><td>46190</td><td>  9  </td></tr>\n",
       "\t<tr><td>46360</td><td>  9  </td></tr>\n",
       "\t<tr><td>46982</td><td>  7  </td></tr>\n",
       "\t<tr><td>50186</td><td>  7  </td></tr>\n",
       "\t<tr><td>51046</td><td>  7  </td></tr>\n",
       "\t<tr><td>52538</td><td>  7  </td></tr>\n",
       "\t<tr><td>52826</td><td> 11  </td></tr>\n",
       "\t<tr><td>58756</td><td>  7  </td></tr>\n",
       "\t<tr><td>59123</td><td>  7  </td></tr>\n",
       "\t<tr><td>60046</td><td>  7  </td></tr>\n",
       "</tbody>\n",
       "</table>\n"
      ],
      "text/latex": [
       "\\begin{tabular}{r|ll}\n",
       " Source Port & n\\\\\n",
       "\\hline\n",
       "\t     0 &  43  \\\\\n",
       "\t    80 &  84  \\\\\n",
       "\t   443 & 272  \\\\\n",
       "\t  5222 &   7  \\\\\n",
       "\t 37729 &   7  \\\\\n",
       "\t 37838 &   7  \\\\\n",
       "\t 38176 &   7  \\\\\n",
       "\t 38193 &   7  \\\\\n",
       "\t 40534 &   7  \\\\\n",
       "\t 41091 &   7  \\\\\n",
       "\t 42091 &   7  \\\\\n",
       "\t 42253 &   9  \\\\\n",
       "\t 42971 &  10  \\\\\n",
       "\t 46190 &   9  \\\\\n",
       "\t 46360 &   9  \\\\\n",
       "\t 46982 &   7  \\\\\n",
       "\t 50186 &   7  \\\\\n",
       "\t 51046 &   7  \\\\\n",
       "\t 52538 &   7  \\\\\n",
       "\t 52826 &  11  \\\\\n",
       "\t 58756 &   7  \\\\\n",
       "\t 59123 &   7  \\\\\n",
       "\t 60046 &   7  \\\\\n",
       "\\end{tabular}\n"
      ],
      "text/markdown": [
       "\n",
       "| Source Port | n |\n",
       "|---|---|\n",
       "|     0 |  43   |\n",
       "|    80 |  84   |\n",
       "|   443 | 272   |\n",
       "|  5222 |   7   |\n",
       "| 37729 |   7   |\n",
       "| 37838 |   7   |\n",
       "| 38176 |   7   |\n",
       "| 38193 |   7   |\n",
       "| 40534 |   7   |\n",
       "| 41091 |   7   |\n",
       "| 42091 |   7   |\n",
       "| 42253 |   9   |\n",
       "| 42971 |  10   |\n",
       "| 46190 |   9   |\n",
       "| 46360 |   9   |\n",
       "| 46982 |   7   |\n",
       "| 50186 |   7   |\n",
       "| 51046 |   7   |\n",
       "| 52538 |   7   |\n",
       "| 52826 |  11   |\n",
       "| 58756 |   7   |\n",
       "| 59123 |   7   |\n",
       "| 60046 |   7   |\n",
       "\n"
      ],
      "text/plain": [
       "   Source Port n  \n",
       "1      0        43\n",
       "2     80        84\n",
       "3    443       272\n",
       "4   5222         7\n",
       "5  37729         7\n",
       "6  37838         7\n",
       "7  38176         7\n",
       "8  38193         7\n",
       "9  40534         7\n",
       "10 41091         7\n",
       "11 42091         7\n",
       "12 42253         9\n",
       "13 42971        10\n",
       "14 46190         9\n",
       "15 46360         9\n",
       "16 46982         7\n",
       "17 50186         7\n",
       "18 51046         7\n",
       "19 52538         7\n",
       "20 52826        11\n",
       "21 58756         7\n",
       "22 59123         7\n",
       "23 60046         7"
      ]
     },
     "metadata": {},
     "output_type": "display_data"
    }
   ],
   "source": [
    "df  %>% \n",
    "group_by(`Source Port`) %>% \n",
    "summarise(n = n()) %>% \n",
    "top_n(10)"
   ]
  },
  {
   "cell_type": "code",
   "execution_count": 24,
   "metadata": {},
   "outputs": [
    {
     "name": "stderr",
     "output_type": "stream",
     "text": [
      "Selecting by n\n"
     ]
    },
    {
     "data": {
      "text/html": [
       "<table>\n",
       "<thead><tr><th scope=col>Destination Port</th><th scope=col>n</th></tr></thead>\n",
       "<tbody>\n",
       "\t<tr><td>    0</td><td>  43 </td></tr>\n",
       "\t<tr><td>   53</td><td> 152 </td></tr>\n",
       "\t<tr><td>   80</td><td>1327 </td></tr>\n",
       "\t<tr><td>  443</td><td>2045 </td></tr>\n",
       "\t<tr><td> 1900</td><td>   4 </td></tr>\n",
       "\t<tr><td> 5222</td><td>  13 </td></tr>\n",
       "\t<tr><td> 5228</td><td>  20 </td></tr>\n",
       "\t<tr><td>16100</td><td>   5 </td></tr>\n",
       "\t<tr><td>48962</td><td>   4 </td></tr>\n",
       "\t<tr><td>51618</td><td>   4 </td></tr>\n",
       "\t<tr><td>57199</td><td>   7 </td></tr>\n",
       "</tbody>\n",
       "</table>\n"
      ],
      "text/latex": [
       "\\begin{tabular}{r|ll}\n",
       " Destination Port & n\\\\\n",
       "\\hline\n",
       "\t     0 &   43 \\\\\n",
       "\t    53 &  152 \\\\\n",
       "\t    80 & 1327 \\\\\n",
       "\t   443 & 2045 \\\\\n",
       "\t  1900 &    4 \\\\\n",
       "\t  5222 &   13 \\\\\n",
       "\t  5228 &   20 \\\\\n",
       "\t 16100 &    5 \\\\\n",
       "\t 48962 &    4 \\\\\n",
       "\t 51618 &    4 \\\\\n",
       "\t 57199 &    7 \\\\\n",
       "\\end{tabular}\n"
      ],
      "text/markdown": [
       "\n",
       "| Destination Port | n |\n",
       "|---|---|\n",
       "|     0 |   43  |\n",
       "|    53 |  152  |\n",
       "|    80 | 1327  |\n",
       "|   443 | 2045  |\n",
       "|  1900 |    4  |\n",
       "|  5222 |   13  |\n",
       "|  5228 |   20  |\n",
       "| 16100 |    5  |\n",
       "| 48962 |    4  |\n",
       "| 51618 |    4  |\n",
       "| 57199 |    7  |\n",
       "\n"
      ],
      "text/plain": [
       "   Destination Port n   \n",
       "1      0              43\n",
       "2     53             152\n",
       "3     80            1327\n",
       "4    443            2045\n",
       "5   1900               4\n",
       "6   5222              13\n",
       "7   5228              20\n",
       "8  16100               5\n",
       "9  48962               4\n",
       "10 51618               4\n",
       "11 57199               7"
      ]
     },
     "metadata": {},
     "output_type": "display_data"
    }
   ],
   "source": [
    "df  %>% \n",
    "group_by(`Destination Port`) %>% \n",
    "summarise(n = n()) %>% \n",
    "top_n(10)"
   ]
  },
  {
   "cell_type": "code",
   "execution_count": 17,
   "metadata": {
    "lines_to_next_cell": 0
   },
   "outputs": [
    {
     "data": {
      "image/png": "[encoded data removed]",
      "text/plain": [
       "plot without title"
      ]
     },
     "metadata": {},
     "output_type": "display_data"
    }
   ],
   "source": [
    "ggplot(df %>% mutate(`Destination Port` = as.factor(`Destination Port`))) +\n",
    "  aes(x = `Destination Port`) + geom_bar() + #facet_grid(.~Label) +\n",
    "  theme(axis.text.x=element_text(angle=90, hjust=1))"
   ]
  },
  {
   "cell_type": "markdown",
   "metadata": {},
   "source": []
  }
 ],
 "metadata": {
  "jupytext": {
   "formats": "ipynb,Rmd",
   "text_representation": {
    "extension": ".Rmd",
    "format_name": "rmarkdown",
    "format_version": "1.1",
    "jupytext_version": "1.2.4"
   }
  },
  "kernelspec": {
   "display_name": "R",
   "language": "R",
   "name": "ir"
  },
  "language_info": {
   "codemirror_mode": "r",
   "file_extension": ".r",
   "mimetype": "text/x-r-source",
   "name": "R",
   "pygments_lexer": "r",
   "version": "3.6.1"
  }
 },
 "nbformat": 4,
 "nbformat_minor": 2
}
