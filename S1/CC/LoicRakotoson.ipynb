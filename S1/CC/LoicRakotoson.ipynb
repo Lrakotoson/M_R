{
 "cells": [
  {
   "cell_type": "code",
   "execution_count": 1,
   "metadata": {},
   "outputs": [
    {
     "data": {
      "text/plain": [
       " Meilleur.acteur Meilleure.actrice Meilleur.second.rôle Meilleure.second.rôle\n",
       " Min.   :0.00    Min.   :0.00      Min.   :0.00         Min.   : 0.000       \n",
       " 1st Qu.:0.75    1st Qu.:1.00      1st Qu.:2.75         1st Qu.: 1.000       \n",
       " Median :2.00    Median :2.00      Median :3.50         Median : 3.000       \n",
       " Mean   :2.50    Mean   :1.75      Mean   :4.00         Mean   : 3.857       \n",
       " 3rd Qu.:3.50    3rd Qu.:2.25      3rd Qu.:5.25         3rd Qu.: 6.000       \n",
       " Max.   :7.00    Max.   :3.00      Max.   :9.00         Max.   :10.000       \n",
       "                                                        NA's   :1            \n",
       " Meilleur.film    Réalisateur        Son            Vidéo      \n",
       " Min.   : 2.00   Min.   :2.00   Min.   : 0.00   Min.   : 1.00  \n",
       " 1st Qu.: 2.75   1st Qu.:3.75   1st Qu.: 9.00   1st Qu.: 6.75  \n",
       " Median : 4.50   Median :4.50   Median :10.50   Median :11.50  \n",
       " Mean   : 5.00   Mean   :5.00   Mean   :12.88   Mean   :11.88  \n",
       " 3rd Qu.: 5.75   3rd Qu.:7.00   3rd Qu.:13.00   3rd Qu.:14.00  \n",
       " Max.   :11.00   Max.   :8.00   Max.   :40.00   Max.   :30.00  \n",
       "                                                               \n",
       "    Scénario        Esthétisme  \n",
       " Min.   : 0.000   Min.   : 2.0  \n",
       " 1st Qu.: 3.750   1st Qu.: 7.0  \n",
       " Median : 6.000   Median : 7.0  \n",
       " Mean   : 6.375   Mean   : 8.0  \n",
       " 3rd Qu.: 7.500   3rd Qu.:10.5  \n",
       " Max.   :16.000   Max.   :12.0  \n",
       "                  NA's   :1     "
      ]
     },
     "metadata": {},
     "output_type": "display_data"
    },
    {
     "data": {
      "text/html": [
       "<ol class=list-inline>\n",
       "\t<li>'Meilleure.second.rôle'</li>\n",
       "\t<li>'Esthétisme'</li>\n",
       "</ol>\n"
      ],
      "text/latex": [
       "\\begin{enumerate*}\n",
       "\\item 'Meilleure.second.rôle'\n",
       "\\item 'Esthétisme'\n",
       "\\end{enumerate*}\n"
      ],
      "text/markdown": [
       "1. 'Meilleure.second.rôle'\n",
       "2. 'Esthétisme'\n",
       "\n",
       "\n"
      ],
      "text/plain": [
       "[1] \"Meilleure.second.rôle\" \"Esthétisme\"           "
      ]
     },
     "metadata": {},
     "output_type": "display_data"
    },
    {
     "data": {
      "text/html": [
       "'James Cameron'"
      ],
      "text/latex": [
       "'James Cameron'"
      ],
      "text/markdown": [
       "'James Cameron'"
      ],
      "text/plain": [
       "[1] \"James Cameron\""
      ]
     },
     "metadata": {},
     "output_type": "display_data"
    },
    {
     "data": {
      "text/html": [
       "<ol class=list-inline>\n",
       "\t<li>'Meilleur.acteur'</li>\n",
       "\t<li>'Meilleure.actrice'</li>\n",
       "\t<li>'Meilleur.second.rôle'</li>\n",
       "\t<li>'Meilleure.second.rôle'</li>\n",
       "\t<li>'Meilleur.film'</li>\n",
       "\t<li>'Réalisateur'</li>\n",
       "\t<li>'Scénario'</li>\n",
       "</ol>\n"
      ],
      "text/latex": [
       "\\begin{enumerate*}\n",
       "\\item 'Meilleur.acteur'\n",
       "\\item 'Meilleure.actrice'\n",
       "\\item 'Meilleur.second.rôle'\n",
       "\\item 'Meilleure.second.rôle'\n",
       "\\item 'Meilleur.film'\n",
       "\\item 'Réalisateur'\n",
       "\\item 'Scénario'\n",
       "\\end{enumerate*}\n"
      ],
      "text/markdown": [
       "1. 'Meilleur.acteur'\n",
       "2. 'Meilleure.actrice'\n",
       "3. 'Meilleur.second.rôle'\n",
       "4. 'Meilleure.second.rôle'\n",
       "5. 'Meilleur.film'\n",
       "6. 'Réalisateur'\n",
       "7. 'Scénario'\n",
       "\n",
       "\n"
      ],
      "text/plain": [
       "[1] \"Meilleur.acteur\"       \"Meilleure.actrice\"     \"Meilleur.second.rôle\" \n",
       "[4] \"Meilleure.second.rôle\" \"Meilleur.film\"         \"Réalisateur\"          \n",
       "[7] \"Scénario\"             "
      ]
     },
     "metadata": {},
     "output_type": "display_data"
    },
    {
     "data": {
      "image/png": "[encoded data removed]",
      "text/plain": [
       "Plot with title \"Nominations obtenus par Woody Allen\""
      ]
     },
     "metadata": {},
     "output_type": "display_data"
    }
   ],
   "source": [
    "# 1 - Importation\n",
    "## 1. et 2.\n",
    "data <- read.table(\"GroupeA.csv\",\n",
    "                   sep = \",\",\n",
    "                   skip = 7,\n",
    "                   header = T,\n",
    "                   encoding = \"UTF-8\",\n",
    "                   row.names = 1,\n",
    "                   na.strings = \"DM\"\n",
    "                      )\n",
    "\n",
    "summary(data)\n",
    "\n",
    "## 3.\n",
    "colnames(data)[colSums(is.na(data)) > 0]\n",
    "\n",
    "## 4.\n",
    "rownames(data)[which.min(data$Réalisateur)]\n",
    "\n",
    "## 5.\n",
    "data$Moyenne <- rowMeans(data, na.rm = T)\n",
    "\n",
    "colnames(data)[which(data[\"James Cameron\",] < data[\"James Cameron\",]$Moyenne)]\n",
    "\n",
    "## 6.\n",
    "data <- rbind(data, colMeans(data, na.rm = T))\n",
    "row.names(data)[9] <- \"MOYENNE\"\n",
    "\n",
    "## 7.\n",
    "wallen <- data[\"Woody Allen\",]\n",
    "wallen$acteurs <- rowSums(wallen[,1:4])\n",
    "wallen[,1:4] <- rep(NULL,4)\n",
    "wallen[,\"Moyenne\"] <- NULL\n",
    "\n",
    "barplot(t(wallen)[,1],\n",
    "        main = \"Nominations obtenus par Woody Allen\",\n",
    "        ylab = \"Nombre de nominations\",\n",
    "        xlab = \"Catégories\",\n",
    "        col = rainbow(7)\n",
    "       )\n",
    "\n",
    "legend(\"topleft\",\n",
    "       legend = colnames(wallen),\n",
    "       fill= rainbow(7)\n",
    "      )\n",
    "\n",
    "## 8.\n",
    "na <- which(is.na(data), arr.ind=TRUE)\n",
    "data[na] <- rowMeans(data, na.rm=TRUE)[na[,1]]\n",
    "\n",
    "# 2 - Simulation\n",
    "## 2.1 Lois discrètes\n",
    "### 1.\n",
    "X <- function(p,x){\n",
    "    N <- length(x)\n",
    "    U <- runif(1)\n",
    "    if (U <= p[1]){\n",
    "        X <- x[1]\n",
    "    } else {\n",
    "        for (k in 2:N) {\n",
    "            if(sum(p[1:(k-1)]) < U & U <= sum(p[1:k])) {\n",
    "                X <- x[k]\n",
    "            }\n",
    "        }\n",
    "    }\n",
    "    return(X)\n",
    "}\n",
    "\n",
    "### 2.\n",
    "SampleX <- function(p, x, n = 1){\n",
    "    X <- rep(0,n)\n",
    "    for (i in 1:n){\n",
    "        X[i] <- X(p,x)\n",
    "    }\n",
    "    return(X)\n",
    "}\n",
    "\n",
    "## 2.2 Lois continues\n",
    "### 2.2.1 Simulation à partir d'une autre\n",
    "#### 1.\n",
    "MyChi2 <- function(k){\n",
    "    if (k<1) {\n",
    "        ch <- \"Erreur: k inférieur à 1\"\n",
    "    } else {\n",
    "        ch <- sum(rnorm(k, mean = 0, sd = 1)^2)\n",
    "    }\n",
    "    return(ch)\n",
    "}\n",
    "\n",
    "#### 2.\n",
    "MyUnif <- function(a,b){\n",
    "    U <- runif(1)\n",
    "    if (a>0 & b>1){\n",
    "        X <- U+a\n",
    "    } else if (a>0 & b<1) {\n",
    "        X <- U+a-b\n",
    "    } else if (a<0 & b <1) {\n",
    "        X <- U-a-b\n",
    "    } else if (a<0 & b<1) {\n",
    "        X <- U-b\n",
    "    } else {\n",
    "        X <- U\n",
    "    }\n",
    "    return(X)\n",
    "}\n",
    "\n",
    "### 2.2.2 Simulation à partir d'une fonction de répartition\n",
    "Exp <- function(l = 1,n = 1){\n",
    "    if (l < 0) {\n",
    "        X <- \"Erreur: lambda négative\"\n",
    "    } else {\n",
    "        X <- rep(0,n)\n",
    "        for (i in 1:n){\n",
    "            U <- runif(1)\n",
    "            X[i] <- -(1/l)*log(1-U)\n",
    "        }\n",
    "    }\n",
    "    return(X) \n",
    "}"
   ]
  }
 ],
 "metadata": {
  "jupytext": {
   "formats": "ipynb,Rmd"
  },
  "kernelspec": {
   "display_name": "R",
   "language": "R",
   "name": "ir"
  },
  "language_info": {
   "codemirror_mode": "r",
   "file_extension": ".r",
   "mimetype": "text/x-r-source",
   "name": "R",
   "pygments_lexer": "r",
   "version": "3.6.1"
  },
  "latex_envs": {
   "LaTeX_envs_menu_present": true,
   "autoclose": true,
   "autocomplete": true,
   "bibliofile": "biblio.bib",
   "cite_by": "apalike",
   "current_citInitial": 1,
   "eqLabelWithNumbers": true,
   "eqNumInitial": 1,
   "hotkeys": {
    "equation": "Ctrl-E",
    "itemize": "Ctrl-I"
   },
   "labels_anchors": false,
   "latex_user_defs": false,
   "report_style_numbering": false,
   "user_envs_cfg": false
  }
 },
 "nbformat": 4,
 "nbformat_minor": 2
}
