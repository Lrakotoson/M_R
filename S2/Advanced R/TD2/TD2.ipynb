{
 "cells": [
  {
   "cell_type": "code",
   "execution_count": 61,
   "metadata": {},
   "outputs": [],
   "source": [
    "library(tidyverse)"
   ]
  },
  {
   "cell_type": "markdown",
   "metadata": {},
   "source": [
    "# Les tournois majeurs au tennis en 2013\n",
    "1. Lire fichier csv"
   ]
  },
  {
   "cell_type": "code",
   "execution_count": 2,
   "metadata": {},
   "outputs": [
    {
     "name": "stderr",
     "output_type": "stream",
     "text": [
      "Parsed with column specification:\n",
      "cols(\n",
      "  .default = col_double(),\n",
      "  Player1 = col_character(),\n",
      "  Player2 = col_character()\n",
      ")\n",
      "See spec(...) for full column specifications.\n"
     ]
    }
   ],
   "source": [
    "tournois <- read_csv(\"../DATA/FrenchOpen-men-2013.csv\")"
   ]
  },
  {
   "cell_type": "code",
   "execution_count": 3,
   "metadata": {},
   "outputs": [
    {
     "data": {
      "text/plain": [
       "   Player1            Player2              Round           Result     \n",
       " Length:125         Length:125         Min.   :1.000   Min.   :0.000  \n",
       " Class :character   Class :character   1st Qu.:1.000   1st Qu.:0.000  \n",
       " Mode  :character   Mode  :character   Median :1.000   Median :0.000  \n",
       "                                       Mean   :1.952   Mean   :0.472  \n",
       "                                       3rd Qu.:2.000   3rd Qu.:1.000  \n",
       "                                       Max.   :7.000   Max.   :1.000  \n",
       "                                                                      \n",
       "     FNL.1           FNL.2          FSP.1          FSW.1           SSP.1     \n",
       " Min.   :0.000   Min.   :0.00   Min.   :43.0   Min.   :10.00   Min.   :16.0  \n",
       " 1st Qu.:0.000   1st Qu.:1.00   1st Qu.:58.0   1st Qu.:35.00   1st Qu.:31.0  \n",
       " Median :2.000   Median :2.00   Median :64.0   Median :45.00   Median :36.0  \n",
       " Mean   :1.728   Mean   :1.84   Mean   :63.6   Mean   :48.62   Mean   :36.4  \n",
       " 3rd Qu.:3.000   3rd Qu.:3.00   3rd Qu.:69.0   3rd Qu.:61.00   3rd Qu.:42.0  \n",
       " Max.   :3.000   Max.   :3.00   Max.   :84.0   Max.   :99.00   Max.   :57.0  \n",
       "                                                                             \n",
       "     SSW.1           ACE.1            DBF.1            WNR.1      \n",
       " Min.   : 6.00   Min.   : 0.000   Min.   : 0.000   Min.   : 6.00  \n",
       " 1st Qu.:13.00   1st Qu.: 3.000   1st Qu.: 1.000   1st Qu.:24.00  \n",
       " Median :20.00   Median : 5.000   Median : 3.000   Median :32.00  \n",
       " Mean   :20.04   Mean   : 6.152   Mean   : 2.992   Mean   :35.66  \n",
       " 3rd Qu.:25.00   3rd Qu.: 8.000   3rd Qu.: 4.000   3rd Qu.:45.00  \n",
       " Max.   :52.00   Max.   :24.000   Max.   :11.000   Max.   :92.00  \n",
       "                                  NA's   :2                       \n",
       "     UFE.1           BPC.1            BPW.1            NPA.1      \n",
       " Min.   : 8.00   Min.   : 0.000   Min.   : 0.000   Min.   : 0.00  \n",
       " 1st Qu.:25.00   1st Qu.: 1.000   1st Qu.: 5.000   1st Qu.: 9.00  \n",
       " Median :34.00   Median : 4.000   Median :10.000   Median :13.00  \n",
       " Mean   :35.86   Mean   : 3.872   Mean   : 9.304   Mean   :14.51  \n",
       " 3rd Qu.:42.00   3rd Qu.: 6.000   3rd Qu.:13.000   3rd Qu.:18.00  \n",
       " Max.   :89.00   Max.   :10.000   Max.   :23.000   Max.   :37.00  \n",
       "                                                                  \n",
       "     NPW.1           TPW.1           ST1.1          ST2.1           ST3.1      \n",
       " Min.   : 3.00   Min.   : 38.0   Min.   :0.00   Min.   :0.000   Min.   :0.000  \n",
       " 1st Qu.:15.00   1st Qu.: 85.0   1st Qu.:3.00   1st Qu.:4.000   1st Qu.:3.000  \n",
       " Median :22.00   Median :102.0   Median :6.00   Median :6.000   Median :6.000  \n",
       " Mean   :22.94   Mean   :109.3   Mean   :4.76   Mean   :5.072   Mean   :4.593  \n",
       " 3rd Qu.:28.00   3rd Qu.:132.0   3rd Qu.:6.00   3rd Qu.:6.000   3rd Qu.:6.000  \n",
       " Max.   :56.00   Max.   :224.0   Max.   :7.00   Max.   :7.000   Max.   :7.000  \n",
       "                                                                NA's   :2      \n",
       "     ST4.1           ST5.1           FSP.2           FSW.2       \n",
       " Min.   :0.000   Min.   :1.000   Min.   :46.00   Min.   : 16.00  \n",
       " 1st Qu.:3.000   1st Qu.:3.250   1st Qu.:57.00   1st Qu.: 34.00  \n",
       " Median :6.000   Median :6.000   Median :62.00   Median : 45.00  \n",
       " Mean   :4.725   Mean   :4.682   Mean   :61.22   Mean   : 46.93  \n",
       " 3rd Qu.:6.000   3rd Qu.:6.000   3rd Qu.:65.00   3rd Qu.: 58.00  \n",
       " Max.   :7.000   Max.   :8.000   Max.   :78.00   Max.   :132.00  \n",
       " NA's   :74      NA's   :103                                     \n",
       "     SSP.2           SSW.2           ACE.2            DBF.2      \n",
       " Min.   :22.00   Min.   : 6.00   Min.   : 0.000   Min.   : 0.00  \n",
       " 1st Qu.:35.00   1st Qu.:15.00   1st Qu.: 3.000   1st Qu.: 2.00  \n",
       " Median :38.00   Median :21.00   Median : 6.000   Median : 3.00  \n",
       " Mean   :38.78   Mean   :21.49   Mean   : 6.536   Mean   : 3.61  \n",
       " 3rd Qu.:43.00   3rd Qu.:27.00   3rd Qu.: 9.000   3rd Qu.: 5.00  \n",
       " Max.   :54.00   Max.   :47.00   Max.   :27.000   Max.   :10.00  \n",
       "                                                  NA's   :2      \n",
       "     WNR.2           UFE.2          BPC.2            BPW.2       \n",
       " Min.   :10.00   Min.   : 7.0   Min.   : 0.000   Min.   : 1.000  \n",
       " 1st Qu.:25.00   1st Qu.:26.0   1st Qu.: 2.000   1st Qu.: 5.000  \n",
       " Median :35.00   Median :35.0   Median : 4.000   Median :10.000  \n",
       " Mean   :37.24   Mean   :36.7   Mean   : 3.912   Mean   : 9.696  \n",
       " 3rd Qu.:48.00   3rd Qu.:46.0   3rd Qu.: 6.000   3rd Qu.:13.000  \n",
       " Max.   :92.00   Max.   :72.0   Max.   :11.000   Max.   :23.000  \n",
       "                                                                 \n",
       "     NPA.2           NPW.2           TPW.2           ST1.2      \n",
       " Min.   : 1.00   Min.   : 2.00   Min.   : 48.0   Min.   :0.000  \n",
       " 1st Qu.: 9.00   1st Qu.:14.00   1st Qu.: 86.0   1st Qu.:4.000  \n",
       " Median :14.00   Median :21.00   Median :104.0   Median :6.000  \n",
       " Mean   :14.46   Mean   :22.69   Mean   :110.1   Mean   :5.072  \n",
       " 3rd Qu.:19.00   3rd Qu.:29.00   3rd Qu.:132.0   3rd Qu.:6.000  \n",
       " Max.   :52.00   Max.   :80.00   Max.   :213.0   Max.   :7.000  \n",
       "                                                                \n",
       "     ST2.2           ST3.2           ST4.2           ST5.2      \n",
       " Min.   :0.000   Min.   :0.000   Min.   :1.000   Min.   :1.000  \n",
       " 1st Qu.:3.000   1st Qu.:3.000   1st Qu.:4.000   1st Qu.:4.000  \n",
       " Median :6.000   Median :6.000   Median :6.000   Median :6.000  \n",
       " Mean   :4.736   Mean   :4.748   Mean   :4.824   Mean   :5.318  \n",
       " 3rd Qu.:6.000   3rd Qu.:6.000   3rd Qu.:6.000   3rd Qu.:6.750  \n",
       " Max.   :7.000   Max.   :7.000   Max.   :7.000   Max.   :9.000  \n",
       "                 NA's   :2       NA's   :74      NA's   :103    "
      ]
     },
     "metadata": {},
     "output_type": "display_data"
    }
   ],
   "source": [
    "summary(tournois)"
   ]
  },
  {
   "cell_type": "code",
   "execution_count": 39,
   "metadata": {},
   "outputs": [
    {
     "data": {
      "text/html": [
       "<table>\n",
       "<thead><tr><th scope=col>Player1</th></tr></thead>\n",
       "<tbody>\n",
       "\t<tr><td>Pablo Carreno-Busta  </td></tr>\n",
       "\t<tr><td>Somdev Devvarman     </td></tr>\n",
       "\t<tr><td>Tobias Kamke         </td></tr>\n",
       "\t<tr><td>Julien Benneteau     </td></tr>\n",
       "\t<tr><td>Lukas Lacko          </td></tr>\n",
       "\t<tr><td>Jan Hajek            </td></tr>\n",
       "\t<tr><td>Adrian Mannarino     </td></tr>\n",
       "\t<tr><td>Gilles Simon         </td></tr>\n",
       "\t<tr><td>Philipp Petzschner   </td></tr>\n",
       "\t<tr><td>Radek Stepanek       </td></tr>\n",
       "\t<tr><td>Viktor Troicki       </td></tr>\n",
       "\t<tr><td>Juan Monaco          </td></tr>\n",
       "\t<tr><td>Benjamin Becker      </td></tr>\n",
       "\t<tr><td>Roberto Bautista Agut</td></tr>\n",
       "\t<tr><td>Jarkko Nieminen      </td></tr>\n",
       "\t<tr><td>Jo-Wilfried Tsonga   </td></tr>\n",
       "\t<tr><td>Marinko Matosevic    </td></tr>\n",
       "\t<tr><td>Steve Johnson        </td></tr>\n",
       "\t<tr><td>Joao Sousa           </td></tr>\n",
       "\t<tr><td>Marcel Granollers    </td></tr>\n",
       "\t<tr><td>Illya Marchenko      </td></tr>\n",
       "\t<tr><td>Jan-Lennard Struff   </td></tr>\n",
       "\t<tr><td>Steve Darcis         </td></tr>\n",
       "\t<tr><td>Milos Raonic         </td></tr>\n",
       "\t<tr><td>Andreas Haider-Maurer</td></tr>\n",
       "\t<tr><td>Martin Alund         </td></tr>\n",
       "\t<tr><td>Blaz Kavcic          </td></tr>\n",
       "\t<tr><td>Andreas Seppi        </td></tr>\n",
       "\t<tr><td>Jurgen Zopp          </td></tr>\n",
       "\t<tr><td>Igor Sijsling        </td></tr>\n",
       "\t<tr><td>...</td></tr>\n",
       "\t<tr><td>Carlos Berlocq        </td></tr>\n",
       "\t<tr><td>Andrey Kuznetsov      </td></tr>\n",
       "\t<tr><td>Jack Sock             </td></tr>\n",
       "\t<tr><td>Tommy Haas            </td></tr>\n",
       "\t<tr><td>Jiri Vesely           </td></tr>\n",
       "\t<tr><td>Simone Bolelli        </td></tr>\n",
       "\t<tr><td>Bernard Tomic         </td></tr>\n",
       "\t<tr><td>Alexandr Dolgopolov   </td></tr>\n",
       "\t<tr><td>Alejandro Falla       </td></tr>\n",
       "\t<tr><td>Alex Kuznetsov        </td></tr>\n",
       "\t<tr><td>Ivan Dodig            </td></tr>\n",
       "\t<tr><td>Novak Djokovic        </td></tr>\n",
       "\t<tr><td>Nick Kyrgios          </td></tr>\n",
       "\t<tr><td>Daniel Gimeno-Traver  </td></tr>\n",
       "\t<tr><td>Albert Montanes       </td></tr>\n",
       "\t<tr><td>Feliciano Lopez       </td></tr>\n",
       "\t<tr><td>Evgeny Donskoy        </td></tr>\n",
       "\t<tr><td>Edouard Roger-Vasselin</td></tr>\n",
       "\t<tr><td>Gael Monfils          </td></tr>\n",
       "\t<tr><td>Denis Istomin         </td></tr>\n",
       "\t<tr><td>Robin Haase           </td></tr>\n",
       "\t<tr><td>Lukas Rosol           </td></tr>\n",
       "\t<tr><td>Ryan Harrison         </td></tr>\n",
       "\t<tr><td>Dmitry Tursunov       </td></tr>\n",
       "\t<tr><td>Lucas Pouille         </td></tr>\n",
       "\t<tr><td>Nikolay Davydenko     </td></tr>\n",
       "\t<tr><td>Victor Hanescu        </td></tr>\n",
       "\t<tr><td>Kevin Anderson        </td></tr>\n",
       "\t<tr><td>Tommy Robredo         </td></tr>\n",
       "\t<tr><td>David Ferrer          </td></tr>\n",
       "</tbody>\n",
       "</table>\n"
      ],
      "text/latex": [
       "\\begin{tabular}{r|l}\n",
       " Player1\\\\\n",
       "\\hline\n",
       "\t Pablo Carreno-Busta  \\\\\n",
       "\t Somdev Devvarman     \\\\\n",
       "\t Tobias Kamke         \\\\\n",
       "\t Julien Benneteau     \\\\\n",
       "\t Lukas Lacko          \\\\\n",
       "\t Jan Hajek            \\\\\n",
       "\t Adrian Mannarino     \\\\\n",
       "\t Gilles Simon         \\\\\n",
       "\t Philipp Petzschner   \\\\\n",
       "\t Radek Stepanek       \\\\\n",
       "\t Viktor Troicki       \\\\\n",
       "\t Juan Monaco          \\\\\n",
       "\t Benjamin Becker      \\\\\n",
       "\t Roberto Bautista Agut\\\\\n",
       "\t Jarkko Nieminen      \\\\\n",
       "\t Jo-Wilfried Tsonga   \\\\\n",
       "\t Marinko Matosevic    \\\\\n",
       "\t Steve Johnson        \\\\\n",
       "\t Joao Sousa           \\\\\n",
       "\t Marcel Granollers    \\\\\n",
       "\t Illya Marchenko      \\\\\n",
       "\t Jan-Lennard Struff   \\\\\n",
       "\t Steve Darcis         \\\\\n",
       "\t Milos Raonic         \\\\\n",
       "\t Andreas Haider-Maurer\\\\\n",
       "\t Martin Alund         \\\\\n",
       "\t Blaz Kavcic          \\\\\n",
       "\t Andreas Seppi        \\\\\n",
       "\t Jurgen Zopp          \\\\\n",
       "\t Igor Sijsling        \\\\\n",
       "\t ...\\\\\n",
       "\t Carlos Berlocq        \\\\\n",
       "\t Andrey Kuznetsov      \\\\\n",
       "\t Jack Sock             \\\\\n",
       "\t Tommy Haas            \\\\\n",
       "\t Jiri Vesely           \\\\\n",
       "\t Simone Bolelli        \\\\\n",
       "\t Bernard Tomic         \\\\\n",
       "\t Alexandr Dolgopolov   \\\\\n",
       "\t Alejandro Falla       \\\\\n",
       "\t Alex Kuznetsov        \\\\\n",
       "\t Ivan Dodig            \\\\\n",
       "\t Novak Djokovic        \\\\\n",
       "\t Nick Kyrgios          \\\\\n",
       "\t Daniel Gimeno-Traver  \\\\\n",
       "\t Albert Montanes       \\\\\n",
       "\t Feliciano Lopez       \\\\\n",
       "\t Evgeny Donskoy        \\\\\n",
       "\t Edouard Roger-Vasselin\\\\\n",
       "\t Gael Monfils          \\\\\n",
       "\t Denis Istomin         \\\\\n",
       "\t Robin Haase           \\\\\n",
       "\t Lukas Rosol           \\\\\n",
       "\t Ryan Harrison         \\\\\n",
       "\t Dmitry Tursunov       \\\\\n",
       "\t Lucas Pouille         \\\\\n",
       "\t Nikolay Davydenko     \\\\\n",
       "\t Victor Hanescu        \\\\\n",
       "\t Kevin Anderson        \\\\\n",
       "\t Tommy Robredo         \\\\\n",
       "\t David Ferrer          \\\\\n",
       "\\end{tabular}\n"
      ],
      "text/markdown": [
       "\n",
       "| Player1 |\n",
       "|---|\n",
       "| Pablo Carreno-Busta   |\n",
       "| Somdev Devvarman      |\n",
       "| Tobias Kamke          |\n",
       "| Julien Benneteau      |\n",
       "| Lukas Lacko           |\n",
       "| Jan Hajek             |\n",
       "| Adrian Mannarino      |\n",
       "| Gilles Simon          |\n",
       "| Philipp Petzschner    |\n",
       "| Radek Stepanek        |\n",
       "| Viktor Troicki        |\n",
       "| Juan Monaco           |\n",
       "| Benjamin Becker       |\n",
       "| Roberto Bautista Agut |\n",
       "| Jarkko Nieminen       |\n",
       "| Jo-Wilfried Tsonga    |\n",
       "| Marinko Matosevic     |\n",
       "| Steve Johnson         |\n",
       "| Joao Sousa            |\n",
       "| Marcel Granollers     |\n",
       "| Illya Marchenko       |\n",
       "| Jan-Lennard Struff    |\n",
       "| Steve Darcis          |\n",
       "| Milos Raonic          |\n",
       "| Andreas Haider-Maurer |\n",
       "| Martin Alund          |\n",
       "| Blaz Kavcic           |\n",
       "| Andreas Seppi         |\n",
       "| Jurgen Zopp           |\n",
       "| Igor Sijsling         |\n",
       "| ... |\n",
       "| Carlos Berlocq         |\n",
       "| Andrey Kuznetsov       |\n",
       "| Jack Sock              |\n",
       "| Tommy Haas             |\n",
       "| Jiri Vesely            |\n",
       "| Simone Bolelli         |\n",
       "| Bernard Tomic          |\n",
       "| Alexandr Dolgopolov    |\n",
       "| Alejandro Falla        |\n",
       "| Alex Kuznetsov         |\n",
       "| Ivan Dodig             |\n",
       "| Novak Djokovic         |\n",
       "| Nick Kyrgios           |\n",
       "| Daniel Gimeno-Traver   |\n",
       "| Albert Montanes        |\n",
       "| Feliciano Lopez        |\n",
       "| Evgeny Donskoy         |\n",
       "| Edouard Roger-Vasselin |\n",
       "| Gael Monfils           |\n",
       "| Denis Istomin          |\n",
       "| Robin Haase            |\n",
       "| Lukas Rosol            |\n",
       "| Ryan Harrison          |\n",
       "| Dmitry Tursunov        |\n",
       "| Lucas Pouille          |\n",
       "| Nikolay Davydenko      |\n",
       "| Victor Hanescu         |\n",
       "| Kevin Anderson         |\n",
       "| Tommy Robredo          |\n",
       "| David Ferrer           |\n",
       "\n"
      ],
      "text/plain": [
       "    Player1               \n",
       "1   Pablo Carreno-Busta   \n",
       "2   Somdev Devvarman      \n",
       "3   Tobias Kamke          \n",
       "4   Julien Benneteau      \n",
       "5   Lukas Lacko           \n",
       "6   Jan Hajek             \n",
       "7   Adrian Mannarino      \n",
       "8   Gilles Simon          \n",
       "9   Philipp Petzschner    \n",
       "10  Radek Stepanek        \n",
       "11  Viktor Troicki        \n",
       "12  Juan Monaco           \n",
       "13  Benjamin Becker       \n",
       "14  Roberto Bautista Agut \n",
       "15  Jarkko Nieminen       \n",
       "16  Jo-Wilfried Tsonga    \n",
       "17  Marinko Matosevic     \n",
       "18  Steve Johnson         \n",
       "19  Joao Sousa            \n",
       "20  Marcel Granollers     \n",
       "21  Illya Marchenko       \n",
       "22  Jan-Lennard Struff    \n",
       "23  Steve Darcis          \n",
       "24  Milos Raonic          \n",
       "25  Andreas Haider-Maurer \n",
       "26  Martin Alund          \n",
       "27  Blaz Kavcic           \n",
       "28  Andreas Seppi         \n",
       "29  Jurgen Zopp           \n",
       "30  Igor Sijsling         \n",
       "... ...                   \n",
       "52  Carlos Berlocq        \n",
       "53  Andrey Kuznetsov      \n",
       "54  Jack Sock             \n",
       "55  Tommy Haas            \n",
       "56  Jiri Vesely           \n",
       "57  Simone Bolelli        \n",
       "58  Bernard Tomic         \n",
       "59  Alexandr Dolgopolov   \n",
       "60  Alejandro Falla       \n",
       "61  Alex Kuznetsov        \n",
       "62  Ivan Dodig            \n",
       "63  Novak Djokovic        \n",
       "64  Nick Kyrgios          \n",
       "65  Daniel Gimeno-Traver  \n",
       "66  Albert Montanes       \n",
       "67  Feliciano Lopez       \n",
       "68  Evgeny Donskoy        \n",
       "69  Edouard Roger-Vasselin\n",
       "70  Gael Monfils          \n",
       "71  Denis Istomin         \n",
       "72  Robin Haase           \n",
       "73  Lukas Rosol           \n",
       "74  Ryan Harrison         \n",
       "75  Dmitry Tursunov       \n",
       "76  Lucas Pouille         \n",
       "77  Nikolay Davydenko     \n",
       "78  Victor Hanescu        \n",
       "79  Kevin Anderson        \n",
       "80  Tommy Robredo         \n",
       "81  David Ferrer          "
      ]
     },
     "metadata": {},
     "output_type": "display_data"
    }
   ],
   "source": [
    "tournois %>%\n",
    "select(Player1) %>%\n",
    "distinct() #ou unique() mais plus lent"
   ]
  },
  {
   "cell_type": "code",
   "execution_count": 11,
   "metadata": {},
   "outputs": [
    {
     "data": {
      "text/html": [
       "<table>\n",
       "<thead><tr><th scope=col>Player1</th><th scope=col>Player2</th><th scope=col>Round</th><th scope=col>Result</th><th scope=col>FNL.1</th><th scope=col>FNL.2</th><th scope=col>FSP.1</th><th scope=col>FSW.1</th><th scope=col>SSP.1</th><th scope=col>SSW.1</th><th scope=col>...</th><th scope=col>BPC.2</th><th scope=col>BPW.2</th><th scope=col>NPA.2</th><th scope=col>NPW.2</th><th scope=col>TPW.2</th><th scope=col>ST1.2</th><th scope=col>ST2.2</th><th scope=col>ST3.2</th><th scope=col>ST4.2</th><th scope=col>ST5.2</th></tr></thead>\n",
       "<tbody>\n",
       "\t<tr><td>Pablo Carreno-Busta</td><td>Roger Federer      </td><td>1                  </td><td>0                  </td><td>0                  </td><td>3                  </td><td>62                 </td><td>27                 </td><td>38                 </td><td>11                 </td><td>...                </td><td>7                  </td><td> 7                 </td><td>14                 </td><td>18                 </td><td> 88                </td><td>6                  </td><td>6                  </td><td>6                  </td><td>NA                 </td><td>NA                 </td></tr>\n",
       "\t<tr><td>Somdev Devvarman   </td><td>Roger Federer      </td><td>2                  </td><td>0                  </td><td>0                  </td><td>3                  </td><td>61                 </td><td>19                 </td><td>39                 </td><td>16                 </td><td>...                </td><td>7                  </td><td>14                 </td><td>19                 </td><td>30                 </td><td> 88                </td><td>6                  </td><td>6                  </td><td>6                  </td><td>NA                 </td><td>NA                 </td></tr>\n",
       "\t<tr><td>Julien Benneteau   </td><td>Roger Federer      </td><td>3                  </td><td>0                  </td><td>0                  </td><td>3                  </td><td>82                 </td><td>41                 </td><td>18                 </td><td> 8                 </td><td>...                </td><td>4                  </td><td> 4                 </td><td> 8                 </td><td>11                 </td><td> 98                </td><td>6                  </td><td>6                  </td><td>7                  </td><td>NA                 </td><td>NA                 </td></tr>\n",
       "\t<tr><td>Gilles Simon       </td><td>Roger Federer      </td><td>4                  </td><td>0                  </td><td>2                  </td><td>3                  </td><td>61                 </td><td>65                 </td><td>39                 </td><td>28                 </td><td>...                </td><td>6                  </td><td>14                 </td><td>25                 </td><td>35                 </td><td>147                </td><td>6                  </td><td>4                  </td><td>2                  </td><td> 6                 </td><td> 6                 </td></tr>\n",
       "\t<tr><td>Jo-Wilfried Tsonga </td><td>Roger Federer      </td><td>5                  </td><td>1                  </td><td>3                  </td><td>0                  </td><td>75                 </td><td>46                 </td><td>25                 </td><td>10                 </td><td>...                </td><td>2                  </td><td> 3                 </td><td>15                 </td><td>30                 </td><td> 73                </td><td>5                  </td><td>3                  </td><td>3                  </td><td>NA                 </td><td>NA                 </td></tr>\n",
       "</tbody>\n",
       "</table>\n"
      ],
      "text/latex": [
       "\\begin{tabular}{r|llllllllllllllllllllllllllllllllllllllllll}\n",
       " Player1 & Player2 & Round & Result & FNL.1 & FNL.2 & FSP.1 & FSW.1 & SSP.1 & SSW.1 & ... & BPC.2 & BPW.2 & NPA.2 & NPW.2 & TPW.2 & ST1.2 & ST2.2 & ST3.2 & ST4.2 & ST5.2\\\\\n",
       "\\hline\n",
       "\t Pablo Carreno-Busta & Roger Federer       & 1                   & 0                   & 0                   & 3                   & 62                  & 27                  & 38                  & 11                  & ...                 & 7                   &  7                  & 14                  & 18                  &  88                 & 6                   & 6                   & 6                   & NA                  & NA                 \\\\\n",
       "\t Somdev Devvarman    & Roger Federer       & 2                   & 0                   & 0                   & 3                   & 61                  & 19                  & 39                  & 16                  & ...                 & 7                   & 14                  & 19                  & 30                  &  88                 & 6                   & 6                   & 6                   & NA                  & NA                 \\\\\n",
       "\t Julien Benneteau    & Roger Federer       & 3                   & 0                   & 0                   & 3                   & 82                  & 41                  & 18                  &  8                  & ...                 & 4                   &  4                  &  8                  & 11                  &  98                 & 6                   & 6                   & 7                   & NA                  & NA                 \\\\\n",
       "\t Gilles Simon        & Roger Federer       & 4                   & 0                   & 2                   & 3                   & 61                  & 65                  & 39                  & 28                  & ...                 & 6                   & 14                  & 25                  & 35                  & 147                 & 6                   & 4                   & 2                   &  6                  &  6                 \\\\\n",
       "\t Jo-Wilfried Tsonga  & Roger Federer       & 5                   & 1                   & 3                   & 0                   & 75                  & 46                  & 25                  & 10                  & ...                 & 2                   &  3                  & 15                  & 30                  &  73                 & 5                   & 3                   & 3                   & NA                  & NA                 \\\\\n",
       "\\end{tabular}\n"
      ],
      "text/markdown": [
       "\n",
       "| Player1 | Player2 | Round | Result | FNL.1 | FNL.2 | FSP.1 | FSW.1 | SSP.1 | SSW.1 | ... | BPC.2 | BPW.2 | NPA.2 | NPW.2 | TPW.2 | ST1.2 | ST2.2 | ST3.2 | ST4.2 | ST5.2 |\n",
       "|---|---|---|---|---|---|---|---|---|---|---|---|---|---|---|---|---|---|---|---|---|\n",
       "| Pablo Carreno-Busta | Roger Federer       | 1                   | 0                   | 0                   | 3                   | 62                  | 27                  | 38                  | 11                  | ...                 | 7                   |  7                  | 14                  | 18                  |  88                 | 6                   | 6                   | 6                   | NA                  | NA                  |\n",
       "| Somdev Devvarman    | Roger Federer       | 2                   | 0                   | 0                   | 3                   | 61                  | 19                  | 39                  | 16                  | ...                 | 7                   | 14                  | 19                  | 30                  |  88                 | 6                   | 6                   | 6                   | NA                  | NA                  |\n",
       "| Julien Benneteau    | Roger Federer       | 3                   | 0                   | 0                   | 3                   | 82                  | 41                  | 18                  |  8                  | ...                 | 4                   |  4                  |  8                  | 11                  |  98                 | 6                   | 6                   | 7                   | NA                  | NA                  |\n",
       "| Gilles Simon        | Roger Federer       | 4                   | 0                   | 2                   | 3                   | 61                  | 65                  | 39                  | 28                  | ...                 | 6                   | 14                  | 25                  | 35                  | 147                 | 6                   | 4                   | 2                   |  6                  |  6                  |\n",
       "| Jo-Wilfried Tsonga  | Roger Federer       | 5                   | 1                   | 3                   | 0                   | 75                  | 46                  | 25                  | 10                  | ...                 | 2                   |  3                  | 15                  | 30                  |  73                 | 5                   | 3                   | 3                   | NA                  | NA                  |\n",
       "\n"
      ],
      "text/plain": [
       "  Player1             Player2       Round Result FNL.1 FNL.2 FSP.1 FSW.1 SSP.1\n",
       "1 Pablo Carreno-Busta Roger Federer 1     0      0     3     62    27    38   \n",
       "2 Somdev Devvarman    Roger Federer 2     0      0     3     61    19    39   \n",
       "3 Julien Benneteau    Roger Federer 3     0      0     3     82    41    18   \n",
       "4 Gilles Simon        Roger Federer 4     0      2     3     61    65    39   \n",
       "5 Jo-Wilfried Tsonga  Roger Federer 5     1      3     0     75    46    25   \n",
       "  SSW.1 ... BPC.2 BPW.2 NPA.2 NPW.2 TPW.2 ST1.2 ST2.2 ST3.2 ST4.2 ST5.2\n",
       "1 11    ... 7      7    14    18     88   6     6     6     NA    NA   \n",
       "2 16    ... 7     14    19    30     88   6     6     6     NA    NA   \n",
       "3  8    ... 4      4     8    11     98   6     6     7     NA    NA   \n",
       "4 28    ... 6     14    25    35    147   6     4     2      6     6   \n",
       "5 10    ... 2      3    15    30     73   5     3     3     NA    NA   "
      ]
     },
     "metadata": {},
     "output_type": "display_data"
    }
   ],
   "source": [
    "tournois %>%\n",
    "filter(Player1 == \"Roger Federer\" | Player2 == \"Roger Federer\")"
   ]
  },
  {
   "cell_type": "code",
   "execution_count": 22,
   "metadata": {},
   "outputs": [
    {
     "data": {
      "text/html": [
       "<table>\n",
       "<thead><tr><th scope=col>Player1</th><th scope=col>Player2</th></tr></thead>\n",
       "<tbody>\n",
       "\t<tr><td>David Ferrer      </td><td>Jo-Wilfried Tsonga</td></tr>\n",
       "\t<tr><td>Novak Djokovic    </td><td>Rafael Nadal      </td></tr>\n",
       "</tbody>\n",
       "</table>\n"
      ],
      "text/latex": [
       "\\begin{tabular}{r|ll}\n",
       " Player1 & Player2\\\\\n",
       "\\hline\n",
       "\t David Ferrer       & Jo-Wilfried Tsonga\\\\\n",
       "\t Novak Djokovic     & Rafael Nadal      \\\\\n",
       "\\end{tabular}\n"
      ],
      "text/markdown": [
       "\n",
       "| Player1 | Player2 |\n",
       "|---|---|\n",
       "| David Ferrer       | Jo-Wilfried Tsonga |\n",
       "| Novak Djokovic     | Rafael Nadal       |\n",
       "\n"
      ],
      "text/plain": [
       "  Player1        Player2           \n",
       "1 David Ferrer   Jo-Wilfried Tsonga\n",
       "2 Novak Djokovic Rafael Nadal      "
      ]
     },
     "metadata": {},
     "output_type": "display_data"
    }
   ],
   "source": [
    "tournois %>%\n",
    "filter(Round == max(Round) - 1) %>%\n",
    "select(Player1, Player2)\n"
   ]
  },
  {
   "cell_type": "code",
   "execution_count": 20,
   "metadata": {},
   "outputs": [
    {
     "data": {
      "text/html": [
       "<table>\n",
       "<thead><tr><th scope=col>mean(Points)</th></tr></thead>\n",
       "<tbody>\n",
       "\t<tr><td>219.44</td></tr>\n",
       "</tbody>\n",
       "</table>\n"
      ],
      "text/latex": [
       "\\begin{tabular}{r|l}\n",
       " mean(Points)\\\\\n",
       "\\hline\n",
       "\t 219.44\\\\\n",
       "\\end{tabular}\n"
      ],
      "text/markdown": [
       "\n",
       "| mean(Points) |\n",
       "|---|\n",
       "| 219.44 |\n",
       "\n"
      ],
      "text/plain": [
       "  mean(Points)\n",
       "1 219.44      "
      ]
     },
     "metadata": {},
     "output_type": "display_data"
    }
   ],
   "source": [
    "tournois %>%\n",
    "mutate(Points = TPW.1 + TPW.2) %>%\n",
    "summarise(mean(Points))"
   ]
  },
  {
   "cell_type": "code",
   "execution_count": 30,
   "metadata": {},
   "outputs": [
    {
     "data": {
      "text/html": [
       "<table>\n",
       "<thead><tr><th scope=col>Round</th><th scope=col>min</th><th scope=col>max</th><th scope=col>mean</th></tr></thead>\n",
       "<tbody>\n",
       "\t<tr><td>1       </td><td>0       </td><td>26      </td><td>13.47619</td></tr>\n",
       "\t<tr><td>2       </td><td>1       </td><td>24      </td><td>13.19355</td></tr>\n",
       "\t<tr><td>3       </td><td>0       </td><td>27      </td><td>12.56250</td></tr>\n",
       "\t<tr><td>4       </td><td>0       </td><td>13      </td><td> 9.12500</td></tr>\n",
       "\t<tr><td>5       </td><td>0       </td><td>11      </td><td> 7.00000</td></tr>\n",
       "\t<tr><td>6       </td><td>3       </td><td> 6      </td><td>10.00000</td></tr>\n",
       "\t<tr><td>7       </td><td>1       </td><td> 5      </td><td> 6.00000</td></tr>\n",
       "</tbody>\n",
       "</table>\n"
      ],
      "text/latex": [
       "\\begin{tabular}{r|llll}\n",
       " Round & min & max & mean\\\\\n",
       "\\hline\n",
       "\t 1        & 0        & 26       & 13.47619\\\\\n",
       "\t 2        & 1        & 24       & 13.19355\\\\\n",
       "\t 3        & 0        & 27       & 12.56250\\\\\n",
       "\t 4        & 0        & 13       &  9.12500\\\\\n",
       "\t 5        & 0        & 11       &  7.00000\\\\\n",
       "\t 6        & 3        &  6       & 10.00000\\\\\n",
       "\t 7        & 1        &  5       &  6.00000\\\\\n",
       "\\end{tabular}\n"
      ],
      "text/markdown": [
       "\n",
       "| Round | min | max | mean |\n",
       "|---|---|---|---|\n",
       "| 1        | 0        | 26       | 13.47619 |\n",
       "| 2        | 1        | 24       | 13.19355 |\n",
       "| 3        | 0        | 27       | 12.56250 |\n",
       "| 4        | 0        | 13       |  9.12500 |\n",
       "| 5        | 0        | 11       |  7.00000 |\n",
       "| 6        | 3        |  6       | 10.00000 |\n",
       "| 7        | 1        |  5       |  6.00000 |\n",
       "\n"
      ],
      "text/plain": [
       "  Round min max mean    \n",
       "1 1     0   26  13.47619\n",
       "2 2     1   24  13.19355\n",
       "3 3     0   27  12.56250\n",
       "4 4     0   13   9.12500\n",
       "5 5     0   11   7.00000\n",
       "6 6     3    6  10.00000\n",
       "7 7     1    5   6.00000"
      ]
     },
     "metadata": {},
     "output_type": "display_data"
    }
   ],
   "source": [
    "tournois %>%\n",
    "group_by(Round) %>%\n",
    "mutate(ACE = ACE.1 + ACE.2) %>%\n",
    "summarise(min = min(ACE.1, ACE.2),\n",
    "          max = max(ACE.1, ACE.2),\n",
    "          mean = mean(ACE))"
   ]
  },
  {
   "cell_type": "code",
   "execution_count": 35,
   "metadata": {},
   "outputs": [
    {
     "data": {
      "text/html": [
       "<table>\n",
       "<thead><tr><th scope=col>DBF</th></tr></thead>\n",
       "<tbody>\n",
       "\t<tr><td>812</td></tr>\n",
       "</tbody>\n",
       "</table>\n"
      ],
      "text/latex": [
       "\\begin{tabular}{r|l}\n",
       " DBF\\\\\n",
       "\\hline\n",
       "\t 812\\\\\n",
       "\\end{tabular}\n"
      ],
      "text/markdown": [
       "\n",
       "| DBF |\n",
       "|---|\n",
       "| 812 |\n",
       "\n"
      ],
      "text/plain": [
       "  DBF\n",
       "1 812"
      ]
     },
     "metadata": {},
     "output_type": "display_data"
    }
   ],
   "source": [
    "tournois %>%\n",
    "summarise(DBF = sum(DBF.1 + DBF.2, na.rm = T))"
   ]
  },
  {
   "cell_type": "code",
   "execution_count": 37,
   "metadata": {
    "scrolled": true
   },
   "outputs": [
    {
     "name": "stderr",
     "output_type": "stream",
     "text": [
      "Warning message:\n",
      "\"Removed 2 rows containing non-finite values (stat_bin).\""
     ]
    },
    {
     "data": {
      "image/png": "[encoded data removed]",
      "text/plain": [
       "plot without title"
      ]
     },
     "metadata": {},
     "output_type": "display_data"
    }
   ],
   "source": [
    "tournois %>%\n",
    "mutate(DBF = DBF.1 + DBF.2) %>%\n",
    "ggplot() +\n",
    "aes(x = DBF) +\n",
    "geom_histogram(binwidth=1)"
   ]
  },
  {
   "cell_type": "code",
   "execution_count": 41,
   "metadata": {
    "scrolled": true
   },
   "outputs": [
    {
     "data": {
      "image/png": "[encoded data removed]",
      "text/plain": [
       "plot without title"
      ]
     },
     "metadata": {},
     "output_type": "display_data"
    }
   ],
   "source": [
    "tournois %>%\n",
    "group_by(Round) %>% \n",
    "summarise(DBF = mean(DBF.1 + DBF.2, na.rm = T))  %>% \n",
    "ggplot() + aes(x = Round, y = DBF) + geom_line()"
   ]
  },
  {
   "cell_type": "code",
   "execution_count": 66,
   "metadata": {
    "scrolled": false
   },
   "outputs": [
    {
     "data": {
      "image/png": "[encoded data removed]",
      "text/plain": [
       "plot without title"
      ]
     },
     "metadata": {},
     "output_type": "display_data"
    }
   ],
   "source": [
    "test <- tournois  %>% \n",
    "select(FSP.1, FSP.2, Result) %>%\n",
    "gather(key = \"FSP\", value = \"value\", -Result)\n",
    "\n",
    "grid.arrange(ggplot(test) + aes(y = value) + geom_boxplot() + facet_grid(~FSP),\n",
    "             ggplot(test) + aes(x = Result) + geom_bar(),\n",
    "             nrow = 2, ncol = 1,\n",
    "             layout_matrix = matrix((1:2), ncol = 1, byrow = T))"
   ]
  },
  {
   "cell_type": "code",
   "execution_count": null,
   "metadata": {},
   "outputs": [],
   "source": []
  }
 ],
 "metadata": {
  "jupytext": {
   "formats": "ipynb,Rmd"
  },
  "kernelspec": {
   "display_name": "R",
   "language": "R",
   "name": "ir"
  },
  "language_info": {
   "codemirror_mode": "r",
   "file_extension": ".r",
   "mimetype": "text/x-r-source",
   "name": "R",
   "pygments_lexer": "r",
   "version": "3.6.1"
  }
 },
 "nbformat": 4,
 "nbformat_minor": 2
}
