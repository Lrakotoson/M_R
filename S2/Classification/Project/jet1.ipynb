{
 "cells": [
  {
   "cell_type": "raw",
   "metadata": {},
   "source": [
    "---\n",
    "title: \"Cyberattaques des smartphones\"\n",
    "author: \"Loïc Rakotoson\"\n",
    "output:\n",
    "  html_notebook:\n",
    "    df_print: paged\n",
    "    highlight: tango\n",
    "    theme: cerulean\n",
    "  pdf_document: default\n",
    "---"
   ]
  },
  {
   "cell_type": "code",
   "execution_count": null,
   "metadata": {
    "message": false,
    "warning": false
   },
   "outputs": [],
   "source": [
    "library(tidyverse)\n",
    "library(gridExtra)\n",
    "library(caret)\n",
    "library(pROC)\n",
    "library(doParallel)"
   ]
  },
  {
   "cell_type": "markdown",
   "metadata": {},
   "source": [
    "# Introduction\n",
    "L'objet de l'étude est la **classification des cyberattaques** sur les appareils mobiles sous sytème Android à partir des données qui s'échangent et transitent par le smartphone, recoltées par le moniteur des ressources. Le but étant d'effectuer le traitement adapté pour nettoyer l'appareil sans avoir besoin de la réinitialiser en perdant des données personnelles.\n",
    "\n",
    "Pour classer des appareils infectées ou non, les données du moniteur de ressources ne permettent pas de le faire puisque le téléphone attaqué arrive à avoir un comportement \"normal\" (sauf quelques `ransomeware`). L'analyse des logs (texte) permet de déceler les moments anormaux mais ne renseigne pas le type d'infection. Donc pour un log de réseau anormal, on récolte les données du moniteur de ressources. Nous intervenons dans cette deuxième partie.  \n",
    "Les données proviennent de l'[Université du Nouveau-Brunswick](https://www.unb.ca/cic/datasets/index.html) au Canada.\n",
    "\n",
    "Dans cette étude, l'appareil est déjà infectée et les attaques ne peuvent pas se superposer (impossibilité d'avoir plus d'une infection).  \n",
    "En regroupant certaines classes de même nature, dont les variances sont très faibles, on a 4 attaques qui sont indécelables en analysant le comportement de l'appareil de façon générale:\n",
    "\n",
    "- `adware`, qui affiche des pubs ciblées tout en espionnant de manière illégale les activités de l'appareil.\n",
    "- `botnet`, qui intègre le téléphone à un réseau d'[appareils zombies](https://fr.wikipedia.org/wiki/Machine_zombie).\n",
    "- `ransomeware`, qui chiffre l'intégralité des données ou uniquement une partie (le cas ici) et qui se déchiffre après avoir payé une rançon ou en utilisant un décrypteur.\n",
    "- `sms`, qui installe un vers ou un cheval de Troie pour le transformer en appareil zombie.\n",
    "\n",
    "Pour être actifs, les appareils communiquent avec les serveurs des cyberattaquants. Nous analyserons les données liées à ces échanges."
   ]
  },
  {
   "cell_type": "code",
   "execution_count": 2,
   "metadata": {
    "message": false,
    "scrolled": true,
    "warning": false
   },
   "outputs": [
    {
     "name": "stderr",
     "output_type": "stream",
     "text": [
      "Parsed with column specification:\n",
      "cols(\n",
      "  .default = col_double(),\n",
      "  `Destination IP` = col_character(),\n",
      "  Label = col_character()\n",
      ")\n",
      "See spec(...) for full column specifications.\n"
     ]
    }
   ],
   "source": [
    "data <- read_csv(\"data/hackerAttack.csv\")\n",
    "data <- data %>% rename_all(make.names)"
   ]
  },
  {
   "cell_type": "markdown",
   "metadata": {},
   "source": [
    "# I. Features Engineering\n",
    "Dans nos données brutes, nous avons 81 variables et 4 000 observations.  \n",
    "Pour nettoyer nos données, nous devons supprimer les colonnes constantes ou ayant de faible variance (inférieure au premier quartile des variances), transformer certaines variables:\n",
    "\n",
    "- `Destination IP`, en facteur `IP` en ne gardant que le **Net-ID** (le 1<sup>er</sup> octet si classe A, les 2 premiers sinon)\n",
    "- `Source Port` et `Destination Port`, en `SPort` et `DPort`, de num à facteur en suivant les types d'attribution de l'[IANA](https://fr.wikipedia.org/wiki/Internet_Assigned_Numbers_Authority)\n",
    "- `Protocol`, de num à facteur en suivant les [assignements](https://www.iana.org/assignments/protocol-numbers/protocol-numbers.xhtml) de l'IANA\n",
    "- `Label`, nos variables à expliquer $Y$ en facteur.\n",
    "- Les variables quantitatives, standardisées."
   ]
  },
  {
   "cell_type": "code",
   "execution_count": 3,
   "metadata": {
    "message": false,
    "warning": false
   },
   "outputs": [],
   "source": [
    "ip_split <- function(ip){\n",
    "    #' Renvoie le Net-ID d'une adresse IP\n",
    "    octets <- str_split(ip, \"\\\\.\")[[1]]\n",
    "    if (as.numeric(octets[1]) <= 127) {\n",
    "        netID <- octets[1]\n",
    "    } else {\n",
    "        netID <- paste(octets[1], octets[2], sep = \".\")\n",
    "    }\n",
    "    \n",
    "    return(netID)\n",
    "}"
   ]
  },
  {
   "cell_type": "code",
   "execution_count": 4,
   "metadata": {
    "hide_output": true,
    "name": "quantile"
   },
   "outputs": [],
   "source": [
    "data %>% \n",
    "select_if(is.numeric) %>% \n",
    "summarise_all(var) %>% \n",
    "gather() %>%\n",
    "select(value) %>%\n",
    "as.matrix() %>%\n",
    "quantile(0.25) -> q1"
   ]
  },
  {
   "cell_type": "markdown",
   "metadata": {},
   "source": [
    "Transformation des IPs."
   ]
  },
  {
   "cell_type": "code",
   "execution_count": 5,
   "metadata": {
    "message": false,
    "warning": false
   },
   "outputs": [],
   "source": [
    "data <- data %>% \n",
    "rename(IP = 'Destination.IP') %>% \n",
    "rowwise() %>% # vectorise la fonction ip_split\n",
    "mutate(IP = ip_split(IP)) %>% \n",
    "as_tibble() # supprime rowwise_df"
   ]
  },
  {
   "cell_type": "markdown",
   "metadata": {},
   "source": [
    "Les autres transformations"
   ]
  },
  {
   "cell_type": "code",
   "execution_count": 6,
   "metadata": {
    "lines_to_next_cell": 2,
    "message": false,
    "warning": false
   },
   "outputs": [
    {
     "name": "stderr",
     "output_type": "stream",
     "text": [
      "Warning message:\n",
      "\"funs() is soft deprecated as of dplyr 0.8.0\n",
      "Please use a list of either functions or lambdas: \n",
      "\n",
      "  # Simple named list: \n",
      "  list(mean = mean, median = median)\n",
      "\n",
      "  # Auto named with `tibble::lst()`: \n",
      "  tibble::lst(mean, median)\n",
      "\n",
      "  # Using lambdas\n",
      "  list(~ mean(., trim = .2), ~ median(., na.rm = TRUE))\n",
      "This warning is displayed once per session.\""
     ]
    }
   ],
   "source": [
    "data <- data %>% \n",
    "rename(\n",
    "    SPort = 'Source.Port',\n",
    "    DPort = 'Destination.Port',\n",
    ") %>% \n",
    "mutate(\n",
    "    DPort = case_when(\n",
    "        DPort == 53 ~ \"DNS\",\n",
    "        DPort == 80 ~ \"HTTP\",\n",
    "        DPort == 443 ~ \"HTTPS\",\n",
    "        DPort %in% c(1024:5000, 49152:65535) ~ \"Microsoft RPC\",\n",
    "        DPort %in% 60000:61000 ~ \"Mosh\",\n",
    "        TRUE ~ \"Private\"\n",
    "    ),\n",
    "    SPort = case_when(\n",
    "        SPort == 80 ~ \"HTTP\",\n",
    "        SPort == 443 ~ \"HTTPS\",\n",
    "        SPort %in% c(1024:5000, 49152:65535) ~ \"Microsoft RPC\",\n",
    "        SPort %in% 60000:61000 ~ \"Mosh\",\n",
    "        TRUE ~ \"Private\"\n",
    "    )\n",
    ") %>% \n",
    "mutate_at(\n",
    "    c('SPort', 'DPort', 'IP', 'Protocol', 'Label'),\n",
    "    funs(factor)\n",
    ") %>% \n",
    "select(\n",
    "    1:4, # Facteurs\n",
    "    colnames(select_if(., function(col) is.numeric(col) && var(col) >= q1)), # Variances faibles\n",
    "    ncol(.) # Label\n",
    ") %>% \n",
    "mutate_if(\n",
    "    is.numeric,\n",
    "    scale\n",
    ")"
   ]
  },
  {
   "cell_type": "code",
   "execution_count": 7,
   "metadata": {
    "hide_output": true
   },
   "outputs": [],
   "source": [
    "dim_quant <- data %>% select_if(is.numeric) %>% ncol()\n",
    "dim_IP <- length(unique(data$IP))\n",
    "dim_SPort <- length(unique(data$SPort))\n",
    "dim_DPort <- length(unique(data$DPort))\n",
    "dim_Protocol <- length(unique(data$Protocol))\n",
    "dim_X <- dim_quant + dim_IP-1 + dim_SPort-1 + dim_DPort-1 + dim_Protocol-1"
   ]
  },
  {
   "cell_type": "markdown",
   "metadata": {},
   "source": [
    "Nous obtenons une dimension de `r dim(data)` après nettoyage.\n",
    "\n",
    "Un total de `r dim_X` variables explicatives:\n",
    "\n",
    "- `r dim_quant` variables quantitatives.\n",
    "- `r dim_IP` modalités de IP.\n",
    "- `r dim_SPort` modalités de SPort\n",
    "- `r dim_DPort` modalités de DPort\n",
    "- `r dim_Protocol` modalités de Protocol.\n",
    "\n",
    "On ne peut pas utiliser l'ACP pour réduire les dimensions puisque les variables ne sont pas linéaires. La stratégie sera d'éliminer les variables qui ne sont pas importantes pour les modèles de classifications."
   ]
  },
  {
   "cell_type": "markdown",
   "metadata": {},
   "source": [
    "# II. Statistique descriptive\n",
    "Visualisons dans cette partie la distribution de nos variables pour en tirer des informations qui peuvent aider à la classification.\n",
    "\n",
    "## 1. Variables qualitatives\n",
    "\n",
    "### Les Ports et les attaques\n",
    "En visualisant la répartition de l'utilisation des ports d'entrée et de sortie pour chaque infection, on peut voir:\n",
    "\n",
    "- De manière générale, les attaquants récoltent les données ou les réponses de leurs requêtes en ouvrant des ports privés ou en utilisant l'exploit Microsoft RPC. Ils les recoivent via des requêtes HTTP et HTTPS sur leurs serveurs distants. L'étude des IP permettra d'identifier les serveurs ou les 1<sup>er</sup> noeuds s'il s'agit d'un [réseau TOR](https://fr.wikipedia.org/wiki/Tor_(r%C3%A9seau)).\n",
    "- Le port DNS n'est pas utilisé en source et très peu pour recevoir. Les attaques par DNS les plus courants sont des [DDoS](https://fr.wikipedia.org/wiki/Attaque_par_d%C3%A9ni_de_service) contre de grandes structures ou du [Phishing](https://fr.wikipedia.org/wiki/Hame%C3%A7onnage) contre des personnes ciblées comme dans notre cas. On souligne directement que le `botnet` n'utilise pas le DNS puisqu'il n'a pas besoin d'usurper un site pour infecter.\n",
    "- Près de 80% de la recéption des requêtes des `ransomeware` et 65% des `botnet` passent par le port 443, HTTPS. Il s'agit aussi des deux infections qui ont obligatoirement besoin d'un [back door](https://fr.wikipedia.org/wiki/Porte_d%C3%A9rob%C3%A9e) pour que l'attaquant garde le plus longtemps possible le contrôle de l'appareil."
   ]
  },
  {
   "cell_type": "code",
   "execution_count": 8,
   "metadata": {
    "fig.width": 9.5,
    "message": false,
    "warning": false
   },
   "outputs": [
    {
     "name": "stderr",
     "output_type": "stream",
     "text": [
      "Warning message:\n",
      "\"attributes are not identical across measure variables;\n",
      "they will be dropped\""
     ]
    },
    {
     "data": {
      "image/png": "[encoded data removed]",
      "text/plain": [
       "plot without title"
      ]
     },
     "metadata": {},
     "output_type": "display_data"
    }
   ],
   "source": [
    "data %>%\n",
    "select(SPort, DPort, Label) %>%\n",
    "gather(\"Entry\", \"Port\", -Label) %>% ggplot() + \n",
    "aes(x = Port, y = ..prop.., group = 1, fill = Label) +\n",
    "geom_bar() + guides(fill = F) + \n",
    "facet_grid(cols = vars(Label), rows = vars(Entry)) +\n",
    "labs(title = \"Utilisation des Ports par infection\", x = \"Ports\", y = \"proportion\") +\n",
    "theme(\n",
    "    axis.text.x = element_text(angle = 50, hjust = 1),\n",
    "    plot.title = element_text(hjust = 0.5)\n",
    ")"
   ]
  },
  {
   "cell_type": "markdown",
   "metadata": {},
   "source": [
    "### Les IPs et les protocoles\n",
    "L'analyse des NetID des adresses IP permet d'obtenir des informations sur le comportement des infections.  \n",
    "En analysant les 2 NetID les plus utilisés par infection, on s'aperçoit que:\n",
    "\n",
    "- Le 172.217 (classe B) est le plus utilisé, sauf pour les `sms` qui le placent en 2<sup>e</sup>.\n",
    "- Le deuxième le plus fréquent est de classe A, le 10 pour toutes sauf pour les `ransomeware` avec le 119.\n",
    "\n",
    "L'analyse des protocoles (*ici utilisés pour la réception DPort*) y ajoute plus d'informations:\n",
    "\n",
    "- On retrouve les 2 mêmes NetID les plus fréquents pour le protocol 6 (TCP) et 17 (UDP)\n",
    "- Le protocol 0 (HOPOPT) utilise deux NetID de classe A, dont le 8 qui représente 93.8% du traffic\n",
    "- Le 10 représente 87.5% du traffic du protocol 17 (UDP), moins sécurisé que le TCP.\n",
    "- Au moins 95% des traffics utilisent le protocol 6 (TCP) pour toutes infections sauf `sms`, qui est le plus grand utilisateur du protocol 17 (UDP)."
   ]
  },
  {
   "cell_type": "code",
   "execution_count": 9,
   "metadata": {
    "hide_output": true
   },
   "outputs": [],
   "source": [
    "ip_label <- data %>% \n",
    "group_by(Label, IP) %>% \n",
    "summarise(proportion = n()) %>%\n",
    "mutate(proportion = proportion*100 / sum(proportion)) %>% \n",
    "top_n(2, proportion) %>% \n",
    "ggplot() + aes(x = IP, y = proportion, fill = IP) +\n",
    "geom_bar(stat=\"identity\") + facet_grid(Label~.) +\n",
    "guides(fill = F) + xlab(\"NetID\")\n",
    "\n",
    "ip_protocol <- data %>% \n",
    "group_by(Protocol, IP) %>% \n",
    "summarise(proportion = n()) %>%\n",
    "mutate(proportion = proportion*100 / sum(proportion)) %>% \n",
    "top_n(2, proportion) %>% \n",
    "ggplot() + aes(x = IP, y = proportion, fill = IP) +\n",
    "geom_bar(stat=\"identity\") + facet_grid(Protocol~.) +\n",
    "guides(fill = F) + xlab(\"NetID\") +\n",
    "scale_fill_manual(values = c(\"#f39c12\", \"#f8766d\", \"#619cff\", \"#8e44ad\"))"
   ]
  },
  {
   "cell_type": "code",
   "execution_count": 10,
   "metadata": {
    "fig.width": 9.5,
    "message": false,
    "warning": false
   },
   "outputs": [
    {
     "data": {
      "text/html": [
       "<table>\n",
       "<thead><tr><th scope=col>Label</th><th scope=col>0</th><th scope=col>6</th><th scope=col>17</th></tr></thead>\n",
       "<tbody>\n",
       "\t<tr><td>adware     </td><td>0.6        </td><td>95.4       </td><td> 4.0       </td></tr>\n",
       "\t<tr><td>botnet     </td><td>0.9        </td><td>98.9       </td><td> 0.2       </td></tr>\n",
       "\t<tr><td>ransomeware</td><td>0.9        </td><td>98.9       </td><td> 0.2       </td></tr>\n",
       "\t<tr><td>sms        </td><td>1.9        </td><td>84.7       </td><td>13.4       </td></tr>\n",
       "</tbody>\n",
       "</table>\n"
      ],
      "text/latex": [
       "\\begin{tabular}{r|llll}\n",
       " Label & 0 & 6 & 17\\\\\n",
       "\\hline\n",
       "\t adware      & 0.6         & 95.4        &  4.0       \\\\\n",
       "\t botnet      & 0.9         & 98.9        &  0.2       \\\\\n",
       "\t ransomeware & 0.9         & 98.9        &  0.2       \\\\\n",
       "\t sms         & 1.9         & 84.7        & 13.4       \\\\\n",
       "\\end{tabular}\n"
      ],
      "text/markdown": [
       "\n",
       "| Label | 0 | 6 | 17 |\n",
       "|---|---|---|---|\n",
       "| adware      | 0.6         | 95.4        |  4.0        |\n",
       "| botnet      | 0.9         | 98.9        |  0.2        |\n",
       "| ransomeware | 0.9         | 98.9        |  0.2        |\n",
       "| sms         | 1.9         | 84.7        | 13.4        |\n",
       "\n"
      ],
      "text/plain": [
       "  Label       0   6    17  \n",
       "1 adware      0.6 95.4  4.0\n",
       "2 botnet      0.9 98.9  0.2\n",
       "3 ransomeware 0.9 98.9  0.2\n",
       "4 sms         1.9 84.7 13.4"
      ]
     },
     "metadata": {},
     "output_type": "display_data"
    },
    {
     "data": {
      "image/png": "[encoded data removed]",
      "text/plain": [
       "plot without title"
      ]
     },
     "metadata": {},
     "output_type": "display_data"
    }
   ],
   "source": [
    "data %>% \n",
    "group_by(Label, Protocol) %>% \n",
    "summarise(proportion = n()) %>%\n",
    "mutate(proportion = proportion*100 / sum(proportion)) %>% \n",
    "spread(Protocol, proportion)\n",
    "grid.arrange(ip_label, ip_protocol,\n",
    "             ncol = 2, nrow = 1,\n",
    "             top = \"Top 2 des NetIDs par infection et par protocole\"\n",
    ")"
   ]
  },
  {
   "cell_type": "markdown",
   "metadata": {},
   "source": [
    "### En résumé\n",
    "Avec l'analyse des 4 variables qualitatives, il est déjà possible de dresser les profils des infections:\n",
    "\n",
    "- `sms` utilise moins de chiffrement: plutôt HTTP que HTTPS, avec l'utilisation du protocol 17 (UDP) qui reçoit beaucoup sur le NetID 10. Il s'agit d'une attaque courte. La variable `Flow Duration` devrait avoir une valeur faible et les `Packets` grandes.\n",
    "- `ransomeware` est la plus chiffrée et reçoit sur le NetID 119 pour la classe A. Il s'agit de l'attaque communiquer le plus avec le serveur tant qu'elle n'est pas résolue. Les variables de types `Active` devrait prendre de grandes valeurs.\n",
    "- `botnet` et `adware` se distinguent uniquement par l'utilisation des chiffrements à la réception (`botnet` est plus HTTP). Les variables quantitatives ne permettent pas plus de les discriminer.\n",
    "\n",
    "## 2. Variables quantitatives\n",
    "Rappelons que les données ont été standardisées.\n",
    "\n",
    "### Longueur de paquet\n",
    "La variable `Min Packet Length` est celle qui est la plus corrélée aux labels. Elle représente la taille minimale du packet en prenant en compte l'en-tête.  \n",
    "Comme attendu, la densité est plus répartie pour `sms`. La variable étant plus concentrée autour de la moyenne pour `ransomeware` et `botnet`."
   ]
  },
  {
   "cell_type": "code",
   "execution_count": 11,
   "metadata": {
    "fig.width": 9.5,
    "message": false,
    "scrolled": true,
    "warning": false
   },
   "outputs": [
    {
     "name": "stderr",
     "output_type": "stream",
     "text": [
      "Warning message:\n",
      "\"Removed 8 rows containing non-finite values (stat_density).\""
     ]
    },
    {
     "data": {
      "image/png": "[encoded data removed]",
      "text/plain": [
       "plot without title"
      ]
     },
     "metadata": {},
     "output_type": "display_data"
    }
   ],
   "source": [
    "ggplot(data) + aes(x = `Min.Packet.Length`, fill = Label) +\n",
    "geom_density() + facet_grid(Label~., scales = \"free_y\") +\n",
    "xlim(range(-1,5)) + guides(fill = F)"
   ]
  },
  {
   "cell_type": "markdown",
   "metadata": {},
   "source": [
    "### Durée de débit\n",
    "La visualisation de `Flow Duration` permet de visualiser le temps de connexion entre le serveur et l'appareil.  \n",
    "L'infection par `sms` étant rapide et n'ayant pas systématiquement besoin d'un backdoor, elle se distingue facilement par une durée de débit faible par rapport aux autres infections.  \n",
    "Cela confirme l'analyse sur les protocols où le chiffrement n'est pas nécessaire."
   ]
  },
  {
   "cell_type": "code",
   "execution_count": 12,
   "metadata": {
    "fig.width": 9.5,
    "message": false,
    "warning": false
   },
   "outputs": [
    {
     "name": "stderr",
     "output_type": "stream",
     "text": [
      "Warning message:\n",
      "\"Removed 1263 rows containing non-finite values (stat_ydensity).\"Warning message:\n",
      "\"Removed 1263 rows containing non-finite values (stat_boxplot).\""
     ]
    },
    {
     "data": {
      "image/png": "[encoded data removed]",
      "text/plain": [
       "plot without title"
      ]
     },
     "metadata": {},
     "output_type": "display_data"
    }
   ],
   "source": [
    "ggplot(data) + aes(y = `Flow.Duration`, x = Label, fill = Label) +\n",
    "geom_violin() + ylim(range(-0.6:2.6)) + guides(fill = F) +\n",
    "geom_boxplot(width = 0.07, fill = \"#ecf0f1\", outlier.size = -1)"
   ]
  },
  {
   "cell_type": "markdown",
   "metadata": {},
   "source": [
    "### Durée entre 2 paquets d'un débit\n",
    "La variable `Flow IAT Mean` représente la vitesse moyenne d'envoi de paquets, entre autres la durée entre l'envoi de 2 paquets dans un seul débit. Un Flow IAT faible est un débit plus rapide.  \n",
    "L'infection `sms` doit envoyer dans une durée faible le maximum d'informations, tandis que pour les `botnet`, pour lesquelles les machines zombies sont souvent utilisées pour attaquer en DDoS, l'attaquant envoie une instruction et doit attendre l'exécution de celle-ci avant de déconnecter, d'où une vitesse faible."
   ]
  },
  {
   "cell_type": "code",
   "execution_count": 13,
   "metadata": {
    "fig.width": 9.5,
    "message": false,
    "scrolled": true,
    "warning": false
   },
   "outputs": [
    {
     "data": {
      "image/png": "[encoded data removed]",
      "text/plain": [
       "plot without title"
      ]
     },
     "metadata": {},
     "output_type": "display_data"
    }
   ],
   "source": [
    "ggplot(data) + \n",
    "aes(y = `Flow.IAT.Mean`, x = Label, fill = Label) +\n",
    "geom_boxplot(notch=T, outlier.size = -1) +\n",
    "coord_flip(ylim=c(-0.5, 1)) +\n",
    "guides(fill = F)"
   ]
  },
  {
   "cell_type": "markdown",
   "metadata": {},
   "source": [
    "# III. Benchmark et optimisation des modèles"
   ]
  },
  {
   "cell_type": "code",
   "execution_count": 14,
   "metadata": {
    "message": false,
    "warning": false
   },
   "outputs": [],
   "source": [
    "split_set <- function(data, trainSize = 0.9){\n",
    "    #' Divise nos données en partitions train et test\n",
    "    \n",
    "    set.seed(2020)\n",
    "    part <- createDataPartition(data$Label, p = trainSize)\n",
    "    train_set <- data %>% slice(part$Resample1)\n",
    "    test_set <- data %>% slice(-part$Resample1)\n",
    "    \n",
    "    return(list(train_set, test_set))\n",
    "}"
   ]
  },
  {
   "cell_type": "code",
   "execution_count": 163,
   "metadata": {
    "hide_output": true
   },
   "outputs": [],
   "source": [
    "plotmetrics <- function(train_obj){\n",
    "    #' Renvoie un ggplot de l'évolution d'Accuracy et AUC\n",
    "    #' train_obj: objet de type train de caret\n",
    "    \n",
    "    train_obj <- train_obj$results %>% select(1, AUC, Accuracy)\n",
    "    parameter <- names(train_obj)[1]\n",
    "    AUC_limits <- c(min(train_obj$AUC), max(train_obj$AUC))\n",
    "    Accuracy_limits <- c(min(train_obj$Accuracy), max(train_obj$Accuracy))\n",
    "    train_obj$Accuracy <- train_obj$Accuracy * (AUC_limits[2]/Accuracy_limits[2])\n",
    "    limit <- c(min(train_obj[,2:3]), max(train_obj[,2:3]))\n",
    "    maxAUC <- filter(train_obj, AUC == max(AUC))\n",
    "    maxAccuracy <- filter(train_obj, Accuracy == max(Accuracy))\n",
    "\n",
    "    plot <- train_obj %>% \n",
    "    ggplot() + aes_string(x = parameter) + \n",
    "    geom_line(aes(y = AUC), color = \"#38ada9\") +  \n",
    "    geom_point(aes(y = AUC), color = \"#38ada9\") +\n",
    "    geom_line(aes(y = Accuracy), color = \"#e55039\") +\n",
    "    geom_point(aes(y = Accuracy), color = \"#e55039\") +\n",
    "    geom_point(data = maxAUC, aes_string(x = parameter, y = \"AUC\"), color = \"#38ada9\", shape = 5, size = 3) +\n",
    "    geom_point(data = maxAccuracy, aes_string(x = parameter, y = \"Accuracy\"), color = \"#e55039\", shape = 0, size = 3) +\n",
    "    scale_y_continuous(\n",
    "        limits = limit,\n",
    "        sec.axis = sec_axis(~ . *Accuracy_limits[2]/AUC_limits[2],\n",
    "                            name = \"Accuracy\")) +\n",
    "    theme(\n",
    "        plot.title = element_text(hjust = 0.5),\n",
    "        axis.title.y.left = element_text(color = \"#38ada9\"),\n",
    "        axis.text.y.left = element_text(color = \"#38ada9\"),\n",
    "        axis.title.y.right = element_text(color = \"#e55039\"),\n",
    "        axis.text.y.right = element_text(color = \"#e55039\"),\n",
    "\n",
    "    )\n",
    "    \n",
    "    return(plot)\n",
    "}"
   ]
  },
  {
   "cell_type": "code",
   "execution_count": 15,
   "metadata": {
    "message": false,
    "warning": false
   },
   "outputs": [],
   "source": [
    "multiroc <- function(Y, Y_pred){\n",
    "    #' Renvoie les courbes ROC de chaque classe\n",
    "    \n",
    "    predicted <- tibble(\n",
    "        Y = as.character(Y),\n",
    "        Y_pred = as.character(Y_pred)\n",
    "    )\n",
    "\n",
    "    roclist <- vector(mode = \"list\")\n",
    "\n",
    "    for (label in unique(predicted$Y)){\n",
    "        one_rest <- predicted %>% \n",
    "        mutate(\n",
    "            Y = if_else(\n",
    "                Y == label,\n",
    "                1, 0\n",
    "            ),\n",
    "            Y_pred = if_else(\n",
    "                Y_pred == label,\n",
    "                1, 0\n",
    "            )\n",
    "        )\n",
    "\n",
    "        roclist[[label]] <- roc(one_rest$Y, one_rest$Y_pred)\n",
    "    }\n",
    "\n",
    "    plot <- roclist %>% ggroc(aes = \"color\", size = 1, legacy.axes = TRUE) +\n",
    "    labs(color = \"Labels\") + theme(plot.title = element_text(hjust = 0.5))\n",
    "    \n",
    "    return(plot)\n",
    "}\n"
   ]
  },
  {
   "cell_type": "code",
   "execution_count": 16,
   "metadata": {
    "message": false,
    "warning": false
   },
   "outputs": [],
   "source": [
    "train_set <- split_set(data)[[1]]"
   ]
  },
  {
   "cell_type": "code",
   "execution_count": 17,
   "metadata": {
    "message": false,
    "warning": false
   },
   "outputs": [],
   "source": [
    "tune_control <- trainControl(\n",
    "  method = \"cv\", \n",
    "  number = 3,\n",
    "  index = createMultiFolds(train_set$Label, k = 3, times = 1),\n",
    "  classProbs = TRUE,\n",
    "  summaryFunction = multiClassSummary\n",
    ")"
   ]
  },
  {
   "cell_type": "markdown",
   "metadata": {},
   "source": [
    "## 1. K plus proches voisins\n",
    "\n",
    "### Approche naïve\n",
    "\n",
    "$$\\hat{g}(x) = \\underset{k \\in Y}{\\operatorname{argmax}}  \\underset{i \\in kkpv(x)}{\\operatorname{\\sum}} 1_{Y_i = k} $$"
   ]
  },
  {
   "cell_type": "code",
   "execution_count": 18,
   "metadata": {
    "message": false,
    "warning": false
   },
   "outputs": [],
   "source": [
    "knn_tune_naive <- data.frame(\n",
    "    k = seq(3, 170, by = 6)\n",
    ")"
   ]
  },
  {
   "cell_type": "code",
   "execution_count": 19,
   "metadata": {
    "message": false,
    "warning": false
   },
   "outputs": [],
   "source": [
    "cl <- makePSOCKcluster(4)\n",
    "registerDoParallel(cl)\n",
    "set.seed(2020)\n",
    "\n",
    "knn_naive_cv <- train(\n",
    "    Label ~ .,\n",
    "    data = train_set,\n",
    "    method = \"knn\",\n",
    "    metric = \"AUC\",\n",
    "    trControl = tune_control,\n",
    "    tuneGrid = knn_tune_naive,\n",
    ")\n",
    "\n",
    "on.exit(stopCluster(cl))"
   ]
  },
  {
   "cell_type": "code",
   "execution_count": 166,
   "metadata": {
    "fig.width": 9.5,
    "message": false,
    "warning": false
   },
   "outputs": [
    {
     "data": {
      "image/png": "[encoded data removed]",
      "text/plain": [
       "plot without title"
      ]
     },
     "metadata": {},
     "output_type": "display_data"
    }
   ],
   "source": [
    "plotmetrics(knn_naive_cv) +\n",
    "labs(title = \"AUC et Accuracy en fonction des K voisins\", x = \"Voisins\")"
   ]
  },
  {
   "cell_type": "markdown",
   "metadata": {},
   "source": [
    "Le meilleurs K se trouvent entre 3 et 15\n",
    "\n",
    "### Optimisation"
   ]
  },
  {
   "cell_type": "code",
   "execution_count": 21,
   "metadata": {
    "message": false,
    "warning": false
   },
   "outputs": [],
   "source": [
    "train_knn <- split_set(data)[[1]]\n",
    "test_knn <- split_set(data)[[2]]"
   ]
  },
  {
   "cell_type": "code",
   "execution_count": 22,
   "metadata": {
    "message": false,
    "warning": false
   },
   "outputs": [],
   "source": [
    "knn_tune <- data.frame(\n",
    "    k = seq(3, 15)\n",
    ")"
   ]
  },
  {
   "cell_type": "code",
   "execution_count": 23,
   "metadata": {
    "message": false,
    "warning": false
   },
   "outputs": [],
   "source": [
    "cl <- makePSOCKcluster(4)\n",
    "registerDoParallel(cl)\n",
    "set.seed(2020)\n",
    "\n",
    "knn_cv <- train(\n",
    "    Label ~ .,\n",
    "    data = train_knn,\n",
    "    method = \"knn\",\n",
    "    metric = \"AUC\",\n",
    "    trControl = tune_control,\n",
    "    tuneGrid = knn_tune,\n",
    ")\n",
    "\n",
    "on.exit(stopCluster(cl))"
   ]
  },
  {
   "cell_type": "code",
   "execution_count": 167,
   "metadata": {
    "fig.width": 9.5,
    "message": false,
    "warning": false
   },
   "outputs": [
    {
     "data": {
      "image/png": "[encoded data removed]",
      "text/plain": [
       "plot without title"
      ]
     },
     "metadata": {},
     "output_type": "display_data"
    }
   ],
   "source": [
    "plotmetrics(knn_cv) +\n",
    "labs(title = \"AUC et Accuracy en fonction des K voisins\", x = \"Voisins\")"
   ]
  },
  {
   "cell_type": "code",
   "execution_count": 25,
   "metadata": {
    "message": false,
    "warning": false
   },
   "outputs": [],
   "source": [
    "model_knn <- knn_cv$finalModel\n",
    "pred_knn <- predict(knn_cv, newdata = test_knn)"
   ]
  },
  {
   "cell_type": "code",
   "execution_count": 26,
   "metadata": {
    "fig.width": 9.5,
    "message": false,
    "warning": false
   },
   "outputs": [
    {
     "name": "stderr",
     "output_type": "stream",
     "text": [
      "Setting levels: control = 0, case = 1\n",
      "Setting direction: controls < cases\n",
      "Setting levels: control = 0, case = 1\n",
      "Setting direction: controls < cases\n",
      "Setting levels: control = 0, case = 1\n",
      "Setting direction: controls < cases\n",
      "Setting levels: control = 0, case = 1\n",
      "Setting direction: controls < cases\n"
     ]
    },
    {
     "data": {
      "image/png": "[encoded data removed]",
      "text/plain": [
       "plot without title"
      ]
     },
     "metadata": {},
     "output_type": "display_data"
    }
   ],
   "source": [
    "multiroc(test_knn$Label, pred_knn) +\n",
    "labs(title = \"Courbes ROC avec KNN, K = 4\")"
   ]
  },
  {
   "cell_type": "code",
   "execution_count": 27,
   "metadata": {
    "message": false,
    "warning": false
   },
   "outputs": [],
   "source": [
    "result <- knn_cv$results %>% \n",
    "filter(k == 4)  %>%\n",
    "mutate(Model = \"KNN\") %>% \n",
    "select(Model, AUC, Accuracy)"
   ]
  },
  {
   "cell_type": "markdown",
   "metadata": {},
   "source": [
    "## 2. Forêts aléatoires\n",
    "\n",
    "### Approche naïve"
   ]
  },
  {
   "cell_type": "code",
   "execution_count": 28,
   "metadata": {
    "message": false,
    "warning": false
   },
   "outputs": [],
   "source": [
    "rf_tune_naive <- data.frame(\n",
    "    mtry = dim_X,\n",
    "    splitrule = \"gini\",\n",
    "    min.node.size = 1\n",
    ")"
   ]
  },
  {
   "cell_type": "code",
   "execution_count": 29,
   "metadata": {
    "message": false,
    "warning": false
   },
   "outputs": [],
   "source": [
    "cl <- makePSOCKcluster(4)\n",
    "registerDoParallel(cl)\n",
    "set.seed(2020)\n",
    "\n",
    "rf_naive_cv <- train(\n",
    "    Label ~ .,\n",
    "    data = train_set,\n",
    "    method = \"ranger\",\n",
    "    metric = \"AUC\",\n",
    "    trControl = tune_control,\n",
    "    tuneGrid = rf_tune_naive,\n",
    "    importance = 'impurity_corrected'\n",
    ")\n",
    "\n",
    "on.exit(stopCluster(cl))"
   ]
  },
  {
   "cell_type": "code",
   "execution_count": 30,
   "metadata": {
    "fig.width": 9.5,
    "message": false,
    "warning": false
   },
   "outputs": [
    {
     "name": "stderr",
     "output_type": "stream",
     "text": [
      "Selecting by importance\n"
     ]
    },
    {
     "data": {
      "image/png": "[encoded data removed]",
      "text/plain": [
       "plot without title"
      ]
     },
     "metadata": {},
     "output_type": "display_data"
    }
   ],
   "source": [
    "rf_naive_vars <- rf_naive_cv$finalModel$variable.importance\n",
    "rf_naive_vars <- tibble(variable = names(rf_naive_vars), importance = rf_naive_vars) %>% \n",
    "    arrange(importance) %>% mutate(variable = factor(variable, levels = variable)) %>% \n",
    "    top_frac(0.15)\n",
    "\n",
    "ggplot(rf_naive_vars) + coord_flip() + aes(x = variable, y = importance) + geom_bar(stat = \"identity\") + \n",
    "    labs(title = \"15% des variables classées par importance\", x = \"\") +\n",
    "    theme(plot.title = element_text(hjust = 0.5))"
   ]
  },
  {
   "cell_type": "markdown",
   "metadata": {},
   "source": [
    "### Optimisation"
   ]
  },
  {
   "cell_type": "code",
   "execution_count": 31,
   "metadata": {
    "message": false,
    "warning": false
   },
   "outputs": [],
   "source": [
    "data_rf <- data %>% \n",
    "select(\n",
    "    Label, SPort, DPort, IP,\n",
    "    any_of(tail(rf_naive_vars, 18)$variable)\n",
    ") %>% \n",
    "mutate(\n",
    "    IP = factor(if_else(\n",
    "        IP %in% c(\"127.217\", \"121\", \"205.174\"),\n",
    "        as.character(IP), \"OtherIP\"\n",
    "    )),\n",
    "    SPort = factor(if_else(\n",
    "        SPort %in% c(\"Private\", \"Microsoft RPC\"),\n",
    "        as.character(SPort), \"OtherSPort\"\n",
    "    )),\n",
    "    DPort = factor(if_else(\n",
    "        DPort %in% c(\"HTTP\", \"HTTPS\"),\n",
    "        as.character(DPort), \"OtherDPort\"\n",
    "    ))\n",
    ")"
   ]
  },
  {
   "cell_type": "code",
   "execution_count": 32,
   "metadata": {
    "hide_output": true
   },
   "outputs": [],
   "source": [
    "dim_quant_rf <- data_rf %>% select_if(is.numeric) %>% ncol()\n",
    "dim_IP_rf <- length(unique(data_rf$IP))\n",
    "dim_SPort_rf <- length(unique(data_rf$SPort))\n",
    "dim_DPort_rf <- length(unique(data_rf$DPort))\n",
    "dim_X_rf <- dim_quant_rf + dim_IP_rf-1 + dim_SPort_rf-1 + dim_DPort_rf-1"
   ]
  },
  {
   "cell_type": "code",
   "execution_count": 33,
   "metadata": {
    "message": false,
    "warning": false
   },
   "outputs": [],
   "source": [
    "train_rf <- split_set(data_rf)[[1]]\n",
    "test_rf <- split_set(data_rf)[[2]]"
   ]
  },
  {
   "cell_type": "code",
   "execution_count": 34,
   "metadata": {
    "message": false,
    "warning": false
   },
   "outputs": [],
   "source": [
    "rf_tune <- data.frame(\n",
    "    mtry = seq(2, 17, by =  3),\n",
    "    splitrule = rep(\"gini\", 6),\n",
    "    min.node.size = rep(1, 6)\n",
    ")"
   ]
  },
  {
   "cell_type": "code",
   "execution_count": 35,
   "metadata": {
    "message": false,
    "warning": false
   },
   "outputs": [],
   "source": [
    "cl <- makePSOCKcluster(4)\n",
    "registerDoParallel(cl)\n",
    "set.seed(2020)\n",
    "\n",
    "rf_cv <- train(\n",
    "    Label ~ .,\n",
    "    data = train_rf,\n",
    "    method = \"ranger\",\n",
    "    metric = \"AUC\",\n",
    "    trControl = tune_control,\n",
    "    tuneGrid = rf_tune\n",
    ")\n",
    "\n",
    "on.exit(stopCluster(cl))"
   ]
  },
  {
   "cell_type": "code",
   "execution_count": 169,
   "metadata": {
    "fig.width": 9.5,
    "message": false,
    "warning": false
   },
   "outputs": [
    {
     "data": {
      "image/png": "[encoded data removed]",
      "text/plain": [
       "plot without title"
      ]
     },
     "metadata": {},
     "output_type": "display_data"
    }
   ],
   "source": [
    "plotmetrics(rf_cv) +\n",
    "labs(title = \"AUC et Accuracy en fonction des mtry\")"
   ]
  },
  {
   "cell_type": "code",
   "execution_count": 37,
   "metadata": {
    "message": false,
    "warning": false
   },
   "outputs": [],
   "source": [
    "model_rf <- rf_cv$finalModel\n",
    "pred_rf <- predict(rf_cv, newdata = test_rf)"
   ]
  },
  {
   "cell_type": "code",
   "execution_count": 38,
   "metadata": {
    "fig.width": 9.5,
    "message": false,
    "warning": false
   },
   "outputs": [
    {
     "name": "stderr",
     "output_type": "stream",
     "text": [
      "Setting levels: control = 0, case = 1\n",
      "Setting direction: controls < cases\n",
      "Setting levels: control = 0, case = 1\n",
      "Setting direction: controls < cases\n",
      "Setting levels: control = 0, case = 1\n",
      "Setting direction: controls < cases\n",
      "Setting levels: control = 0, case = 1\n",
      "Setting direction: controls < cases\n"
     ]
    },
    {
     "data": {
      "image/png": "[encoded data removed]",
      "text/plain": [
       "plot without title"
      ]
     },
     "metadata": {},
     "output_type": "display_data"
    }
   ],
   "source": [
    "multiroc(test_rf$Label, pred_rf) +\n",
    "labs(title = \"Courbes ROC avec Random Forest, mtry = 11\")"
   ]
  },
  {
   "cell_type": "code",
   "execution_count": 39,
   "metadata": {
    "message": false,
    "warning": false
   },
   "outputs": [],
   "source": [
    "result <- result %>%\n",
    "bind_rows(\n",
    "    (rf_cv$results %>% \n",
    "     filter(mtry == 11)  %>%\n",
    "     mutate(Model = \"RF\") %>% \n",
    "     select(Model, AUC, Accuracy)\n",
    "    )\n",
    ")"
   ]
  },
  {
   "cell_type": "markdown",
   "metadata": {},
   "source": [
    "## 3. Logit Boost\n",
    "\n",
    "### Approche Naïve"
   ]
  },
  {
   "cell_type": "code",
   "execution_count": 43,
   "metadata": {
    "message": false,
    "warning": false
   },
   "outputs": [],
   "source": [
    "lgb_tune_naive <- data.frame(\n",
    "    nIter = seq(1, 171, by =  10)\n",
    ")"
   ]
  },
  {
   "cell_type": "code",
   "execution_count": 44,
   "metadata": {
    "message": false,
    "warning": false
   },
   "outputs": [],
   "source": [
    "cl <- makePSOCKcluster(4)\n",
    "registerDoParallel(cl)\n",
    "set.seed(2020)\n",
    "\n",
    "lgb_cv_naive <- train(\n",
    "    Label ~ .,\n",
    "    data = train_set,\n",
    "    method = \"LogitBoost\",\n",
    "    metric = \"AUC\",\n",
    "    trControl = tune_control,\n",
    "    tuneGrid = lgb_tune_naive\n",
    ")\n",
    "\n",
    "on.exit(stopCluster(cl))"
   ]
  },
  {
   "cell_type": "code",
   "execution_count": 170,
   "metadata": {
    "fig.width": 9.5,
    "message": false,
    "scrolled": true,
    "warning": false
   },
   "outputs": [
    {
     "data": {
      "image/png": "[encoded data removed]",
      "text/plain": [
       "plot without title"
      ]
     },
     "metadata": {},
     "output_type": "display_data"
    }
   ],
   "source": [
    "plotmetrics(lgb_cv_naive) +\n",
    "labs(title = \"AUC et Accuracy en fonction des nIter\")"
   ]
  },
  {
   "cell_type": "markdown",
   "metadata": {},
   "source": [
    "Entre 120 et 140\n",
    "\n",
    "### Optimisation"
   ]
  },
  {
   "cell_type": "code",
   "execution_count": 191,
   "metadata": {
    "message": false,
    "warning": false
   },
   "outputs": [],
   "source": [
    "train_lgb <- split_set(data)[[1]]\n",
    "test_lgb <- split_set(data)[[2]]"
   ]
  },
  {
   "cell_type": "code",
   "execution_count": 187,
   "metadata": {
    "message": false,
    "warning": false
   },
   "outputs": [],
   "source": [
    "lgb_tune <- data.frame(\n",
    "    nIter = seq(119, 141, by = 2)\n",
    ")"
   ]
  },
  {
   "cell_type": "code",
   "execution_count": 192,
   "metadata": {
    "message": false,
    "warning": false
   },
   "outputs": [],
   "source": [
    "cl <- makePSOCKcluster(4)\n",
    "registerDoParallel(cl)\n",
    "set.seed(2020)\n",
    "\n",
    "lgb_cv <- train(\n",
    "    Label ~ .,\n",
    "    data = train_lgb,\n",
    "    method = \"LogitBoost\",\n",
    "    metric = \"AUC\",\n",
    "    trControl = tune_control,\n",
    "    tuneGrid = lgb_tune\n",
    ")\n",
    "\n",
    "on.exit(stopCluster(cl))"
   ]
  },
  {
   "cell_type": "code",
   "execution_count": 193,
   "metadata": {
    "fig.width": 9.5,
    "message": false,
    "warning": false
   },
   "outputs": [
    {
     "data": {
      "image/png": "[encoded data removed]",
      "text/plain": [
       "plot without title"
      ]
     },
     "metadata": {},
     "output_type": "display_data"
    }
   ],
   "source": [
    "plotmetrics(lgb_cv) +\n",
    "labs(title = \"AUC et Accuracy en fonction des nIter\")"
   ]
  },
  {
   "cell_type": "code",
   "execution_count": 194,
   "metadata": {
    "message": false,
    "warning": false
   },
   "outputs": [],
   "source": [
    "model_lgb <- lgb_cv$finalModel\n",
    "pred_lgb <- predict(lgb_cv, newdata = test_lgb)"
   ]
  },
  {
   "cell_type": "code",
   "execution_count": 195,
   "metadata": {
    "fig.width": 9.5,
    "message": false,
    "scrolled": false,
    "warning": false
   },
   "outputs": [
    {
     "name": "stderr",
     "output_type": "stream",
     "text": [
      "Setting levels: control = 0, case = 1\n",
      "Setting direction: controls < cases\n",
      "Setting levels: control = 0, case = 1\n",
      "Setting direction: controls < cases\n",
      "Setting levels: control = 0, case = 1\n",
      "Setting direction: controls < cases\n",
      "Setting levels: control = 0, case = 1\n",
      "Setting direction: controls < cases\n"
     ]
    },
    {
     "data": {
      "image/png": "[encoded data removed]",
      "text/plain": [
       "plot without title"
      ]
     },
     "metadata": {},
     "output_type": "display_data"
    }
   ],
   "source": [
    "multiroc(test_lgb$Label, pred_lgb) +\n",
    "labs(title = \"Courbes ROC avec Logitboost, nIter = 129\")"
   ]
  },
  {
   "cell_type": "code",
   "execution_count": 197,
   "metadata": {
    "message": false,
    "warning": false
   },
   "outputs": [],
   "source": [
    "result <- result %>%\n",
    "bind_rows(\n",
    "    (lgb_cv$results %>% \n",
    "     filter(nIter == 129)  %>%\n",
    "     mutate(Model = \"LGB\") %>% \n",
    "     select(Model, AUC, Accuracy)\n",
    "    )\n",
    ")"
   ]
  },
  {
   "cell_type": "code",
   "execution_count": 204,
   "metadata": {
    "fig.height": 3,
    "fig.width": 9.5,
    "message": false,
    "warning": false
   },
   "outputs": [
    {
     "data": {
      "image/png": "[encoded data removed]",
      "text/plain": [
       "plot without title"
      ]
     },
     "metadata": {},
     "output_type": "display_data"
    }
   ],
   "source": [
    "result %>% \n",
    "gather(metric, value, -Model) %>% \n",
    "ggplot() +\n",
    "aes(fill = metric, y = value, x = Model) +\n",
    "geom_bar(position = \"dodge\", stat = \"identity\") +\n",
    "coord_flip(ylim = c(0, 1)) +\n",
    "labs(title = \"Comparaison des modèles\") +\n",
    "theme(plot.title = element_text(hjust = 0.5))"
   ]
  }
 ],
 "metadata": {
  "jupytext": {
   "formats": "ipynb,Rmd"
  },
  "kernelspec": {
   "display_name": "R",
   "language": "R",
   "name": "ir"
  },
  "language_info": {
   "codemirror_mode": "r",
   "file_extension": ".r",
   "mimetype": "text/x-r-source",
   "name": "R",
   "pygments_lexer": "r",
   "version": "3.6.1"
  }
 },
 "nbformat": 4,
 "nbformat_minor": 2
}
