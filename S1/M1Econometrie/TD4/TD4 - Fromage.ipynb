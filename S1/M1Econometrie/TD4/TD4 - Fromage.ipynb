{
 "cells": [
  {
   "cell_type": "code",
   "execution_count": 1,
   "metadata": {},
   "outputs": [
    {
     "name": "stderr",
     "output_type": "stream",
     "text": [
      "Loading required package: car\n",
      "Loading required package: carData\n",
      "Loading required package: lmtest\n",
      "Loading required package: zoo\n",
      "\n",
      "Attaching package: 'zoo'\n",
      "\n",
      "The following objects are masked from 'package:base':\n",
      "\n",
      "    as.Date, as.Date.numeric\n",
      "\n",
      "Loading required package: sandwich\n",
      "Loading required package: survival\n",
      "Registered S3 method overwritten by 'xts':\n",
      "  method     from\n",
      "  as.zoo.xts zoo \n",
      "Registered S3 method overwritten by 'quantmod':\n",
      "  method            from\n",
      "  as.zoo.data.frame zoo \n",
      "Loading required package: Matrix\n",
      "\n",
      "Please cite the 'systemfit' package as:\n",
      "Arne Henningsen and Jeff D. Hamann (2007). systemfit: A Package for Estimating Systems of Simultaneous Equations in R. Journal of Statistical Software 23(4), 1-40. http://www.jstatsoft.org/v23/i04/.\n",
      "\n",
      "If you have questions, suggestions, or comments regarding the 'systemfit' package, please use a forum or 'tracker' at systemfit's R-Forge site:\n",
      "https://r-forge.r-project.org/projects/systemfit/\n"
     ]
    }
   ],
   "source": [
    "library(AER)\n",
    "library(tseries)\n",
    "library(car)\n",
    "library(sandwich)\n",
    "library(lmtest)\n",
    "library(gmm)\n",
    "library(systemfit)\n",
    "library(dynlm)"
   ]
  },
  {
   "cell_type": "markdown",
   "metadata": {},
   "source": [
    "- `revr_pop`: revenu réel par tête CAD Dollars\n",
    "- `pr_fr`: prix réel du fromage \n",
    "- `pr_lait`: prix réel du lait\n",
    "- `pr_beurre`: prix réel du beurre\n",
    "- `prod_kgpc`: Production - Consommation 1000 tonnes\n",
    "- `vaches_pc`: nombre de vaches par personne"
   ]
  },
  {
   "cell_type": "code",
   "execution_count": 2,
   "metadata": {},
   "outputs": [
    {
     "data": {
      "text/html": [
       "<table>\n",
       "<thead><tr><th scope=col>annee</th><th scope=col>lnrevr_pop</th><th scope=col>lnpr_fr</th><th scope=col>lnpr_lait</th><th scope=col>lnpr_beurre</th><th scope=col>lnprod_kgpc</th><th scope=col>lnvaches_pc</th></tr></thead>\n",
       "<tbody>\n",
       "\t<tr><td>1990     </td><td>10.24105 </td><td>7.911923 </td><td>5.635742 </td><td>8.853665 </td><td>2.221297 </td><td>-3.037330</td></tr>\n",
       "\t<tr><td>1991     </td><td>10.21554 </td><td>7.879228 </td><td>5.673965 </td><td>8.866311 </td><td>2.234913 </td><td>-3.084700</td></tr>\n",
       "\t<tr><td>1992     </td><td>10.21535 </td><td>8.064344 </td><td>5.671904 </td><td>8.864250 </td><td>2.230217 </td><td>-3.144463</td></tr>\n",
       "\t<tr><td>1993     </td><td>10.19927 </td><td>8.017932 </td><td>5.653421 </td><td>8.845767 </td><td>2.233415 </td><td>-3.154624</td></tr>\n",
       "\t<tr><td>1994     </td><td>10.19220 </td><td>8.857543 </td><td>5.652058 </td><td>8.844405 </td><td>2.274501 </td><td>-3.148238</td></tr>\n",
       "\t<tr><td>1995     </td><td>10.17309 </td><td>8.835892 </td><td>5.630407 </td><td>8.822753 </td><td>2.288799 </td><td>-3.164791</td></tr>\n",
       "</tbody>\n",
       "</table>\n"
      ],
      "text/latex": [
       "\\begin{tabular}{r|lllllll}\n",
       " annee & lnrevr\\_pop & lnpr\\_fr & lnpr\\_lait & lnpr\\_beurre & lnprod\\_kgpc & lnvaches\\_pc\\\\\n",
       "\\hline\n",
       "\t 1990      & 10.24105  & 7.911923  & 5.635742  & 8.853665  & 2.221297  & -3.037330\\\\\n",
       "\t 1991      & 10.21554  & 7.879228  & 5.673965  & 8.866311  & 2.234913  & -3.084700\\\\\n",
       "\t 1992      & 10.21535  & 8.064344  & 5.671904  & 8.864250  & 2.230217  & -3.144463\\\\\n",
       "\t 1993      & 10.19927  & 8.017932  & 5.653421  & 8.845767  & 2.233415  & -3.154624\\\\\n",
       "\t 1994      & 10.19220  & 8.857543  & 5.652058  & 8.844405  & 2.274501  & -3.148238\\\\\n",
       "\t 1995      & 10.17309  & 8.835892  & 5.630407  & 8.822753  & 2.288799  & -3.164791\\\\\n",
       "\\end{tabular}\n"
      ],
      "text/markdown": [
       "\n",
       "| annee | lnrevr_pop | lnpr_fr | lnpr_lait | lnpr_beurre | lnprod_kgpc | lnvaches_pc |\n",
       "|---|---|---|---|---|---|---|\n",
       "| 1990      | 10.24105  | 7.911923  | 5.635742  | 8.853665  | 2.221297  | -3.037330 |\n",
       "| 1991      | 10.21554  | 7.879228  | 5.673965  | 8.866311  | 2.234913  | -3.084700 |\n",
       "| 1992      | 10.21535  | 8.064344  | 5.671904  | 8.864250  | 2.230217  | -3.144463 |\n",
       "| 1993      | 10.19927  | 8.017932  | 5.653421  | 8.845767  | 2.233415  | -3.154624 |\n",
       "| 1994      | 10.19220  | 8.857543  | 5.652058  | 8.844405  | 2.274501  | -3.148238 |\n",
       "| 1995      | 10.17309  | 8.835892  | 5.630407  | 8.822753  | 2.288799  | -3.164791 |\n",
       "\n"
      ],
      "text/plain": [
       "  annee lnrevr_pop lnpr_fr  lnpr_lait lnpr_beurre lnprod_kgpc lnvaches_pc\n",
       "1 1990  10.24105   7.911923 5.635742  8.853665    2.221297    -3.037330  \n",
       "2 1991  10.21554   7.879228 5.673965  8.866311    2.234913    -3.084700  \n",
       "3 1992  10.21535   8.064344 5.671904  8.864250    2.230217    -3.144463  \n",
       "4 1993  10.19927   8.017932 5.653421  8.845767    2.233415    -3.154624  \n",
       "5 1994  10.19220   8.857543 5.652058  8.844405    2.274501    -3.148238  \n",
       "6 1995  10.17309   8.835892 5.630407  8.822753    2.288799    -3.164791  "
      ]
     },
     "metadata": {},
     "output_type": "display_data"
    }
   ],
   "source": [
    "FROM <- read.table(\"Fromage_Simplifie.csv\",\n",
    "                   head = TRUE,\n",
    "                   sep = \";\"\n",
    "                  )\n",
    "head(FROM)"
   ]
  },
  {
   "cell_type": "code",
   "execution_count": 4,
   "metadata": {},
   "outputs": [
    {
     "data": {
      "image/png": "[encoded data removed]",
      "text/plain": [
       "Plot with title \"Evolution de la production - consommation de fromage en log \""
      ]
     },
     "metadata": {},
     "output_type": "display_data"
    }
   ],
   "source": [
    "FROMT <- ts(data = FROM,\n",
    "            start = 1990,\n",
    "            end = 2016,\n",
    "            frequency = 1,\n",
    "            deltat = 1\n",
    "           )\n",
    "\n",
    "ts.plot(FROMT[, \"lnprod_kgpc\"],\n",
    "        main = \"Evolution de la production - consommation de fromage en log \",\n",
    "        col = \"blue\"\n",
    "       )"
   ]
  },
  {
   "cell_type": "code",
   "execution_count": 6,
   "metadata": {},
   "outputs": [
    {
     "data": {
      "image/png": "[encoded data removed]",
      "text/plain": [
       "Plot with title \"Evolution du prix du fromage en log \""
      ]
     },
     "metadata": {},
     "output_type": "display_data"
    }
   ],
   "source": [
    "ts.plot(FROMT[, \"lnpr_fr\"],\n",
    "        main = \"Evolution du prix du fromage en log \",\n",
    "        col = \"blue\"\n",
    "       )"
   ]
  },
  {
   "cell_type": "code",
   "execution_count": 7,
   "metadata": {},
   "outputs": [
    {
     "data": {
      "text/plain": [
       "     annee        lnrevr_pop       lnpr_fr        lnpr_lait      lnpr_beurre   \n",
       " Min.   :1990   Min.   :10.13   Min.   :7.879   Min.   :5.599   Min.   :8.779  \n",
       " 1st Qu.:1996   1st Qu.:10.16   1st Qu.:8.798   1st Qu.:5.673   1st Qu.:8.793  \n",
       " Median :2003   Median :10.16   Median :8.818   Median :6.468   Median :8.812  \n",
       " Mean   :2003   Mean   :10.17   Mean   :8.698   Mean   :6.243   Mean   :8.818  \n",
       " 3rd Qu.:2010   3rd Qu.:10.17   3rd Qu.:8.837   3rd Qu.:6.516   3rd Qu.:8.843  \n",
       " Max.   :2016   Max.   :10.24   Max.   :8.869   Max.   :6.544   Max.   :8.866  \n",
       "  lnprod_kgpc     lnvaches_pc    \n",
       " Min.   :2.221   Min.   :-3.624  \n",
       " 1st Qu.:2.326   1st Qu.:-3.556  \n",
       " Median :2.392   Median :-3.401  \n",
       " Mean   :2.370   Mean   :-3.383  \n",
       " 3rd Qu.:2.421   3rd Qu.:-3.205  \n",
       " Max.   :2.513   Max.   :-3.037  "
      ]
     },
     "metadata": {},
     "output_type": "display_data"
    },
    {
     "data": {
      "text/html": [
       "<table>\n",
       "<thead><tr><th></th><th scope=col>annee</th><th scope=col>lnrevr_pop</th><th scope=col>lnpr_fr</th><th scope=col>lnpr_lait</th><th scope=col>lnpr_beurre</th><th scope=col>lnprod_kgpc</th><th scope=col>lnvaches_pc</th></tr></thead>\n",
       "<tbody>\n",
       "\t<tr><th scope=row>annee</th><td> 1.0000000</td><td>-0.5704188</td><td> 0.6176860</td><td> 0.7994827</td><td>-0.3445591</td><td> 0.8944389</td><td>-0.9890016</td></tr>\n",
       "\t<tr><th scope=row>lnrevr_pop</th><td>-0.5704188</td><td> 1.0000000</td><td>-0.8255636</td><td>-0.5749338</td><td> 0.5666069</td><td>-0.6910118</td><td> 0.5892076</td></tr>\n",
       "\t<tr><th scope=row>lnpr_fr</th><td> 0.6176860</td><td>-0.8255636</td><td> 1.0000000</td><td> 0.6163874</td><td>-0.5413975</td><td> 0.7431669</td><td>-0.6353781</td></tr>\n",
       "\t<tr><th scope=row>lnpr_lait</th><td> 0.7994827</td><td>-0.5749338</td><td> 0.6163874</td><td> 1.0000000</td><td>-0.3932041</td><td> 0.8057081</td><td>-0.8548139</td></tr>\n",
       "\t<tr><th scope=row>lnpr_beurre</th><td>-0.3445591</td><td> 0.5666069</td><td>-0.5413975</td><td>-0.3932041</td><td> 1.0000000</td><td>-0.5362434</td><td> 0.3209230</td></tr>\n",
       "\t<tr><th scope=row>lnprod_kgpc</th><td> 0.8944389</td><td>-0.6910118</td><td> 0.7431669</td><td> 0.8057081</td><td>-0.5362434</td><td> 1.0000000</td><td>-0.8942133</td></tr>\n",
       "\t<tr><th scope=row>lnvaches_pc</th><td>-0.9890016</td><td> 0.5892076</td><td>-0.6353781</td><td>-0.8548139</td><td> 0.3209230</td><td>-0.8942133</td><td> 1.0000000</td></tr>\n",
       "</tbody>\n",
       "</table>\n"
      ],
      "text/latex": [
       "\\begin{tabular}{r|lllllll}\n",
       "  & annee & lnrevr\\_pop & lnpr\\_fr & lnpr\\_lait & lnpr\\_beurre & lnprod\\_kgpc & lnvaches\\_pc\\\\\n",
       "\\hline\n",
       "\tannee &  1.0000000 & -0.5704188 &  0.6176860 &  0.7994827 & -0.3445591 &  0.8944389 & -0.9890016\\\\\n",
       "\tlnrevr\\_pop & -0.5704188 &  1.0000000 & -0.8255636 & -0.5749338 &  0.5666069 & -0.6910118 &  0.5892076\\\\\n",
       "\tlnpr\\_fr &  0.6176860 & -0.8255636 &  1.0000000 &  0.6163874 & -0.5413975 &  0.7431669 & -0.6353781\\\\\n",
       "\tlnpr\\_lait &  0.7994827 & -0.5749338 &  0.6163874 &  1.0000000 & -0.3932041 &  0.8057081 & -0.8548139\\\\\n",
       "\tlnpr\\_beurre & -0.3445591 &  0.5666069 & -0.5413975 & -0.3932041 &  1.0000000 & -0.5362434 &  0.3209230\\\\\n",
       "\tlnprod\\_kgpc &  0.8944389 & -0.6910118 &  0.7431669 &  0.8057081 & -0.5362434 &  1.0000000 & -0.8942133\\\\\n",
       "\tlnvaches\\_pc & -0.9890016 &  0.5892076 & -0.6353781 & -0.8548139 &  0.3209230 & -0.8942133 &  1.0000000\\\\\n",
       "\\end{tabular}\n"
      ],
      "text/markdown": [
       "\n",
       "| <!--/--> | annee | lnrevr_pop | lnpr_fr | lnpr_lait | lnpr_beurre | lnprod_kgpc | lnvaches_pc |\n",
       "|---|---|---|---|---|---|---|---|\n",
       "| annee |  1.0000000 | -0.5704188 |  0.6176860 |  0.7994827 | -0.3445591 |  0.8944389 | -0.9890016 |\n",
       "| lnrevr_pop | -0.5704188 |  1.0000000 | -0.8255636 | -0.5749338 |  0.5666069 | -0.6910118 |  0.5892076 |\n",
       "| lnpr_fr |  0.6176860 | -0.8255636 |  1.0000000 |  0.6163874 | -0.5413975 |  0.7431669 | -0.6353781 |\n",
       "| lnpr_lait |  0.7994827 | -0.5749338 |  0.6163874 |  1.0000000 | -0.3932041 |  0.8057081 | -0.8548139 |\n",
       "| lnpr_beurre | -0.3445591 |  0.5666069 | -0.5413975 | -0.3932041 |  1.0000000 | -0.5362434 |  0.3209230 |\n",
       "| lnprod_kgpc |  0.8944389 | -0.6910118 |  0.7431669 |  0.8057081 | -0.5362434 |  1.0000000 | -0.8942133 |\n",
       "| lnvaches_pc | -0.9890016 |  0.5892076 | -0.6353781 | -0.8548139 |  0.3209230 | -0.8942133 |  1.0000000 |\n",
       "\n"
      ],
      "text/plain": [
       "            annee      lnrevr_pop lnpr_fr    lnpr_lait  lnpr_beurre lnprod_kgpc\n",
       "annee        1.0000000 -0.5704188  0.6176860  0.7994827 -0.3445591   0.8944389 \n",
       "lnrevr_pop  -0.5704188  1.0000000 -0.8255636 -0.5749338  0.5666069  -0.6910118 \n",
       "lnpr_fr      0.6176860 -0.8255636  1.0000000  0.6163874 -0.5413975   0.7431669 \n",
       "lnpr_lait    0.7994827 -0.5749338  0.6163874  1.0000000 -0.3932041   0.8057081 \n",
       "lnpr_beurre -0.3445591  0.5666069 -0.5413975 -0.3932041  1.0000000  -0.5362434 \n",
       "lnprod_kgpc  0.8944389 -0.6910118  0.7431669  0.8057081 -0.5362434   1.0000000 \n",
       "lnvaches_pc -0.9890016  0.5892076 -0.6353781 -0.8548139  0.3209230  -0.8942133 \n",
       "            lnvaches_pc\n",
       "annee       -0.9890016 \n",
       "lnrevr_pop   0.5892076 \n",
       "lnpr_fr     -0.6353781 \n",
       "lnpr_lait   -0.8548139 \n",
       "lnpr_beurre  0.3209230 \n",
       "lnprod_kgpc -0.8942133 \n",
       "lnvaches_pc  1.0000000 "
      ]
     },
     "metadata": {},
     "output_type": "display_data"
    }
   ],
   "source": [
    "summary(FROMT)\n",
    "cor(FROMT)"
   ]
  },
  {
   "cell_type": "markdown",
   "metadata": {},
   "source": [
    "**Equations de comportement FSM**"
   ]
  },
  {
   "cell_type": "code",
   "execution_count": 8,
   "metadata": {},
   "outputs": [],
   "source": [
    "EQD <- lnprod_kgpc ~ lnpr_fr + lnpr_beurre + lnrevr_pop\n",
    "EQO <- lnprod_kgpc ~ lnpr_fr + lnpr_lait + lnvaches_pc  "
   ]
  },
  {
   "cell_type": "markdown",
   "metadata": {},
   "source": [
    "**Equation equilibre  : production = consommation**"
   ]
  },
  {
   "cell_type": "code",
   "execution_count": 9,
   "metadata": {},
   "outputs": [],
   "source": [
    "instruments <- ~ lnpr_beurre + lnrevr_pop + lnpr_lait + lnvaches_pc "
   ]
  },
  {
   "cell_type": "markdown",
   "metadata": {},
   "source": [
    "**Estimation de la forme reduite du modèle avec la fonction `lm`**"
   ]
  },
  {
   "cell_type": "code",
   "execution_count": 10,
   "metadata": {},
   "outputs": [
    {
     "data": {
      "text/plain": [
       "\n",
       "Call:\n",
       "lm(formula = lnprod_kgpc ~ lnpr_beurre + lnrevr_pop + lnpr_lait + \n",
       "    lnvaches_pc, data = FROMT)\n",
       "\n",
       "Residuals:\n",
       "      Min        1Q    Median        3Q       Max \n",
       "-0.041903 -0.018659  0.000856  0.012872  0.075627 \n",
       "\n",
       "Coefficients:\n",
       "             Estimate Std. Error t value Pr(>|t|)    \n",
       "(Intercept) 10.718611   3.163518   3.388  0.00264 ** \n",
       "lnpr_beurre -0.637738   0.262877  -2.426  0.02392 *  \n",
       "lnrevr_pop  -0.372589   0.335109  -1.112  0.27821    \n",
       "lnpr_lait    0.004488   0.029487   0.152  0.88040    \n",
       "lnvaches_pc -0.306211   0.062890  -4.869 7.24e-05 ***\n",
       "---\n",
       "Signif. codes:  0 '***' 0.001 '**' 0.01 '*' 0.05 '.' 0.1 ' ' 1\n",
       "\n",
       "Residual standard error: 0.03013 on 22 degrees of freedom\n",
       "Multiple R-squared:  0.8761,\tAdjusted R-squared:  0.8536 \n",
       "F-statistic:  38.9 on 4 and 22 DF,  p-value: 1.122e-09\n"
      ]
     },
     "metadata": {},
     "output_type": "display_data"
    }
   ],
   "source": [
    "EQ1_FRM <- lm(lnprod_kgpc ~ lnpr_beurre + lnrevr_pop + lnpr_lait + lnvaches_pc,\n",
    "              data = FROMT\n",
    "             )\n",
    "summary(EQ1_FRM)"
   ]
  },
  {
   "cell_type": "code",
   "execution_count": 11,
   "metadata": {},
   "outputs": [
    {
     "data": {
      "text/plain": [
       "\n",
       "Call:\n",
       "lm(formula = lnpr_fr ~ lnpr_beurre + lnrevr_pop + lnpr_lait + \n",
       "    lnvaches_pc, data = FROMT)\n",
       "\n",
       "Residuals:\n",
       "     Min       1Q   Median       3Q      Max \n",
       "-0.31542 -0.08874 -0.01343  0.09686  0.46981 \n",
       "\n",
       "Coefficients:\n",
       "            Estimate Std. Error t value Pr(>|t|)    \n",
       "(Intercept) 96.59767   18.68068   5.171 3.49e-05 ***\n",
       "lnpr_beurre -1.19106    1.55230  -0.767 0.451066    \n",
       "lnrevr_pop  -7.74073    1.97883  -3.912 0.000748 ***\n",
       "lnpr_lait    0.04722    0.17412   0.271 0.788762    \n",
       "lnvaches_pc -0.30252    0.37137  -0.815 0.424026    \n",
       "---\n",
       "Signif. codes:  0 '***' 0.001 '**' 0.01 '*' 0.05 '.' 0.1 ' ' 1\n",
       "\n",
       "Residual standard error: 0.1779 on 22 degrees of freedom\n",
       "Multiple R-squared:  0.7251,\tAdjusted R-squared:  0.6751 \n",
       "F-statistic: 14.51 on 4 and 22 DF,  p-value: 6.082e-06\n"
      ]
     },
     "metadata": {},
     "output_type": "display_data"
    }
   ],
   "source": [
    "EQ2_FRM <- lm(lnpr_fr ~ lnpr_beurre + lnrevr_pop + lnpr_lait + lnvaches_pc,\n",
    "              data = FROMT\n",
    "             )\n",
    "summary(EQ2_FRM)"
   ]
  },
  {
   "cell_type": "markdown",
   "metadata": {},
   "source": [
    "**Estimation de la forme reduite du modèle avec la fonction `systemfit`**"
   ]
  },
  {
   "cell_type": "code",
   "execution_count": 12,
   "metadata": {},
   "outputs": [
    {
     "data": {
      "text/plain": [
       "\n",
       "systemfit results \n",
       "method: OLS \n",
       "\n",
       "        N DF      SSR detRCov   OLS-R2 McElroy-R2\n",
       "system 54 44 0.716584 2.7e-05 0.734134    0.80738\n",
       "\n",
       "     N DF      SSR      MSE     RMSE       R2   Adj R2\n",
       "eq1 27 22 0.019978 0.000908 0.030134 0.876119 0.853595\n",
       "eq2 27 22 0.696606 0.031664 0.177944 0.725099 0.675116\n",
       "\n",
       "\n",
       "Coefficients:\n",
       "                   Estimate  Std. Error  t value   Pr(>|t|)    \n",
       "eq1_(Intercept) 10.71861061  3.16351816  3.38819 0.00264477 ** \n",
       "eq1_lnpr_beurre -0.63773790  0.26287711 -2.42599 0.02391824 *  \n",
       "eq1_lnrevr_pop  -0.37258943  0.33510948 -1.11184 0.27820832    \n",
       "eq1_lnpr_lait    0.00448845  0.02948655  0.15222 0.88040048    \n",
       "eq1_lnvaches_pc -0.30621053  0.06289026 -4.86897 7.2392e-05 ***\n",
       "eq2_(Intercept) 96.59767240 18.68067714  5.17099 3.4856e-05 ***\n",
       "eq2_lnpr_beurre -1.19106295  1.55229782 -0.76729 0.45106569    \n",
       "eq2_lnrevr_pop  -7.74072666  1.97883234 -3.91176 0.00074774 ***\n",
       "eq2_lnpr_lait    0.04722203  0.17411905  0.27121 0.78876154    \n",
       "eq2_lnvaches_pc -0.30252123  0.37136900 -0.81461 0.42402588    \n",
       "---\n",
       "Signif. codes:  0 '***' 0.001 '**' 0.01 '*' 0.05 '.' 0.1 ' ' 1"
      ]
     },
     "metadata": {},
     "output_type": "display_data"
    }
   ],
   "source": [
    "EQ1_FRM1 <- lnprod_kgpc ~ lnpr_beurre + lnrevr_pop + lnpr_lait + lnvaches_pc\n",
    "EQ2_FRM1 <- lnpr_fr ~ lnpr_beurre + lnrevr_pop + lnpr_lait + lnvaches_pc\n",
    "\n",
    "SystemFRM <- list(EQ1_FRM1, EQ2_FRM1)\n",
    "FRM_MCO <- systemfit(SystemFRM, \"OLS\", data = FROMT, maxit = 100)\n",
    "summary(FRM_MCO, residCov = FALSE, equations = FALSE)"
   ]
  },
  {
   "cell_type": "markdown",
   "metadata": {},
   "source": [
    "**Estimation des équations de la FSM avec les DMC avec la fonction `ivreg`**"
   ]
  },
  {
   "cell_type": "code",
   "execution_count": 13,
   "metadata": {},
   "outputs": [
    {
     "data": {
      "text/plain": [
       "\n",
       "Call:\n",
       "ivreg(formula = lnprod_kgpc ~ lnpr_fr + lnpr_beurre + lnrevr_pop | \n",
       "    lnpr_beurre + lnrevr_pop + lnpr_lait + lnvaches_pc, data = FROMT)\n",
       "\n",
       "Residuals:\n",
       "      Min        1Q    Median        3Q       Max \n",
       "-0.369229 -0.071540  0.006511  0.077171  0.232441 \n",
       "\n",
       "Coefficients:\n",
       "            Estimate Std. Error t value Pr(>|t|)  \n",
       "(Intercept) -67.2468    53.7086  -1.252   0.2231  \n",
       "lnpr_fr       0.8031     0.4531   1.772   0.0896 .\n",
       "lnpr_beurre   0.3746     1.2902   0.290   0.7741  \n",
       "lnrevr_pop    5.8343     4.4883   1.300   0.2065  \n",
       "\n",
       "Diagnostic tests:\n",
       "                 df1 df2 statistic  p-value    \n",
       "Weak instruments   2  22     1.423    0.262    \n",
       "Wu-Hausman         1  22    50.948 3.71e-07 ***\n",
       "Sargan             1  NA     0.076    0.783    \n",
       "---\n",
       "Signif. codes:  0 '***' 0.001 '**' 0.01 '*' 0.05 '.' 0.1 ' ' 1\n",
       "\n",
       "Residual standard error: 0.136 on 23 degrees of freedom\n",
       "Multiple R-Squared: -1.638,\tAdjusted R-squared: -1.982 \n",
       "Wald test: 2.524 on 3 and 23 DF,  p-value: 0.08272 \n"
      ]
     },
     "metadata": {},
     "output_type": "display_data"
    }
   ],
   "source": [
    "EQ1_DMC = ivreg(lnprod_kgpc ~ lnpr_fr + lnpr_beurre + lnrevr_pop |\n",
    "                lnpr_beurre + lnrevr_pop + lnpr_lait + lnvaches_pc,\n",
    "                data = FROMT\n",
    "               )\n",
    "summary(EQ1_DMC, diagnostics = TRUE)"
   ]
  },
  {
   "cell_type": "code",
   "execution_count": 14,
   "metadata": {},
   "outputs": [
    {
     "data": {
      "text/plain": [
       "\n",
       "Call:\n",
       "ivreg(formula = lnprod_kgpc ~ lnpr_fr + lnpr_lait + lnvaches_pc | \n",
       "    lnpr_beurre + lnrevr_pop + lnpr_lait + lnvaches_pc, data = FROMT)\n",
       "\n",
       "Residuals:\n",
       "     Min       1Q   Median       3Q      Max \n",
       "-0.04832 -0.01499 -0.01049  0.01633  0.08475 \n",
       "\n",
       "Coefficients:\n",
       "             Estimate Std. Error t value Pr(>|t|)   \n",
       "(Intercept)  0.588737   0.225106   2.615  0.01547 * \n",
       "lnpr_fr      0.100383   0.037715   2.662  0.01394 * \n",
       "lnpr_lait    0.008927   0.032257   0.277  0.78446   \n",
       "lnvaches_pc -0.251948   0.070750  -3.561  0.00166 **\n",
       "\n",
       "Diagnostic tests:\n",
       "                 df1 df2 statistic  p-value    \n",
       "Weak instruments   2  22    12.063 0.000291 ***\n",
       "Wu-Hausman         1  22     1.292 0.267852    \n",
       "Sargan             1  NA     3.907 0.048081 *  \n",
       "---\n",
       "Signif. codes:  0 '***' 0.001 '**' 0.01 '*' 0.05 '.' 0.1 ' ' 1\n",
       "\n",
       "Residual standard error: 0.03296 on 23 degrees of freedom\n",
       "Multiple R-Squared: 0.845,\tAdjusted R-squared: 0.8248 \n",
       "Wald test: 42.23 on 3 and 23 DF,  p-value: 1.616e-09 \n"
      ]
     },
     "metadata": {},
     "output_type": "display_data"
    }
   ],
   "source": [
    "EQ2_DMC = ivreg(lnprod_kgpc ~ lnpr_fr + lnpr_lait + lnvaches_pc |\n",
    "                lnpr_beurre + lnrevr_pop + lnpr_lait + lnvaches_pc,\n",
    "                data = FROMT\n",
    "               )\n",
    "summary(EQ2_DMC, diagnostics = TRUE)"
   ]
  },
  {
   "cell_type": "markdown",
   "metadata": {},
   "source": [
    "**Estimation de la FSM avec system `fit`**"
   ]
  },
  {
   "cell_type": "code",
   "execution_count": 15,
   "metadata": {
    "scrolled": true
   },
   "outputs": [
    {
     "data": {
      "text/plain": [
       "\n",
       "systemfit results \n",
       "method: 2SLS \n",
       "\n",
       "        N DF      SSR detRCov    OLS-R2 McElroy-R2\n",
       "system 54 46 0.450443 1.5e-05 -0.396601   0.714511\n",
       "\n",
       "     N DF      SSR      MSE     RMSE        R2   Adj R2\n",
       "eq1 27 23 0.425451 0.018498 0.136007 -1.638226 -1.98234\n",
       "eq2 27 23 0.024992 0.001087 0.032964  0.845025  0.82481\n",
       "\n",
       "\n",
       "Coefficients:\n",
       "                    Estimate   Std. Error  t value  Pr(>|t|)   \n",
       "eq1_(Intercept) -67.24678010  53.70855101 -1.25207 0.2231283   \n",
       "eq1_lnpr_fr       0.80306331   0.45308704  1.77243 0.0895714 . \n",
       "eq1_lnpr_beurre   0.37463277   1.29018145  0.29037 0.7741336   \n",
       "eq1_lnrevr_pop    5.83426130   4.48834845  1.29987 0.2065233   \n",
       "eq2_(Intercept)   0.58873689   0.22510567  2.61538 0.0154675 * \n",
       "eq2_lnpr_fr       0.10038325   0.03771492  2.66163 0.0139384 * \n",
       "eq2_lnpr_lait     0.00892668   0.03225723  0.27673 0.7844560   \n",
       "eq2_lnvaches_pc  -0.25194771   0.07074987 -3.56111 0.0016609 **\n",
       "---\n",
       "Signif. codes:  0 '***' 0.001 '**' 0.01 '*' 0.05 '.' 0.1 ' ' 1"
      ]
     },
     "metadata": {},
     "output_type": "display_data"
    }
   ],
   "source": [
    "SystemFSM <- list(EQD, EQO)\n",
    "model_DMC <- systemfit(SystemFSM, \"2SLS\", inst = instruments, data = FROMT, maxit = 100)\n",
    "summary(model_DMC, residCov = FALSE, equations = FALSE)"
   ]
  },
  {
   "cell_type": "markdown",
   "metadata": {},
   "source": [
    "___\n",
    "**Obtenir les valeurs estimées**"
   ]
  },
  {
   "cell_type": "code",
   "execution_count": null,
   "metadata": {},
   "outputs": [],
   "source": [
    "fiteqd <- fitted(model_DMC$eq[[1]])\n",
    "fiteqo <- fitted(model_DMC$eq[[2]])\n",
    "\n",
    "tsfiteqd <- ts(fiteqd, start = 1990, end = 2016, frequency = 1, deltat = 1)\n",
    "tsfiteqo <- ts(fiteqo, start = 1990, end = 2016, frequency = 1, deltat = 1)\n",
    "\n",
    "ts.plot(FROMT[, \"lnprod_kgpc\"],\n",
    "        tsfiteqd, tsfiteqo,\n",
    "        col = 1:3\n",
    "       )\n",
    "\n",
    "legend(\"topleft\",\n",
    "       c(\"lnq_obs\", \"lnq_d\", \"lnq_o\"), bty = \"n\", col = 1:3, lty = rep(1,3)\n",
    "      )"
   ]
  }
 ],
 "metadata": {
  "jupytext": {
   "formats": "ipynb,Rmd"
  },
  "kernelspec": {
   "display_name": "R",
   "language": "R",
   "name": "ir"
  },
  "language_info": {
   "codemirror_mode": "r",
   "file_extension": ".r",
   "mimetype": "text/x-r-source",
   "name": "R",
   "pygments_lexer": "r",
   "version": "3.6.1"
  },
  "latex_envs": {
   "LaTeX_envs_menu_present": true,
   "autoclose": true,
   "autocomplete": true,
   "bibliofile": "biblio.bib",
   "cite_by": "apalike",
   "current_citInitial": 1,
   "eqLabelWithNumbers": true,
   "eqNumInitial": 1,
   "hotkeys": {
    "equation": "Ctrl-E",
    "itemize": "Ctrl-I"
   },
   "labels_anchors": false,
   "latex_user_defs": false,
   "report_style_numbering": false,
   "user_envs_cfg": false
  }
 },
 "nbformat": 4,
 "nbformat_minor": 2
}
