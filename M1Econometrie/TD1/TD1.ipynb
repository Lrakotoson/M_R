{
 "cells": [
  {
   "cell_type": "code",
   "execution_count": 29,
   "metadata": {},
   "outputs": [],
   "source": [
    "library(AER)\n",
    "library(car)\n",
    "library(sandwich)\n",
    "library(lmtest)\n",
    "library(gmm)\n",
    "library(systemfit)\n",
    "library(ggplot2)\n",
    "library(repr)\n",
    "options(repr.plot.width=10)"
   ]
  },
  {
   "cell_type": "code",
   "execution_count": 30,
   "metadata": {},
   "outputs": [
    {
     "data": {
      "text/html": [
       "<table>\n",
       "<thead><tr><th scope=col>Country</th><th scope=col>S_GDP</th><th scope=col>I_GDP</th><th scope=col>S_GDP1</th><th scope=col>I_GDP1</th><th scope=col>S_GDP2</th><th scope=col>I_GDP2</th><th scope=col>OECD</th><th scope=col>GDP</th></tr></thead>\n",
       "<tbody>\n",
       "\t<tr><td>Antigua and Barbuda</td><td>16.67272           </td><td>29.32876           </td><td>17.85315           </td><td>29.33944           </td><td>15.492295          </td><td>29.31809           </td><td>0                  </td><td>18743.627          </td></tr>\n",
       "\t<tr><td>Argentina          </td><td>17.08426           </td><td>18.09456           </td><td>16.60575           </td><td>18.80399           </td><td>17.562770          </td><td>17.38514           </td><td>0                  </td><td>15467.272          </td></tr>\n",
       "\t<tr><td>Bahamas, The       </td><td>20.35409           </td><td>24.96474           </td><td>21.68756           </td><td>23.57176           </td><td>19.099049          </td><td>26.27578           </td><td>0                  </td><td>23820.081          </td></tr>\n",
       "\t<tr><td>Bahrain            </td><td>27.68545           </td><td>26.09833           </td><td>28.54594           </td><td>28.49550           </td><td>26.824958          </td><td>23.70116           </td><td>0                  </td><td>42716.873          </td></tr>\n",
       "\t<tr><td>Bangladesh         </td><td>25.02284           </td><td>21.10992           </td><td>17.59783           </td><td>16.95306           </td><td>32.447863          </td><td>25.26678           </td><td>0                  </td><td> 1841.247          </td></tr>\n",
       "\t<tr><td>Barbados           </td><td>13.27491           </td><td>15.32776           </td><td>18.22432           </td><td>13.99612           </td><td> 8.325512          </td><td>16.65940           </td><td>0                  </td><td>14175.750          </td></tr>\n",
       "</tbody>\n",
       "</table>\n"
      ],
      "text/latex": [
       "\\begin{tabular}{r|lllllllll}\n",
       " Country & S\\_GDP & I\\_GDP & S\\_GDP1 & I\\_GDP1 & S\\_GDP2 & I\\_GDP2 & OECD & GDP\\\\\n",
       "\\hline\n",
       "\t Antigua and Barbuda & 16.67272            & 29.32876            & 17.85315            & 29.33944            & 15.492295           & 29.31809            & 0                   & 18743.627          \\\\\n",
       "\t Argentina           & 17.08426            & 18.09456            & 16.60575            & 18.80399            & 17.562770           & 17.38514            & 0                   & 15467.272          \\\\\n",
       "\t Bahamas, The        & 20.35409            & 24.96474            & 21.68756            & 23.57176            & 19.099049           & 26.27578            & 0                   & 23820.081          \\\\\n",
       "\t Bahrain             & 27.68545            & 26.09833            & 28.54594            & 28.49550            & 26.824958           & 23.70116            & 0                   & 42716.873          \\\\\n",
       "\t Bangladesh          & 25.02284            & 21.10992            & 17.59783            & 16.95306            & 32.447863           & 25.26678            & 0                   &  1841.247          \\\\\n",
       "\t Barbados            & 13.27491            & 15.32776            & 18.22432            & 13.99612            &  8.325512           & 16.65940            & 0                   & 14175.750          \\\\\n",
       "\\end{tabular}\n"
      ],
      "text/markdown": [
       "\n",
       "| Country | S_GDP | I_GDP | S_GDP1 | I_GDP1 | S_GDP2 | I_GDP2 | OECD | GDP |\n",
       "|---|---|---|---|---|---|---|---|---|\n",
       "| Antigua and Barbuda | 16.67272            | 29.32876            | 17.85315            | 29.33944            | 15.492295           | 29.31809            | 0                   | 18743.627           |\n",
       "| Argentina           | 17.08426            | 18.09456            | 16.60575            | 18.80399            | 17.562770           | 17.38514            | 0                   | 15467.272           |\n",
       "| Bahamas, The        | 20.35409            | 24.96474            | 21.68756            | 23.57176            | 19.099049           | 26.27578            | 0                   | 23820.081           |\n",
       "| Bahrain             | 27.68545            | 26.09833            | 28.54594            | 28.49550            | 26.824958           | 23.70116            | 0                   | 42716.873           |\n",
       "| Bangladesh          | 25.02284            | 21.10992            | 17.59783            | 16.95306            | 32.447863           | 25.26678            | 0                   |  1841.247           |\n",
       "| Barbados            | 13.27491            | 15.32776            | 18.22432            | 13.99612            |  8.325512           | 16.65940            | 0                   | 14175.750           |\n",
       "\n"
      ],
      "text/plain": [
       "  Country             S_GDP    I_GDP    S_GDP1   I_GDP1   S_GDP2    I_GDP2  \n",
       "1 Antigua and Barbuda 16.67272 29.32876 17.85315 29.33944 15.492295 29.31809\n",
       "2 Argentina           17.08426 18.09456 16.60575 18.80399 17.562770 17.38514\n",
       "3 Bahamas, The        20.35409 24.96474 21.68756 23.57176 19.099049 26.27578\n",
       "4 Bahrain             27.68545 26.09833 28.54594 28.49550 26.824958 23.70116\n",
       "5 Bangladesh          25.02284 21.10992 17.59783 16.95306 32.447863 25.26678\n",
       "6 Barbados            13.27491 15.32776 18.22432 13.99612  8.325512 16.65940\n",
       "  OECD GDP      \n",
       "1 0    18743.627\n",
       "2 0    15467.272\n",
       "3 0    23820.081\n",
       "4 0    42716.873\n",
       "5 0     1841.247\n",
       "6 0    14175.750"
      ]
     },
     "metadata": {},
     "output_type": "display_data"
    },
    {
     "data": {
      "text/plain": [
       "                Country       S_GDP            I_GDP           S_GDP1      \n",
       " Antigua and Barbuda: 1   Min.   : 4.143   Min.   :11.76   Min.   : 0.265  \n",
       " Argentina          : 1   1st Qu.:15.120   1st Qu.:19.04   1st Qu.:16.380  \n",
       " Bahamas, The       : 1   Median :20.122   Median :22.32   Median :19.832  \n",
       " Bahrain            : 1   Mean   :20.266   Mean   :22.72   Mean   :19.504  \n",
       " Bangladesh         : 1   3rd Qu.:23.308   3rd Qu.:25.27   3rd Qu.:23.787  \n",
       " Barbados           : 1   Max.   :44.387   Max.   :37.23   Max.   :42.315  \n",
       " (Other)            :75                                                    \n",
       "     I_GDP1          S_GDP2           I_GDP2            OECD       \n",
       " Min.   :11.00   Min.   : 2.938   Min.   : 9.982   Min.   :0.0000  \n",
       " 1st Qu.:19.59   1st Qu.:15.141   1st Qu.:19.376   1st Qu.:0.0000  \n",
       " Median :22.32   Median :19.644   Median :22.359   Median :0.0000  \n",
       " Mean   :22.56   Mean   :21.025   Mean   :22.870   Mean   :0.2593  \n",
       " 3rd Qu.:26.29   3rd Qu.:26.825   3rd Qu.:25.387   3rd Qu.:1.0000  \n",
       " Max.   :38.55   Max.   :47.366   Max.   :41.893   Max.   :1.0000  \n",
       "                                                                   \n",
       "      GDP         \n",
       " Min.   :  801.4  \n",
       " 1st Qu.: 4619.1  \n",
       " Median :11004.4  \n",
       " Mean   :17023.2  \n",
       " 3rd Qu.:25424.6  \n",
       " Max.   :80431.3  \n",
       "                  "
      ]
     },
     "metadata": {},
     "output_type": "display_data"
    }
   ],
   "source": [
    "corr_IS <-read.table(\"Exemple_I_S.csv\",head=TRUE,sep=\";\" )\n",
    "head(corr_IS)\n",
    "summary(corr_IS)"
   ]
  },
  {
   "cell_type": "code",
   "execution_count": 31,
   "metadata": {},
   "outputs": [
    {
     "data": {
      "image/png": "[encoded data removed]",
      "text/plain": [
       "plot without title"
      ]
     },
     "metadata": {},
     "output_type": "display_data"
    }
   ],
   "source": [
    "boxplot(corr_IS$I_GDP, corr_IS$S_GDP, corr_IS$I_GDP1, corr_IS$S_GDP1, corr_IS$I_GDP2, \n",
    "    corr_IS$S_GDP2, las = 1, names = c(\"I_GDP 1980-2013\", \"S_GDP 1980-2013\", \"I_GDP Per 1\", \n",
    "        \"S_GDP Per 1 \", \"I_GDP Per 2\", \"S_GDP Per 2 \"), col = c(\"red\", \"royalblue2\", \n",
    "        \"red\", \"royalblue2\", \"red\", \"royalblue2\"))\n",
    "## las = 1 légende horizontale, las = 2 légende verticale\n",
    "mtext(\"Per 1 : 1980-1996, Per 2 : 1997-2013\", side = 1, line = 3)"
   ]
  },
  {
   "cell_type": "code",
   "execution_count": 32,
   "metadata": {},
   "outputs": [
    {
     "data": {
      "image/png": "[encoded data removed]",
      "text/plain": [
       "Plot with title \"Correlation entre le taux d'investissement et le taux d'épargne 1980-2013\""
      ]
     },
     "metadata": {},
     "output_type": "display_data"
    }
   ],
   "source": [
    "plot(I_GDP~S_GDP, data=corr_IS, main=\"Correlation entre le taux d'investissement et le taux d'épargne 1980-2013\" )\n",
    "abline((lm(corr_IS$I_GDP~corr_IS$S_GDP)$coefficients), col=\"blue\")"
   ]
  },
  {
   "cell_type": "markdown",
   "metadata": {},
   "source": [
    "##### Estimation MCO"
   ]
  },
  {
   "cell_type": "code",
   "execution_count": 33,
   "metadata": {},
   "outputs": [
    {
     "data": {
      "text/html": [
       "0.564210914270676"
      ],
      "text/latex": [
       "0.564210914270676"
      ],
      "text/markdown": [
       "0.564210914270676"
      ],
      "text/plain": [
       "[1] 0.5642109"
      ]
     },
     "metadata": {},
     "output_type": "display_data"
    },
    {
     "data": {
      "text/html": [
       "0.318333955782152"
      ],
      "text/latex": [
       "0.318333955782152"
      ],
      "text/markdown": [
       "0.318333955782152"
      ],
      "text/plain": [
       "[1] 0.318334"
      ]
     },
     "metadata": {},
     "output_type": "display_data"
    }
   ],
   "source": [
    "cor(corr_IS$I_GDP,corr_IS$S_GDP)\n",
    "cor(corr_IS$I_GDP,corr_IS$S_GDP)^2"
   ]
  },
  {
   "cell_type": "code",
   "execution_count": 34,
   "metadata": {
    "scrolled": true
   },
   "outputs": [
    {
     "data": {
      "text/plain": [
       "\n",
       "Call:\n",
       "lm(formula = I_GDP ~ S_GDP, data = corr_IS)\n",
       "\n",
       "Residuals:\n",
       "     Min       1Q   Median       3Q      Max \n",
       "-11.3044  -2.0165  -0.4147   2.0558  13.6752 \n",
       "\n",
       "Coefficients:\n",
       "            Estimate Std. Error t value Pr(>|t|)    \n",
       "(Intercept)  15.5020     1.2709  12.198  < 2e-16 ***\n",
       "S_GDP         0.3560     0.0586   6.074 4.13e-08 ***\n",
       "---\n",
       "Signif. codes:  0 '***' 0.001 '**' 0.01 '*' 0.05 '.' 0.1 ' ' 1\n",
       "\n",
       "Residual standard error: 4.07 on 79 degrees of freedom\n",
       "Multiple R-squared:  0.3183,\tAdjusted R-squared:  0.3097 \n",
       "F-statistic: 36.89 on 1 and 79 DF,  p-value: 4.126e-08\n"
      ]
     },
     "metadata": {},
     "output_type": "display_data"
    }
   ],
   "source": [
    "Periode_G <- lm( I_GDP ~ S_GDP, data=corr_IS)\n",
    "summary(Periode_G)"
   ]
  },
  {
   "cell_type": "code",
   "execution_count": 35,
   "metadata": {},
   "outputs": [
    {
     "data": {
      "text/html": [
       "<dl class=dl-horizontal>\n",
       "\t<dt>(Intercept)</dt>\n",
       "\t\t<dd>15.5020425895988</dd>\n",
       "\t<dt>S_GDP</dt>\n",
       "\t\t<dd>0.355959731446799</dd>\n",
       "</dl>\n"
      ],
      "text/latex": [
       "\\begin{description*}\n",
       "\\item[(Intercept)] 15.5020425895988\n",
       "\\item[S\\textbackslash{}\\_GDP] 0.355959731446799\n",
       "\\end{description*}\n"
      ],
      "text/markdown": [
       "(Intercept)\n",
       ":   15.5020425895988S_GDP\n",
       ":   0.355959731446799\n",
       "\n"
      ],
      "text/plain": [
       "(Intercept)       S_GDP \n",
       " 15.5020426   0.3559597 "
      ]
     },
     "metadata": {},
     "output_type": "display_data"
    }
   ],
   "source": [
    "coef(Periode_G)"
   ]
  },
  {
   "cell_type": "markdown",
   "metadata": {},
   "source": [
    "**Test individuel de Student:**\n",
    "\n",
    "- Dans les coefficients, la p-value de S_GDP est égale à 4.13e-08 qui est largement inférieur à 0.05, donc l'épargne (S_GDP) est significative dans le modèle.\n",
    "- Comme n>30, la loi de Student tend vers un loi Normale. La t-value de S_GDP est égale à 6.074 > 1.96, donc le coefficient est significatif.\n",
    "\n",
    "\n",
    "**Test global:**\n",
    "\n",
    "- Les coefficients permetent d'expliquer 31.83% de la variation de l'investissement.\n",
    "- Le modèle est globalement satisfaisant, avec une p-value de 4.126e-08 largement inférieur à 0.05\n",
    "\n",
    "**Conclusion**\n",
    "Si l'épargne augmente de 1 point de pourcentage, alors l'investissement augmente de $\\beta_2$ = 0.3560."
   ]
  },
  {
   "cell_type": "code",
   "execution_count": 36,
   "metadata": {},
   "outputs": [
    {
     "data": {
      "text/html": [
       "<dl class=dl-horizontal>\n",
       "\t<dt>1</dt>\n",
       "\t\t<dd>21.4368609584373</dd>\n",
       "\t<dt>2</dt>\n",
       "\t\t<dd>21.5833518483551</dd>\n",
       "\t<dt>3</dt>\n",
       "\t\t<dd>22.7472773320606</dd>\n",
       "\t<dt>4</dt>\n",
       "\t\t<dd>25.356947360594</dd>\n",
       "\t<dt>5</dt>\n",
       "\t\t<dd>24.4091676936708</dd>\n",
       "</dl>\n"
      ],
      "text/latex": [
       "\\begin{description*}\n",
       "\\item[1] 21.4368609584373\n",
       "\\item[2] 21.5833518483551\n",
       "\\item[3] 22.7472773320606\n",
       "\\item[4] 25.356947360594\n",
       "\\item[5] 24.4091676936708\n",
       "\\end{description*}\n"
      ],
      "text/markdown": [
       "1\n",
       ":   21.43686095843732\n",
       ":   21.58335184835513\n",
       ":   22.74727733206064\n",
       ":   25.3569473605945\n",
       ":   24.4091676936708\n",
       "\n"
      ],
      "text/plain": [
       "       1        2        3        4        5 \n",
       "21.43686 21.58335 22.74728 25.35695 24.40917 "
      ]
     },
     "metadata": {},
     "output_type": "display_data"
    }
   ],
   "source": [
    "fitted(Periode_G)[1:5]"
   ]
  },
  {
   "cell_type": "code",
   "execution_count": 37,
   "metadata": {},
   "outputs": [
    {
     "data": {
      "text/html": [
       "<dl class=dl-horizontal>\n",
       "\t<dt>1</dt>\n",
       "\t\t<dd>7.89190174651838</dd>\n",
       "\t<dt>2</dt>\n",
       "\t\t<dd>-3.48878875048502</dd>\n",
       "\t<dt>3</dt>\n",
       "\t\t<dd>2.21746539300786</dd>\n",
       "\t<dt>4</dt>\n",
       "\t\t<dd>0.741386639860721</dd>\n",
       "\t<dt>5</dt>\n",
       "\t\t<dd>-3.29924845693782</dd>\n",
       "</dl>\n"
      ],
      "text/latex": [
       "\\begin{description*}\n",
       "\\item[1] 7.89190174651838\n",
       "\\item[2] -3.48878875048502\n",
       "\\item[3] 2.21746539300786\n",
       "\\item[4] 0.741386639860721\n",
       "\\item[5] -3.29924845693782\n",
       "\\end{description*}\n"
      ],
      "text/markdown": [
       "1\n",
       ":   7.891901746518382\n",
       ":   -3.488788750485023\n",
       ":   2.217465393007864\n",
       ":   0.7413866398607215\n",
       ":   -3.29924845693782\n",
       "\n"
      ],
      "text/plain": [
       "         1          2          3          4          5 \n",
       " 7.8919017 -3.4887888  2.2174654  0.7413866 -3.2992485 "
      ]
     },
     "metadata": {},
     "output_type": "display_data"
    }
   ],
   "source": [
    "residuals(Periode_G)[1:5]"
   ]
  },
  {
   "cell_type": "code",
   "execution_count": 38,
   "metadata": {},
   "outputs": [
    {
     "data": {
      "text/html": [
       "1308.90784856171"
      ],
      "text/latex": [
       "1308.90784856171"
      ],
      "text/markdown": [
       "1308.90784856171"
      ],
      "text/plain": [
       "[1] 1308.908"
      ]
     },
     "metadata": {},
     "output_type": "display_data"
    }
   ],
   "source": [
    "scrc <- sum(Periode_G$residuals^2)\n",
    "scrc"
   ]
  },
  {
   "cell_type": "markdown",
   "metadata": {},
   "source": [
    "### Test mobilite des capitaux\n",
    "On effectue un test de Student:\n",
    "$$\n",
    "\\left\\{\n",
    "    \\begin{array}{ll}\n",
    "        H_0 = 1 \\\\\n",
    "        H_1 \\ne 1\n",
    "    \\end{array}\n",
    "\\right.\n",
    "$$"
   ]
  },
  {
   "cell_type": "code",
   "execution_count": 39,
   "metadata": {},
   "outputs": [
    {
     "data": {
      "text/html": [
       "<table>\n",
       "<thead><tr><th scope=col>Res.Df</th><th scope=col>RSS</th><th scope=col>Df</th><th scope=col>Sum of Sq</th><th scope=col>F</th><th scope=col>Pr(&gt;F)</th></tr></thead>\n",
       "<tbody>\n",
       "\t<tr><td>80          </td><td>3309.897    </td><td>NA          </td><td>      NA    </td><td>     NA     </td><td>          NA</td></tr>\n",
       "\t<tr><td>79          </td><td>1308.908    </td><td> 1          </td><td>2000.989    </td><td>120.771     </td><td>1.389421e-17</td></tr>\n",
       "</tbody>\n",
       "</table>\n"
      ],
      "text/latex": [
       "\\begin{tabular}{r|llllll}\n",
       " Res.Df & RSS & Df & Sum of Sq & F & Pr(>F)\\\\\n",
       "\\hline\n",
       "\t 80           & 3309.897     & NA           &       NA     &      NA      &           NA\\\\\n",
       "\t 79           & 1308.908     &  1           & 2000.989     & 120.771      & 1.389421e-17\\\\\n",
       "\\end{tabular}\n"
      ],
      "text/markdown": [
       "\n",
       "| Res.Df | RSS | Df | Sum of Sq | F | Pr(>F) |\n",
       "|---|---|---|---|---|---|\n",
       "| 80           | 3309.897     | NA           |       NA     |      NA      |           NA |\n",
       "| 79           | 1308.908     |  1           | 2000.989     | 120.771      | 1.389421e-17 |\n",
       "\n"
      ],
      "text/plain": [
       "  Res.Df RSS      Df Sum of Sq F       Pr(>F)      \n",
       "1 80     3309.897 NA       NA       NA           NA\n",
       "2 79     1308.908  1 2000.989  120.771 1.389421e-17"
      ]
     },
     "metadata": {},
     "output_type": "display_data"
    }
   ],
   "source": [
    "linearHypothesis(Periode_G, \"S_GDP = 1\")"
   ]
  },
  {
   "cell_type": "markdown",
   "metadata": {},
   "source": [
    "#### Estimation avec une spécificité OCDE"
   ]
  },
  {
   "cell_type": "code",
   "execution_count": 40,
   "metadata": {},
   "outputs": [
    {
     "data": {
      "image/png": "[encoded data removed]",
      "text/plain": [
       "plot without title"
      ]
     },
     "metadata": {},
     "output_type": "display_data"
    }
   ],
   "source": [
    "par(mfrow = c(1,2))\n",
    "boxplot(I_GDP ~ OECD,\n",
    "        data = corr_IS,\n",
    "        ylab = \"Investissement par PIB\"\n",
    "       )\n",
    "boxplot(S_GDP ~ OECD,\n",
    "        data = corr_IS,\n",
    "        ylab = \"Epargne par PIB\"\n",
    "       )"
   ]
  },
  {
   "cell_type": "markdown",
   "metadata": {},
   "source": [
    "##### Ajout des informations sur l'OCDE\n",
    "On ajoute les variables sur l'OCDE dans les variables explicatives pour tester un nouveau modèle"
   ]
  },
  {
   "cell_type": "code",
   "execution_count": 41,
   "metadata": {
    "scrolled": true
   },
   "outputs": [
    {
     "data": {
      "text/plain": [
       "\n",
       "Call:\n",
       "lm(formula = I_GDP ~ S_GDP + S_GDP_OECD + OECD, data = corr_IS)\n",
       "\n",
       "Residuals:\n",
       "     Min       1Q   Median       3Q      Max \n",
       "-11.4401  -2.1420  -0.4645   2.0915  13.5480 \n",
       "\n",
       "Coefficients:\n",
       "            Estimate Std. Error t value Pr(>|t|)    \n",
       "(Intercept) 15.61669    1.35170  11.553  < 2e-16 ***\n",
       "S_GDP        0.35651    0.06453   5.525 4.31e-07 ***\n",
       "S_GDP_OECD   0.05074    0.19102   0.266    0.791    \n",
       "OECD        -1.65943    4.46496  -0.372    0.711    \n",
       "---\n",
       "Signif. codes:  0 '***' 0.001 '**' 0.01 '*' 0.05 '.' 0.1 ' ' 1\n",
       "\n",
       "Residual standard error: 4.115 on 77 degrees of freedom\n",
       "Multiple R-squared:  0.3209,\tAdjusted R-squared:  0.2945 \n",
       "F-statistic: 12.13 on 3 and 77 DF,  p-value: 1.387e-06\n"
      ]
     },
     "metadata": {},
     "output_type": "display_data"
    }
   ],
   "source": [
    "S_GDP_OECD = corr_IS[,\"S_GDP\"]*corr_IS[,\"OECD\"]\n",
    "Periode_GOECD <- lm( I_GDP ~ S_GDP+S_GDP_OECD+ OECD, data=corr_IS)\n",
    "summary(Periode_GOECD)"
   ]
  },
  {
   "cell_type": "markdown",
   "metadata": {},
   "source": [
    "On remarque que le R-ajusté est inférieur au R-ajusté du précédent modèle (*30,97%*), donc les nouvelles variables n'apportent pas plus d'informations, elles dégradent plus le modèle.\n",
    "\n",
    "On effectue une ANOVA pour comparer les deux modèles."
   ]
  },
  {
   "cell_type": "code",
   "execution_count": 42,
   "metadata": {},
   "outputs": [
    {
     "data": {
      "text/html": [
       "<table>\n",
       "<thead><tr><th scope=col>Res.Df</th><th scope=col>RSS</th><th scope=col>Df</th><th scope=col>Sum of Sq</th><th scope=col>F</th><th scope=col>Pr(&gt;F)</th></tr></thead>\n",
       "<tbody>\n",
       "\t<tr><td>79       </td><td>1308.908 </td><td>NA       </td><td>      NA </td><td>       NA</td><td>     NA  </td></tr>\n",
       "\t<tr><td>77       </td><td>1303.894 </td><td> 2       </td><td>5.014176 </td><td>0.1480533</td><td>0.86263  </td></tr>\n",
       "</tbody>\n",
       "</table>\n"
      ],
      "text/latex": [
       "\\begin{tabular}{r|llllll}\n",
       " Res.Df & RSS & Df & Sum of Sq & F & Pr(>F)\\\\\n",
       "\\hline\n",
       "\t 79        & 1308.908  & NA        &       NA  &        NA &      NA  \\\\\n",
       "\t 77        & 1303.894  &  2        & 5.014176  & 0.1480533 & 0.86263  \\\\\n",
       "\\end{tabular}\n"
      ],
      "text/markdown": [
       "\n",
       "| Res.Df | RSS | Df | Sum of Sq | F | Pr(>F) |\n",
       "|---|---|---|---|---|---|\n",
       "| 79        | 1308.908  | NA        |       NA  |        NA |      NA   |\n",
       "| 77        | 1303.894  |  2        | 5.014176  | 0.1480533 | 0.86263   |\n",
       "\n"
      ],
      "text/plain": [
       "  Res.Df RSS      Df Sum of Sq F         Pr(>F) \n",
       "1 79     1308.908 NA       NA         NA      NA\n",
       "2 77     1303.894  2 5.014176  0.1480533 0.86263"
      ]
     },
     "metadata": {},
     "output_type": "display_data"
    }
   ],
   "source": [
    "anova(Periode_G,Periode_GOECD)"
   ]
  },
  {
   "cell_type": "code",
   "execution_count": null,
   "metadata": {},
   "outputs": [],
   "source": [
    "##test de chow\n",
    "fichier1 = corr_IS[corr_IS$OECD == 1,]  ## selectionne les pays OCDE\n",
    "head(fichier1)\n",
    "EQ1_OECD = lm(I_GDP ~ S_GDP, data=fichier1)\n",
    "summary(EQ1_OECD)\n",
    "scr1 = sum(EQ1_OECD$residuals^2)\n",
    "scr1\n",
    "fichier2 = corr_IS[corr_IS$OECD == 0,]  ## selectionne les pays Non OCDE\n",
    "head(fichier2)\n",
    "EQ1_NOECD = lm(I_GDP ~ S_GDP, data=fichier2)\n",
    "summary(EQ1_NOECD)\n",
    "scr2 = sum(EQ1_NOECD$residuals^2)\n",
    "scr2\n",
    "\n",
    "\n",
    "#degrés de liberté\n",
    "ddl_n = (Periode_G$df.residual - (EQ1_OECD$df.residual + EQ1_NOECD$df.residual))\n",
    "ddl_n\n",
    "ddl_d = EQ1_OECD$df.residual + EQ1_NOECD$df.residual\n",
    "ddl_d\n",
    "#F du test de Chow et p-value\n",
    "FChow = ((scrc-(scr1+scr2))/ddl_n)/((scr1+scr2)/ddl_d)\n",
    "FChow\n",
    "pvalue = pf(FChow,ddl_n,ddl_d,lower.tail=FALSE)\n",
    "pvalue\n",
    "\n",
    "\n",
    "###analyse des résidus\n",
    "##analyse graphique \n",
    "residG = residuals(Periode_G )\n",
    "residG2 = residG^2\n",
    "yp = fitted(Periode_G)\n",
    "\n",
    "plot(residG2~yp, data=corr_IS, main=\"heteroscédasticité - la variance est-elle fonction du I_GDP prévu ?\" )\n",
    "plot(residG2~GDP, data=corr_IS, main=\"heteroscédasticité - la variance est-elle fonction du PIB ?\" )\n",
    "\n",
    "#heteroscedasticite##\n",
    "S_GDP_SQ = corr_IS$S_GDP^2\n",
    "bptest(Periode_G, ~ S_GDP + S_GDP_SQ, data=corr_IS) #test de white\n",
    "Test_White<- lm( residG2 ~ S_GDP + S_GDP_SQ, data=corr_IS)\n",
    "summary(Test_White)\n",
    "\n",
    "#bptest(Periode_G)\n",
    "#Test_White2<- lm( residG2 ~ S_GDP , data=corr_IS)\n",
    "#summary(Test_White2)\n",
    "\n",
    "gqtest(Periode_G, order.by = ~ GDP, fraction = 6, data=corr_IS) # GoldfeldQuant\n",
    "\n",
    "## test de specification - ramsey rest test\n",
    "resettest(Periode_G) ## test de misspecification\n",
    "## equivalent \n",
    "yp2 <- yp^2\n",
    "yp3 <- yp^3\n",
    "Periode_GT <- lm( I_GDP ~ S_GDP + yp2 + yp3, data=corr_IS)\n",
    "summary(Periode_GT)\n",
    "anova(Periode_G,Periode_GT)\n",
    "\n",
    "##heteroscedasticite application des MCG - pas nécessaire ici ##\n",
    "Periode_G_C <- lm( I_GDP ~ S_GDP, data=corr_IS, weights=(1/GDP))\n",
    "summary(Periode_G_C)\n",
    "## weights=(1/GDP) signifie qu'on suppose que var de l'aléa = sigma2*GDP \n",
    "\n",
    "\n",
    "##heteroscedasticite correction de White - pas nécessaire ici ##\n",
    "vcov(Periode_G) ## matrice de variance-cov MCO\n",
    "vcovHC(Periode_G) ## matrice de variance-cov avec la correction de white\n",
    "coeftest(Periode_G, vcov = vcovHC)\n",
    "\n",
    "\n",
    "## outlier\n",
    "influence.measures(Periode_G)\n",
    "\n",
    "### analyse de la corrélation par sous-période\n",
    "EQ1 <- I_GDP~S_GDP\n",
    "EQ2 <- I_GDP1~S_GDP1\n",
    "EQ3 <- I_GDP2~S_GDP2\n",
    "\n",
    "\n",
    "System <- list( EQ1, EQ2, EQ3)\n",
    "model_MCO <- systemfit( System, \"OLS\", data=corr_IS, maxit=100)\n",
    "summary(model_MCO, residCov=FALSE, equations = FALSE)\n",
    "## summary(model_MCO)\n",
    "## coef(model_MCO)\n",
    "## fitted(model_MCO)\n",
    "## residuals(model_MCO)\n",
    "\n",
    "\n",
    "\n",
    "#####estimation MCO sans contraintes - test de contraintes de Fisher \n",
    "System1 <- list( EQ2, EQ3)\n",
    "model_scontraint <- systemfit( System1, \"OLS\", data=corr_IS, maxit=100)\n",
    "summary(model_scontraint, residCov=FALSE, equations = FALSE)\n",
    "R1 <- matrix( 0, nrow = 2, ncol = 4 )\n",
    "R1[ 1, 1 ] <- 1\n",
    "R1[ 1, 3 ] <- -1\n",
    "R1[ 2, 2 ] <- 1\n",
    "R1[ 2, 4 ] <- -1\n",
    "linearHypothesis( model_scontraint, R1, test = \"F\" )\n",
    "\n",
    "model_sure <- systemfit( System1, \"SUR\", data=corr_IS, maxit=100)\n",
    "summary(model_sure, residCov=FALSE, equations = FALSE)\n",
    "R1 <- matrix( 0, nrow = 2, ncol = 4 )\n",
    "R1[ 1, 1 ] <- 1\n",
    "R1[ 1, 3 ] <- -1\n",
    "R1[ 2, 2 ] <- 1\n",
    "R1[ 2, 4 ] <- -1\n",
    "linearHypothesis( model_sure, R1, test = \"F\" )\n",
    "\n",
    "####test du ratio de vraissemblance\n",
    "\n",
    "model_contraint <- systemfit( System1, \"OLS\", data=corr_IS, restrict.matrix = R1)\n",
    "summary(model_contraint, residCov=FALSE, equations = FALSE)\n",
    "lrTest1 <- lrtest( model_contraint, model_scontraint )\n",
    "print( lrTest1 ) \n",
    "\n",
    "model_sure_c <- systemfit( System1, \"SUR\", data=corr_IS, restrict.matrix = R1, maxit=100)\n",
    "summary(model_sure_c, residCov=FALSE, equations = FALSE)\n",
    "lrTest2 <- lrtest( model_sure_c, model_sure )\n",
    "print( lrTest2 )"
   ]
  }
 ],
 "metadata": {
  "jupytext": {
   "formats": "ipynb,Rmd"
  },
  "kernelspec": {
   "display_name": "R",
   "language": "R",
   "name": "ir"
  },
  "language_info": {
   "codemirror_mode": "r",
   "file_extension": ".r",
   "mimetype": "text/x-r-source",
   "name": "R",
   "pygments_lexer": "r",
   "version": "3.6.1"
  },
  "latex_envs": {
   "LaTeX_envs_menu_present": true,
   "autoclose": true,
   "autocomplete": true,
   "bibliofile": "biblio.bib",
   "cite_by": "apalike",
   "current_citInitial": 1,
   "eqLabelWithNumbers": true,
   "eqNumInitial": 1,
   "hotkeys": {
    "equation": "Ctrl-E",
    "itemize": "Ctrl-I"
   },
   "labels_anchors": false,
   "latex_user_defs": false,
   "report_style_numbering": false,
   "user_envs_cfg": false
  },
  "varInspector": {
   "cols": {
    "lenName": 16,
    "lenType": 16,
    "lenVar": 40
   },
   "kernels_config": {
    "python": {
     "delete_cmd_postfix": "",
     "delete_cmd_prefix": "del ",
     "library": "var_list.py",
     "varRefreshCmd": "print(var_dic_list())"
    },
    "r": {
     "delete_cmd_postfix": ") ",
     "delete_cmd_prefix": "rm(",
     "library": "var_list.r",
     "varRefreshCmd": "cat(var_dic_list()) "
    }
   },
   "types_to_exclude": [
    "module",
    "function",
    "builtin_function_or_method",
    "instance",
    "_Feature"
   ],
   "window_display": false
  }
 },
 "nbformat": 4,
 "nbformat_minor": 2
}
