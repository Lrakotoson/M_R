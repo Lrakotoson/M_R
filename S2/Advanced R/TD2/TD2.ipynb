{
 "cells": [
  {
   "cell_type": "code",
   "execution_count": 1,
   "metadata": {},
   "outputs": [
    {
     "name": "stderr",
     "output_type": "stream",
     "text": [
      "Warning message:\n",
      "\"package 'tidyverse' was built under R version 3.6.2\"-- Attaching packages --------------------------------------- tidyverse 1.3.0 --\n",
      "v ggplot2 3.2.1     v purrr   0.3.3\n",
      "v tibble  2.1.3     v dplyr   0.8.3\n",
      "v tidyr   1.0.0     v stringr 1.4.0\n",
      "v readr   1.3.1     v forcats 0.4.0\n",
      "Warning message:\n",
      "\"package 'tidyr' was built under R version 3.6.2\"Warning message:\n",
      "\"package 'dplyr' was built under R version 3.6.2\"-- Conflicts ------------------------------------------ tidyverse_conflicts() --\n",
      "x dplyr::filter()  masks stats::filter()\n",
      "x purrr::flatten() masks jsonlite::flatten()\n",
      "x dplyr::lag()     masks stats::lag()\n",
      "\n",
      "Attaching package: 'gridExtra'\n",
      "\n",
      "The following object is masked from 'package:dplyr':\n",
      "\n",
      "    combine\n",
      "\n"
     ]
    }
   ],
   "source": [
    "library(tidyverse)\n",
    "library(gridExtra)"
   ]
  },
  {
   "cell_type": "markdown",
   "metadata": {},
   "source": [
    "# Les tournois majeurs au tennis en 2013"
   ]
  },
  {
   "cell_type": "markdown",
   "metadata": {},
   "source": [
    "Lire le fichier csv contenant les informations sur le tournoi masculin de Roland-Garros. Inspecter le data-frame obtenu. En faire un tibble ou un data-table en fonction du package que vous utiliserez pour les manipulations."
   ]
  },
  {
   "cell_type": "code",
   "execution_count": 2,
   "metadata": {},
   "outputs": [
    {
     "name": "stderr",
     "output_type": "stream",
     "text": [
      "Parsed with column specification:\n",
      "cols(\n",
      "  .default = col_double(),\n",
      "  Player1 = col_character(),\n",
      "  Player2 = col_character()\n",
      ")\n",
      "See spec(...) for full column specifications.\n"
     ]
    }
   ],
   "source": [
    "tournois <- read_csv(\"../DATA/FrenchOpen-men-2013.csv\")"
   ]
  },
  {
   "cell_type": "code",
   "execution_count": 3,
   "metadata": {},
   "outputs": [
    {
     "data": {
      "text/plain": [
       "   Player1            Player2              Round           Result     \n",
       " Length:125         Length:125         Min.   :1.000   Min.   :0.000  \n",
       " Class :character   Class :character   1st Qu.:1.000   1st Qu.:0.000  \n",
       " Mode  :character   Mode  :character   Median :1.000   Median :0.000  \n",
       "                                       Mean   :1.952   Mean   :0.472  \n",
       "                                       3rd Qu.:2.000   3rd Qu.:1.000  \n",
       "                                       Max.   :7.000   Max.   :1.000  \n",
       "                                                                      \n",
       "     FNL.1           FNL.2          FSP.1          FSW.1           SSP.1     \n",
       " Min.   :0.000   Min.   :0.00   Min.   :43.0   Min.   :10.00   Min.   :16.0  \n",
       " 1st Qu.:0.000   1st Qu.:1.00   1st Qu.:58.0   1st Qu.:35.00   1st Qu.:31.0  \n",
       " Median :2.000   Median :2.00   Median :64.0   Median :45.00   Median :36.0  \n",
       " Mean   :1.728   Mean   :1.84   Mean   :63.6   Mean   :48.62   Mean   :36.4  \n",
       " 3rd Qu.:3.000   3rd Qu.:3.00   3rd Qu.:69.0   3rd Qu.:61.00   3rd Qu.:42.0  \n",
       " Max.   :3.000   Max.   :3.00   Max.   :84.0   Max.   :99.00   Max.   :57.0  \n",
       "                                                                             \n",
       "     SSW.1           ACE.1            DBF.1            WNR.1      \n",
       " Min.   : 6.00   Min.   : 0.000   Min.   : 0.000   Min.   : 6.00  \n",
       " 1st Qu.:13.00   1st Qu.: 3.000   1st Qu.: 1.000   1st Qu.:24.00  \n",
       " Median :20.00   Median : 5.000   Median : 3.000   Median :32.00  \n",
       " Mean   :20.04   Mean   : 6.152   Mean   : 2.992   Mean   :35.66  \n",
       " 3rd Qu.:25.00   3rd Qu.: 8.000   3rd Qu.: 4.000   3rd Qu.:45.00  \n",
       " Max.   :52.00   Max.   :24.000   Max.   :11.000   Max.   :92.00  \n",
       "                                  NA's   :2                       \n",
       "     UFE.1           BPC.1            BPW.1            NPA.1      \n",
       " Min.   : 8.00   Min.   : 0.000   Min.   : 0.000   Min.   : 0.00  \n",
       " 1st Qu.:25.00   1st Qu.: 1.000   1st Qu.: 5.000   1st Qu.: 9.00  \n",
       " Median :34.00   Median : 4.000   Median :10.000   Median :13.00  \n",
       " Mean   :35.86   Mean   : 3.872   Mean   : 9.304   Mean   :14.51  \n",
       " 3rd Qu.:42.00   3rd Qu.: 6.000   3rd Qu.:13.000   3rd Qu.:18.00  \n",
       " Max.   :89.00   Max.   :10.000   Max.   :23.000   Max.   :37.00  \n",
       "                                                                  \n",
       "     NPW.1           TPW.1           ST1.1          ST2.1           ST3.1      \n",
       " Min.   : 3.00   Min.   : 38.0   Min.   :0.00   Min.   :0.000   Min.   :0.000  \n",
       " 1st Qu.:15.00   1st Qu.: 85.0   1st Qu.:3.00   1st Qu.:4.000   1st Qu.:3.000  \n",
       " Median :22.00   Median :102.0   Median :6.00   Median :6.000   Median :6.000  \n",
       " Mean   :22.94   Mean   :109.3   Mean   :4.76   Mean   :5.072   Mean   :4.593  \n",
       " 3rd Qu.:28.00   3rd Qu.:132.0   3rd Qu.:6.00   3rd Qu.:6.000   3rd Qu.:6.000  \n",
       " Max.   :56.00   Max.   :224.0   Max.   :7.00   Max.   :7.000   Max.   :7.000  \n",
       "                                                                NA's   :2      \n",
       "     ST4.1           ST5.1           FSP.2           FSW.2       \n",
       " Min.   :0.000   Min.   :1.000   Min.   :46.00   Min.   : 16.00  \n",
       " 1st Qu.:3.000   1st Qu.:3.250   1st Qu.:57.00   1st Qu.: 34.00  \n",
       " Median :6.000   Median :6.000   Median :62.00   Median : 45.00  \n",
       " Mean   :4.725   Mean   :4.682   Mean   :61.22   Mean   : 46.93  \n",
       " 3rd Qu.:6.000   3rd Qu.:6.000   3rd Qu.:65.00   3rd Qu.: 58.00  \n",
       " Max.   :7.000   Max.   :8.000   Max.   :78.00   Max.   :132.00  \n",
       " NA's   :74      NA's   :103                                     \n",
       "     SSP.2           SSW.2           ACE.2            DBF.2      \n",
       " Min.   :22.00   Min.   : 6.00   Min.   : 0.000   Min.   : 0.00  \n",
       " 1st Qu.:35.00   1st Qu.:15.00   1st Qu.: 3.000   1st Qu.: 2.00  \n",
       " Median :38.00   Median :21.00   Median : 6.000   Median : 3.00  \n",
       " Mean   :38.78   Mean   :21.49   Mean   : 6.536   Mean   : 3.61  \n",
       " 3rd Qu.:43.00   3rd Qu.:27.00   3rd Qu.: 9.000   3rd Qu.: 5.00  \n",
       " Max.   :54.00   Max.   :47.00   Max.   :27.000   Max.   :10.00  \n",
       "                                                  NA's   :2      \n",
       "     WNR.2           UFE.2          BPC.2            BPW.2       \n",
       " Min.   :10.00   Min.   : 7.0   Min.   : 0.000   Min.   : 1.000  \n",
       " 1st Qu.:25.00   1st Qu.:26.0   1st Qu.: 2.000   1st Qu.: 5.000  \n",
       " Median :35.00   Median :35.0   Median : 4.000   Median :10.000  \n",
       " Mean   :37.24   Mean   :36.7   Mean   : 3.912   Mean   : 9.696  \n",
       " 3rd Qu.:48.00   3rd Qu.:46.0   3rd Qu.: 6.000   3rd Qu.:13.000  \n",
       " Max.   :92.00   Max.   :72.0   Max.   :11.000   Max.   :23.000  \n",
       "                                                                 \n",
       "     NPA.2           NPW.2           TPW.2           ST1.2      \n",
       " Min.   : 1.00   Min.   : 2.00   Min.   : 48.0   Min.   :0.000  \n",
       " 1st Qu.: 9.00   1st Qu.:14.00   1st Qu.: 86.0   1st Qu.:4.000  \n",
       " Median :14.00   Median :21.00   Median :104.0   Median :6.000  \n",
       " Mean   :14.46   Mean   :22.69   Mean   :110.1   Mean   :5.072  \n",
       " 3rd Qu.:19.00   3rd Qu.:29.00   3rd Qu.:132.0   3rd Qu.:6.000  \n",
       " Max.   :52.00   Max.   :80.00   Max.   :213.0   Max.   :7.000  \n",
       "                                                                \n",
       "     ST2.2           ST3.2           ST4.2           ST5.2      \n",
       " Min.   :0.000   Min.   :0.000   Min.   :1.000   Min.   :1.000  \n",
       " 1st Qu.:3.000   1st Qu.:3.000   1st Qu.:4.000   1st Qu.:4.000  \n",
       " Median :6.000   Median :6.000   Median :6.000   Median :6.000  \n",
       " Mean   :4.736   Mean   :4.748   Mean   :4.824   Mean   :5.318  \n",
       " 3rd Qu.:6.000   3rd Qu.:6.000   3rd Qu.:6.000   3rd Qu.:6.750  \n",
       " Max.   :7.000   Max.   :7.000   Max.   :7.000   Max.   :9.000  \n",
       "                 NA's   :2       NA's   :74      NA's   :103    "
      ]
     },
     "metadata": {},
     "output_type": "display_data"
    }
   ],
   "source": [
    "summary(tournois)"
   ]
  },
  {
   "cell_type": "markdown",
   "metadata": {},
   "source": [
    "Construire la liste des joueurs Player1"
   ]
  },
  {
   "cell_type": "code",
   "execution_count": 4,
   "metadata": {},
   "outputs": [
    {
     "name": "stderr",
     "output_type": "stream",
     "text": [
      "Selecting by Player1"
     ]
    },
    {
     "data": {
      "text/html": [
       "<table>\n",
       "<thead><tr><th scope=col>Player1</th></tr></thead>\n",
       "<tbody>\n",
       "\t<tr><td>Viktor Troicki</td></tr>\n",
       "\t<tr><td>Vasek Pospisil</td></tr>\n",
       "\t<tr><td>Tommy Haas    </td></tr>\n",
       "\t<tr><td>Victor Hanescu</td></tr>\n",
       "\t<tr><td>Tommy Robredo </td></tr>\n",
       "</tbody>\n",
       "</table>\n"
      ],
      "text/latex": [
       "\\begin{tabular}{r|l}\n",
       " Player1\\\\\n",
       "\\hline\n",
       "\t Viktor Troicki\\\\\n",
       "\t Vasek Pospisil\\\\\n",
       "\t Tommy Haas    \\\\\n",
       "\t Victor Hanescu\\\\\n",
       "\t Tommy Robredo \\\\\n",
       "\\end{tabular}\n"
      ],
      "text/markdown": [
       "\n",
       "| Player1 |\n",
       "|---|\n",
       "| Viktor Troicki |\n",
       "| Vasek Pospisil |\n",
       "| Tommy Haas     |\n",
       "| Victor Hanescu |\n",
       "| Tommy Robredo  |\n",
       "\n"
      ],
      "text/plain": [
       "  Player1       \n",
       "1 Viktor Troicki\n",
       "2 Vasek Pospisil\n",
       "3 Tommy Haas    \n",
       "4 Victor Hanescu\n",
       "5 Tommy Robredo "
      ]
     },
     "metadata": {},
     "output_type": "display_data"
    }
   ],
   "source": [
    "tournois %>%\n",
    "select(Player1) %>%\n",
    "distinct() %>% #ou unique() mais plus lent\n",
    "top_n(5) #les 5 premiers"
   ]
  },
  {
   "cell_type": "markdown",
   "metadata": {},
   "source": [
    "Afficher tous les matches de Roger Federer"
   ]
  },
  {
   "cell_type": "code",
   "execution_count": 5,
   "metadata": {},
   "outputs": [
    {
     "data": {
      "text/html": [
       "<table>\n",
       "<thead><tr><th scope=col>Player1</th><th scope=col>Player2</th><th scope=col>Round</th><th scope=col>Result</th><th scope=col>FNL.1</th><th scope=col>FNL.2</th><th scope=col>FSP.1</th><th scope=col>FSW.1</th><th scope=col>SSP.1</th><th scope=col>SSW.1</th><th scope=col>...</th><th scope=col>BPC.2</th><th scope=col>BPW.2</th><th scope=col>NPA.2</th><th scope=col>NPW.2</th><th scope=col>TPW.2</th><th scope=col>ST1.2</th><th scope=col>ST2.2</th><th scope=col>ST3.2</th><th scope=col>ST4.2</th><th scope=col>ST5.2</th></tr></thead>\n",
       "<tbody>\n",
       "\t<tr><td>Pablo Carreno-Busta</td><td>Roger Federer      </td><td>1                  </td><td>0                  </td><td>0                  </td><td>3                  </td><td>62                 </td><td>27                 </td><td>38                 </td><td>11                 </td><td>...                </td><td>7                  </td><td> 7                 </td><td>14                 </td><td>18                 </td><td> 88                </td><td>6                  </td><td>6                  </td><td>6                  </td><td>NA                 </td><td>NA                 </td></tr>\n",
       "\t<tr><td>Somdev Devvarman   </td><td>Roger Federer      </td><td>2                  </td><td>0                  </td><td>0                  </td><td>3                  </td><td>61                 </td><td>19                 </td><td>39                 </td><td>16                 </td><td>...                </td><td>7                  </td><td>14                 </td><td>19                 </td><td>30                 </td><td> 88                </td><td>6                  </td><td>6                  </td><td>6                  </td><td>NA                 </td><td>NA                 </td></tr>\n",
       "\t<tr><td>Julien Benneteau   </td><td>Roger Federer      </td><td>3                  </td><td>0                  </td><td>0                  </td><td>3                  </td><td>82                 </td><td>41                 </td><td>18                 </td><td> 8                 </td><td>...                </td><td>4                  </td><td> 4                 </td><td> 8                 </td><td>11                 </td><td> 98                </td><td>6                  </td><td>6                  </td><td>7                  </td><td>NA                 </td><td>NA                 </td></tr>\n",
       "\t<tr><td>Gilles Simon       </td><td>Roger Federer      </td><td>4                  </td><td>0                  </td><td>2                  </td><td>3                  </td><td>61                 </td><td>65                 </td><td>39                 </td><td>28                 </td><td>...                </td><td>6                  </td><td>14                 </td><td>25                 </td><td>35                 </td><td>147                </td><td>6                  </td><td>4                  </td><td>2                  </td><td> 6                 </td><td> 6                 </td></tr>\n",
       "\t<tr><td>Jo-Wilfried Tsonga </td><td>Roger Federer      </td><td>5                  </td><td>1                  </td><td>3                  </td><td>0                  </td><td>75                 </td><td>46                 </td><td>25                 </td><td>10                 </td><td>...                </td><td>2                  </td><td> 3                 </td><td>15                 </td><td>30                 </td><td> 73                </td><td>5                  </td><td>3                  </td><td>3                  </td><td>NA                 </td><td>NA                 </td></tr>\n",
       "</tbody>\n",
       "</table>\n"
      ],
      "text/latex": [
       "\\begin{tabular}{r|llllllllllllllllllllllllllllllllllllllllll}\n",
       " Player1 & Player2 & Round & Result & FNL.1 & FNL.2 & FSP.1 & FSW.1 & SSP.1 & SSW.1 & ... & BPC.2 & BPW.2 & NPA.2 & NPW.2 & TPW.2 & ST1.2 & ST2.2 & ST3.2 & ST4.2 & ST5.2\\\\\n",
       "\\hline\n",
       "\t Pablo Carreno-Busta & Roger Federer       & 1                   & 0                   & 0                   & 3                   & 62                  & 27                  & 38                  & 11                  & ...                 & 7                   &  7                  & 14                  & 18                  &  88                 & 6                   & 6                   & 6                   & NA                  & NA                 \\\\\n",
       "\t Somdev Devvarman    & Roger Federer       & 2                   & 0                   & 0                   & 3                   & 61                  & 19                  & 39                  & 16                  & ...                 & 7                   & 14                  & 19                  & 30                  &  88                 & 6                   & 6                   & 6                   & NA                  & NA                 \\\\\n",
       "\t Julien Benneteau    & Roger Federer       & 3                   & 0                   & 0                   & 3                   & 82                  & 41                  & 18                  &  8                  & ...                 & 4                   &  4                  &  8                  & 11                  &  98                 & 6                   & 6                   & 7                   & NA                  & NA                 \\\\\n",
       "\t Gilles Simon        & Roger Federer       & 4                   & 0                   & 2                   & 3                   & 61                  & 65                  & 39                  & 28                  & ...                 & 6                   & 14                  & 25                  & 35                  & 147                 & 6                   & 4                   & 2                   &  6                  &  6                 \\\\\n",
       "\t Jo-Wilfried Tsonga  & Roger Federer       & 5                   & 1                   & 3                   & 0                   & 75                  & 46                  & 25                  & 10                  & ...                 & 2                   &  3                  & 15                  & 30                  &  73                 & 5                   & 3                   & 3                   & NA                  & NA                 \\\\\n",
       "\\end{tabular}\n"
      ],
      "text/markdown": [
       "\n",
       "| Player1 | Player2 | Round | Result | FNL.1 | FNL.2 | FSP.1 | FSW.1 | SSP.1 | SSW.1 | ... | BPC.2 | BPW.2 | NPA.2 | NPW.2 | TPW.2 | ST1.2 | ST2.2 | ST3.2 | ST4.2 | ST5.2 |\n",
       "|---|---|---|---|---|---|---|---|---|---|---|---|---|---|---|---|---|---|---|---|---|\n",
       "| Pablo Carreno-Busta | Roger Federer       | 1                   | 0                   | 0                   | 3                   | 62                  | 27                  | 38                  | 11                  | ...                 | 7                   |  7                  | 14                  | 18                  |  88                 | 6                   | 6                   | 6                   | NA                  | NA                  |\n",
       "| Somdev Devvarman    | Roger Federer       | 2                   | 0                   | 0                   | 3                   | 61                  | 19                  | 39                  | 16                  | ...                 | 7                   | 14                  | 19                  | 30                  |  88                 | 6                   | 6                   | 6                   | NA                  | NA                  |\n",
       "| Julien Benneteau    | Roger Federer       | 3                   | 0                   | 0                   | 3                   | 82                  | 41                  | 18                  |  8                  | ...                 | 4                   |  4                  |  8                  | 11                  |  98                 | 6                   | 6                   | 7                   | NA                  | NA                  |\n",
       "| Gilles Simon        | Roger Federer       | 4                   | 0                   | 2                   | 3                   | 61                  | 65                  | 39                  | 28                  | ...                 | 6                   | 14                  | 25                  | 35                  | 147                 | 6                   | 4                   | 2                   |  6                  |  6                  |\n",
       "| Jo-Wilfried Tsonga  | Roger Federer       | 5                   | 1                   | 3                   | 0                   | 75                  | 46                  | 25                  | 10                  | ...                 | 2                   |  3                  | 15                  | 30                  |  73                 | 5                   | 3                   | 3                   | NA                  | NA                  |\n",
       "\n"
      ],
      "text/plain": [
       "  Player1             Player2       Round Result FNL.1 FNL.2 FSP.1 FSW.1 SSP.1\n",
       "1 Pablo Carreno-Busta Roger Federer 1     0      0     3     62    27    38   \n",
       "2 Somdev Devvarman    Roger Federer 2     0      0     3     61    19    39   \n",
       "3 Julien Benneteau    Roger Federer 3     0      0     3     82    41    18   \n",
       "4 Gilles Simon        Roger Federer 4     0      2     3     61    65    39   \n",
       "5 Jo-Wilfried Tsonga  Roger Federer 5     1      3     0     75    46    25   \n",
       "  SSW.1 ... BPC.2 BPW.2 NPA.2 NPW.2 TPW.2 ST1.2 ST2.2 ST3.2 ST4.2 ST5.2\n",
       "1 11    ... 7      7    14    18     88   6     6     6     NA    NA   \n",
       "2 16    ... 7     14    19    30     88   6     6     6     NA    NA   \n",
       "3  8    ... 4      4     8    11     98   6     6     7     NA    NA   \n",
       "4 28    ... 6     14    25    35    147   6     4     2      6     6   \n",
       "5 10    ... 2      3    15    30     73   5     3     3     NA    NA   "
      ]
     },
     "metadata": {},
     "output_type": "display_data"
    }
   ],
   "source": [
    "tournois %>%\n",
    "filter(Player1 == \"Roger Federer\" | Player2 == \"Roger Federer\")"
   ]
  },
  {
   "cell_type": "markdown",
   "metadata": {},
   "source": [
    "Afficher le nom des demi-finalistes."
   ]
  },
  {
   "cell_type": "code",
   "execution_count": 6,
   "metadata": {},
   "outputs": [
    {
     "data": {
      "text/html": [
       "<table>\n",
       "<thead><tr><th scope=col>Player1</th><th scope=col>Player2</th></tr></thead>\n",
       "<tbody>\n",
       "\t<tr><td>David Ferrer      </td><td>Jo-Wilfried Tsonga</td></tr>\n",
       "\t<tr><td>Novak Djokovic    </td><td>Rafael Nadal      </td></tr>\n",
       "</tbody>\n",
       "</table>\n"
      ],
      "text/latex": [
       "\\begin{tabular}{r|ll}\n",
       " Player1 & Player2\\\\\n",
       "\\hline\n",
       "\t David Ferrer       & Jo-Wilfried Tsonga\\\\\n",
       "\t Novak Djokovic     & Rafael Nadal      \\\\\n",
       "\\end{tabular}\n"
      ],
      "text/markdown": [
       "\n",
       "| Player1 | Player2 |\n",
       "|---|---|\n",
       "| David Ferrer       | Jo-Wilfried Tsonga |\n",
       "| Novak Djokovic     | Rafael Nadal       |\n",
       "\n"
      ],
      "text/plain": [
       "  Player1        Player2           \n",
       "1 David Ferrer   Jo-Wilfried Tsonga\n",
       "2 Novak Djokovic Rafael Nadal      "
      ]
     },
     "metadata": {},
     "output_type": "display_data"
    }
   ],
   "source": [
    "tournois %>%\n",
    "filter(Round == max(Round) - 1) %>%\n",
    "select(Player1, Player2)\n"
   ]
  },
  {
   "cell_type": "markdown",
   "metadata": {},
   "source": [
    "Combien y a t-il eu de points disputés en moyenne par match ?"
   ]
  },
  {
   "cell_type": "code",
   "execution_count": 7,
   "metadata": {},
   "outputs": [
    {
     "data": {
      "text/html": [
       "<table>\n",
       "<thead><tr><th scope=col>mean(Points)</th></tr></thead>\n",
       "<tbody>\n",
       "\t<tr><td>219.44</td></tr>\n",
       "</tbody>\n",
       "</table>\n"
      ],
      "text/latex": [
       "\\begin{tabular}{r|l}\n",
       " mean(Points)\\\\\n",
       "\\hline\n",
       "\t 219.44\\\\\n",
       "\\end{tabular}\n"
      ],
      "text/markdown": [
       "\n",
       "| mean(Points) |\n",
       "|---|\n",
       "| 219.44 |\n",
       "\n"
      ],
      "text/plain": [
       "  mean(Points)\n",
       "1 219.44      "
      ]
     },
     "metadata": {},
     "output_type": "display_data"
    }
   ],
   "source": [
    "tournois %>%\n",
    "mutate(Points = TPW.1 + TPW.2) %>%\n",
    "summarise(mean(Points))"
   ]
  },
  {
   "cell_type": "markdown",
   "metadata": {},
   "source": [
    "On s’intéresse aux `aces`. Pour chaque tour afficher le plus petit nombre d’aces réalisé dans un match, le plus grand nombre et le nombre moyen."
   ]
  },
  {
   "cell_type": "code",
   "execution_count": 8,
   "metadata": {},
   "outputs": [
    {
     "data": {
      "text/html": [
       "<table>\n",
       "<thead><tr><th scope=col>Round</th><th scope=col>min</th><th scope=col>max</th><th scope=col>mean</th></tr></thead>\n",
       "<tbody>\n",
       "\t<tr><td>1       </td><td>0       </td><td>26      </td><td>13.47619</td></tr>\n",
       "\t<tr><td>2       </td><td>1       </td><td>24      </td><td>13.19355</td></tr>\n",
       "\t<tr><td>3       </td><td>0       </td><td>27      </td><td>12.56250</td></tr>\n",
       "\t<tr><td>4       </td><td>0       </td><td>13      </td><td> 9.12500</td></tr>\n",
       "\t<tr><td>5       </td><td>0       </td><td>11      </td><td> 7.00000</td></tr>\n",
       "\t<tr><td>6       </td><td>3       </td><td> 6      </td><td>10.00000</td></tr>\n",
       "\t<tr><td>7       </td><td>1       </td><td> 5      </td><td> 6.00000</td></tr>\n",
       "</tbody>\n",
       "</table>\n"
      ],
      "text/latex": [
       "\\begin{tabular}{r|llll}\n",
       " Round & min & max & mean\\\\\n",
       "\\hline\n",
       "\t 1        & 0        & 26       & 13.47619\\\\\n",
       "\t 2        & 1        & 24       & 13.19355\\\\\n",
       "\t 3        & 0        & 27       & 12.56250\\\\\n",
       "\t 4        & 0        & 13       &  9.12500\\\\\n",
       "\t 5        & 0        & 11       &  7.00000\\\\\n",
       "\t 6        & 3        &  6       & 10.00000\\\\\n",
       "\t 7        & 1        &  5       &  6.00000\\\\\n",
       "\\end{tabular}\n"
      ],
      "text/markdown": [
       "\n",
       "| Round | min | max | mean |\n",
       "|---|---|---|---|\n",
       "| 1        | 0        | 26       | 13.47619 |\n",
       "| 2        | 1        | 24       | 13.19355 |\n",
       "| 3        | 0        | 27       | 12.56250 |\n",
       "| 4        | 0        | 13       |  9.12500 |\n",
       "| 5        | 0        | 11       |  7.00000 |\n",
       "| 6        | 3        |  6       | 10.00000 |\n",
       "| 7        | 1        |  5       |  6.00000 |\n",
       "\n"
      ],
      "text/plain": [
       "  Round min max mean    \n",
       "1 1     0   26  13.47619\n",
       "2 2     1   24  13.19355\n",
       "3 3     0   27  12.56250\n",
       "4 4     0   13   9.12500\n",
       "5 5     0   11   7.00000\n",
       "6 6     3    6  10.00000\n",
       "7 7     1    5   6.00000"
      ]
     },
     "metadata": {},
     "output_type": "display_data"
    }
   ],
   "source": [
    "tournois %>%\n",
    "group_by(Round) %>%\n",
    "mutate(ACE = ACE.1 + ACE.2) %>%\n",
    "summarise(min = min(ACE.1, ACE.2),\n",
    "          max = max(ACE.1, ACE.2),\n",
    "          mean = mean(ACE))"
   ]
  },
  {
   "cell_type": "markdown",
   "metadata": {},
   "source": [
    "Combien y a t-il eu de doubles fautes au total dans le tournoi."
   ]
  },
  {
   "cell_type": "code",
   "execution_count": 9,
   "metadata": {},
   "outputs": [
    {
     "data": {
      "text/html": [
       "<table>\n",
       "<thead><tr><th scope=col>DBF</th></tr></thead>\n",
       "<tbody>\n",
       "\t<tr><td>812</td></tr>\n",
       "</tbody>\n",
       "</table>\n"
      ],
      "text/latex": [
       "\\begin{tabular}{r|l}\n",
       " DBF\\\\\n",
       "\\hline\n",
       "\t 812\\\\\n",
       "\\end{tabular}\n"
      ],
      "text/markdown": [
       "\n",
       "| DBF |\n",
       "|---|\n",
       "| 812 |\n",
       "\n"
      ],
      "text/plain": [
       "  DBF\n",
       "1 812"
      ]
     },
     "metadata": {},
     "output_type": "display_data"
    }
   ],
   "source": [
    "tournois %>%\n",
    "summarise(DBF = sum(DBF.1 + DBF.2, na.rm = T))"
   ]
  },
  {
   "cell_type": "markdown",
   "metadata": {},
   "source": [
    "Faire un histogramme du nombre de doubles fautes par match"
   ]
  },
  {
   "cell_type": "code",
   "execution_count": 10,
   "metadata": {
    "scrolled": true
   },
   "outputs": [
    {
     "name": "stderr",
     "output_type": "stream",
     "text": [
      "Warning message:\n",
      "\"Removed 2 rows containing non-finite values (stat_bin).\""
     ]
    },
    {
     "data": {
      "image/png": "[encoded data removed]",
      "text/plain": [
       "plot without title"
      ]
     },
     "metadata": {},
     "output_type": "display_data"
    }
   ],
   "source": [
    "tournois %>%\n",
    "mutate(DBF = DBF.1 + DBF.2) %>%\n",
    "ggplot() +\n",
    "aes(x = DBF) +\n",
    "geom_histogram(binwidth=1)"
   ]
  },
  {
   "cell_type": "markdown",
   "metadata": {},
   "source": [
    "Représenter l’évolution du nombre moyen de doubles fautes par match au cours des différents tours"
   ]
  },
  {
   "cell_type": "code",
   "execution_count": 11,
   "metadata": {
    "scrolled": true
   },
   "outputs": [
    {
     "data": {
      "image/png": "[encoded data removed]",
      "text/plain": [
       "plot without title"
      ]
     },
     "metadata": {},
     "output_type": "display_data"
    }
   ],
   "source": [
    "tournois %>%\n",
    "group_by(Round) %>% \n",
    "summarise(DBF = mean(DBF.1 + DBF.2, na.rm = T))  %>% \n",
    "ggplot() + aes(x = Round, y = DBF) + geom_line()"
   ]
  },
  {
   "cell_type": "markdown",
   "metadata": {},
   "source": [
    "Peut-on dire que le pourcentage de premier service a une influence sur le résultat ? On pourra faire uneboîte à moustaches ainsi qu’un test pour répondre à la question ?"
   ]
  },
  {
   "cell_type": "code",
   "execution_count": 12,
   "metadata": {
    "scrolled": false
   },
   "outputs": [
    {
     "data": {
      "image/png": "[encoded data removed]",
      "text/plain": [
       "plot without title"
      ]
     },
     "metadata": {},
     "output_type": "display_data"
    }
   ],
   "source": [
    "test <- tournois  %>% \n",
    "select(FSP.1, FSP.2, Result) %>%\n",
    "gather(key = \"FSP\", value = \"value\", -Result)\n",
    "\n",
    "grid.arrange(ggplot(test) + aes(y = value) + geom_boxplot() + facet_grid(~FSP),\n",
    "             ggplot(test) + aes(x = Result) + geom_bar(),\n",
    "             nrow = 2, ncol = 1,\n",
    "             layout_matrix = matrix((1:2), ncol = 1, byrow = T))"
   ]
  }
 ],
 "metadata": {
  "jupytext": {
   "formats": "ipynb,Rmd"
  },
  "kernelspec": {
   "display_name": "R",
   "language": "R",
   "name": "ir"
  },
  "language_info": {
   "codemirror_mode": "r",
   "file_extension": ".r",
   "mimetype": "text/x-r-source",
   "name": "R",
   "pygments_lexer": "r",
   "version": "3.6.1"
  }
 },
 "nbformat": 4,
 "nbformat_minor": 2
}
