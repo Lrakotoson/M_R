{
 "cells": [
  {
   "cell_type": "code",
   "execution_count": 9,
   "metadata": {},
   "outputs": [],
   "source": [
    "brut <- read.csv(\"brut.csv\",\n",
    "                 sep = \";\",\n",
    "                 header = T,\n",
    "                 encoding = \"UTF-8\",\n",
    "                 dec = \",\"\n",
    "                )"
   ]
  },
  {
   "cell_type": "code",
   "execution_count": 13,
   "metadata": {},
   "outputs": [],
   "source": [
    "brut <- aggregate(brut[, 3:19], list(brut$Country), mean, na.rm = T)"
   ]
  },
  {
   "cell_type": "markdown",
   "metadata": {},
   "source": [
    "Modele 1: brut"
   ]
  },
  {
   "cell_type": "code",
   "execution_count": 19,
   "metadata": {
    "scrolled": true
   },
   "outputs": [
    {
     "data": {
      "image/png": "[encoded data removed]",
      "text/plain": [
       "plot without title"
      ]
     },
     "metadata": {},
     "output_type": "display_data"
    }
   ],
   "source": [
    "plot(log(brut$GDP_PPP), brut$Life_Ladder)"
   ]
  },
  {
   "cell_type": "code",
   "execution_count": 47,
   "metadata": {},
   "outputs": [
    {
     "data": {
      "text/plain": [
       "\n",
       "Call:\n",
       "lm(formula = Life_Ladder ~ ., data = brut[, 2:18])\n",
       "\n",
       "Residuals:\n",
       "     Min       1Q   Median       3Q      Max \n",
       "-0.29494 -0.15912 -0.03958  0.08260  0.58701 \n",
       "\n",
       "Coefficients:\n",
       "                               Estimate Std. Error t value Pr(>|t|)   \n",
       "(Intercept)                   4.861e+00  5.075e+00   0.958  0.35870   \n",
       "GDP_PPP                       4.696e-05  1.559e-05   3.012  0.01183 * \n",
       "Social_support                1.382e+00  1.428e+00   0.967  0.35411   \n",
       "HALE_birth                   -5.206e-02  6.447e-02  -0.807  0.43650   \n",
       "Freedom                       7.988e-01  1.316e+00   0.607  0.55616   \n",
       "Generosity                    1.373e+00  1.054e+00   1.303  0.21910   \n",
       "Corruption                   -1.352e-01  1.013e+00  -0.133  0.89624   \n",
       "Positive_affect               3.304e+00  3.276e+00   1.009  0.33481   \n",
       "Negative_affect               2.051e+00  1.455e+00   1.410  0.18622   \n",
       "Confidence_government        -1.130e+00  1.029e+00  -1.098  0.29548   \n",
       "Democratic_Quality           -7.388e-02  2.980e-01  -0.248  0.80879   \n",
       "Delivery_Quality              1.461e-01  3.787e-01   0.386  0.70702   \n",
       "GINI_2000_16_WB               3.926e+00  2.845e+00   1.380  0.19497   \n",
       "GINI_household_income_Gallup -5.549e+00  1.784e+00  -3.110  0.00993 **\n",
       "Trust_People_Gallup           1.271e+00  2.319e+00   0.548  0.59449   \n",
       "Trust_people_WVS_05_09        1.172e+00  9.396e-01   1.247  0.23835   \n",
       "Trust_people_WVS_10_14       -1.682e+00  1.310e+00  -1.284  0.22559   \n",
       "---\n",
       "Signif. codes:  0 '***' 0.001 '**' 0.01 '*' 0.05 '.' 0.1 ' ' 1\n",
       "\n",
       "Residual standard error: 0.3081 on 11 degrees of freedom\n",
       "  (137 observations deleted due to missingness)\n",
       "Multiple R-squared:  0.9549,\tAdjusted R-squared:  0.8893 \n",
       "F-statistic: 14.56 on 16 and 11 DF,  p-value: 3.553e-05\n"
      ]
     },
     "metadata": {},
     "output_type": "display_data"
    }
   ],
   "source": [
    "mod1 <- lm(Life_Ladder~., data = brut[,2:18])\n",
    "summary(mod1)"
   ]
  },
  {
   "cell_type": "code",
   "execution_count": 44,
   "metadata": {},
   "outputs": [
    {
     "data": {
      "image/png": "[encoded data removed]",
      "text/plain": [
       "plot without title"
      ]
     },
     "metadata": {},
     "output_type": "display_data"
    }
   ],
   "source": [
    "boxplot(brut[,c(4,6:18)], na.rm = T)"
   ]
  },
  {
   "cell_type": "code",
   "execution_count": 37,
   "metadata": {
    "scrolled": true
   },
   "outputs": [
    {
     "data": {
      "text/html": [
       "<table>\n",
       "<thead><tr><th></th><th scope=col>Life_Ladder</th><th scope=col>GDP_PPP</th><th scope=col>Social_support</th><th scope=col>HALE_birth</th><th scope=col>Freedom</th><th scope=col>Generosity</th><th scope=col>Corruption</th><th scope=col>Positive_affect</th><th scope=col>Negative_affect</th><th scope=col>Confidence_government</th><th scope=col>Democratic_Quality</th><th scope=col>Delivery_Quality</th><th scope=col>GINI_2000_16_WB</th><th scope=col>GINI_household_income_Gallup</th><th scope=col>Trust_People_Gallup</th><th scope=col>Trust_people_WVS_05_09</th><th scope=col>Trust_people_WVS_10_14</th></tr></thead>\n",
       "<tbody>\n",
       "\t<tr><th scope=row>Life_Ladder</th><td> 1.0000000  </td><td> 0.75831887 </td><td> 0.8069963  </td><td> 0.7887037  </td><td> 0.5135344  </td><td> 0.3842139  </td><td>-0.19265504 </td><td> 0.69116223 </td><td>-0.29414794 </td><td>-0.320631756</td><td> 0.67131042 </td><td> 0.67745000 </td><td> 0.03342260 </td><td>-0.10755731 </td><td> 0.38801255 </td><td> 0.430569496</td><td> 0.3888249  </td></tr>\n",
       "\t<tr><th scope=row>GDP_PPP</th><td> 0.7583189  </td><td> 1.00000000 </td><td> 0.6442664  </td><td> 0.7805163  </td><td> 0.3477302  </td><td> 0.3699307  </td><td>-0.28372166 </td><td> 0.32267161 </td><td>-0.26937200 </td><td>-0.257166348</td><td> 0.71492988 </td><td> 0.81282055 </td><td>-0.40791150 </td><td>-0.06002479 </td><td> 0.54215957 </td><td> 0.562426955</td><td> 0.6309442  </td></tr>\n",
       "\t<tr><th scope=row>Social_support</th><td> 0.8069963  </td><td> 0.64426638 </td><td> 1.0000000  </td><td> 0.7339418  </td><td> 0.3231829  </td><td> 0.1334620  </td><td>-0.02532120 </td><td> 0.42227255 </td><td>-0.28559259 </td><td>-0.417106153</td><td> 0.47790383 </td><td> 0.45980591 </td><td>-0.10351557 </td><td>-0.31799772 </td><td> 0.29277139 </td><td> 0.435166174</td><td> 0.3211109  </td></tr>\n",
       "\t<tr><th scope=row>HALE_birth</th><td> 0.7887037  </td><td> 0.78051630 </td><td> 0.7339418  </td><td> 1.0000000  </td><td> 0.3362437  </td><td> 0.1909103  </td><td>-0.12810064 </td><td> 0.44739359 </td><td>-0.20045736 </td><td>-0.441058144</td><td> 0.71568286 </td><td> 0.75475432 </td><td>-0.22876461 </td><td>-0.30551856 </td><td> 0.25908608 </td><td> 0.346129036</td><td> 0.3086597  </td></tr>\n",
       "\t<tr><th scope=row>Freedom</th><td> 0.5135344  </td><td> 0.34773025 </td><td> 0.3231829  </td><td> 0.3362437  </td><td> 1.0000000  </td><td> 0.5817742  </td><td>-0.48590267 </td><td> 0.76474423 </td><td>-0.56319215 </td><td> 0.258872165</td><td> 0.59432085 </td><td> 0.61313112 </td><td> 0.13197086 </td><td> 0.30857873 </td><td> 0.38871286 </td><td> 0.236393499</td><td> 0.2839757  </td></tr>\n",
       "\t<tr><th scope=row>Generosity</th><td> 0.3842139  </td><td> 0.36993071 </td><td> 0.1334620  </td><td> 0.1909103  </td><td> 0.5817742  </td><td> 1.0000000  </td><td>-0.32064032 </td><td> 0.53972878 </td><td>-0.34124409 </td><td> 0.274147641</td><td> 0.34095432 </td><td> 0.53250885 </td><td>-0.11824698 </td><td> 0.42235565 </td><td> 0.38083011 </td><td> 0.403717992</td><td> 0.4707635  </td></tr>\n",
       "\t<tr><th scope=row>Corruption</th><td>-0.1926550  </td><td>-0.28372166 </td><td>-0.0253212  </td><td>-0.1281006  </td><td>-0.4859027  </td><td>-0.3206403  </td><td> 1.00000000 </td><td>-0.30873171 </td><td> 0.29665040 </td><td>-0.528212012</td><td>-0.33044524 </td><td>-0.48206103 </td><td> 0.03837201 </td><td>-0.23334667 </td><td>-0.63874334 </td><td>-0.365369537</td><td>-0.4948387  </td></tr>\n",
       "\t<tr><th scope=row>Positive_affect</th><td> 0.6911622  </td><td> 0.32267161 </td><td> 0.4222726  </td><td> 0.4473936  </td><td> 0.7647442  </td><td> 0.5397288  </td><td>-0.30873171 </td><td> 1.00000000 </td><td>-0.49183280 </td><td> 0.047887807</td><td> 0.50611815 </td><td> 0.50772238 </td><td> 0.45443557 </td><td> 0.32508114 </td><td> 0.31247029 </td><td> 0.140513878</td><td> 0.1499948  </td></tr>\n",
       "\t<tr><th scope=row>Negative_affect</th><td>-0.2941479  </td><td>-0.26937200 </td><td>-0.2855926  </td><td>-0.2004574  </td><td>-0.5631922  </td><td>-0.3412441  </td><td> 0.29665040 </td><td>-0.49183280 </td><td> 1.00000000 </td><td>-0.181425751</td><td>-0.38639945 </td><td>-0.40789292 </td><td> 0.01056671 </td><td>-0.08484501 </td><td>-0.56715202 </td><td>-0.285769773</td><td>-0.3649473  </td></tr>\n",
       "\t<tr><th scope=row>Confidence_government</th><td>-0.3206318  </td><td>-0.25716635 </td><td>-0.4171062  </td><td>-0.4410581  </td><td> 0.2588722  </td><td> 0.2741476  </td><td>-0.52821201 </td><td> 0.04788781 </td><td>-0.18142575 </td><td> 1.000000000</td><td>-0.26232333 </td><td>-0.01488672 </td><td> 0.11026522 </td><td> 0.23028729 </td><td> 0.09284714 </td><td> 0.004482223</td><td> 0.1172521  </td></tr>\n",
       "\t<tr><th scope=row>Democratic_Quality</th><td> 0.6713104  </td><td> 0.71492988 </td><td> 0.4779038  </td><td> 0.7156829  </td><td> 0.5943208  </td><td> 0.3409543  </td><td>-0.33044524 </td><td> 0.50611815 </td><td>-0.38639945 </td><td>-0.262323325</td><td> 1.00000000 </td><td> 0.87307650 </td><td>-0.23108604 </td><td>-0.01860152 </td><td> 0.44763140 </td><td> 0.300045899</td><td> 0.3577780  </td></tr>\n",
       "\t<tr><th scope=row>Delivery_Quality</th><td> 0.6774500  </td><td> 0.81282055 </td><td> 0.4598059  </td><td> 0.7547543  </td><td> 0.6131311  </td><td> 0.5325088  </td><td>-0.48206103 </td><td> 0.50772238 </td><td>-0.40789292 </td><td>-0.014886719</td><td> 0.87307650 </td><td> 1.00000000 </td><td>-0.26251391 </td><td> 0.06646521 </td><td> 0.49295933 </td><td> 0.402075944</td><td> 0.4853921  </td></tr>\n",
       "\t<tr><th scope=row>GINI_2000_16_WB</th><td> 0.0334226  </td><td>-0.40791150 </td><td>-0.1035156  </td><td>-0.2287646  </td><td> 0.1319709  </td><td>-0.1182470  </td><td> 0.03837201 </td><td> 0.45443557 </td><td> 0.01056671 </td><td> 0.110265221</td><td>-0.23108604 </td><td>-0.26251391 </td><td> 1.00000000 </td><td> 0.42544953 </td><td>-0.38412616 </td><td>-0.575771085</td><td>-0.5951234  </td></tr>\n",
       "\t<tr><th scope=row>GINI_household_income_Gallup</th><td>-0.1075573  </td><td>-0.06002479 </td><td>-0.3179977  </td><td>-0.3055186  </td><td> 0.3085787  </td><td> 0.4223557  </td><td>-0.23334667 </td><td> 0.32508114 </td><td>-0.08484501 </td><td> 0.230287288</td><td>-0.01860152 </td><td> 0.06646521 </td><td> 0.42544953 </td><td> 1.00000000 </td><td> 0.08760797 </td><td>-0.148927453</td><td>-0.1231538  </td></tr>\n",
       "\t<tr><th scope=row>Trust_People_Gallup</th><td> 0.3880126  </td><td> 0.54215957 </td><td> 0.2927714  </td><td> 0.2590861  </td><td> 0.3887129  </td><td> 0.3808301  </td><td>-0.63874334 </td><td> 0.31247029 </td><td>-0.56715202 </td><td> 0.092847141</td><td> 0.44763140 </td><td> 0.49295933 </td><td>-0.38412616 </td><td> 0.08760797 </td><td> 1.00000000 </td><td> 0.748046905</td><td> 0.8338550  </td></tr>\n",
       "\t<tr><th scope=row>Trust_people_WVS_05_09</th><td> 0.4305695  </td><td> 0.56242695 </td><td> 0.4351662  </td><td> 0.3461290  </td><td> 0.2363935  </td><td> 0.4037180  </td><td>-0.36536954 </td><td> 0.14051388 </td><td>-0.28576977 </td><td> 0.004482223</td><td> 0.30004590 </td><td> 0.40207594 </td><td>-0.57577108 </td><td>-0.14892745 </td><td> 0.74804690 </td><td> 1.000000000</td><td> 0.8444371  </td></tr>\n",
       "\t<tr><th scope=row>Trust_people_WVS_10_14</th><td> 0.3888249  </td><td> 0.63094425 </td><td> 0.3211109  </td><td> 0.3086597  </td><td> 0.2839757  </td><td> 0.4707635  </td><td>-0.49483869 </td><td> 0.14999477 </td><td>-0.36494730 </td><td> 0.117252117</td><td> 0.35777798 </td><td> 0.48539206 </td><td>-0.59512337 </td><td>-0.12315382 </td><td> 0.83385502 </td><td> 0.844437095</td><td> 1.0000000  </td></tr>\n",
       "</tbody>\n",
       "</table>\n"
      ],
      "text/latex": [
       "\\begin{tabular}{r|lllllllllllllllll}\n",
       "  & Life\\_Ladder & GDP\\_PPP & Social\\_support & HALE\\_birth & Freedom & Generosity & Corruption & Positive\\_affect & Negative\\_affect & Confidence\\_government & Democratic\\_Quality & Delivery\\_Quality & GINI\\_2000\\_16\\_WB & GINI\\_household\\_income\\_Gallup & Trust\\_People\\_Gallup & Trust\\_people\\_WVS\\_05\\_09 & Trust\\_people\\_WVS\\_10\\_14\\\\\n",
       "\\hline\n",
       "\tLife\\_Ladder &  1.0000000   &  0.75831887  &  0.8069963   &  0.7887037   &  0.5135344   &  0.3842139   & -0.19265504  &  0.69116223  & -0.29414794  & -0.320631756 &  0.67131042  &  0.67745000  &  0.03342260  & -0.10755731  &  0.38801255  &  0.430569496 &  0.3888249  \\\\\n",
       "\tGDP\\_PPP &  0.7583189   &  1.00000000  &  0.6442664   &  0.7805163   &  0.3477302   &  0.3699307   & -0.28372166  &  0.32267161  & -0.26937200  & -0.257166348 &  0.71492988  &  0.81282055  & -0.40791150  & -0.06002479  &  0.54215957  &  0.562426955 &  0.6309442  \\\\\n",
       "\tSocial\\_support &  0.8069963   &  0.64426638  &  1.0000000   &  0.7339418   &  0.3231829   &  0.1334620   & -0.02532120  &  0.42227255  & -0.28559259  & -0.417106153 &  0.47790383  &  0.45980591  & -0.10351557  & -0.31799772  &  0.29277139  &  0.435166174 &  0.3211109  \\\\\n",
       "\tHALE\\_birth &  0.7887037   &  0.78051630  &  0.7339418   &  1.0000000   &  0.3362437   &  0.1909103   & -0.12810064  &  0.44739359  & -0.20045736  & -0.441058144 &  0.71568286  &  0.75475432  & -0.22876461  & -0.30551856  &  0.25908608  &  0.346129036 &  0.3086597  \\\\\n",
       "\tFreedom &  0.5135344   &  0.34773025  &  0.3231829   &  0.3362437   &  1.0000000   &  0.5817742   & -0.48590267  &  0.76474423  & -0.56319215  &  0.258872165 &  0.59432085  &  0.61313112  &  0.13197086  &  0.30857873  &  0.38871286  &  0.236393499 &  0.2839757  \\\\\n",
       "\tGenerosity &  0.3842139   &  0.36993071  &  0.1334620   &  0.1909103   &  0.5817742   &  1.0000000   & -0.32064032  &  0.53972878  & -0.34124409  &  0.274147641 &  0.34095432  &  0.53250885  & -0.11824698  &  0.42235565  &  0.38083011  &  0.403717992 &  0.4707635  \\\\\n",
       "\tCorruption & -0.1926550   & -0.28372166  & -0.0253212   & -0.1281006   & -0.4859027   & -0.3206403   &  1.00000000  & -0.30873171  &  0.29665040  & -0.528212012 & -0.33044524  & -0.48206103  &  0.03837201  & -0.23334667  & -0.63874334  & -0.365369537 & -0.4948387  \\\\\n",
       "\tPositive\\_affect &  0.6911622   &  0.32267161  &  0.4222726   &  0.4473936   &  0.7647442   &  0.5397288   & -0.30873171  &  1.00000000  & -0.49183280  &  0.047887807 &  0.50611815  &  0.50772238  &  0.45443557  &  0.32508114  &  0.31247029  &  0.140513878 &  0.1499948  \\\\\n",
       "\tNegative\\_affect & -0.2941479   & -0.26937200  & -0.2855926   & -0.2004574   & -0.5631922   & -0.3412441   &  0.29665040  & -0.49183280  &  1.00000000  & -0.181425751 & -0.38639945  & -0.40789292  &  0.01056671  & -0.08484501  & -0.56715202  & -0.285769773 & -0.3649473  \\\\\n",
       "\tConfidence\\_government & -0.3206318   & -0.25716635  & -0.4171062   & -0.4410581   &  0.2588722   &  0.2741476   & -0.52821201  &  0.04788781  & -0.18142575  &  1.000000000 & -0.26232333  & -0.01488672  &  0.11026522  &  0.23028729  &  0.09284714  &  0.004482223 &  0.1172521  \\\\\n",
       "\tDemocratic\\_Quality &  0.6713104   &  0.71492988  &  0.4779038   &  0.7156829   &  0.5943208   &  0.3409543   & -0.33044524  &  0.50611815  & -0.38639945  & -0.262323325 &  1.00000000  &  0.87307650  & -0.23108604  & -0.01860152  &  0.44763140  &  0.300045899 &  0.3577780  \\\\\n",
       "\tDelivery\\_Quality &  0.6774500   &  0.81282055  &  0.4598059   &  0.7547543   &  0.6131311   &  0.5325088   & -0.48206103  &  0.50772238  & -0.40789292  & -0.014886719 &  0.87307650  &  1.00000000  & -0.26251391  &  0.06646521  &  0.49295933  &  0.402075944 &  0.4853921  \\\\\n",
       "\tGINI\\_2000\\_16\\_WB &  0.0334226   & -0.40791150  & -0.1035156   & -0.2287646   &  0.1319709   & -0.1182470   &  0.03837201  &  0.45443557  &  0.01056671  &  0.110265221 & -0.23108604  & -0.26251391  &  1.00000000  &  0.42544953  & -0.38412616  & -0.575771085 & -0.5951234  \\\\\n",
       "\tGINI\\_household\\_income\\_Gallup & -0.1075573   & -0.06002479  & -0.3179977   & -0.3055186   &  0.3085787   &  0.4223557   & -0.23334667  &  0.32508114  & -0.08484501  &  0.230287288 & -0.01860152  &  0.06646521  &  0.42544953  &  1.00000000  &  0.08760797  & -0.148927453 & -0.1231538  \\\\\n",
       "\tTrust\\_People\\_Gallup &  0.3880126   &  0.54215957  &  0.2927714   &  0.2590861   &  0.3887129   &  0.3808301   & -0.63874334  &  0.31247029  & -0.56715202  &  0.092847141 &  0.44763140  &  0.49295933  & -0.38412616  &  0.08760797  &  1.00000000  &  0.748046905 &  0.8338550  \\\\\n",
       "\tTrust\\_people\\_WVS\\_05\\_09 &  0.4305695   &  0.56242695  &  0.4351662   &  0.3461290   &  0.2363935   &  0.4037180   & -0.36536954  &  0.14051388  & -0.28576977  &  0.004482223 &  0.30004590  &  0.40207594  & -0.57577108  & -0.14892745  &  0.74804690  &  1.000000000 &  0.8444371  \\\\\n",
       "\tTrust\\_people\\_WVS\\_10\\_14 &  0.3888249   &  0.63094425  &  0.3211109   &  0.3086597   &  0.2839757   &  0.4707635   & -0.49483869  &  0.14999477  & -0.36494730  &  0.117252117 &  0.35777798  &  0.48539206  & -0.59512337  & -0.12315382  &  0.83385502  &  0.844437095 &  1.0000000  \\\\\n",
       "\\end{tabular}\n"
      ],
      "text/markdown": [
       "\n",
       "| <!--/--> | Life_Ladder | GDP_PPP | Social_support | HALE_birth | Freedom | Generosity | Corruption | Positive_affect | Negative_affect | Confidence_government | Democratic_Quality | Delivery_Quality | GINI_2000_16_WB | GINI_household_income_Gallup | Trust_People_Gallup | Trust_people_WVS_05_09 | Trust_people_WVS_10_14 |\n",
       "|---|---|---|---|---|---|---|---|---|---|---|---|---|---|---|---|---|---|\n",
       "| Life_Ladder |  1.0000000   |  0.75831887  |  0.8069963   |  0.7887037   |  0.5135344   |  0.3842139   | -0.19265504  |  0.69116223  | -0.29414794  | -0.320631756 |  0.67131042  |  0.67745000  |  0.03342260  | -0.10755731  |  0.38801255  |  0.430569496 |  0.3888249   |\n",
       "| GDP_PPP |  0.7583189   |  1.00000000  |  0.6442664   |  0.7805163   |  0.3477302   |  0.3699307   | -0.28372166  |  0.32267161  | -0.26937200  | -0.257166348 |  0.71492988  |  0.81282055  | -0.40791150  | -0.06002479  |  0.54215957  |  0.562426955 |  0.6309442   |\n",
       "| Social_support |  0.8069963   |  0.64426638  |  1.0000000   |  0.7339418   |  0.3231829   |  0.1334620   | -0.02532120  |  0.42227255  | -0.28559259  | -0.417106153 |  0.47790383  |  0.45980591  | -0.10351557  | -0.31799772  |  0.29277139  |  0.435166174 |  0.3211109   |\n",
       "| HALE_birth |  0.7887037   |  0.78051630  |  0.7339418   |  1.0000000   |  0.3362437   |  0.1909103   | -0.12810064  |  0.44739359  | -0.20045736  | -0.441058144 |  0.71568286  |  0.75475432  | -0.22876461  | -0.30551856  |  0.25908608  |  0.346129036 |  0.3086597   |\n",
       "| Freedom |  0.5135344   |  0.34773025  |  0.3231829   |  0.3362437   |  1.0000000   |  0.5817742   | -0.48590267  |  0.76474423  | -0.56319215  |  0.258872165 |  0.59432085  |  0.61313112  |  0.13197086  |  0.30857873  |  0.38871286  |  0.236393499 |  0.2839757   |\n",
       "| Generosity |  0.3842139   |  0.36993071  |  0.1334620   |  0.1909103   |  0.5817742   |  1.0000000   | -0.32064032  |  0.53972878  | -0.34124409  |  0.274147641 |  0.34095432  |  0.53250885  | -0.11824698  |  0.42235565  |  0.38083011  |  0.403717992 |  0.4707635   |\n",
       "| Corruption | -0.1926550   | -0.28372166  | -0.0253212   | -0.1281006   | -0.4859027   | -0.3206403   |  1.00000000  | -0.30873171  |  0.29665040  | -0.528212012 | -0.33044524  | -0.48206103  |  0.03837201  | -0.23334667  | -0.63874334  | -0.365369537 | -0.4948387   |\n",
       "| Positive_affect |  0.6911622   |  0.32267161  |  0.4222726   |  0.4473936   |  0.7647442   |  0.5397288   | -0.30873171  |  1.00000000  | -0.49183280  |  0.047887807 |  0.50611815  |  0.50772238  |  0.45443557  |  0.32508114  |  0.31247029  |  0.140513878 |  0.1499948   |\n",
       "| Negative_affect | -0.2941479   | -0.26937200  | -0.2855926   | -0.2004574   | -0.5631922   | -0.3412441   |  0.29665040  | -0.49183280  |  1.00000000  | -0.181425751 | -0.38639945  | -0.40789292  |  0.01056671  | -0.08484501  | -0.56715202  | -0.285769773 | -0.3649473   |\n",
       "| Confidence_government | -0.3206318   | -0.25716635  | -0.4171062   | -0.4410581   |  0.2588722   |  0.2741476   | -0.52821201  |  0.04788781  | -0.18142575  |  1.000000000 | -0.26232333  | -0.01488672  |  0.11026522  |  0.23028729  |  0.09284714  |  0.004482223 |  0.1172521   |\n",
       "| Democratic_Quality |  0.6713104   |  0.71492988  |  0.4779038   |  0.7156829   |  0.5943208   |  0.3409543   | -0.33044524  |  0.50611815  | -0.38639945  | -0.262323325 |  1.00000000  |  0.87307650  | -0.23108604  | -0.01860152  |  0.44763140  |  0.300045899 |  0.3577780   |\n",
       "| Delivery_Quality |  0.6774500   |  0.81282055  |  0.4598059   |  0.7547543   |  0.6131311   |  0.5325088   | -0.48206103  |  0.50772238  | -0.40789292  | -0.014886719 |  0.87307650  |  1.00000000  | -0.26251391  |  0.06646521  |  0.49295933  |  0.402075944 |  0.4853921   |\n",
       "| GINI_2000_16_WB |  0.0334226   | -0.40791150  | -0.1035156   | -0.2287646   |  0.1319709   | -0.1182470   |  0.03837201  |  0.45443557  |  0.01056671  |  0.110265221 | -0.23108604  | -0.26251391  |  1.00000000  |  0.42544953  | -0.38412616  | -0.575771085 | -0.5951234   |\n",
       "| GINI_household_income_Gallup | -0.1075573   | -0.06002479  | -0.3179977   | -0.3055186   |  0.3085787   |  0.4223557   | -0.23334667  |  0.32508114  | -0.08484501  |  0.230287288 | -0.01860152  |  0.06646521  |  0.42544953  |  1.00000000  |  0.08760797  | -0.148927453 | -0.1231538   |\n",
       "| Trust_People_Gallup |  0.3880126   |  0.54215957  |  0.2927714   |  0.2590861   |  0.3887129   |  0.3808301   | -0.63874334  |  0.31247029  | -0.56715202  |  0.092847141 |  0.44763140  |  0.49295933  | -0.38412616  |  0.08760797  |  1.00000000  |  0.748046905 |  0.8338550   |\n",
       "| Trust_people_WVS_05_09 |  0.4305695   |  0.56242695  |  0.4351662   |  0.3461290   |  0.2363935   |  0.4037180   | -0.36536954  |  0.14051388  | -0.28576977  |  0.004482223 |  0.30004590  |  0.40207594  | -0.57577108  | -0.14892745  |  0.74804690  |  1.000000000 |  0.8444371   |\n",
       "| Trust_people_WVS_10_14 |  0.3888249   |  0.63094425  |  0.3211109   |  0.3086597   |  0.2839757   |  0.4707635   | -0.49483869  |  0.14999477  | -0.36494730  |  0.117252117 |  0.35777798  |  0.48539206  | -0.59512337  | -0.12315382  |  0.83385502  |  0.844437095 |  1.0000000   |\n",
       "\n"
      ],
      "text/plain": [
       "                             Life_Ladder GDP_PPP     Social_support HALE_birth\n",
       "Life_Ladder                   1.0000000   0.75831887  0.8069963      0.7887037\n",
       "GDP_PPP                       0.7583189   1.00000000  0.6442664      0.7805163\n",
       "Social_support                0.8069963   0.64426638  1.0000000      0.7339418\n",
       "HALE_birth                    0.7887037   0.78051630  0.7339418      1.0000000\n",
       "Freedom                       0.5135344   0.34773025  0.3231829      0.3362437\n",
       "Generosity                    0.3842139   0.36993071  0.1334620      0.1909103\n",
       "Corruption                   -0.1926550  -0.28372166 -0.0253212     -0.1281006\n",
       "Positive_affect               0.6911622   0.32267161  0.4222726      0.4473936\n",
       "Negative_affect              -0.2941479  -0.26937200 -0.2855926     -0.2004574\n",
       "Confidence_government        -0.3206318  -0.25716635 -0.4171062     -0.4410581\n",
       "Democratic_Quality            0.6713104   0.71492988  0.4779038      0.7156829\n",
       "Delivery_Quality              0.6774500   0.81282055  0.4598059      0.7547543\n",
       "GINI_2000_16_WB               0.0334226  -0.40791150 -0.1035156     -0.2287646\n",
       "GINI_household_income_Gallup -0.1075573  -0.06002479 -0.3179977     -0.3055186\n",
       "Trust_People_Gallup           0.3880126   0.54215957  0.2927714      0.2590861\n",
       "Trust_people_WVS_05_09        0.4305695   0.56242695  0.4351662      0.3461290\n",
       "Trust_people_WVS_10_14        0.3888249   0.63094425  0.3211109      0.3086597\n",
       "                             Freedom    Generosity Corruption  Positive_affect\n",
       "Life_Ladder                   0.5135344  0.3842139 -0.19265504  0.69116223    \n",
       "GDP_PPP                       0.3477302  0.3699307 -0.28372166  0.32267161    \n",
       "Social_support                0.3231829  0.1334620 -0.02532120  0.42227255    \n",
       "HALE_birth                    0.3362437  0.1909103 -0.12810064  0.44739359    \n",
       "Freedom                       1.0000000  0.5817742 -0.48590267  0.76474423    \n",
       "Generosity                    0.5817742  1.0000000 -0.32064032  0.53972878    \n",
       "Corruption                   -0.4859027 -0.3206403  1.00000000 -0.30873171    \n",
       "Positive_affect               0.7647442  0.5397288 -0.30873171  1.00000000    \n",
       "Negative_affect              -0.5631922 -0.3412441  0.29665040 -0.49183280    \n",
       "Confidence_government         0.2588722  0.2741476 -0.52821201  0.04788781    \n",
       "Democratic_Quality            0.5943208  0.3409543 -0.33044524  0.50611815    \n",
       "Delivery_Quality              0.6131311  0.5325088 -0.48206103  0.50772238    \n",
       "GINI_2000_16_WB               0.1319709 -0.1182470  0.03837201  0.45443557    \n",
       "GINI_household_income_Gallup  0.3085787  0.4223557 -0.23334667  0.32508114    \n",
       "Trust_People_Gallup           0.3887129  0.3808301 -0.63874334  0.31247029    \n",
       "Trust_people_WVS_05_09        0.2363935  0.4037180 -0.36536954  0.14051388    \n",
       "Trust_people_WVS_10_14        0.2839757  0.4707635 -0.49483869  0.14999477    \n",
       "                             Negative_affect Confidence_government\n",
       "Life_Ladder                  -0.29414794     -0.320631756         \n",
       "GDP_PPP                      -0.26937200     -0.257166348         \n",
       "Social_support               -0.28559259     -0.417106153         \n",
       "HALE_birth                   -0.20045736     -0.441058144         \n",
       "Freedom                      -0.56319215      0.258872165         \n",
       "Generosity                   -0.34124409      0.274147641         \n",
       "Corruption                    0.29665040     -0.528212012         \n",
       "Positive_affect              -0.49183280      0.047887807         \n",
       "Negative_affect               1.00000000     -0.181425751         \n",
       "Confidence_government        -0.18142575      1.000000000         \n",
       "Democratic_Quality           -0.38639945     -0.262323325         \n",
       "Delivery_Quality             -0.40789292     -0.014886719         \n",
       "GINI_2000_16_WB               0.01056671      0.110265221         \n",
       "GINI_household_income_Gallup -0.08484501      0.230287288         \n",
       "Trust_People_Gallup          -0.56715202      0.092847141         \n",
       "Trust_people_WVS_05_09       -0.28576977      0.004482223         \n",
       "Trust_people_WVS_10_14       -0.36494730      0.117252117         \n",
       "                             Democratic_Quality Delivery_Quality\n",
       "Life_Ladder                   0.67131042         0.67745000     \n",
       "GDP_PPP                       0.71492988         0.81282055     \n",
       "Social_support                0.47790383         0.45980591     \n",
       "HALE_birth                    0.71568286         0.75475432     \n",
       "Freedom                       0.59432085         0.61313112     \n",
       "Generosity                    0.34095432         0.53250885     \n",
       "Corruption                   -0.33044524        -0.48206103     \n",
       "Positive_affect               0.50611815         0.50772238     \n",
       "Negative_affect              -0.38639945        -0.40789292     \n",
       "Confidence_government        -0.26232333        -0.01488672     \n",
       "Democratic_Quality            1.00000000         0.87307650     \n",
       "Delivery_Quality              0.87307650         1.00000000     \n",
       "GINI_2000_16_WB              -0.23108604        -0.26251391     \n",
       "GINI_household_income_Gallup -0.01860152         0.06646521     \n",
       "Trust_People_Gallup           0.44763140         0.49295933     \n",
       "Trust_people_WVS_05_09        0.30004590         0.40207594     \n",
       "Trust_people_WVS_10_14        0.35777798         0.48539206     \n",
       "                             GINI_2000_16_WB GINI_household_income_Gallup\n",
       "Life_Ladder                   0.03342260     -0.10755731                 \n",
       "GDP_PPP                      -0.40791150     -0.06002479                 \n",
       "Social_support               -0.10351557     -0.31799772                 \n",
       "HALE_birth                   -0.22876461     -0.30551856                 \n",
       "Freedom                       0.13197086      0.30857873                 \n",
       "Generosity                   -0.11824698      0.42235565                 \n",
       "Corruption                    0.03837201     -0.23334667                 \n",
       "Positive_affect               0.45443557      0.32508114                 \n",
       "Negative_affect               0.01056671     -0.08484501                 \n",
       "Confidence_government         0.11026522      0.23028729                 \n",
       "Democratic_Quality           -0.23108604     -0.01860152                 \n",
       "Delivery_Quality             -0.26251391      0.06646521                 \n",
       "GINI_2000_16_WB               1.00000000      0.42544953                 \n",
       "GINI_household_income_Gallup  0.42544953      1.00000000                 \n",
       "Trust_People_Gallup          -0.38412616      0.08760797                 \n",
       "Trust_people_WVS_05_09       -0.57577108     -0.14892745                 \n",
       "Trust_people_WVS_10_14       -0.59512337     -0.12315382                 \n",
       "                             Trust_People_Gallup Trust_people_WVS_05_09\n",
       "Life_Ladder                   0.38801255          0.430569496          \n",
       "GDP_PPP                       0.54215957          0.562426955          \n",
       "Social_support                0.29277139          0.435166174          \n",
       "HALE_birth                    0.25908608          0.346129036          \n",
       "Freedom                       0.38871286          0.236393499          \n",
       "Generosity                    0.38083011          0.403717992          \n",
       "Corruption                   -0.63874334         -0.365369537          \n",
       "Positive_affect               0.31247029          0.140513878          \n",
       "Negative_affect              -0.56715202         -0.285769773          \n",
       "Confidence_government         0.09284714          0.004482223          \n",
       "Democratic_Quality            0.44763140          0.300045899          \n",
       "Delivery_Quality              0.49295933          0.402075944          \n",
       "GINI_2000_16_WB              -0.38412616         -0.575771085          \n",
       "GINI_household_income_Gallup  0.08760797         -0.148927453          \n",
       "Trust_People_Gallup           1.00000000          0.748046905          \n",
       "Trust_people_WVS_05_09        0.74804690          1.000000000          \n",
       "Trust_people_WVS_10_14        0.83385502          0.844437095          \n",
       "                             Trust_people_WVS_10_14\n",
       "Life_Ladder                   0.3888249            \n",
       "GDP_PPP                       0.6309442            \n",
       "Social_support                0.3211109            \n",
       "HALE_birth                    0.3086597            \n",
       "Freedom                       0.2839757            \n",
       "Generosity                    0.4707635            \n",
       "Corruption                   -0.4948387            \n",
       "Positive_affect               0.1499948            \n",
       "Negative_affect              -0.3649473            \n",
       "Confidence_government         0.1172521            \n",
       "Democratic_Quality            0.3577780            \n",
       "Delivery_Quality              0.4853921            \n",
       "GINI_2000_16_WB              -0.5951234            \n",
       "GINI_household_income_Gallup -0.1231538            \n",
       "Trust_People_Gallup           0.8338550            \n",
       "Trust_people_WVS_05_09        0.8444371            \n",
       "Trust_people_WVS_10_14        1.0000000            "
      ]
     },
     "metadata": {},
     "output_type": "display_data"
    }
   ],
   "source": [
    "cor(na.omit(brut[,2:18]))"
   ]
  },
  {
   "cell_type": "markdown",
   "metadata": {},
   "source": [
    "On garde:\n",
    "- Les variables fortement corrélés à Y (Life_ladder)\n",
    "- Parmis ceux corrélées entre elles, uniquement la plus corrélée à Y\n",
    "\n",
    "\n",
    "Donc on supprime:\n",
    "- `Democratic_Quality` pour garder `Delivery_Quality`\n",
    "- `GINI 2000-16` pour garder `GINI household`\n",
    "- Les `Trust_people` pour garder `Trust_people_2005-2009`\n",
    "\n",
    "\n",
    "On effectue une régression sur les variables restantes\n",
    "\n",
    "\n",
    "**MODELE 2**"
   ]
  },
  {
   "cell_type": "code",
   "execution_count": 49,
   "metadata": {},
   "outputs": [],
   "source": [
    "donnees2 <- brut[,-c(12,14,16,18)]"
   ]
  },
  {
   "cell_type": "code",
   "execution_count": 52,
   "metadata": {},
   "outputs": [
    {
     "data": {
      "text/plain": [
       "\n",
       "Call:\n",
       "lm(formula = Life_Ladder ~ ., data = donnees2[, 2:14])\n",
       "\n",
       "Residuals:\n",
       "     Min       1Q   Median       3Q      Max \n",
       "-0.92436 -0.16028  0.03869  0.17871  0.72109 \n",
       "\n",
       "Coefficients:\n",
       "                               Estimate Std. Error t value Pr(>|t|)   \n",
       "(Intercept)                  -2.371e+00  1.530e+00  -1.549  0.12940   \n",
       "GDP_PPP                       1.644e-05  7.758e-06   2.118  0.04057 * \n",
       "Social_support                2.582e+00  9.665e-01   2.672  0.01095 * \n",
       "HALE_birth                    4.106e-02  1.713e-02   2.397  0.02141 * \n",
       "Freedom                       1.228e+00  9.288e-01   1.322  0.19387   \n",
       "Generosity                    7.744e-02  5.140e-01   0.151  0.88102   \n",
       "Corruption                   -7.367e-01  4.590e-01  -1.605  0.11661   \n",
       "Positive_affect               3.405e+00  9.756e-01   3.490  0.00122 **\n",
       "Negative_affect               1.665e+00  1.052e+00   1.583  0.12144   \n",
       "Confidence_government        -7.177e-01  4.726e-01  -1.519  0.13691   \n",
       "Delivery_Quality             -1.242e-01  1.560e-01  -0.796  0.43060   \n",
       "GINI_household_income_Gallup -1.307e-01  8.582e-01  -0.152  0.87975   \n",
       "Trust_people_WVS_05_09        3.927e-01  5.234e-01   0.750  0.45762   \n",
       "---\n",
       "Signif. codes:  0 '***' 0.001 '**' 0.01 '*' 0.05 '.' 0.1 ' ' 1\n",
       "\n",
       "Residual standard error: 0.3642 on 39 degrees of freedom\n",
       "  (113 observations deleted due to missingness)\n",
       "Multiple R-squared:  0.9108,\tAdjusted R-squared:  0.8833 \n",
       "F-statistic: 33.17 on 12 and 39 DF,  p-value: < 2.2e-16\n"
      ]
     },
     "metadata": {},
     "output_type": "display_data"
    }
   ],
   "source": [
    "mod2 <- lm(Life_Ladder~., data = donnees2[,2:14])\n",
    "summary(mod2)"
   ]
  },
  {
   "cell_type": "code",
   "execution_count": 66,
   "metadata": {},
   "outputs": [
    {
     "data": {
      "text/html": [
       "<table>\n",
       "<thead><tr><th></th><th scope=col>Life_Ladder</th><th scope=col>GDP_PPP</th><th scope=col>Social_support</th><th scope=col>HALE_birth</th><th scope=col>Freedom</th><th scope=col>Generosity</th><th scope=col>Corruption</th><th scope=col>Positive_affect</th><th scope=col>Negative_affect</th><th scope=col>Confidence_government</th><th scope=col>Delivery_Quality</th><th scope=col>GINI_household_income_Gallup</th><th scope=col>Trust_people_WVS_05_09</th></tr></thead>\n",
       "<tbody>\n",
       "\t<tr><th scope=row>Life_Ladder</th><td> 1.0000000   </td><td> 0.8275878   </td><td> 0.8052179   </td><td> 0.7894754   </td><td> 0.6680648   </td><td> 0.4658326   </td><td>-0.4730547   </td><td> 0.7065676   </td><td>-0.32408896  </td><td>-0.1328547141</td><td> 0.7752866101</td><td>-0.18003485  </td><td> 0.5525613   </td></tr>\n",
       "\t<tr><th scope=row>GDP_PPP</th><td> 0.8275878   </td><td> 1.0000000   </td><td> 0.7027649   </td><td> 0.7878935   </td><td> 0.5206712   </td><td> 0.3888439   </td><td>-0.5096258   </td><td> 0.4539564   </td><td>-0.29617565  </td><td>-0.1042939661</td><td> 0.8582237019</td><td>-0.22715846  </td><td> 0.6102841   </td></tr>\n",
       "\t<tr><th scope=row>Social_support</th><td> 0.8052179   </td><td> 0.7027649   </td><td> 1.0000000   </td><td> 0.6615030   </td><td> 0.4561906   </td><td> 0.2879982   </td><td>-0.2117766   </td><td> 0.5290512   </td><td>-0.36677887  </td><td>-0.3007469205</td><td> 0.6150398457</td><td>-0.37797654  </td><td> 0.4983485   </td></tr>\n",
       "\t<tr><th scope=row>HALE_birth</th><td> 0.7894754   </td><td> 0.7878935   </td><td> 0.6615030   </td><td> 1.0000000   </td><td> 0.4359634   </td><td> 0.2157103   </td><td>-0.3559748   </td><td> 0.3809074   </td><td>-0.19851650  </td><td>-0.2618783474</td><td> 0.7643853364</td><td>-0.38761610  </td><td> 0.4626444   </td></tr>\n",
       "\t<tr><th scope=row>Freedom</th><td> 0.6680648   </td><td> 0.5206712   </td><td> 0.4561906   </td><td> 0.4359634   </td><td> 1.0000000   </td><td> 0.5967346   </td><td>-0.6170461   </td><td> 0.7512066   </td><td>-0.53667471  </td><td> 0.3552136042</td><td> 0.6542292151</td><td> 0.16010435  </td><td> 0.4719006   </td></tr>\n",
       "\t<tr><th scope=row>Generosity</th><td> 0.4658326   </td><td> 0.3888439   </td><td> 0.2879982   </td><td> 0.2157103   </td><td> 0.5967346   </td><td> 1.0000000   </td><td>-0.3959096   </td><td> 0.6061032   </td><td>-0.25088236  </td><td> 0.3537938809</td><td> 0.4397459122</td><td> 0.29105345  </td><td> 0.4640161   </td></tr>\n",
       "\t<tr><th scope=row>Corruption</th><td>-0.4730547   </td><td>-0.5096258   </td><td>-0.2117766   </td><td>-0.3559748   </td><td>-0.6170461   </td><td>-0.3959096   </td><td> 1.0000000   </td><td>-0.3541224   </td><td> 0.35128137  </td><td>-0.4829629727</td><td>-0.6592152675</td><td>-0.14094741  </td><td>-0.5648434   </td></tr>\n",
       "\t<tr><th scope=row>Positive_affect</th><td> 0.7065676   </td><td> 0.4539564   </td><td> 0.5290512   </td><td> 0.3809074   </td><td> 0.7512066   </td><td> 0.6061032   </td><td>-0.3541224   </td><td> 1.0000000   </td><td>-0.43832392  </td><td> 0.1080188812</td><td> 0.5150037965</td><td> 0.16934994  </td><td> 0.2817021   </td></tr>\n",
       "\t<tr><th scope=row>Negative_affect</th><td>-0.3240890   </td><td>-0.2961757   </td><td>-0.3667789   </td><td>-0.1985165   </td><td>-0.5366747   </td><td>-0.2508824   </td><td> 0.3512814   </td><td>-0.4383239   </td><td> 1.00000000  </td><td>-0.1617665274</td><td>-0.4590955740</td><td> 0.06253595  </td><td>-0.3974786   </td></tr>\n",
       "\t<tr><th scope=row>Confidence_government</th><td>-0.1328547   </td><td>-0.1042940   </td><td>-0.3007469   </td><td>-0.2618783   </td><td> 0.3552136   </td><td> 0.3537939   </td><td>-0.4829630   </td><td> 0.1080189   </td><td>-0.16176653  </td><td> 1.0000000000</td><td>-0.0002291397</td><td> 0.27914704  </td><td> 0.2563478   </td></tr>\n",
       "\t<tr><th scope=row>Delivery_Quality</th><td> 0.7752866   </td><td> 0.8582237   </td><td> 0.6150398   </td><td> 0.7643853   </td><td> 0.6542292   </td><td> 0.4397459   </td><td>-0.6592153   </td><td> 0.5150038   </td><td>-0.45909557  </td><td>-0.0002291397</td><td> 1.0000000000</td><td>-0.12254840  </td><td> 0.5611662   </td></tr>\n",
       "\t<tr><th scope=row>GINI_household_income_Gallup</th><td>-0.1800348   </td><td>-0.2271585   </td><td>-0.3779765   </td><td>-0.3876161   </td><td> 0.1601043   </td><td> 0.2910535   </td><td>-0.1409474   </td><td> 0.1693499   </td><td> 0.06253595  </td><td> 0.2791470441</td><td>-0.1225483957</td><td> 1.00000000  </td><td>-0.1968722   </td></tr>\n",
       "\t<tr><th scope=row>Trust_people_WVS_05_09</th><td> 0.5525613   </td><td> 0.6102841   </td><td> 0.4983485   </td><td> 0.4626444   </td><td> 0.4719006   </td><td> 0.4640161   </td><td>-0.5648434   </td><td> 0.2817021   </td><td>-0.39747857  </td><td> 0.2563478419</td><td> 0.5611662014</td><td>-0.19687219  </td><td> 1.0000000   </td></tr>\n",
       "</tbody>\n",
       "</table>\n"
      ],
      "text/latex": [
       "\\begin{tabular}{r|lllllllllllll}\n",
       "  & Life\\_Ladder & GDP\\_PPP & Social\\_support & HALE\\_birth & Freedom & Generosity & Corruption & Positive\\_affect & Negative\\_affect & Confidence\\_government & Delivery\\_Quality & GINI\\_household\\_income\\_Gallup & Trust\\_people\\_WVS\\_05\\_09\\\\\n",
       "\\hline\n",
       "\tLife\\_Ladder &  1.0000000    &  0.8275878    &  0.8052179    &  0.7894754    &  0.6680648    &  0.4658326    & -0.4730547    &  0.7065676    & -0.32408896   & -0.1328547141 &  0.7752866101 & -0.18003485   &  0.5525613   \\\\\n",
       "\tGDP\\_PPP &  0.8275878    &  1.0000000    &  0.7027649    &  0.7878935    &  0.5206712    &  0.3888439    & -0.5096258    &  0.4539564    & -0.29617565   & -0.1042939661 &  0.8582237019 & -0.22715846   &  0.6102841   \\\\\n",
       "\tSocial\\_support &  0.8052179    &  0.7027649    &  1.0000000    &  0.6615030    &  0.4561906    &  0.2879982    & -0.2117766    &  0.5290512    & -0.36677887   & -0.3007469205 &  0.6150398457 & -0.37797654   &  0.4983485   \\\\\n",
       "\tHALE\\_birth &  0.7894754    &  0.7878935    &  0.6615030    &  1.0000000    &  0.4359634    &  0.2157103    & -0.3559748    &  0.3809074    & -0.19851650   & -0.2618783474 &  0.7643853364 & -0.38761610   &  0.4626444   \\\\\n",
       "\tFreedom &  0.6680648    &  0.5206712    &  0.4561906    &  0.4359634    &  1.0000000    &  0.5967346    & -0.6170461    &  0.7512066    & -0.53667471   &  0.3552136042 &  0.6542292151 &  0.16010435   &  0.4719006   \\\\\n",
       "\tGenerosity &  0.4658326    &  0.3888439    &  0.2879982    &  0.2157103    &  0.5967346    &  1.0000000    & -0.3959096    &  0.6061032    & -0.25088236   &  0.3537938809 &  0.4397459122 &  0.29105345   &  0.4640161   \\\\\n",
       "\tCorruption & -0.4730547    & -0.5096258    & -0.2117766    & -0.3559748    & -0.6170461    & -0.3959096    &  1.0000000    & -0.3541224    &  0.35128137   & -0.4829629727 & -0.6592152675 & -0.14094741   & -0.5648434   \\\\\n",
       "\tPositive\\_affect &  0.7065676    &  0.4539564    &  0.5290512    &  0.3809074    &  0.7512066    &  0.6061032    & -0.3541224    &  1.0000000    & -0.43832392   &  0.1080188812 &  0.5150037965 &  0.16934994   &  0.2817021   \\\\\n",
       "\tNegative\\_affect & -0.3240890    & -0.2961757    & -0.3667789    & -0.1985165    & -0.5366747    & -0.2508824    &  0.3512814    & -0.4383239    &  1.00000000   & -0.1617665274 & -0.4590955740 &  0.06253595   & -0.3974786   \\\\\n",
       "\tConfidence\\_government & -0.1328547    & -0.1042940    & -0.3007469    & -0.2618783    &  0.3552136    &  0.3537939    & -0.4829630    &  0.1080189    & -0.16176653   &  1.0000000000 & -0.0002291397 &  0.27914704   &  0.2563478   \\\\\n",
       "\tDelivery\\_Quality &  0.7752866    &  0.8582237    &  0.6150398    &  0.7643853    &  0.6542292    &  0.4397459    & -0.6592153    &  0.5150038    & -0.45909557   & -0.0002291397 &  1.0000000000 & -0.12254840   &  0.5611662   \\\\\n",
       "\tGINI\\_household\\_income\\_Gallup & -0.1800348    & -0.2271585    & -0.3779765    & -0.3876161    &  0.1601043    &  0.2910535    & -0.1409474    &  0.1693499    &  0.06253595   &  0.2791470441 & -0.1225483957 &  1.00000000   & -0.1968722   \\\\\n",
       "\tTrust\\_people\\_WVS\\_05\\_09 &  0.5525613    &  0.6102841    &  0.4983485    &  0.4626444    &  0.4719006    &  0.4640161    & -0.5648434    &  0.2817021    & -0.39747857   &  0.2563478419 &  0.5611662014 & -0.19687219   &  1.0000000   \\\\\n",
       "\\end{tabular}\n"
      ],
      "text/markdown": [
       "\n",
       "| <!--/--> | Life_Ladder | GDP_PPP | Social_support | HALE_birth | Freedom | Generosity | Corruption | Positive_affect | Negative_affect | Confidence_government | Delivery_Quality | GINI_household_income_Gallup | Trust_people_WVS_05_09 |\n",
       "|---|---|---|---|---|---|---|---|---|---|---|---|---|---|\n",
       "| Life_Ladder |  1.0000000    |  0.8275878    |  0.8052179    |  0.7894754    |  0.6680648    |  0.4658326    | -0.4730547    |  0.7065676    | -0.32408896   | -0.1328547141 |  0.7752866101 | -0.18003485   |  0.5525613    |\n",
       "| GDP_PPP |  0.8275878    |  1.0000000    |  0.7027649    |  0.7878935    |  0.5206712    |  0.3888439    | -0.5096258    |  0.4539564    | -0.29617565   | -0.1042939661 |  0.8582237019 | -0.22715846   |  0.6102841    |\n",
       "| Social_support |  0.8052179    |  0.7027649    |  1.0000000    |  0.6615030    |  0.4561906    |  0.2879982    | -0.2117766    |  0.5290512    | -0.36677887   | -0.3007469205 |  0.6150398457 | -0.37797654   |  0.4983485    |\n",
       "| HALE_birth |  0.7894754    |  0.7878935    |  0.6615030    |  1.0000000    |  0.4359634    |  0.2157103    | -0.3559748    |  0.3809074    | -0.19851650   | -0.2618783474 |  0.7643853364 | -0.38761610   |  0.4626444    |\n",
       "| Freedom |  0.6680648    |  0.5206712    |  0.4561906    |  0.4359634    |  1.0000000    |  0.5967346    | -0.6170461    |  0.7512066    | -0.53667471   |  0.3552136042 |  0.6542292151 |  0.16010435   |  0.4719006    |\n",
       "| Generosity |  0.4658326    |  0.3888439    |  0.2879982    |  0.2157103    |  0.5967346    |  1.0000000    | -0.3959096    |  0.6061032    | -0.25088236   |  0.3537938809 |  0.4397459122 |  0.29105345   |  0.4640161    |\n",
       "| Corruption | -0.4730547    | -0.5096258    | -0.2117766    | -0.3559748    | -0.6170461    | -0.3959096    |  1.0000000    | -0.3541224    |  0.35128137   | -0.4829629727 | -0.6592152675 | -0.14094741   | -0.5648434    |\n",
       "| Positive_affect |  0.7065676    |  0.4539564    |  0.5290512    |  0.3809074    |  0.7512066    |  0.6061032    | -0.3541224    |  1.0000000    | -0.43832392   |  0.1080188812 |  0.5150037965 |  0.16934994   |  0.2817021    |\n",
       "| Negative_affect | -0.3240890    | -0.2961757    | -0.3667789    | -0.1985165    | -0.5366747    | -0.2508824    |  0.3512814    | -0.4383239    |  1.00000000   | -0.1617665274 | -0.4590955740 |  0.06253595   | -0.3974786    |\n",
       "| Confidence_government | -0.1328547    | -0.1042940    | -0.3007469    | -0.2618783    |  0.3552136    |  0.3537939    | -0.4829630    |  0.1080189    | -0.16176653   |  1.0000000000 | -0.0002291397 |  0.27914704   |  0.2563478    |\n",
       "| Delivery_Quality |  0.7752866    |  0.8582237    |  0.6150398    |  0.7643853    |  0.6542292    |  0.4397459    | -0.6592153    |  0.5150038    | -0.45909557   | -0.0002291397 |  1.0000000000 | -0.12254840   |  0.5611662    |\n",
       "| GINI_household_income_Gallup | -0.1800348    | -0.2271585    | -0.3779765    | -0.3876161    |  0.1601043    |  0.2910535    | -0.1409474    |  0.1693499    |  0.06253595   |  0.2791470441 | -0.1225483957 |  1.00000000   | -0.1968722    |\n",
       "| Trust_people_WVS_05_09 |  0.5525613    |  0.6102841    |  0.4983485    |  0.4626444    |  0.4719006    |  0.4640161    | -0.5648434    |  0.2817021    | -0.39747857   |  0.2563478419 |  0.5611662014 | -0.19687219   |  1.0000000    |\n",
       "\n"
      ],
      "text/plain": [
       "                             Life_Ladder GDP_PPP    Social_support HALE_birth\n",
       "Life_Ladder                   1.0000000   0.8275878  0.8052179      0.7894754\n",
       "GDP_PPP                       0.8275878   1.0000000  0.7027649      0.7878935\n",
       "Social_support                0.8052179   0.7027649  1.0000000      0.6615030\n",
       "HALE_birth                    0.7894754   0.7878935  0.6615030      1.0000000\n",
       "Freedom                       0.6680648   0.5206712  0.4561906      0.4359634\n",
       "Generosity                    0.4658326   0.3888439  0.2879982      0.2157103\n",
       "Corruption                   -0.4730547  -0.5096258 -0.2117766     -0.3559748\n",
       "Positive_affect               0.7065676   0.4539564  0.5290512      0.3809074\n",
       "Negative_affect              -0.3240890  -0.2961757 -0.3667789     -0.1985165\n",
       "Confidence_government        -0.1328547  -0.1042940 -0.3007469     -0.2618783\n",
       "Delivery_Quality              0.7752866   0.8582237  0.6150398      0.7643853\n",
       "GINI_household_income_Gallup -0.1800348  -0.2271585 -0.3779765     -0.3876161\n",
       "Trust_people_WVS_05_09        0.5525613   0.6102841  0.4983485      0.4626444\n",
       "                             Freedom    Generosity Corruption Positive_affect\n",
       "Life_Ladder                   0.6680648  0.4658326 -0.4730547  0.7065676     \n",
       "GDP_PPP                       0.5206712  0.3888439 -0.5096258  0.4539564     \n",
       "Social_support                0.4561906  0.2879982 -0.2117766  0.5290512     \n",
       "HALE_birth                    0.4359634  0.2157103 -0.3559748  0.3809074     \n",
       "Freedom                       1.0000000  0.5967346 -0.6170461  0.7512066     \n",
       "Generosity                    0.5967346  1.0000000 -0.3959096  0.6061032     \n",
       "Corruption                   -0.6170461 -0.3959096  1.0000000 -0.3541224     \n",
       "Positive_affect               0.7512066  0.6061032 -0.3541224  1.0000000     \n",
       "Negative_affect              -0.5366747 -0.2508824  0.3512814 -0.4383239     \n",
       "Confidence_government         0.3552136  0.3537939 -0.4829630  0.1080189     \n",
       "Delivery_Quality              0.6542292  0.4397459 -0.6592153  0.5150038     \n",
       "GINI_household_income_Gallup  0.1601043  0.2910535 -0.1409474  0.1693499     \n",
       "Trust_people_WVS_05_09        0.4719006  0.4640161 -0.5648434  0.2817021     \n",
       "                             Negative_affect Confidence_government\n",
       "Life_Ladder                  -0.32408896     -0.1328547141        \n",
       "GDP_PPP                      -0.29617565     -0.1042939661        \n",
       "Social_support               -0.36677887     -0.3007469205        \n",
       "HALE_birth                   -0.19851650     -0.2618783474        \n",
       "Freedom                      -0.53667471      0.3552136042        \n",
       "Generosity                   -0.25088236      0.3537938809        \n",
       "Corruption                    0.35128137     -0.4829629727        \n",
       "Positive_affect              -0.43832392      0.1080188812        \n",
       "Negative_affect               1.00000000     -0.1617665274        \n",
       "Confidence_government        -0.16176653      1.0000000000        \n",
       "Delivery_Quality             -0.45909557     -0.0002291397        \n",
       "GINI_household_income_Gallup  0.06253595      0.2791470441        \n",
       "Trust_people_WVS_05_09       -0.39747857      0.2563478419        \n",
       "                             Delivery_Quality GINI_household_income_Gallup\n",
       "Life_Ladder                   0.7752866101    -0.18003485                 \n",
       "GDP_PPP                       0.8582237019    -0.22715846                 \n",
       "Social_support                0.6150398457    -0.37797654                 \n",
       "HALE_birth                    0.7643853364    -0.38761610                 \n",
       "Freedom                       0.6542292151     0.16010435                 \n",
       "Generosity                    0.4397459122     0.29105345                 \n",
       "Corruption                   -0.6592152675    -0.14094741                 \n",
       "Positive_affect               0.5150037965     0.16934994                 \n",
       "Negative_affect              -0.4590955740     0.06253595                 \n",
       "Confidence_government        -0.0002291397     0.27914704                 \n",
       "Delivery_Quality              1.0000000000    -0.12254840                 \n",
       "GINI_household_income_Gallup -0.1225483957     1.00000000                 \n",
       "Trust_people_WVS_05_09        0.5611662014    -0.19687219                 \n",
       "                             Trust_people_WVS_05_09\n",
       "Life_Ladder                   0.5525613            \n",
       "GDP_PPP                       0.6102841            \n",
       "Social_support                0.4983485            \n",
       "HALE_birth                    0.4626444            \n",
       "Freedom                       0.4719006            \n",
       "Generosity                    0.4640161            \n",
       "Corruption                   -0.5648434            \n",
       "Positive_affect               0.2817021            \n",
       "Negative_affect              -0.3974786            \n",
       "Confidence_government         0.2563478            \n",
       "Delivery_Quality              0.5611662            \n",
       "GINI_household_income_Gallup -0.1968722            \n",
       "Trust_people_WVS_05_09        1.0000000            "
      ]
     },
     "metadata": {},
     "output_type": "display_data"
    }
   ],
   "source": [
    "cor(na.omit(donnees2[,2:14]))"
   ]
  },
  {
   "cell_type": "code",
   "execution_count": 67,
   "metadata": {},
   "outputs": [
    {
     "data": {
      "image/png": "[encoded data removed]",
      "text/plain": [
       "plot without title"
      ]
     },
     "metadata": {},
     "output_type": "display_data"
    }
   ],
   "source": [
    "plot(mod2$residuals)"
   ]
  }
 ],
 "metadata": {
  "jupytext": {
   "formats": "ipynb,Rmd"
  },
  "kernelspec": {
   "display_name": "R",
   "language": "R",
   "name": "ir"
  },
  "language_info": {
   "codemirror_mode": "r",
   "file_extension": ".r",
   "mimetype": "text/x-r-source",
   "name": "R",
   "pygments_lexer": "r",
   "version": "3.6.1"
  },
  "latex_envs": {
   "LaTeX_envs_menu_present": true,
   "autoclose": true,
   "autocomplete": true,
   "bibliofile": "biblio.bib",
   "cite_by": "apalike",
   "current_citInitial": 1,
   "eqLabelWithNumbers": true,
   "eqNumInitial": 1,
   "hotkeys": {
    "equation": "Ctrl-E",
    "itemize": "Ctrl-I"
   },
   "labels_anchors": false,
   "latex_user_defs": false,
   "report_style_numbering": false,
   "user_envs_cfg": false
  }
 },
 "nbformat": 4,
 "nbformat_minor": 2
}
