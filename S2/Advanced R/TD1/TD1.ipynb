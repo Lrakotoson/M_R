{
 "cells": [
  {
   "cell_type": "code",
   "execution_count": 44,
   "metadata": {},
   "outputs": [
    {
     "name": "stderr",
     "output_type": "stream",
     "text": [
      "Installing package into 'C:/Users/SIGMA/Documents/R/win-library/3.6'\n",
      "(as 'lib' is unspecified)\n",
      "Warning message:\n",
      "\"unable to access index for repository http://www.stats.ox.ac.uk/pub/RWin/bin/windows/contrib/3.6:\n",
      "  impossible d'ouvrir l'URL 'http://www.stats.ox.ac.uk/pub/RWin/bin/windows/contrib/3.6/PACKAGES'\""
     ]
    },
    {
     "name": "stdout",
     "output_type": "stream",
     "text": [
      "package 'hflights' successfully unpacked and MD5 sums checked\n",
      "\n",
      "The downloaded binary packages are in\n",
      "\tC:\\Users\\SIGMA\\AppData\\Local\\Temp\\RtmpYLno1e\\downloaded_packages\n"
     ]
    },
    {
     "name": "stderr",
     "output_type": "stream",
     "text": [
      "\n",
      "hflights installed\n"
     ]
    }
   ],
   "source": [
    "pacman::p_load(tidyverse, hflights)"
   ]
  },
  {
   "cell_type": "code",
   "execution_count": 48,
   "metadata": {},
   "outputs": [],
   "source": [
    "HF <- as_tibble(hflights)"
   ]
  },
  {
   "cell_type": "code",
   "execution_count": 53,
   "metadata": {},
   "outputs": [
    {
     "data": {
      "text/html": [
       "<table>\n",
       "<thead><tr><th scope=col>CancellationCode</th><th scope=col>UniqueCarrier</th><th scope=col>n</th><th scope=col>m</th><th scope=col>sd</th></tr></thead>\n",
       "<tbody>\n",
       "\t<tr><td>B         </td><td>XE        </td><td>751       </td><td> 52.266667</td><td> 58.226733</td></tr>\n",
       "\t<tr><td>A         </td><td>WN        </td><td>517       </td><td>109.800000</td><td>244.968774</td></tr>\n",
       "\t<tr><td>B         </td><td>CO        </td><td>436       </td><td> 60.666667</td><td> 83.578307</td></tr>\n",
       "\t<tr><td>A         </td><td>XE        </td><td>331       </td><td> 91.000000</td><td>110.995495</td></tr>\n",
       "\t<tr><td>B         </td><td>WN        </td><td>181       </td><td> -4.000000</td><td>        NA</td></tr>\n",
       "\t<tr><td>A         </td><td>OO        </td><td>121       </td><td> 11.285714</td><td> 18.427464</td></tr>\n",
       "\t<tr><td>B         </td><td>OO        </td><td> 87       </td><td> 37.400000</td><td> 46.035856</td></tr>\n",
       "\t<tr><td>B         </td><td>MQ        </td><td> 71       </td><td>       NaN</td><td>        NA</td></tr>\n",
       "\t<tr><td>A         </td><td>EV        </td><td> 60       </td><td> 34.666667</td><td> 90.797944</td></tr>\n",
       "\t<tr><td>C         </td><td>XE        </td><td> 50       </td><td> 83.000000</td><td>        NA</td></tr>\n",
       "\t<tr><td>A         </td><td>MQ        </td><td> 39       </td><td> -5.333333</td><td>  2.516611</td></tr>\n",
       "\t<tr><td>A         </td><td>CO        </td><td> 37       </td><td> 60.333333</td><td>109.737566</td></tr>\n",
       "\t<tr><td>B         </td><td>AA        </td><td> 29       </td><td>       NaN</td><td>        NA</td></tr>\n",
       "\t<tr><td>A         </td><td>US        </td><td> 27       </td><td> 72.000000</td><td>114.551299</td></tr>\n",
       "\t<tr><td>B         </td><td>DL        </td><td> 27       </td><td>110.000000</td><td>        NA</td></tr>\n",
       "\t<tr><td>C         </td><td>MQ        </td><td> 25       </td><td>       NaN</td><td>        NA</td></tr>\n",
       "\t<tr><td>A         </td><td>UA        </td><td> 21       </td><td> 25.750000</td><td> 56.192378</td></tr>\n",
       "\t<tr><td>A         </td><td>AA        </td><td> 20       </td><td>  5.500000</td><td>  3.535534</td></tr>\n",
       "\t<tr><td>B         </td><td>US        </td><td> 17       </td><td>135.000000</td><td>        NA</td></tr>\n",
       "\t<tr><td>C         </td><td>OO        </td><td> 15       </td><td>       NaN</td><td>        NA</td></tr>\n",
       "\t<tr><td>B         </td><td>EV        </td><td> 14       </td><td>       NaN</td><td>        NA</td></tr>\n",
       "\t<tr><td>A         </td><td>DL        </td><td> 13       </td><td> 42.000000</td><td>        NA</td></tr>\n",
       "\t<tr><td>B         </td><td>B6        </td><td> 13       </td><td>       NaN</td><td>        NA</td></tr>\n",
       "\t<tr><td>B         </td><td>FL        </td><td> 12       </td><td>       NaN</td><td>        NA</td></tr>\n",
       "\t<tr><td>C         </td><td>AA        </td><td> 11       </td><td>       NaN</td><td>        NA</td></tr>\n",
       "\t<tr><td>B         </td><td>UA        </td><td> 10       </td><td>       NaN</td><td>        NA</td></tr>\n",
       "\t<tr><td>A         </td><td>FL        </td><td>  8       </td><td> 64.000000</td><td>        NA</td></tr>\n",
       "\t<tr><td>A         </td><td>B6        </td><td>  5       </td><td>       NaN</td><td>        NA</td></tr>\n",
       "\t<tr><td>C         </td><td>WN        </td><td>  5       </td><td>       NaN</td><td>        NA</td></tr>\n",
       "\t<tr><td>B         </td><td>F9        </td><td>  4       </td><td>       NaN</td><td>        NA</td></tr>\n",
       "\t<tr><td>C         </td><td>UA        </td><td>  3       </td><td>       NaN</td><td>        NA</td></tr>\n",
       "\t<tr><td>A         </td><td>F9        </td><td>  2       </td><td>-10.000000</td><td>        NA</td></tr>\n",
       "\t<tr><td>C         </td><td>CO        </td><td>  2       </td><td> 24.000000</td><td>        NA</td></tr>\n",
       "\t<tr><td>C         </td><td>DL        </td><td>  2       </td><td>       NaN</td><td>        NA</td></tr>\n",
       "\t<tr><td>C         </td><td>EV        </td><td>  2       </td><td>       NaN</td><td>        NA</td></tr>\n",
       "\t<tr><td>C         </td><td>US        </td><td>  2       </td><td>       NaN</td><td>        NA</td></tr>\n",
       "\t<tr><td>A         </td><td>YV        </td><td>  1       </td><td>       NaN</td><td>        NA</td></tr>\n",
       "\t<tr><td>C         </td><td>FL        </td><td>  1       </td><td>       NaN</td><td>        NA</td></tr>\n",
       "\t<tr><td>D         </td><td>OO        </td><td>  1       </td><td>       NaN</td><td>        NA</td></tr>\n",
       "</tbody>\n",
       "</table>\n"
      ],
      "text/latex": [
       "\\begin{tabular}{r|lllll}\n",
       " CancellationCode & UniqueCarrier & n & m & sd\\\\\n",
       "\\hline\n",
       "\t B          & XE         & 751        &  52.266667 &  58.226733\\\\\n",
       "\t A          & WN         & 517        & 109.800000 & 244.968774\\\\\n",
       "\t B          & CO         & 436        &  60.666667 &  83.578307\\\\\n",
       "\t A          & XE         & 331        &  91.000000 & 110.995495\\\\\n",
       "\t B          & WN         & 181        &  -4.000000 &         NA\\\\\n",
       "\t A          & OO         & 121        &  11.285714 &  18.427464\\\\\n",
       "\t B          & OO         &  87        &  37.400000 &  46.035856\\\\\n",
       "\t B          & MQ         &  71        &        NaN &         NA\\\\\n",
       "\t A          & EV         &  60        &  34.666667 &  90.797944\\\\\n",
       "\t C          & XE         &  50        &  83.000000 &         NA\\\\\n",
       "\t A          & MQ         &  39        &  -5.333333 &   2.516611\\\\\n",
       "\t A          & CO         &  37        &  60.333333 & 109.737566\\\\\n",
       "\t B          & AA         &  29        &        NaN &         NA\\\\\n",
       "\t A          & US         &  27        &  72.000000 & 114.551299\\\\\n",
       "\t B          & DL         &  27        & 110.000000 &         NA\\\\\n",
       "\t C          & MQ         &  25        &        NaN &         NA\\\\\n",
       "\t A          & UA         &  21        &  25.750000 &  56.192378\\\\\n",
       "\t A          & AA         &  20        &   5.500000 &   3.535534\\\\\n",
       "\t B          & US         &  17        & 135.000000 &         NA\\\\\n",
       "\t C          & OO         &  15        &        NaN &         NA\\\\\n",
       "\t B          & EV         &  14        &        NaN &         NA\\\\\n",
       "\t A          & DL         &  13        &  42.000000 &         NA\\\\\n",
       "\t B          & B6         &  13        &        NaN &         NA\\\\\n",
       "\t B          & FL         &  12        &        NaN &         NA\\\\\n",
       "\t C          & AA         &  11        &        NaN &         NA\\\\\n",
       "\t B          & UA         &  10        &        NaN &         NA\\\\\n",
       "\t A          & FL         &   8        &  64.000000 &         NA\\\\\n",
       "\t A          & B6         &   5        &        NaN &         NA\\\\\n",
       "\t C          & WN         &   5        &        NaN &         NA\\\\\n",
       "\t B          & F9         &   4        &        NaN &         NA\\\\\n",
       "\t C          & UA         &   3        &        NaN &         NA\\\\\n",
       "\t A          & F9         &   2        & -10.000000 &         NA\\\\\n",
       "\t C          & CO         &   2        &  24.000000 &         NA\\\\\n",
       "\t C          & DL         &   2        &        NaN &         NA\\\\\n",
       "\t C          & EV         &   2        &        NaN &         NA\\\\\n",
       "\t C          & US         &   2        &        NaN &         NA\\\\\n",
       "\t A          & YV         &   1        &        NaN &         NA\\\\\n",
       "\t C          & FL         &   1        &        NaN &         NA\\\\\n",
       "\t D          & OO         &   1        &        NaN &         NA\\\\\n",
       "\\end{tabular}\n"
      ],
      "text/markdown": [
       "\n",
       "| CancellationCode | UniqueCarrier | n | m | sd |\n",
       "|---|---|---|---|---|\n",
       "| B          | XE         | 751        |  52.266667 |  58.226733 |\n",
       "| A          | WN         | 517        | 109.800000 | 244.968774 |\n",
       "| B          | CO         | 436        |  60.666667 |  83.578307 |\n",
       "| A          | XE         | 331        |  91.000000 | 110.995495 |\n",
       "| B          | WN         | 181        |  -4.000000 |         NA |\n",
       "| A          | OO         | 121        |  11.285714 |  18.427464 |\n",
       "| B          | OO         |  87        |  37.400000 |  46.035856 |\n",
       "| B          | MQ         |  71        |        NaN |         NA |\n",
       "| A          | EV         |  60        |  34.666667 |  90.797944 |\n",
       "| C          | XE         |  50        |  83.000000 |         NA |\n",
       "| A          | MQ         |  39        |  -5.333333 |   2.516611 |\n",
       "| A          | CO         |  37        |  60.333333 | 109.737566 |\n",
       "| B          | AA         |  29        |        NaN |         NA |\n",
       "| A          | US         |  27        |  72.000000 | 114.551299 |\n",
       "| B          | DL         |  27        | 110.000000 |         NA |\n",
       "| C          | MQ         |  25        |        NaN |         NA |\n",
       "| A          | UA         |  21        |  25.750000 |  56.192378 |\n",
       "| A          | AA         |  20        |   5.500000 |   3.535534 |\n",
       "| B          | US         |  17        | 135.000000 |         NA |\n",
       "| C          | OO         |  15        |        NaN |         NA |\n",
       "| B          | EV         |  14        |        NaN |         NA |\n",
       "| A          | DL         |  13        |  42.000000 |         NA |\n",
       "| B          | B6         |  13        |        NaN |         NA |\n",
       "| B          | FL         |  12        |        NaN |         NA |\n",
       "| C          | AA         |  11        |        NaN |         NA |\n",
       "| B          | UA         |  10        |        NaN |         NA |\n",
       "| A          | FL         |   8        |  64.000000 |         NA |\n",
       "| A          | B6         |   5        |        NaN |         NA |\n",
       "| C          | WN         |   5        |        NaN |         NA |\n",
       "| B          | F9         |   4        |        NaN |         NA |\n",
       "| C          | UA         |   3        |        NaN |         NA |\n",
       "| A          | F9         |   2        | -10.000000 |         NA |\n",
       "| C          | CO         |   2        |  24.000000 |         NA |\n",
       "| C          | DL         |   2        |        NaN |         NA |\n",
       "| C          | EV         |   2        |        NaN |         NA |\n",
       "| C          | US         |   2        |        NaN |         NA |\n",
       "| A          | YV         |   1        |        NaN |         NA |\n",
       "| C          | FL         |   1        |        NaN |         NA |\n",
       "| D          | OO         |   1        |        NaN |         NA |\n",
       "\n"
      ],
      "text/plain": [
       "   CancellationCode UniqueCarrier n   m          sd        \n",
       "1  B                XE            751  52.266667  58.226733\n",
       "2  A                WN            517 109.800000 244.968774\n",
       "3  B                CO            436  60.666667  83.578307\n",
       "4  A                XE            331  91.000000 110.995495\n",
       "5  B                WN            181  -4.000000         NA\n",
       "6  A                OO            121  11.285714  18.427464\n",
       "7  B                OO             87  37.400000  46.035856\n",
       "8  B                MQ             71        NaN         NA\n",
       "9  A                EV             60  34.666667  90.797944\n",
       "10 C                XE             50  83.000000         NA\n",
       "11 A                MQ             39  -5.333333   2.516611\n",
       "12 A                CO             37  60.333333 109.737566\n",
       "13 B                AA             29        NaN         NA\n",
       "14 A                US             27  72.000000 114.551299\n",
       "15 B                DL             27 110.000000         NA\n",
       "16 C                MQ             25        NaN         NA\n",
       "17 A                UA             21  25.750000  56.192378\n",
       "18 A                AA             20   5.500000   3.535534\n",
       "19 B                US             17 135.000000         NA\n",
       "20 C                OO             15        NaN         NA\n",
       "21 B                EV             14        NaN         NA\n",
       "22 A                DL             13  42.000000         NA\n",
       "23 B                B6             13        NaN         NA\n",
       "24 B                FL             12        NaN         NA\n",
       "25 C                AA             11        NaN         NA\n",
       "26 B                UA             10        NaN         NA\n",
       "27 A                FL              8  64.000000         NA\n",
       "28 A                B6              5        NaN         NA\n",
       "29 C                WN              5        NaN         NA\n",
       "30 B                F9              4        NaN         NA\n",
       "31 C                UA              3        NaN         NA\n",
       "32 A                F9              2 -10.000000         NA\n",
       "33 C                CO              2  24.000000         NA\n",
       "34 C                DL              2        NaN         NA\n",
       "35 C                EV              2        NaN         NA\n",
       "36 C                US              2        NaN         NA\n",
       "37 A                YV              1        NaN         NA\n",
       "38 C                FL              1        NaN         NA\n",
       "39 D                OO              1        NaN         NA"
      ]
     },
     "metadata": {},
     "output_type": "display_data"
    }
   ],
   "source": [
    "HF %>%\n",
    "group_by(CancellationCode, UniqueCarrier) %>%\n",
    "summarise(n = n(),\n",
    "          m = mean(DepDelay, na.rm = T),\n",
    "          sd = sd(DepDelay, na.rm = T)\n",
    "         ) %>%\n",
    "filter(CancellationCode != \"\") %>%\n",
    "arrange(-n)"
   ]
  },
  {
   "cell_type": "code",
   "execution_count": 23,
   "metadata": {},
   "outputs": [
    {
     "data": {
      "text/html": [
       "<table>\n",
       "<thead><tr><th scope=col>moyX</th><th scope=col>medX</th><th scope=col>moyY</th><th scope=col>medY</th><th scope=col>n</th></tr></thead>\n",
       "<tbody>\n",
       "\t<tr><td>5.5 </td><td>5.5 </td><td>15.5</td><td>15.5</td><td>10  </td></tr>\n",
       "</tbody>\n",
       "</table>\n"
      ],
      "text/latex": [
       "\\begin{tabular}{r|lllll}\n",
       " moyX & medX & moyY & medY & n\\\\\n",
       "\\hline\n",
       "\t 5.5  & 5.5  & 15.5 & 15.5 & 10  \\\\\n",
       "\\end{tabular}\n"
      ],
      "text/markdown": [
       "\n",
       "| moyX | medX | moyY | medY | n |\n",
       "|---|---|---|---|---|\n",
       "| 5.5  | 5.5  | 15.5 | 15.5 | 10   |\n",
       "\n"
      ],
      "text/plain": [
       "  moyX medX moyY medY n \n",
       "1 5.5  5.5  15.5 15.5 10"
      ]
     },
     "metadata": {},
     "output_type": "display_data"
    }
   ],
   "source": [
    "summarise(df,\n",
    "          moyX = mean(x),\n",
    "          medX = median(x),\n",
    "          moyY = mean(y),\n",
    "          medY = median(y),\n",
    "          n = n()\n",
    "         )"
   ]
  },
  {
   "cell_type": "code",
   "execution_count": 29,
   "metadata": {},
   "outputs": [
    {
     "name": "stderr",
     "output_type": "stream",
     "text": [
      "Warning message in mean.default(.):\n",
      "\"argument is not numeric or logical: returning NA\""
     ]
    },
    {
     "data": {
      "text/html": [
       "&lt;NA&gt;"
      ],
      "text/latex": [
       "<NA>"
      ],
      "text/markdown": [
       "&lt;NA&gt;"
      ],
      "text/plain": [
       "[1] NA"
      ]
     },
     "metadata": {},
     "output_type": "display_data"
    }
   ],
   "source": []
  }
 ],
 "metadata": {
  "kernelspec": {
   "display_name": "R",
   "language": "R",
   "name": "ir"
  },
  "language_info": {
   "codemirror_mode": "r",
   "file_extension": ".r",
   "mimetype": "text/x-r-source",
   "name": "R",
   "pygments_lexer": "r",
   "version": "3.6.1"
  }
 },
 "nbformat": 4,
 "nbformat_minor": 2
}
