{
 "cells": [
  {
   "cell_type": "code",
   "execution_count": 12,
   "metadata": {},
   "outputs": [],
   "source": [
    "h2018 <- read.csv(\"happiness2018.csv\",\n",
    "                  header = T,\n",
    "                  sep = \",\",\n",
    "                  colClasses = c()\n",
    "                    encoding = \"utf-8\"\n",
    "                 )"
   ]
  },
  {
   "cell_type": "code",
   "execution_count": 16,
   "metadata": {},
   "outputs": [],
   "source": [
    "colnames(h2018) <- c(\"Classement\", \"Pays\", \"Score\", \"PIB_habitant\", \"Support_social\", \n",
    "    \"Esper_vie\", \"Liberte_choix_vie\", \"Generosite\", \"Confiance\")"
   ]
  },
  {
   "cell_type": "code",
   "execution_count": 24,
   "metadata": {},
   "outputs": [
    {
     "data": {
      "text/html": [
       "<ol class=list-inline>\n",
       "\t<li>156</li>\n",
       "\t<li>9</li>\n",
       "</ol>\n"
      ],
      "text/latex": [
       "\\begin{enumerate*}\n",
       "\\item 156\n",
       "\\item 9\n",
       "\\end{enumerate*}\n"
      ],
      "text/markdown": [
       "1. 156\n",
       "2. 9\n",
       "\n",
       "\n"
      ],
      "text/plain": [
       "[1] 156   9"
      ]
     },
     "metadata": {},
     "output_type": "display_data"
    }
   ],
   "source": [
    "dim(h2018)"
   ]
  },
  {
   "cell_type": "code",
   "execution_count": 21,
   "metadata": {},
   "outputs": [],
   "source": [
    "mod1 <- lm(Score ~., data = h2018[,3:8])"
   ]
  },
  {
   "cell_type": "code",
   "execution_count": 22,
   "metadata": {},
   "outputs": [
    {
     "data": {
      "text/plain": [
       "\n",
       "Call:\n",
       "lm(formula = Score ~ ., data = h2018[, 3:8])\n",
       "\n",
       "Residuals:\n",
       "     Min       1Q   Median       3Q      Max \n",
       "-1.79443 -0.28039  0.01364  0.39648  1.12540 \n",
       "\n",
       "Coefficients:\n",
       "                  Estimate Std. Error t value Pr(>|t|)    \n",
       "(Intercept)         1.8495     0.1932   9.574  < 2e-16 ***\n",
       "PIB_habitant        1.1343     0.2085   5.440 2.12e-07 ***\n",
       "Support_social      0.9688     0.2008   4.824 3.42e-06 ***\n",
       "Esper_vie           0.8394     0.3290   2.551   0.0117 *  \n",
       "Liberte_choix_vie   1.5488     0.3016   5.135 8.64e-07 ***\n",
       "Generosite          0.7431     0.4517   1.645   0.1020    \n",
       "---\n",
       "Signif. codes:  0 '***' 0.001 '**' 0.01 '*' 0.05 '.' 0.1 ' ' 1\n",
       "\n",
       "Residual standard error: 0.5237 on 150 degrees of freedom\n",
       "Multiple R-squared:  0.7882,\tAdjusted R-squared:  0.7811 \n",
       "F-statistic: 111.6 on 5 and 150 DF,  p-value: < 2.2e-16\n"
      ]
     },
     "metadata": {},
     "output_type": "display_data"
    }
   ],
   "source": [
    "summary(mod1)"
   ]
  },
  {
   "cell_type": "code",
   "execution_count": 20,
   "metadata": {},
   "outputs": [
    {
     "name": "stdout",
     "output_type": "stream",
     "text": [
      "'data.frame':\t156 obs. of  9 variables:\n",
      " $ Classement       : int  1 2 3 4 5 6 7 8 9 10 ...\n",
      " $ Pays             : Factor w/ 156 levels \"Ã‰gypte\",\"Ã‰mirats arabes unis\",..: 48 103 45 65 138 112 36 104 137 15 ...\n",
      " $ Score            : num  7.63 7.59 7.55 7.5 7.49 ...\n",
      " $ PIB_habitant     : num  1.3 1.46 1.35 1.34 1.42 ...\n",
      " $ Support_social   : num  1.59 1.58 1.59 1.64 1.55 ...\n",
      " $ Esper_vie        : num  0.874 0.861 0.868 0.914 0.927 0.878 0.896 0.876 0.913 0.91 ...\n",
      " $ Liberte_choix_vie: num  0.681 0.686 0.683 0.677 0.66 0.638 0.653 0.669 0.659 0.647 ...\n",
      " $ Generosite       : num  0.192 0.286 0.284 0.353 0.256 0.333 0.321 0.365 0.285 0.361 ...\n",
      " $ Confiance        : Factor w/ 111 levels \"0.000\",\"0.001\",..: 107 103 108 78 104 99 98 106 105 100 ...\n"
     ]
    }
   ],
   "source": [
    "str(h2018)"
   ]
  }
 ],
 "metadata": {
  "jupytext": {
   "formats": "ipynb,Rmd"
  },
  "kernelspec": {
   "display_name": "R",
   "language": "R",
   "name": "ir"
  },
  "language_info": {
   "codemirror_mode": "r",
   "file_extension": ".r",
   "mimetype": "text/x-r-source",
   "name": "R",
   "pygments_lexer": "r",
   "version": "3.6.1"
  },
  "latex_envs": {
   "LaTeX_envs_menu_present": true,
   "autoclose": true,
   "autocomplete": true,
   "bibliofile": "biblio.bib",
   "cite_by": "apalike",
   "current_citInitial": 1,
   "eqLabelWithNumbers": true,
   "eqNumInitial": 1,
   "hotkeys": {
    "equation": "Ctrl-E",
    "itemize": "Ctrl-I"
   },
   "labels_anchors": false,
   "latex_user_defs": false,
   "report_style_numbering": false,
   "user_envs_cfg": false
  }
 },
 "nbformat": 4,
 "nbformat_minor": 2
}
