{
 "cells": [
  {
   "cell_type": "markdown",
   "metadata": {},
   "source": [
    "# Econométrie\n",
    "Les facteurs de la variation de la consommation des ménages sur un aspect macro-économique\n",
    "___\n",
    "On suppose que le taux de croissance de la consommation des ménages du dépenddu taux de croissance des revenus, du taux d'épargne, du taux de croissance du PIB, du taux de chômage et d'emploi, du taux des impôts par rapport au PIB et du taux d’inflation.\n",
    "\n",
    "Cette spécifiaction se traduit par:\n",
    "$$ \\textrm{CONSO} \\sim \\beta_0 + \\textrm{CHOM}\\, \\beta_1 + \\textrm{EMPLOI}\\, \\beta_2 + \\textrm{EPARGNE}\\, \\beta_3 + \\textrm{IMPOT}\\, \\beta_4 + \\textrm{INFL}\\, \\beta_5 + \\textrm{PIB}\\, \\beta_6 + \\textrm{REVENU}\\, \\beta_7$$\n",
    "\n",
    "Nous analyserons les données de 48 pays en 2015."
   ]
  },
  {
   "cell_type": "code",
   "execution_count": 49,
   "metadata": {},
   "outputs": [],
   "source": [
    "chomage <- read.csv(\"DP_chomage.csv\", encoding = \"UTF-8\")[, c(1, 7)]\n",
    "names(chomage) <- c(\"PAYS\", \"CHOM\")\n",
    "\n",
    "conso <- read.csv(\"DP_conso.csv\", encoding = \"UTF-8\")[, c(1, 7)]\n",
    "names(conso) <- c(\"PAYS\", \"CONSO\")\n",
    "\n",
    "emploi <- read.csv(\"DP_emploi.csv\", encoding = \"UTF-8\")[, c(1, 7)]\n",
    "names(emploi) <- c(\"PAYS\", \"EMPLOI\")\n",
    "\n",
    "epargne <- read.csv(\"DP_epargne_revenu.csv\", encoding = \"UTF-8\")[, c(1, 7)]\n",
    "names(epargne) <- c(\"PAYS\", \"EPARGNE\")\n",
    "\n",
    "impot <- read.csv(\"DP_impot_PIB.csv\", encoding = \"UTF-8\")[, c(1, 7)]\n",
    "names(impot) <- c(\"PAYS\", \"IMPOT\")\n",
    "\n",
    "inflation <- read.csv(\"DP_inflation_IPC.csv\", encoding = \"UTF-8\")[, c(1, 7)]\n",
    "names(inflation) <- c(\"PAYS\", \"INFL\")\n",
    "\n",
    "pib <- read.csv(\"DP_PIB.csv\", encoding = \"UTF-8\")[, c(1, 7)]\n",
    "names(pib) <- c(\"PAYS\", \"PIB\")\n",
    "\n",
    "revenu <- read.csv(\"DP_revenu.csv\", encoding = \"UTF-8\")[, c(1, 7)]\n",
    "names(revenu) <- c(\"PAYS\", \"REVENU\")\n",
    "\n",
    "data <- Reduce(function(x, y) merge(x, y), list(chomage, conso, emploi, epargne, \n",
    "    impot, inflation, pib, revenu))"
   ]
  },
  {
   "cell_type": "code",
   "execution_count": 51,
   "metadata": {},
   "outputs": [
    {
     "data": {
      "text/plain": [
       "      PAYS         CHOM            CONSO            EMPLOI     \n",
       " ARG    : 1   Min.   : 2.783   Min.   :-9.730   Min.   :43.68  \n",
       " AUS    : 1   1st Qu.: 5.299   1st Qu.: 1.929   1st Qu.:61.67  \n",
       " AUT    : 1   Median : 6.817   Median : 2.713   Median :66.70  \n",
       " BEL    : 1   Mean   : 8.073   Mean   : 2.538   Mean   :66.05  \n",
       " BGR    : 1   3rd Qu.: 9.182   3rd Qu.: 3.689   3rd Qu.:72.02  \n",
       " BRA    : 1   Max.   :25.350   Max.   : 8.014   Max.   :85.00  \n",
       " (Other):42                                                    \n",
       "    EPARGNE            IMPOT             INFL              PIB        \n",
       " Min.   :-15.466   Min.   : 2.006   Min.   :-1.7360   Min.   :-3.546  \n",
       " 1st Qu.:  2.994   1st Qu.: 5.614   1st Qu.:-0.0505   1st Qu.: 1.780  \n",
       " Median :  7.475   Median : 9.025   Median : 0.5379   Median : 2.543  \n",
       " Mean   : 10.394   Mean   : 9.342   Mean   : 1.7405   Mean   : 3.153  \n",
       " 3rd Qu.: 16.391   3rd Qu.:11.855   3rd Qu.: 1.7148   3rd Qu.: 3.903  \n",
       " Max.   : 37.065   Max.   :28.900   Max.   :15.5344   Max.   :25.163  \n",
       "                                                                      \n",
       "     REVENU      \n",
       " Min.   :-7.096  \n",
       " 1st Qu.: 1.260  \n",
       " Median : 3.354  \n",
       " Mean   : 2.831  \n",
       " 3rd Qu.: 4.472  \n",
       " Max.   : 7.800  \n",
       "                 "
      ]
     },
     "metadata": {},
     "output_type": "display_data"
    }
   ],
   "source": [
    "summary(data)"
   ]
  },
  {
   "cell_type": "code",
   "execution_count": 59,
   "metadata": {},
   "outputs": [
    {
     "data": {
      "text/html": [
       "<table>\n",
       "<thead><tr><th></th><th scope=col>CHOM</th><th scope=col>CONSO</th><th scope=col>EMPLOI</th><th scope=col>EPARGNE</th><th scope=col>IMPOT</th><th scope=col>INFL</th><th scope=col>PIB</th><th scope=col>REVENU</th></tr></thead>\n",
       "<tbody>\n",
       "\t<tr><th scope=row>CHOM</th><td> 1.00000000</td><td>-0.13397086</td><td>-0.58777920</td><td>-0.49379659</td><td> 0.20358720</td><td>-0.1010654 </td><td>-0.06637998</td><td>-0.12313526</td></tr>\n",
       "\t<tr><th scope=row>CONSO</th><td>-0.13397086</td><td> 1.00000000</td><td> 0.09940944</td><td> 0.31905838</td><td>-0.16233114</td><td>-0.4181688 </td><td> 0.45026034</td><td> 0.73838456</td></tr>\n",
       "\t<tr><th scope=row>EMPLOI</th><td>-0.58777920</td><td> 0.09940944</td><td> 1.00000000</td><td> 0.09217003</td><td>-0.05807409</td><td>-0.2135892 </td><td> 0.01671809</td><td> 0.13412641</td></tr>\n",
       "\t<tr><th scope=row>EPARGNE</th><td>-0.49379659</td><td> 0.31905838</td><td> 0.09217003</td><td> 1.00000000</td><td>-0.03871985</td><td> 0.3303075 </td><td> 0.17812448</td><td> 0.20769414</td></tr>\n",
       "\t<tr><th scope=row>IMPOT</th><td> 0.20358720</td><td>-0.16233114</td><td>-0.05807409</td><td>-0.03871985</td><td> 1.00000000</td><td> 0.1718968 </td><td>-0.13948537</td><td> 0.05558583</td></tr>\n",
       "\t<tr><th scope=row>INFL</th><td>-0.10106538</td><td>-0.41816875</td><td>-0.21358925</td><td> 0.33030750</td><td> 0.17189676</td><td> 1.0000000 </td><td>-0.16886519</td><td>-0.36525989</td></tr>\n",
       "\t<tr><th scope=row>PIB</th><td>-0.06637998</td><td> 0.45026034</td><td> 0.01671809</td><td> 0.17812448</td><td>-0.13948537</td><td>-0.1688652 </td><td> 1.00000000</td><td> 0.38258222</td></tr>\n",
       "\t<tr><th scope=row>REVENU</th><td>-0.12313526</td><td> 0.73838456</td><td> 0.13412641</td><td> 0.20769414</td><td> 0.05558583</td><td>-0.3652599 </td><td> 0.38258222</td><td> 1.00000000</td></tr>\n",
       "</tbody>\n",
       "</table>\n"
      ],
      "text/latex": [
       "\\begin{tabular}{r|llllllll}\n",
       "  & CHOM & CONSO & EMPLOI & EPARGNE & IMPOT & INFL & PIB & REVENU\\\\\n",
       "\\hline\n",
       "\tCHOM &  1.00000000 & -0.13397086 & -0.58777920 & -0.49379659 &  0.20358720 & -0.1010654  & -0.06637998 & -0.12313526\\\\\n",
       "\tCONSO & -0.13397086 &  1.00000000 &  0.09940944 &  0.31905838 & -0.16233114 & -0.4181688  &  0.45026034 &  0.73838456\\\\\n",
       "\tEMPLOI & -0.58777920 &  0.09940944 &  1.00000000 &  0.09217003 & -0.05807409 & -0.2135892  &  0.01671809 &  0.13412641\\\\\n",
       "\tEPARGNE & -0.49379659 &  0.31905838 &  0.09217003 &  1.00000000 & -0.03871985 &  0.3303075  &  0.17812448 &  0.20769414\\\\\n",
       "\tIMPOT &  0.20358720 & -0.16233114 & -0.05807409 & -0.03871985 &  1.00000000 &  0.1718968  & -0.13948537 &  0.05558583\\\\\n",
       "\tINFL & -0.10106538 & -0.41816875 & -0.21358925 &  0.33030750 &  0.17189676 &  1.0000000  & -0.16886519 & -0.36525989\\\\\n",
       "\tPIB & -0.06637998 &  0.45026034 &  0.01671809 &  0.17812448 & -0.13948537 & -0.1688652  &  1.00000000 &  0.38258222\\\\\n",
       "\tREVENU & -0.12313526 &  0.73838456 &  0.13412641 &  0.20769414 &  0.05558583 & -0.3652599  &  0.38258222 &  1.00000000\\\\\n",
       "\\end{tabular}\n"
      ],
      "text/markdown": [
       "\n",
       "| <!--/--> | CHOM | CONSO | EMPLOI | EPARGNE | IMPOT | INFL | PIB | REVENU |\n",
       "|---|---|---|---|---|---|---|---|---|\n",
       "| CHOM |  1.00000000 | -0.13397086 | -0.58777920 | -0.49379659 |  0.20358720 | -0.1010654  | -0.06637998 | -0.12313526 |\n",
       "| CONSO | -0.13397086 |  1.00000000 |  0.09940944 |  0.31905838 | -0.16233114 | -0.4181688  |  0.45026034 |  0.73838456 |\n",
       "| EMPLOI | -0.58777920 |  0.09940944 |  1.00000000 |  0.09217003 | -0.05807409 | -0.2135892  |  0.01671809 |  0.13412641 |\n",
       "| EPARGNE | -0.49379659 |  0.31905838 |  0.09217003 |  1.00000000 | -0.03871985 |  0.3303075  |  0.17812448 |  0.20769414 |\n",
       "| IMPOT |  0.20358720 | -0.16233114 | -0.05807409 | -0.03871985 |  1.00000000 |  0.1718968  | -0.13948537 |  0.05558583 |\n",
       "| INFL | -0.10106538 | -0.41816875 | -0.21358925 |  0.33030750 |  0.17189676 |  1.0000000  | -0.16886519 | -0.36525989 |\n",
       "| PIB | -0.06637998 |  0.45026034 |  0.01671809 |  0.17812448 | -0.13948537 | -0.1688652  |  1.00000000 |  0.38258222 |\n",
       "| REVENU | -0.12313526 |  0.73838456 |  0.13412641 |  0.20769414 |  0.05558583 | -0.3652599  |  0.38258222 |  1.00000000 |\n",
       "\n"
      ],
      "text/plain": [
       "        CHOM        CONSO       EMPLOI      EPARGNE     IMPOT       INFL      \n",
       "CHOM     1.00000000 -0.13397086 -0.58777920 -0.49379659  0.20358720 -0.1010654\n",
       "CONSO   -0.13397086  1.00000000  0.09940944  0.31905838 -0.16233114 -0.4181688\n",
       "EMPLOI  -0.58777920  0.09940944  1.00000000  0.09217003 -0.05807409 -0.2135892\n",
       "EPARGNE -0.49379659  0.31905838  0.09217003  1.00000000 -0.03871985  0.3303075\n",
       "IMPOT    0.20358720 -0.16233114 -0.05807409 -0.03871985  1.00000000  0.1718968\n",
       "INFL    -0.10106538 -0.41816875 -0.21358925  0.33030750  0.17189676  1.0000000\n",
       "PIB     -0.06637998  0.45026034  0.01671809  0.17812448 -0.13948537 -0.1688652\n",
       "REVENU  -0.12313526  0.73838456  0.13412641  0.20769414  0.05558583 -0.3652599\n",
       "        PIB         REVENU     \n",
       "CHOM    -0.06637998 -0.12313526\n",
       "CONSO    0.45026034  0.73838456\n",
       "EMPLOI   0.01671809  0.13412641\n",
       "EPARGNE  0.17812448  0.20769414\n",
       "IMPOT   -0.13948537  0.05558583\n",
       "INFL    -0.16886519 -0.36525989\n",
       "PIB      1.00000000  0.38258222\n",
       "REVENU   0.38258222  1.00000000"
      ]
     },
     "metadata": {},
     "output_type": "display_data"
    }
   ],
   "source": [
    "cor(data[,2:9])"
   ]
  },
  {
   "cell_type": "code",
   "execution_count": 60,
   "metadata": {},
   "outputs": [
    {
     "data": {
      "text/plain": [
       "\n",
       "Call:\n",
       "lm(formula = CONSO ~ ., data = data[, 2:9])\n",
       "\n",
       "Residuals:\n",
       "    Min      1Q  Median      3Q     Max \n",
       "-3.4260 -0.6059  0.1077  1.0403  2.9529 \n",
       "\n",
       "Coefficients:\n",
       "             Estimate Std. Error t value Pr(>|t|)    \n",
       "(Intercept)  0.988685   2.853007   0.347   0.7308    \n",
       "CHOM         0.042943   0.072880   0.589   0.5590    \n",
       "EMPLOI      -0.006819   0.035502  -0.192   0.8487    \n",
       "EPARGNE      0.068269   0.025974   2.628   0.0121 *  \n",
       "IMPOT       -0.062681   0.045456  -1.379   0.1756    \n",
       "INFL        -0.209485   0.088287  -2.373   0.0226 *  \n",
       "PIB          0.084730   0.065987   1.284   0.2065    \n",
       "REVENU       0.574356   0.116217   4.942 1.42e-05 ***\n",
       "---\n",
       "Signif. codes:  0 '***' 0.001 '**' 0.01 '*' 0.05 '.' 0.1 ' ' 1\n",
       "\n",
       "Residual standard error: 1.558 on 40 degrees of freedom\n",
       "Multiple R-squared:  0.6823,\tAdjusted R-squared:  0.6267 \n",
       "F-statistic: 12.27 on 7 and 40 DF,  p-value: 2.963e-08\n"
      ]
     },
     "metadata": {},
     "output_type": "display_data"
    }
   ],
   "source": [
    "model1 <- lm(CONSO~., data = data[,2:9])\n",
    "summary(model1)"
   ]
  },
  {
   "cell_type": "code",
   "execution_count": 63,
   "metadata": {
    "scrolled": false
   },
   "outputs": [
    {
     "data": {
      "text/plain": [
       "\n",
       "Call:\n",
       "lm(formula = CONSO ~ EPARGNE + INFL + REVENU, data = data)\n",
       "\n",
       "Residuals:\n",
       "    Min      1Q  Median      3Q     Max \n",
       "-3.3726 -0.6430  0.0685  0.7858  3.1736 \n",
       "\n",
       "Coefficients:\n",
       "            Estimate Std. Error t value Pr(>|t|)    \n",
       "(Intercept)  0.58903    0.42618   1.382  0.17391    \n",
       "EPARGNE      0.06753    0.02264   2.983  0.00464 ** \n",
       "INFL        -0.24130    0.08278  -2.915  0.00558 ** \n",
       "REVENU       0.58868    0.10978   5.362 2.89e-06 ***\n",
       "---\n",
       "Signif. codes:  0 '***' 0.001 '**' 0.01 '*' 0.05 '.' 0.1 ' ' 1\n",
       "\n",
       "Residual standard error: 1.575 on 44 degrees of freedom\n",
       "Multiple R-squared:  0.6429,\tAdjusted R-squared:  0.6185 \n",
       "F-statistic:  26.4 on 3 and 44 DF,  p-value: 6.343e-10\n"
      ]
     },
     "metadata": {},
     "output_type": "display_data"
    }
   ],
   "source": [
    "model2 <- lm(CONSO~EPARGNE+INFL+REVENU, data = data)\n",
    "summary(model2)"
   ]
  },
  {
   "cell_type": "code",
   "execution_count": 72,
   "metadata": {},
   "outputs": [
    {
     "data": {
      "text/html": [
       "<table>\n",
       "<thead><tr><th scope=col>Res.Df</th><th scope=col>RSS</th><th scope=col>Df</th><th scope=col>Sum of Sq</th><th scope=col>F</th><th scope=col>Pr(&gt;F)</th></tr></thead>\n",
       "<tbody>\n",
       "\t<tr><td>40       </td><td> 97.13993</td><td>NA       </td><td>       NA</td><td>      NA </td><td>       NA</td></tr>\n",
       "\t<tr><td>44       </td><td>109.18592</td><td>-4       </td><td>-12.04598</td><td>1.240065 </td><td>0.3094966</td></tr>\n",
       "</tbody>\n",
       "</table>\n"
      ],
      "text/latex": [
       "\\begin{tabular}{r|llllll}\n",
       " Res.Df & RSS & Df & Sum of Sq & F & Pr(>F)\\\\\n",
       "\\hline\n",
       "\t 40        &  97.13993 & NA        &        NA &       NA  &        NA\\\\\n",
       "\t 44        & 109.18592 & -4        & -12.04598 & 1.240065  & 0.3094966\\\\\n",
       "\\end{tabular}\n"
      ],
      "text/markdown": [
       "\n",
       "| Res.Df | RSS | Df | Sum of Sq | F | Pr(>F) |\n",
       "|---|---|---|---|---|---|\n",
       "| 40        |  97.13993 | NA        |        NA |       NA  |        NA |\n",
       "| 44        | 109.18592 | -4        | -12.04598 | 1.240065  | 0.3094966 |\n",
       "\n"
      ],
      "text/plain": [
       "  Res.Df RSS       Df Sum of Sq F        Pr(>F)   \n",
       "1 40      97.13993 NA        NA       NA        NA\n",
       "2 44     109.18592 -4 -12.04598 1.240065 0.3094966"
      ]
     },
     "metadata": {},
     "output_type": "display_data"
    }
   ],
   "source": [
    "anova(model1, model2)"
   ]
  },
  {
   "cell_type": "code",
   "execution_count": 95,
   "metadata": {
    "scrolled": true
   },
   "outputs": [
    {
     "data": {
      "image/png": "[encoded data removed]",
      "text/plain": [
       "plot without title"
      ]
     },
     "metadata": {},
     "output_type": "display_data"
    }
   ],
   "source": [
    "plot(CONSO~REVENU, data = data,\n",
    "     ylim = c(0, max(REVENU)),\n",
    "     xlim = c(0, max(CONSO))\n",
    "    )"
   ]
  }
 ],
 "metadata": {
  "jupytext": {
   "formats": "ipynb,Rmd"
  },
  "kernelspec": {
   "display_name": "R",
   "language": "R",
   "name": "ir"
  },
  "language_info": {
   "codemirror_mode": "r",
   "file_extension": ".r",
   "mimetype": "text/x-r-source",
   "name": "R",
   "pygments_lexer": "r",
   "version": "3.6.1"
  },
  "latex_envs": {
   "LaTeX_envs_menu_present": true,
   "autoclose": true,
   "autocomplete": true,
   "bibliofile": "biblio.bib",
   "cite_by": "apalike",
   "current_citInitial": 1,
   "eqLabelWithNumbers": true,
   "eqNumInitial": 1,
   "hotkeys": {
    "equation": "Ctrl-E",
    "itemize": "Ctrl-I"
   },
   "labels_anchors": false,
   "latex_user_defs": false,
   "report_style_numbering": false,
   "user_envs_cfg": false
  }
 },
 "nbformat": 4,
 "nbformat_minor": 2
}
