{
 "cells": [
  {
   "cell_type": "raw",
   "metadata": {},
   "source": [
    "---\n",
    "title: \"Régression logistique\"\n",
    "author: \"Loïc Rakotoson\"\n",
    "output:\n",
    "  pdf_document: default\n",
    "---"
   ]
  },
  {
   "cell_type": "code",
   "execution_count": 1,
   "metadata": {},
   "outputs": [
    {
     "name": "stderr",
     "output_type": "stream",
     "text": [
      "Warning message:\n",
      "\"package 'caret' was built under R version 3.6.2\"Loading required package: lattice\n",
      "Loading required package: ggplot2\n",
      "Warning message:\n",
      "\"package 'ggplot2' was built under R version 3.6.3\"Warning message:\n",
      "\"package 'pROC' was built under R version 3.6.2\"Type 'citation(\"pROC\")' for a citation.\n",
      "\n",
      "Attaching package: 'pROC'\n",
      "\n",
      "The following objects are masked from 'package:stats':\n",
      "\n",
      "    cov, smooth, var\n",
      "\n",
      "Warning message:\n",
      "\"package 'Kendall' was built under R version 3.6.3\"Warning message:\n",
      "\"package 'car' was built under R version 3.6.3\"Loading required package: carData\n",
      "Warning message:\n",
      "\"package 'bestglm' was built under R version 3.6.3\"Loading required package: leaps\n",
      "Warning message:\n",
      "\"package 'leaps' was built under R version 3.6.3\"Warning message:\n",
      "\"package 'tidyverse' was built under R version 3.6.3\"-- Attaching packages --------------------------------------- tidyverse 1.3.0 --\n",
      "v tibble  2.1.3     v dplyr   0.8.4\n",
      "v tidyr   1.0.2     v stringr 1.4.0\n",
      "v readr   1.3.1     v forcats 0.5.0\n",
      "v purrr   0.3.3     \n",
      "Warning message:\n",
      "\"package 'tidyr' was built under R version 3.6.2\"Warning message:\n",
      "\"package 'dplyr' was built under R version 3.6.2\"Warning message:\n",
      "\"package 'forcats' was built under R version 3.6.3\"-- Conflicts ------------------------------------------ tidyverse_conflicts() --\n",
      "x dplyr::filter()  masks stats::filter()\n",
      "x purrr::flatten() masks jsonlite::flatten()\n",
      "x dplyr::lag()     masks stats::lag()\n",
      "x purrr::lift()    masks caret::lift()\n",
      "x dplyr::recode()  masks car::recode()\n",
      "x purrr::some()    masks car::some()\n",
      "dummies-1.5.6 provided by Decision Patterns\n",
      "\n",
      "Warning message:\n",
      "\"package 'ggcorrplot' was built under R version 3.6.3\""
     ]
    }
   ],
   "source": [
    "library(caret)\n",
    "library(pROC)\n",
    "library(Kendall)\n",
    "library(car)\n",
    "library(bestglm)\n",
    "library(tidyverse)\n",
    "library(dummies)\n",
    "library(ggcorrplot)"
   ]
  },
  {
   "cell_type": "markdown",
   "metadata": {},
   "source": [
    "# Introduction\n",
    "L'objectif dans ce document est de trouver le meilleur modèle pour expliquer la souscription ou pas d'un client à une dépôt à terme à partir de plusieurs variables récoltées par  l’UC Irvine Machine Learning Repository. Les modèles testés seront uniquement de la **régression logistique**.\n",
    "\n",
    "Pour la clareté du document, certaines portions de codes ne sont pas intégré au document final.\n",
    "\n",
    "### Stratégie.\n",
    "La stratégie est de trouver les meilleurs modèles en utilisant 5 métriques pour faciliter la prise de décision en cas d'égalité. Il s'agit de l'**Accuracy**, l'**AUC**, le **tau de Kendall**, l'**AIC** et le **BIC**.  \n",
    "Pour que la comparaison ait un sens, et dans un souci de reproductibilité, nous fixerons deux échantillons, d'entraînement et de test, choisis aléatoirement. Pour se faire la fonction `split_test( )` séparera toujours les mêmes individus peu importe les transformation des données que nous effectuerons.\n",
    "\n",
    "### Condition de validité de la régression logistique \n",
    "Dans nos données nous avons 1000 individus et 14 colonnes, dont la variable explicative $Y$ à 2 modalités.  \n",
    "Dans les données brutes, la modalité $Y = 1$ se compte au nombre de 110. On compte dans notre matrice de design, $X$, 35 variables explicatives (avec les modalités des variables qualitatives).\n",
    "\n",
    "Or, pour généraliser, la condition de validité de la régression logistique requiert \"au moins 5 à 10 évènements par variables explicatives\".  \n",
    "Donc au moins 175 évènements pour $Y = 1$ qui n'en compte que 110 au maximum. Il est impératif donc de réduire nos variables explicatives pour en avoir tout au plus 22 (dans l'hypothèse où nous utilisons l'ensemble des données), et au mieux 10.  \n",
    "Un des algorithmes que nous testerons (`bestglm( )`) requiert cette réduction de dimension."
   ]
  },
  {
   "cell_type": "code",
   "execution_count": 2,
   "metadata": {},
   "outputs": [],
   "source": [
    "split_set <- function(data, trainSize = 0.8){\n",
    "    #' Divise nos données en partitions train et test\n",
    "    \n",
    "    set.seed(2020)\n",
    "    part <- createDataPartition(data$y, p = trainSize)\n",
    "    train_set <- data %>% slice(part$Resample1)\n",
    "    test_set <- data %>% slice(-part$Resample1)\n",
    "    \n",
    "    return(list(train_set, test_set))\n",
    "}"
   ]
  },
  {
   "cell_type": "code",
   "execution_count": 3,
   "metadata": {},
   "outputs": [],
   "source": [
    "data <- read.delim(\"bankCC.txt\", sep = \" \") %>% as_tibble()"
   ]
  },
  {
   "cell_type": "markdown",
   "metadata": {},
   "source": [
    "# I. Statistique descriptive\n",
    "\n",
    "Un rapide résumé de nos données.  \n",
    "Ces statistiques seront utiles pour la sélection des variables.\n",
    "\n",
    "Visualisons la distribution de nos variables."
   ]
  },
  {
   "cell_type": "code",
   "execution_count": 4,
   "metadata": {},
   "outputs": [
    {
     "data": {
      "text/plain": [
       "      age                 job          marital                  education  \n",
       " Min.   :17.00   admin.     :233   divorced:110   basic.4y           : 94  \n",
       " 1st Qu.:32.00   blue-collar:231   married :599   basic.6y           : 62  \n",
       " Median :38.00   technician :168   single  :289   basic.9y           :146  \n",
       " Mean   :39.87   services   :110   unknown :  2   high.school        :248  \n",
       " 3rd Qu.:47.00   management : 82                  professional.course:125  \n",
       " Max.   :91.00   retired    : 46                  university.degree  :276  \n",
       "                 (Other)    :130                  unknown            : 49  \n",
       "    default       housing         contact    day_of_week    duration     \n",
       " no     :786   no     :465   cellular :646   fri:203     Min.   :   6.0  \n",
       " unknown:214   unknown: 17   telephone:354   mon:209     1st Qu.: 100.0  \n",
       "               yes    :518                   thu:216     Median : 174.0  \n",
       "                                             tue:180     Mean   : 252.0  \n",
       "                                             wed:192     3rd Qu.: 301.2  \n",
       "                                                         Max.   :2260.0  \n",
       "                                                                         \n",
       "    campaign          pdays          previous            poutcome     y      \n",
       " Min.   : 1.000   Min.   :  1.0   Min.   :0.000   failure    :103   no :890  \n",
       " 1st Qu.: 1.000   1st Qu.:999.0   1st Qu.:0.000   nonexistent:873   yes:110  \n",
       " Median : 2.000   Median :999.0   Median :0.000   success    : 24            \n",
       " Mean   : 2.626   Mean   :973.2   Mean   :0.157                              \n",
       " 3rd Qu.: 3.000   3rd Qu.:999.0   3rd Qu.:0.000                              \n",
       " Max.   :42.000   Max.   :999.0   Max.   :3.000                              \n",
       "                                                                             "
      ]
     },
     "metadata": {},
     "output_type": "display_data"
    }
   ],
   "source": [
    "summary(data)"
   ]
  },
  {
   "cell_type": "code",
   "execution_count": 5,
   "metadata": {},
   "outputs": [
    {
     "name": "stderr",
     "output_type": "stream",
     "text": [
      "Warning message:\n",
      "\"package 'ggpubr' was built under R version 3.6.3\"Loading required package: magrittr\n",
      "\n",
      "Attaching package: 'magrittr'\n",
      "\n",
      "The following object is masked from 'package:purrr':\n",
      "\n",
      "    set_names\n",
      "\n",
      "The following object is masked from 'package:tidyr':\n",
      "\n",
      "    extract\n",
      "\n"
     ]
    }
   ],
   "source": [
    "library(ggpubr)\n",
    "\n",
    "p_job_edu <- data %>% \n",
    "mutate(job = factor(job, \n",
    "                    levels = c(\n",
    "                        'management', 'admin.', 'self-employed', 'entrepreneur',\n",
    "                        'technician', 'services', 'housemaid', 'retired',\n",
    "                        'student', 'unemployed', 'blue-collar', 'unknown'\n",
    "                    ))) %>% \n",
    "filter(job != \"unknown\") %>% filter(education != \"unknown\") %>% \n",
    "ggplot() + aes(x = job, fill = education) + geom_bar(position=\"fill\") +\n",
    "coord_flip() + labs(title = \"Relation travail - éducation\", y = \"prop\") +\n",
    "theme(plot.title = element_text(hjust = 0.5))\n",
    "\n",
    "p_edu <- data %>% \n",
    "ggplot() + aes(x = education, fill = y) + geom_bar(position = \"fill\", alpha = 0.6) +\n",
    "coord_flip() + labs(title = \"Souscription en fonction de l'éducation\", y = \"prop\") +\n",
    "theme(plot.title = element_text(hjust = 0.5))\n",
    "\n",
    "edulist <- list(p_job_edu, p_edu)"
   ]
  },
  {
   "cell_type": "markdown",
   "metadata": {},
   "source": [
    "## 1. Variables qualitatives\n",
    "\n",
    "En analysans la souscription en fonction de l'emploi et du statut marital, on remarque une tendance chez la population célibataire. Il faut pondérer avec le deséquilibre de la variables $Y$ comme décrit précédemment.\n",
    "\n",
    "L'emploi et le statut marital semblent être des variables discriminantes dans notre problème."
   ]
  },
  {
   "cell_type": "code",
   "execution_count": 6,
   "metadata": {},
   "outputs": [
    {
     "data": {
      "image/png": "[encoded data removed]",
      "text/plain": [
       "plot without title"
      ]
     },
     "metadata": {},
     "output_type": "display_data"
    }
   ],
   "source": [
    "data %>%\n",
    "ggplot() + aes(x = job, fill = y) + geom_bar(position=\"fill\", alpha = 0.6) + \n",
    "coord_flip() + facet_wrap(.~marital) +\n",
    "labs(title = \"Souscription en fonction de l'emploi et du statut marital\", y = \"prop\") +\n",
    "theme(plot.title = element_text(hjust = 0.5))"
   ]
  },
  {
   "cell_type": "markdown",
   "metadata": {},
   "source": [
    "Si l'emploi semble avoir un effet sur $Y$, il est naturel d'analyser l'éducation qui semble être corrélée avec.  \n",
    "Toutefois, celle-ci ne fait varier $Y$ que très peu entre chaque modalité. La variable éducation sera donc moins importante."
   ]
  },
  {
   "cell_type": "code",
   "execution_count": 7,
   "metadata": {},
   "outputs": [
    {
     "data": {
      "image/png": "[encoded data removed]",
      "text/plain": [
       "plot without title"
      ]
     },
     "metadata": {},
     "output_type": "display_data"
    }
   ],
   "source": [
    "ggarrange(\n",
    "    plotlist = edulist,\n",
    "    ncol = 1, nrow = 2\n",
    ")"
   ]
  },
  {
   "cell_type": "markdown",
   "metadata": {},
   "source": [
    "Les résultats de la précédente campagne varie significativement entre chaque modalité. On note par exemple que 75% des clients renouvellent leur contrat.  \n",
    "La variable poutcome sera donc importante."
   ]
  },
  {
   "cell_type": "code",
   "execution_count": 8,
   "metadata": {},
   "outputs": [
    {
     "data": {
      "image/png": "[encoded data removed]",
      "text/plain": [
       "plot without title"
      ]
     },
     "metadata": {},
     "output_type": "display_data"
    }
   ],
   "source": [
    "data %>% \n",
    "ggplot() + aes(x = poutcome, fill = y) + geom_bar(position = \"fill\", alpha = 0.6) +\n",
    "labs(title = \"Souscription en fonction des anciens résultats\", y = \"prop\") +\n",
    "theme(plot.title = element_text(hjust = 0.5))"
   ]
  },
  {
   "cell_type": "markdown",
   "metadata": {},
   "source": [
    "En mettant dans l'ordre les jours, on peut voir dégager une tendance au long d'une semaine.  \n",
    "Toutefois, les variances inter-journalière semblent extrêmement basses. On ne retiendra donc pas cette variable."
   ]
  },
  {
   "cell_type": "code",
   "execution_count": 9,
   "metadata": {},
   "outputs": [
    {
     "data": {
      "image/png": "[encoded data removed]",
      "text/plain": [
       "plot without title"
      ]
     },
     "metadata": {},
     "output_type": "display_data"
    }
   ],
   "source": [
    "data %>%\n",
    "mutate(day_of_week = factor(day_of_week,\n",
    "                            levels = c(\"mon\", \"tue\", \"wed\", \"thu\", \"fri\"))) %>% \n",
    "ggplot() + aes(x = day_of_week, fill = y) + geom_bar(position = \"fill\", alpha = 0.6) +\n",
    "labs(title = \"Evolution des souscriptions dans la semaine\", y = \"prop\") +\n",
    "theme(plot.title = element_text(hjust = 0.5))"
   ]
  },
  {
   "cell_type": "markdown",
   "metadata": {},
   "source": [
    "Entre les deux modalités de la variable contact, la variance est faible, cependant il est intéressant d'analyser le rapport:  \n",
    "`cellular` a trois fois plus de succès que `telephone`.  \n",
    "Cette variable peut donc avoir un effet sur $Y$."
   ]
  },
  {
   "cell_type": "code",
   "execution_count": 10,
   "metadata": {},
   "outputs": [
    {
     "data": {
      "image/png": "[encoded data removed]",
      "text/plain": [
       "plot without title"
      ]
     },
     "metadata": {},
     "output_type": "display_data"
    }
   ],
   "source": [
    "data %>% \n",
    "ggplot() + aes(contact, fill = y) + geom_bar(position=\"fill\", alpha = 0.6) +\n",
    "labs(title = \"Succès des moyens de contact\", y = \"prop\") +\n",
    "theme(plot.title = element_text(hjust = 0.5))"
   ]
  },
  {
   "cell_type": "markdown",
   "metadata": {},
   "source": [
    "## 2. Variables quantitatives\n",
    "\n",
    "L'analyse de la corrélation entre les variables quantitatives démontre une corrélation entre la récence de l'appel et la fréquence.  \n",
    "Autrement, les corrélations sont faibles."
   ]
  },
  {
   "cell_type": "code",
   "execution_count": 11,
   "metadata": {},
   "outputs": [
    {
     "data": {
      "image/png": "[encoded data removed]",
      "text/plain": [
       "plot without title"
      ]
     },
     "metadata": {},
     "output_type": "display_data"
    }
   ],
   "source": [
    "data %>% \n",
    "select(age, duration, campaign, pdays, previous) %>% cor() %>% \n",
    "ggcorrplot(hc.order = T, type = \"lower\", lab = T,\n",
    "           outline.col = \"white\", ggtheme = theme_gray) + \n",
    "labs(title = \"Corrélation entre les variables quantitatives\") +\n",
    "theme(plot.title = element_text(hjust = 0.5))"
   ]
  },
  {
   "cell_type": "code",
   "execution_count": 12,
   "metadata": {},
   "outputs": [],
   "source": [
    "p_age <- data %>% \n",
    "ggplot() + aes(x = age, fill = y) + geom_density(alpha = 0.5) +\n",
    "labs(title = \"Age\", y = NULL) +\n",
    "theme(plot.title = element_text(hjust = 0.5))\n",
    "\n",
    "p_duree <- data %>% \n",
    "ggplot() + aes(x = duration, fill = y) + geom_density(alpha = 0.5) +\n",
    "labs(title = \"Durée\", y = NULL) + xlim(c(0, 1750)) +\n",
    "theme(plot.title = element_text(hjust = 0.5))\n",
    "\n",
    "p_pdays <- data %>% \n",
    "ggplot() + aes(x = pdays, fill = y) + geom_density(alpha = 0.5) +\n",
    "labs(title = \"Récence\", y = NULL) +\n",
    "theme(plot.title = element_text(hjust = 0.5))\n",
    "\n",
    "p_campaign <- data %>% \n",
    "ggplot() + aes(x = campaign, fill = y) + geom_density(alpha = 0.5) +\n",
    "labs(title = \"Fréquence\", y = NULL) + xlim(c(0, 10)) +\n",
    "theme(plot.title = element_text(hjust = 0.5))\n",
    "\n",
    "quantlist <- list(p_age, p_duree, p_pdays, p_campaign)"
   ]
  },
  {
   "cell_type": "markdown",
   "metadata": {},
   "source": [
    "Il est intéressant de visualiser la distribution de chaque variables quantitatives en fonction des modalités de $Y$.  \n",
    "On peut voir que les variables `age` et de la récence (`campaign`) sont pratiquements confondues pour chaque modalité de $Y$. La variable de la durée en revanche possède une bonne variance, cette variable sera importante dans notre étude."
   ]
  },
  {
   "cell_type": "code",
   "execution_count": 13,
   "metadata": {},
   "outputs": [
    {
     "name": "stderr",
     "output_type": "stream",
     "text": [
      "Warning message:\n",
      "\"Removed 2 rows containing non-finite values (stat_density).\"Warning message:\n",
      "\"Removed 26 rows containing non-finite values (stat_density).\""
     ]
    },
    {
     "data": {
      "image/png": "[encoded data removed]",
      "text/plain": [
       "plot without title"
      ]
     },
     "metadata": {},
     "output_type": "display_data"
    }
   ],
   "source": [
    "ggarrange(\n",
    "    plotlist = quantlist,\n",
    "    ncol = 2, nrow = 2,\n",
    "    common.legend = T,\n",
    "    legend = \"right\"\n",
    ")"
   ]
  },
  {
   "cell_type": "markdown",
   "metadata": {},
   "source": [
    "# II. Features Engineering\n",
    "Afin de réduire la dimension de $X$, il est nécessaire de nettoyer et d'éliminer les variables qui peuvent être superflues pour nos modèles.  \n",
    "Nous procèderons en 2 temps, en éliminant les variables non significatives sur un modèle naïf pré-entraîné et en regroupant des modalités de variables qualitatives qui ont peu voire pas de variances entre elles.\n",
    "\n",
    "## 1. Significativité des variables\n",
    "Entraînons un modèle naïf sur les données d'entraînement (naïves aussi, du coup).  \n",
    "Ensuite, nous effectuons une analyse de la significativité des variables par tests multiples:"
   ]
  },
  {
   "cell_type": "code",
   "execution_count": 14,
   "metadata": {},
   "outputs": [
    {
     "name": "stdout",
     "output_type": "stream",
     "text": [
      "Analysis of Deviance Table (Type III tests)\n",
      "\n",
      "Response: y\n",
      "            Df   Chisq Pr(>Chisq)    \n",
      "(Intercept)  1  1.8882   0.169410    \n",
      "age          1  0.1524   0.696249    \n",
      "job         11 16.0171   0.140497    \n",
      "marital      3  3.9336   0.268720    \n",
      "education    6  4.6992   0.582924    \n",
      "default      1  3.9837   0.045941 *  \n",
      "housing      2  0.1082   0.947326    \n",
      "contact      1 10.4101   0.001253 ** \n",
      "day_of_week  4  4.7171   0.317576    \n",
      "duration     1 69.1072  < 2.2e-16 ***\n",
      "campaign     1  1.4158   0.234101    \n",
      "pdays        1  0.6221   0.430269    \n",
      "previous     1  1.5996   0.205961    \n",
      "poutcome     2  3.4678   0.176590    \n",
      "---\n",
      "Signif. codes:  0 '***' 0.001 '**' 0.01 '*' 0.05 '.' 0.1 ' ' 1\n"
     ]
    }
   ],
   "source": [
    "train_naive <- split_set(data)[[1]]\n",
    "\n",
    "model_naive <- glm(y~., data = train_naive, family = binomial)\n",
    "Anova(model_naive, type = 3, test.statistic = \"Wald\") %>% print()"
   ]
  },
  {
   "cell_type": "markdown",
   "metadata": {},
   "source": [
    "L'analyse de la significativité confirme nos déscripions plus haut.  \n",
    "En effet, l'âge, l'éducation, les jours de la semaine et la récence possèdent une grande p-value pour le test du $\\chi^2$. Nous éliminons aussi la variable housing."
   ]
  },
  {
   "cell_type": "code",
   "execution_count": 15,
   "metadata": {},
   "outputs": [],
   "source": [
    "clean_data <- data %>% \n",
    "select(-c(age, education, housing, day_of_week, pdays))"
   ]
  },
  {
   "cell_type": "markdown",
   "metadata": {},
   "source": [
    "## 2. Correction des modalités\n",
    "Désormais, il est nécessaire de regrouper des modalités:\n",
    "\n",
    "- Marital: la modalité `unknown` n'est présente que 2 fois sur les 1000 individus. L'analyse descriptive démontre que ces personnes possèdent un profil proche des célibataires. Elles seront converties ainsi donc.\n",
    "- Job: plusieurs profil de job ont une variance faible au vu de l'éducation, du statut marital et de $Y$, elles seront groupées."
   ]
  },
  {
   "cell_type": "code",
   "execution_count": 16,
   "metadata": {},
   "outputs": [],
   "source": [
    "clean_data <- clean_data %>% \n",
    "mutate(\n",
    "    marital = factor(if_else(\n",
    "        marital == \"unknown\",\n",
    "        \"single\", as.character(marital)\n",
    "    )),\n",
    "    job = factor(case_when(\n",
    "        job == \"admin.\" ~ \"management\",\n",
    "        job == \"self-employed\" ~ \"entrepreneur\",\n",
    "        job == \"housemaid\" ~ \"services\",\n",
    "        TRUE ~ as.character(job)\n",
    "    )),\n",
    "    y = if_else(\n",
    "        y == \"no\",\n",
    "        0, 1\n",
    "    )\n",
    ")"
   ]
  },
  {
   "cell_type": "markdown",
   "metadata": {},
   "source": [
    "Enfin, séparons nos échantillons à partir des données nettoyées."
   ]
  },
  {
   "cell_type": "code",
   "execution_count": 17,
   "metadata": {},
   "outputs": [],
   "source": [
    "train_set <- split_set(clean_data)[[1]]\n",
    "test_set <- split_set(clean_data)[[2]]"
   ]
  },
  {
   "cell_type": "markdown",
   "metadata": {},
   "source": [
    "# III. Construction des scores\n",
    "Nous rappelons que l'échantillons a été découpé en 80% - 20%. La matrice de confusion \"parfaite\" est donc la suivante. Elle est utile pour les interprétations qui suivent."
   ]
  },
  {
   "cell_type": "code",
   "execution_count": 18,
   "metadata": {},
   "outputs": [
    {
     "data": {
      "text/plain": [
       "    obs\n",
       "prev   0   1\n",
       "   0 180   0\n",
       "   1   0  20"
      ]
     },
     "metadata": {},
     "output_type": "display_data"
    }
   ],
   "source": [
    "table(prev = test_set$y,\n",
    "      obs = test_set$y)"
   ]
  },
  {
   "cell_type": "markdown",
   "metadata": {},
   "source": [
    "## 1. Modèle sur les nouvelles variables\n",
    "Nous allons ajusté notre premier modèle sur les variables qu'on a sélectionné précédemment."
   ]
  },
  {
   "cell_type": "code",
   "execution_count": 19,
   "metadata": {},
   "outputs": [
    {
     "data": {
      "text/plain": [
       "\n",
       "Call:\n",
       "glm(formula = y ~ ., family = binomial, data = train_set)\n",
       "\n",
       "Deviance Residuals: \n",
       "    Min       1Q   Median       3Q      Max  \n",
       "-2.4435  -0.3963  -0.2479  -0.1365   2.8225  \n",
       "\n",
       "Coefficients:\n",
       "                      Estimate Std. Error z value Pr(>|z|)    \n",
       "(Intercept)         -6.338e+00  1.474e+00  -4.301 1.70e-05 ***\n",
       "jobentrepreneur      1.061e-01  6.915e-01   0.153 0.878100    \n",
       "jobmanagement        2.169e-01  3.983e-01   0.544 0.586107    \n",
       "jobretired           1.250e+00  5.866e-01   2.131 0.033117 *  \n",
       "jobservices         -6.344e-01  5.568e-01  -1.139 0.254550    \n",
       "jobstudent           2.962e-01  7.846e-01   0.378 0.705748    \n",
       "jobtechnician        3.015e-02  4.644e-01   0.065 0.948236    \n",
       "jobunemployed        3.715e-01  1.033e+00   0.359 0.719270    \n",
       "jobunknown          -1.145e+01  6.901e+02  -0.017 0.986759    \n",
       "maritalmarried      -3.242e-01  4.773e-01  -0.679 0.497008    \n",
       "maritalsingle        1.820e-01  5.129e-01   0.355 0.722706    \n",
       "defaultunknown      -4.308e-01  3.909e-01  -1.102 0.270384    \n",
       "contacttelephone    -1.473e+00  3.923e-01  -3.755 0.000173 ***\n",
       "duration             3.921e-03  4.441e-04   8.830  < 2e-16 ***\n",
       "campaign            -2.386e-01  1.163e-01  -2.052 0.040211 *  \n",
       "previous             2.136e+00  8.361e-01   2.554 0.010641 *  \n",
       "poutcomenonexistent  3.749e+00  1.354e+00   2.769 0.005619 ** \n",
       "poutcomesuccess      3.527e+00  8.514e-01   4.143 3.43e-05 ***\n",
       "---\n",
       "Signif. codes:  0 '***' 0.001 '**' 0.01 '*' 0.05 '.' 0.1 ' ' 1\n",
       "\n",
       "(Dispersion parameter for binomial family taken to be 1)\n",
       "\n",
       "    Null deviance: 562.74  on 799  degrees of freedom\n",
       "Residual deviance: 369.26  on 782  degrees of freedom\n",
       "AIC: 405.26\n",
       "\n",
       "Number of Fisher Scoring iterations: 14\n"
      ]
     },
     "metadata": {},
     "output_type": "display_data"
    }
   ],
   "source": [
    "model_1 <- glm(y~., data = train_set, family = binomial)\n",
    "\n",
    "summary(model_1)"
   ]
  },
  {
   "cell_type": "markdown",
   "metadata": {},
   "source": [
    "On a plus de variables significatives par rapport au modèle naïf, toutefois, elles sont peu nombreuses.  \n",
    "Effectuons des tests multiples pour chaque colonne."
   ]
  },
  {
   "cell_type": "code",
   "execution_count": 20,
   "metadata": {},
   "outputs": [
    {
     "name": "stdout",
     "output_type": "stream",
     "text": [
      "Analysis of Deviance Table (Type III tests)\n",
      "\n",
      "Response: y\n",
      "            Df   Chisq Pr(>Chisq)    \n",
      "(Intercept)  1 18.4962  1.702e-05 ***\n",
      "job          8  8.1014  0.4236263    \n",
      "marital      2  2.6334  0.2680134    \n",
      "default      1  1.2148  0.2703841    \n",
      "contact      1 14.1022  0.0001731 ***\n",
      "duration     1 77.9649  < 2.2e-16 ***\n",
      "campaign     1  4.2090  0.0402108 *  \n",
      "previous     1  6.5243  0.0106412 *  \n",
      "poutcome     2 17.9450  0.0001268 ***\n",
      "---\n",
      "Signif. codes:  0 '***' 0.001 '**' 0.01 '*' 0.05 '.' 0.1 ' ' 1\n"
     ]
    }
   ],
   "source": [
    "Anova(model_1, type = 3, test.statistic = \"Wald\") %>% print()"
   ]
  },
  {
   "cell_type": "markdown",
   "metadata": {},
   "source": [
    "Les variables marital, default et job ne semblent pas avoir d'effet sur $Y$.\n",
    "\n",
    "Effectuons nos préductions sur l'échantillon test et visualisons le résulat."
   ]
  },
  {
   "cell_type": "code",
   "execution_count": 22,
   "metadata": {},
   "outputs": [
    {
     "data": {
      "text/plain": [
       "tau = 0.306, 2-sided pvalue =1.6332e-05"
      ]
     },
     "metadata": {},
     "output_type": "display_data"
    }
   ],
   "source": [
    "model_1_pred <- predict(model_1, newdata = test_set, type = 'response')  %>% round()\n",
    "\n",
    "Kendall(model_1_pred, test_set$y)"
   ]
  },
  {
   "cell_type": "markdown",
   "metadata": {},
   "source": [
    "La p-value de tau de Kendall est faible, il y a indépendance entre les variables.\n",
    "\n",
    "La matrice de confusion démontre que ce modèle ne classe bien que le quart des personnes qui veulent souscrire."
   ]
  },
  {
   "cell_type": "code",
   "execution_count": 23,
   "metadata": {},
   "outputs": [
    {
     "data": {
      "text/plain": [
       "    obs\n",
       "prev   0   1\n",
       "   0 175  15\n",
       "   1   5   5"
      ]
     },
     "metadata": {},
     "output_type": "display_data"
    }
   ],
   "source": [
    "table(prev = model_1_pred,\n",
    "      obs = test_set$y)"
   ]
  },
  {
   "cell_type": "code",
   "execution_count": 24,
   "metadata": {},
   "outputs": [
    {
     "name": "stderr",
     "output_type": "stream",
     "text": [
      "Setting levels: control = 0, case = 1\n",
      "Setting direction: controls < cases\n"
     ]
    }
   ],
   "source": [
    "roclist <- vector(mode = \"list\")\n",
    "roclist[[\"Model_1\"]] <- roc(model_1_pred, test_set$y)"
   ]
  },
  {
   "cell_type": "markdown",
   "metadata": {},
   "source": [
    "Nous enregistrons chaque valeur des métriques dans la table `result` au vu de la comparaison."
   ]
  },
  {
   "cell_type": "code",
   "execution_count": 25,
   "metadata": {},
   "outputs": [
    {
     "name": "stderr",
     "output_type": "stream",
     "text": [
      "Setting levels: control = 0, case = 1\n",
      "Setting direction: controls < cases\n"
     ]
    },
    {
     "data": {
      "text/html": [
       "<table>\n",
       "<thead><tr><th scope=col>Model</th><th scope=col>AIC</th><th scope=col>BIC</th><th scope=col>Accuracy</th><th scope=col>AUC</th><th scope=col>Kendall</th></tr></thead>\n",
       "<tbody>\n",
       "\t<tr><td>Model_1  </td><td>405.2644 </td><td>489.5874 </td><td>0.9      </td><td>0.7105263</td><td>0.3058876</td></tr>\n",
       "</tbody>\n",
       "</table>\n"
      ],
      "text/latex": [
       "\\begin{tabular}{r|llllll}\n",
       " Model & AIC & BIC & Accuracy & AUC & Kendall\\\\\n",
       "\\hline\n",
       "\t Model\\_1 & 405.2644  & 489.5874  & 0.9       & 0.7105263 & 0.3058876\\\\\n",
       "\\end{tabular}\n"
      ],
      "text/markdown": [
       "\n",
       "| Model | AIC | BIC | Accuracy | AUC | Kendall |\n",
       "|---|---|---|---|---|---|\n",
       "| Model_1   | 405.2644  | 489.5874  | 0.9       | 0.7105263 | 0.3058876 |\n",
       "\n"
      ],
      "text/plain": [
       "  Model   AIC      BIC      Accuracy AUC       Kendall  \n",
       "1 Model_1 405.2644 489.5874 0.9      0.7105263 0.3058876"
      ]
     },
     "metadata": {},
     "output_type": "display_data"
    }
   ],
   "source": [
    "result <- tibble(\n",
    "    Model = \"Model_1\",\n",
    "    AIC = model_1$aic,\n",
    "    BIC = BIC(model_1),\n",
    "    Accuracy = 1 - mean(model_1_pred!=test_set$y),\n",
    "    AUC = roc(model_1_pred, test_set$y)$auc,\n",
    "    Kendall = Kendall(model_1_pred, test_set$y)$tau\n",
    "    )\n",
    "\n",
    "result"
   ]
  },
  {
   "cell_type": "markdown",
   "metadata": {},
   "source": [
    "Nous avons un Accuracy élevé, 90%, ce qui est une bonne chose.\n",
    "\n",
    "Nous allons sélectionner nos variables par étapes en enlevant une par une, tout en optimisant sur la métrique de l'AIC.\n",
    "\n",
    "## 2. Sélection par étape\n",
    "Effectuons une procédure pas à pas descendante."
   ]
  },
  {
   "cell_type": "code",
   "execution_count": 26,
   "metadata": {},
   "outputs": [
    {
     "data": {
      "text/plain": [
       "\n",
       "Call:\n",
       "glm(formula = y ~ default + contact + duration + campaign + previous + \n",
       "    poutcome, family = binomial, data = train_set)\n",
       "\n",
       "Deviance Residuals: \n",
       "    Min       1Q   Median       3Q      Max  \n",
       "-2.6931  -0.4142  -0.2471  -0.1530   2.7171  \n",
       "\n",
       "Coefficients:\n",
       "                      Estimate Std. Error z value Pr(>|z|)    \n",
       "(Intercept)         -6.7073431  1.4108377  -4.754 1.99e-06 ***\n",
       "defaultunknown      -0.5270555  0.3823484  -1.378 0.168059    \n",
       "contacttelephone    -1.4202401  0.3814699  -3.723 0.000197 ***\n",
       "duration             0.0037925  0.0004325   8.769  < 2e-16 ***\n",
       "campaign            -0.2438311  0.1147627  -2.125 0.033615 *  \n",
       "previous             2.4141954  0.8388873   2.878 0.004004 ** \n",
       "poutcomenonexistent  4.1705690  1.3702143   3.044 0.002337 ** \n",
       "poutcomesuccess      3.8315719  0.8398522   4.562 5.06e-06 ***\n",
       "---\n",
       "Signif. codes:  0 '***' 0.001 '**' 0.01 '*' 0.05 '.' 0.1 ' ' 1\n",
       "\n",
       "(Dispersion parameter for binomial family taken to be 1)\n",
       "\n",
       "    Null deviance: 562.74  on 799  degrees of freedom\n",
       "Residual deviance: 380.39  on 792  degrees of freedom\n",
       "AIC: 396.39\n",
       "\n",
       "Number of Fisher Scoring iterations: 7\n"
      ]
     },
     "metadata": {},
     "output_type": "display_data"
    }
   ],
   "source": [
    "model_2 <- step(model_1, direction = \"backward\", trace = F)\n",
    "\n",
    "summary(model_2)"
   ]
  },
  {
   "cell_type": "markdown",
   "metadata": {},
   "source": [
    "Le meilleur modèle ne garde que 7 variables explicatives, ce qui est déjà loin de nos 35 variables. Elle a en effet supprimé les variables `marital` mais aussi `job` qui possède 9 modalités après nos transformations.\n",
    "\n",
    "L'analyse du $\\chi^2$ démontre qu'il ne reste plus que la variable `default` qui n'a pas d'effet sur $Y$."
   ]
  },
  {
   "cell_type": "code",
   "execution_count": 27,
   "metadata": {},
   "outputs": [
    {
     "name": "stdout",
     "output_type": "stream",
     "text": [
      "Analysis of Deviance Table (Type III tests)\n",
      "\n",
      "Response: y\n",
      "            Df   Chisq Pr(>Chisq)    \n",
      "(Intercept)  1 22.6020  1.993e-06 ***\n",
      "default      1  1.9002  0.1680585    \n",
      "contact      1 13.8613  0.0001968 ***\n",
      "duration     1 76.8918  < 2.2e-16 ***\n",
      "campaign     1  4.5142  0.0336154 *  \n",
      "previous     1  8.2820  0.0040039 ** \n",
      "poutcome     2 21.5338  2.109e-05 ***\n",
      "---\n",
      "Signif. codes:  0 '***' 0.001 '**' 0.01 '*' 0.05 '.' 0.1 ' ' 1\n"
     ]
    }
   ],
   "source": [
    "Anova(model_2, type = 3, test.statistic = \"Wald\") %>% print()"
   ]
  },
  {
   "cell_type": "markdown",
   "metadata": {},
   "source": [
    "Effectuons nos prédictions et visualisons les résultats."
   ]
  },
  {
   "cell_type": "code",
   "execution_count": 28,
   "metadata": {},
   "outputs": [
    {
     "data": {
      "text/plain": [
       "tau = 0.272, 2-sided pvalue =0.00012636"
      ]
     },
     "metadata": {},
     "output_type": "display_data"
    }
   ],
   "source": [
    "model_2_pred <- predict(model_2, newdata = test_set, type = 'response')  %>% round()\n",
    "\n",
    "Kendall(model_2_pred, test_set$y)"
   ]
  },
  {
   "cell_type": "code",
   "execution_count": 29,
   "metadata": {},
   "outputs": [
    {
     "data": {
      "text/plain": [
       "    obs\n",
       "prev   0   1\n",
       "   0 176  16\n",
       "   1   4   4"
      ]
     },
     "metadata": {},
     "output_type": "display_data"
    }
   ],
   "source": [
    "table(prev = model_2_pred,\n",
    "      obs = test_set$y)"
   ]
  },
  {
   "cell_type": "code",
   "execution_count": 30,
   "metadata": {},
   "outputs": [
    {
     "name": "stderr",
     "output_type": "stream",
     "text": [
      "Setting levels: control = 0, case = 1\n",
      "Setting direction: controls < cases\n",
      "Setting levels: control = 0, case = 1\n",
      "Setting direction: controls < cases\n",
      "Warning message in bind_rows_(x, .id):\n",
      "\"Vectorizing 'auc' elements may not preserve their attributes\"Warning message in bind_rows_(x, .id):\n",
      "\"Vectorizing 'auc' elements may not preserve their attributes\""
     ]
    }
   ],
   "source": [
    "roclist[[\"Model_2\"]] <- roc(model_2_pred, test_set$y)\n",
    "\n",
    "result <- result %>%\n",
    "bind_rows(\n",
    "    tibble(\n",
    "        Model = \"Model_2\",\n",
    "        AIC = model_2$aic,\n",
    "        BIC = BIC(model_2),\n",
    "        Accuracy = 1 - mean(model_2_pred!=test_set$y),\n",
    "        AUC = roc(model_2_pred, test_set$y)$auc,\n",
    "        Kendall = Kendall(model_2_pred, test_set$y)$tau\n",
    "    )\n",
    ")"
   ]
  },
  {
   "cell_type": "code",
   "execution_count": 31,
   "metadata": {},
   "outputs": [
    {
     "data": {
      "text/html": [
       "<table>\n",
       "<thead><tr><th scope=col>Model</th><th scope=col>AIC</th><th scope=col>BIC</th><th scope=col>Accuracy</th><th scope=col>AUC</th><th scope=col>Kendall</th></tr></thead>\n",
       "<tbody>\n",
       "\t<tr><td>Model_2  </td><td>396.3934 </td><td>433.8703 </td><td>0.9      </td><td>0.7083333</td><td>0.2721655</td></tr>\n",
       "</tbody>\n",
       "</table>\n"
      ],
      "text/latex": [
       "\\begin{tabular}{r|llllll}\n",
       " Model & AIC & BIC & Accuracy & AUC & Kendall\\\\\n",
       "\\hline\n",
       "\t Model\\_2 & 396.3934  & 433.8703  & 0.9       & 0.7083333 & 0.2721655\\\\\n",
       "\\end{tabular}\n"
      ],
      "text/markdown": [
       "\n",
       "| Model | AIC | BIC | Accuracy | AUC | Kendall |\n",
       "|---|---|---|---|---|---|\n",
       "| Model_2   | 396.3934  | 433.8703  | 0.9       | 0.7083333 | 0.2721655 |\n",
       "\n"
      ],
      "text/plain": [
       "  Model   AIC      BIC      Accuracy AUC       Kendall  \n",
       "1 Model_2 396.3934 433.8703 0.9      0.7083333 0.2721655"
      ]
     },
     "metadata": {},
     "output_type": "display_data"
    }
   ],
   "source": [
    "result[2,]"
   ]
  },
  {
   "cell_type": "markdown",
   "metadata": {},
   "source": [
    "L'accuracy, qui est déjà très bien, n'a pas bougé. Par contre, on a de meilleurs AIC et BIC, mais au prix de la baisse de l'AUC.\n",
    "\n",
    "Essayons à présente de trouver le meilleur modèle ajusté sur l'AIC, maintenant qu'on est pleinement dans la validité de la régression logistique.\n",
    "## 3. BestGLM avec l'AIC\n",
    "\n",
    "Pour se faire, nous devons définir manuellement notre matrice design $X$. Ensuite nous séparons en 2 échantillons."
   ]
  },
  {
   "cell_type": "code",
   "execution_count": 32,
   "metadata": {},
   "outputs": [
    {
     "name": "stderr",
     "output_type": "stream",
     "text": [
      "Warning message in model.matrix.default(~x - 1, model.frame(~x - 1), contrasts = FALSE):\n",
      "\"non-list contrasts argument ignored\"Warning message in model.matrix.default(~x - 1, model.frame(~x - 1), contrasts = FALSE):\n",
      "\"non-list contrasts argument ignored\""
     ]
    }
   ],
   "source": [
    "marital <- data.frame(dummy(clean_data$marital)[,-1])\n",
    "poutcome <- data.frame(dummy(clean_data$poutcome)[,-1])\n",
    "\n",
    "dummy_data <- bind_cols(\n",
    "    marital, poutcome,\n",
    "    clean_data[,3:7],\n",
    "    y = clean_data$y\n",
    ")\n",
    "\n",
    "train_dummy <- split_set(dummy_data)[[1]]\n",
    "test_dummy <- split_set(dummy_data)[[2]]"
   ]
  },
  {
   "cell_type": "markdown",
   "metadata": {},
   "source": [
    "Recherons le meilleur modèle."
   ]
  },
  {
   "cell_type": "code",
   "execution_count": 33,
   "metadata": {},
   "outputs": [
    {
     "name": "stderr",
     "output_type": "stream",
     "text": [
      "Morgan-Tatar search since family is non-gaussian.\n"
     ]
    },
    {
     "data": {
      "text/plain": [
       "\n",
       "Call:\n",
       "glm(formula = y ~ ., family = family, data = Xi, weights = weights)\n",
       "\n",
       "Deviance Residuals: \n",
       "    Min       1Q   Median       3Q      Max  \n",
       "-2.8064  -0.4075  -0.2489  -0.1511   2.7888  \n",
       "\n",
       "Coefficients:\n",
       "                  Estimate Std. Error z value Pr(>|z|)    \n",
       "(Intercept)      -6.568165   1.408221  -4.664 3.10e-06 ***\n",
       "NAmarried        -0.495715   0.274606  -1.805 0.071045 .  \n",
       "NAnonexistent     4.165570   1.367746   3.046 0.002322 ** \n",
       "NAsuccess         3.862588   0.843484   4.579 4.66e-06 ***\n",
       "contacttelephone -1.429269   0.379180  -3.769 0.000164 ***\n",
       "duration          0.003860   0.000438   8.813  < 2e-16 ***\n",
       "campaign         -0.239056   0.113154  -2.113 0.034630 *  \n",
       "previous          2.470005   0.843183   2.929 0.003396 ** \n",
       "---\n",
       "Signif. codes:  0 '***' 0.001 '**' 0.01 '*' 0.05 '.' 0.1 ' ' 1\n",
       "\n",
       "(Dispersion parameter for binomial family taken to be 1)\n",
       "\n",
       "    Null deviance: 562.74  on 799  degrees of freedom\n",
       "Residual deviance: 379.18  on 792  degrees of freedom\n",
       "AIC: 395.18\n",
       "\n",
       "Number of Fisher Scoring iterations: 7\n"
      ]
     },
     "metadata": {},
     "output_type": "display_data"
    }
   ],
   "source": [
    "model_3 <- bestglm(train_dummy, family = binomial, IC = 'AIC')$BestModel\n",
    "summary(model_3)"
   ]
  },
  {
   "cell_type": "markdown",
   "metadata": {},
   "source": [
    "Par rapport au modèle 2, le modèle 3 ne garde que 2 modalités de la variable `marital` et toutes les variables sont significatives au moins au seuil de 10%.\n",
    "\n",
    "Effectuons nos prédictions et visualisons."
   ]
  },
  {
   "cell_type": "code",
   "execution_count": 34,
   "metadata": {},
   "outputs": [
    {
     "data": {
      "text/plain": [
       "tau = 0.306, 2-sided pvalue =1.6332e-05"
      ]
     },
     "metadata": {},
     "output_type": "display_data"
    }
   ],
   "source": [
    "model_3_pred <- predict(model_3, newdata = test_dummy, type = 'response')  %>% round()\n",
    "\n",
    "Kendall(model_3_pred, test_dummy$y)"
   ]
  },
  {
   "cell_type": "code",
   "execution_count": 35,
   "metadata": {},
   "outputs": [
    {
     "data": {
      "text/plain": [
       "    obs\n",
       "prev   0   1\n",
       "   0 175  15\n",
       "   1   5   5"
      ]
     },
     "metadata": {},
     "output_type": "display_data"
    }
   ],
   "source": [
    "table(prev = model_3_pred,\n",
    "      obs = test_dummy$y)"
   ]
  },
  {
   "cell_type": "code",
   "execution_count": 40,
   "metadata": {},
   "outputs": [
    {
     "name": "stderr",
     "output_type": "stream",
     "text": [
      "Setting levels: control = 0, case = 1\n",
      "Setting direction: controls < cases\n",
      "Setting levels: control = 0, case = 1\n",
      "Setting direction: controls < cases\n",
      "Warning message in bind_rows_(x, .id):\n",
      "\"Vectorizing 'auc' elements may not preserve their attributes\""
     ]
    }
   ],
   "source": [
    "roclist[[\"Model_3\"]] <- roc(model_3_pred, test_dummy$y)\n",
    "\n",
    "result <- result %>%\n",
    "bind_rows(\n",
    "    tibble(\n",
    "        Model = \"Model_3\",\n",
    "        AIC = model_3$aic,\n",
    "        BIC = BIC(model_3),\n",
    "        Accuracy = 1 - mean(model_3_pred!=test_dummy$y),\n",
    "        AUC = roc(model_3_pred, test_dummy$y)$auc,\n",
    "        Kendall = Kendall(model_3_pred, test_dummy$y)$tau\n",
    "    )\n",
    ")"
   ]
  },
  {
   "cell_type": "markdown",
   "metadata": {},
   "source": [
    "Nos AIC et BIC ont encore baissé et on retrouve un AUC à la hausse."
   ]
  },
  {
   "cell_type": "code",
   "execution_count": 41,
   "metadata": {},
   "outputs": [
    {
     "data": {
      "text/html": [
       "<table>\n",
       "<thead><tr><th scope=col>Model</th><th scope=col>AIC</th><th scope=col>BIC</th><th scope=col>Accuracy</th><th scope=col>AUC</th><th scope=col>Kendall</th></tr></thead>\n",
       "<tbody>\n",
       "\t<tr><td>Model_3  </td><td>395.1842 </td><td>432.6611 </td><td>0.9      </td><td>0.7105263</td><td>0.3058876</td></tr>\n",
       "</tbody>\n",
       "</table>\n"
      ],
      "text/latex": [
       "\\begin{tabular}{r|llllll}\n",
       " Model & AIC & BIC & Accuracy & AUC & Kendall\\\\\n",
       "\\hline\n",
       "\t Model\\_3 & 395.1842  & 432.6611  & 0.9       & 0.7105263 & 0.3058876\\\\\n",
       "\\end{tabular}\n"
      ],
      "text/markdown": [
       "\n",
       "| Model | AIC | BIC | Accuracy | AUC | Kendall |\n",
       "|---|---|---|---|---|---|\n",
       "| Model_3   | 395.1842  | 432.6611  | 0.9       | 0.7105263 | 0.3058876 |\n",
       "\n"
      ],
      "text/plain": [
       "  Model   AIC      BIC      Accuracy AUC       Kendall  \n",
       "1 Model_3 395.1842 432.6611 0.9      0.7105263 0.3058876"
      ]
     },
     "metadata": {},
     "output_type": "display_data"
    }
   ],
   "source": [
    "result[3,]"
   ]
  },
  {
   "cell_type": "markdown",
   "metadata": {},
   "source": [
    "Enfin, ajustons par rapport au BIC\n",
    "## 4. BestGLM avec le BIC"
   ]
  },
  {
   "cell_type": "code",
   "execution_count": 37,
   "metadata": {
    "scrolled": true
   },
   "outputs": [
    {
     "name": "stderr",
     "output_type": "stream",
     "text": [
      "Morgan-Tatar search since family is non-gaussian.\n"
     ]
    },
    {
     "data": {
      "text/plain": [
       "\n",
       "Call:\n",
       "glm(formula = y ~ ., family = family, data = Xi, weights = weights)\n",
       "\n",
       "Deviance Residuals: \n",
       "    Min       1Q   Median       3Q      Max  \n",
       "-2.8427  -0.3975  -0.3154  -0.1814   2.8398  \n",
       "\n",
       "Coefficients:\n",
       "                   Estimate Std. Error z value Pr(>|z|)    \n",
       "(Intercept)      -3.2378912  0.2278379 -14.211  < 2e-16 ***\n",
       "NAsuccess         3.2868422  0.5726771   5.739  9.5e-09 ***\n",
       "contacttelephone -1.3111643  0.3672898  -3.570 0.000357 ***\n",
       "duration          0.0037928  0.0004268   8.887  < 2e-16 ***\n",
       "---\n",
       "Signif. codes:  0 '***' 0.001 '**' 0.01 '*' 0.05 '.' 0.1 ' ' 1\n",
       "\n",
       "(Dispersion parameter for binomial family taken to be 1)\n",
       "\n",
       "    Null deviance: 562.74  on 799  degrees of freedom\n",
       "Residual deviance: 401.05  on 796  degrees of freedom\n",
       "AIC: 409.05\n",
       "\n",
       "Number of Fisher Scoring iterations: 6\n"
      ]
     },
     "metadata": {},
     "output_type": "display_data"
    }
   ],
   "source": [
    "model_4 <- bestglm(train_dummy, family = binomial, IC = 'BIC')$BestModel\n",
    "summary(model_4)"
   ]
  },
  {
   "cell_type": "markdown",
   "metadata": {},
   "source": [
    "Le modèle ne garde que 3 variables dont `poutcome` à deux modalités."
   ]
  },
  {
   "cell_type": "code",
   "execution_count": 38,
   "metadata": {},
   "outputs": [
    {
     "data": {
      "text/plain": [
       "tau = 0.299, 2-sided pvalue =2.4915e-05"
      ]
     },
     "metadata": {},
     "output_type": "display_data"
    }
   ],
   "source": [
    "model_4_pred <- predict(model_4, newdata = test_dummy, type = 'response')  %>% round()\n",
    "\n",
    "Kendall(model_4_pred, test_dummy$y)"
   ]
  },
  {
   "cell_type": "code",
   "execution_count": 39,
   "metadata": {},
   "outputs": [
    {
     "data": {
      "text/plain": [
       "    obs\n",
       "prev   0   1\n",
       "   0 177  16\n",
       "   1   3   4"
      ]
     },
     "metadata": {},
     "output_type": "display_data"
    }
   ],
   "source": [
    "table(prev = model_4_pred,\n",
    "      obs = test_dummy$y)"
   ]
  },
  {
   "cell_type": "code",
   "execution_count": 43,
   "metadata": {},
   "outputs": [
    {
     "name": "stderr",
     "output_type": "stream",
     "text": [
      "Setting levels: control = 0, case = 1\n",
      "Setting direction: controls < cases\n",
      "Setting levels: control = 0, case = 1\n",
      "Setting direction: controls < cases\n",
      "Warning message in bind_rows_(x, .id):\n",
      "\"Vectorizing 'auc' elements may not preserve their attributes\""
     ]
    }
   ],
   "source": [
    "roclist[[\"Model_4\"]] <- roc(model_4_pred, test_dummy$y)\n",
    "\n",
    "result <- result %>%\n",
    "bind_rows(\n",
    "    tibble(\n",
    "        Model = \"Model_4\",\n",
    "        AIC = model_4$aic,\n",
    "        BIC = BIC(model_4),\n",
    "        Accuracy = 1 - mean(model_4_pred!=test_dummy$y),\n",
    "        AUC = roc(model_4_pred, test_dummy$y)$auc,\n",
    "        Kendall = Kendall(model_4_pred, test_dummy$y)$tau\n",
    "    )\n",
    ")"
   ]
  },
  {
   "cell_type": "markdown",
   "metadata": {},
   "source": [
    "Notre AUC est en forte hausse par rapport aux 3 autres modèles, par contre l'AIC et le BIC est moins optimal par rapport au modèle 3."
   ]
  },
  {
   "cell_type": "code",
   "execution_count": 44,
   "metadata": {
    "scrolled": false
   },
   "outputs": [
    {
     "data": {
      "text/html": [
       "<table>\n",
       "<thead><tr><th scope=col>Model</th><th scope=col>AIC</th><th scope=col>BIC</th><th scope=col>Accuracy</th><th scope=col>AUC</th><th scope=col>Kendall</th></tr></thead>\n",
       "<tbody>\n",
       "\t<tr><td>Model_4  </td><td>409.0481 </td><td>427.7866 </td><td>0.905    </td><td>0.7442635</td><td>0.2992713</td></tr>\n",
       "</tbody>\n",
       "</table>\n"
      ],
      "text/latex": [
       "\\begin{tabular}{r|llllll}\n",
       " Model & AIC & BIC & Accuracy & AUC & Kendall\\\\\n",
       "\\hline\n",
       "\t Model\\_4 & 409.0481  & 427.7866  & 0.905     & 0.7442635 & 0.2992713\\\\\n",
       "\\end{tabular}\n"
      ],
      "text/markdown": [
       "\n",
       "| Model | AIC | BIC | Accuracy | AUC | Kendall |\n",
       "|---|---|---|---|---|---|\n",
       "| Model_4   | 409.0481  | 427.7866  | 0.905     | 0.7442635 | 0.2992713 |\n",
       "\n"
      ],
      "text/plain": [
       "  Model   AIC      BIC      Accuracy AUC       Kendall  \n",
       "1 Model_4 409.0481 427.7866 0.905    0.7442635 0.2992713"
      ]
     },
     "metadata": {},
     "output_type": "display_data"
    }
   ],
   "source": [
    "result[4,]"
   ]
  },
  {
   "cell_type": "markdown",
   "metadata": {},
   "source": [
    "# IV. Comparaison et sélection de modèle"
   ]
  },
  {
   "cell_type": "code",
   "execution_count": 102,
   "metadata": {},
   "outputs": [],
   "source": [
    "scale1 <- result %>% \n",
    "select(-c(AIC, BIC)) %>% \n",
    "gather(metric, value, -Model) %>% \n",
    "ggplot() +\n",
    "aes(fill = metric, y = value, x = Model) +\n",
    "geom_bar(position = \"dodge\", stat = \"identity\", alpha = 0.6) +\n",
    "coord_flip(ylim = c(0.25, 0.9)) +\n",
    "labs(title = \"Accuracy, AUC et Kendall\") +\n",
    "theme(plot.title = element_text(hjust = 0.5),\n",
    "     legend.position=\"bottom\")\n",
    "\n",
    "scale2 <- result %>% \n",
    "select(AIC, BIC, Model) %>% \n",
    "gather(metric, value, -Model) %>% \n",
    "ggplot() + coord_cartesian(ylim = c(350, 500)) +\n",
    "aes(fill = metric, y = value, x = Model) +\n",
    "geom_bar(position = \"dodge\", stat = \"identity\", alpha = 0.6) +\n",
    "labs(title = \"AIC et BIC par modèle\", y = NULL) +\n",
    "theme(plot.title = element_text(hjust = 0.5),\n",
    "     legend.position=\"bottom\")"
   ]
  },
  {
   "cell_type": "code",
   "execution_count": 103,
   "metadata": {},
   "outputs": [
    {
     "data": {
      "image/png": "[encoded data removed]",
      "text/plain": [
       "plot without title"
      ]
     },
     "metadata": {},
     "output_type": "display_data"
    }
   ],
   "source": [
    "ggarrange(\n",
    "    scale1, scale2,\n",
    "    ncol = 2, nrow = 1\n",
    ")"
   ]
  },
  {
   "cell_type": "code",
   "execution_count": 58,
   "metadata": {
    "scrolled": true
   },
   "outputs": [
    {
     "data": {
      "image/png": "[encoded data removed]",
      "text/plain": [
       "plot without title"
      ]
     },
     "metadata": {},
     "output_type": "display_data"
    }
   ],
   "source": [
    "ggroc(roclist, aes = \"color\", size = 0.9, legacy.axes = TRUE, alpha = 0.5) +\n",
    "labs(color = \"Modèles\", title = \"Courbes ROC de chaque modèle\") + geom_abline() +\n",
    "theme(plot.title = element_text(hjust = 0.5))"
   ]
  },
  {
   "cell_type": "markdown",
   "metadata": {},
   "source": [
    "Au vu de nos résultats, on gardera le modèle 4."
   ]
  }
 ],
 "metadata": {
  "jupytext": {
   "formats": "ipynb,Rmd"
  },
  "kernelspec": {
   "display_name": "R",
   "language": "R",
   "name": "ir"
  },
  "language_info": {
   "codemirror_mode": "r",
   "file_extension": ".r",
   "mimetype": "text/x-r-source",
   "name": "R",
   "pygments_lexer": "r",
   "version": "3.6.1"
  }
 },
 "nbformat": 4,
 "nbformat_minor": 2
}
